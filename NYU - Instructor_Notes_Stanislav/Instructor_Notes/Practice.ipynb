{
 "cells": [
  {
   "cell_type": "code",
   "execution_count": 2,
   "metadata": {
    "collapsed": true
   },
   "outputs": [],
   "source": [
    "import pandas as pd\n",
    "import numpy as np\n",
    "from sklearn.datasets import make_classification\n",
    "from sklearn.datasets import make_blobs\n",
    "from matplotlib.pylab import plt\n",
    "%matplotlib inline\n",
    "# import seaborn; seaborn.set()  # plot styling\n",
    "import numpy as np"
   ]
  },
  {
   "cell_type": "markdown",
   "metadata": {},
   "source": [
    "###  Part two: Learning Seattle's Work Habits from Bicycle Counts\n"
   ]
  },
  {
   "cell_type": "markdown",
   "metadata": {},
   "source": [
    "The data we will use here are the hourly bicycle counts on Seattle's Fremont Bridge. These data come from an automated bicycle counter, installed in late 2012, which has inductive sensors under the sidewalks on either side of the bridge. The daily or hourly bicycle counts can be downloaded from http://data.seattle.gov/; here is the direct link to the hourly dataset. To download the data directly, you can uncomment the following curl command:"
   ]
  },
  {
   "cell_type": "code",
   "execution_count": 103,
   "metadata": {
    "collapsed": false
   },
   "outputs": [],
   "source": [
    "import pandas as pd\n",
    "data = pd.read_csv(\"https://serv.cusp.nyu.edu/~lw1474/ADS_Data/Prac_session/Bridge.csv\", index_col='Date', parse_dates=True)\n",
    "data=data.iloc[:-12000,:]\n",
    "data.tail()\n",
    "\n",
    "#We'll do some quick data cleaning: \n",
    "#we'll rename the columns to the shorter \"West\" and \"East\", \n",
    "#set any missing values to zero, and add a \"Total\" column:\n",
    "data.columns = ['West', 'East']\n",
    "data.fillna(0, inplace=True)\n",
    "data['Total'] = data.eval('East + West')"
   ]
  },
  {
   "cell_type": "code",
   "execution_count": 104,
   "metadata": {
    "collapsed": false
   },
   "outputs": [
    {
     "data": {
      "text/html": [
       "<div>\n",
       "<table border=\"1\" class=\"dataframe\">\n",
       "  <thead>\n",
       "    <tr style=\"text-align: right;\">\n",
       "      <th></th>\n",
       "      <th>West</th>\n",
       "      <th>East</th>\n",
       "      <th>Total</th>\n",
       "    </tr>\n",
       "    <tr>\n",
       "      <th>Date</th>\n",
       "      <th></th>\n",
       "      <th></th>\n",
       "      <th></th>\n",
       "    </tr>\n",
       "  </thead>\n",
       "  <tbody>\n",
       "    <tr>\n",
       "      <th>2012-10-03 00:00:00</th>\n",
       "      <td>4.0</td>\n",
       "      <td>9.0</td>\n",
       "      <td>13.0</td>\n",
       "    </tr>\n",
       "    <tr>\n",
       "      <th>2012-10-03 01:00:00</th>\n",
       "      <td>4.0</td>\n",
       "      <td>6.0</td>\n",
       "      <td>10.0</td>\n",
       "    </tr>\n",
       "    <tr>\n",
       "      <th>2012-10-03 02:00:00</th>\n",
       "      <td>1.0</td>\n",
       "      <td>1.0</td>\n",
       "      <td>2.0</td>\n",
       "    </tr>\n",
       "    <tr>\n",
       "      <th>2012-10-03 03:00:00</th>\n",
       "      <td>2.0</td>\n",
       "      <td>3.0</td>\n",
       "      <td>5.0</td>\n",
       "    </tr>\n",
       "    <tr>\n",
       "      <th>2012-10-03 04:00:00</th>\n",
       "      <td>6.0</td>\n",
       "      <td>1.0</td>\n",
       "      <td>7.0</td>\n",
       "    </tr>\n",
       "  </tbody>\n",
       "</table>\n",
       "</div>"
      ],
      "text/plain": [
       "                     West  East  Total\n",
       "Date                                  \n",
       "2012-10-03 00:00:00   4.0   9.0   13.0\n",
       "2012-10-03 01:00:00   4.0   6.0   10.0\n",
       "2012-10-03 02:00:00   1.0   1.0    2.0\n",
       "2012-10-03 03:00:00   2.0   3.0    5.0\n",
       "2012-10-03 04:00:00   6.0   1.0    7.0"
      ]
     },
     "execution_count": 104,
     "metadata": {},
     "output_type": "execute_result"
    }
   ],
   "source": [
    "data.head()"
   ]
  },
  {
   "cell_type": "code",
   "execution_count": 90,
   "metadata": {
    "collapsed": false
   },
   "outputs": [
    {
     "name": "stderr",
     "output_type": "stream",
     "text": [
      "/home/lingjing/anaconda2/lib/python2.7/site-packages/ipykernel/__main__.py:1: FutureWarning: how in .resample() is deprecated\n",
      "the new syntax is .resample(...).sum()\n",
      "  if __name__ == '__main__':\n"
     ]
    },
    {
     "data": {
      "image/png": "[encoded data removed]",
      "text/plain": [
       "<matplotlib.figure.Figure at 0x7f87b1cc4410>"
      ]
     },
     "metadata": {},
     "output_type": "display_data"
    }
   ],
   "source": [
    "data.resample('W', how='sum').plot()\n",
    "plt.ylabel('weekly trips');"
   ]
  },
  {
   "cell_type": "code",
   "execution_count": 91,
   "metadata": {
    "collapsed": false
   },
   "outputs": [
    {
     "data": {
      "text/html": [
       "<div>\n",
       "<table border=\"1\" class=\"dataframe\">\n",
       "  <thead>\n",
       "    <tr>\n",
       "      <th></th>\n",
       "      <th colspan=\"10\" halign=\"left\">East</th>\n",
       "      <th>...</th>\n",
       "      <th colspan=\"10\" halign=\"left\">West</th>\n",
       "    </tr>\n",
       "    <tr>\n",
       "      <th></th>\n",
       "      <th>0</th>\n",
       "      <th>1</th>\n",
       "      <th>2</th>\n",
       "      <th>3</th>\n",
       "      <th>4</th>\n",
       "      <th>5</th>\n",
       "      <th>6</th>\n",
       "      <th>7</th>\n",
       "      <th>8</th>\n",
       "      <th>9</th>\n",
       "      <th>...</th>\n",
       "      <th>14</th>\n",
       "      <th>15</th>\n",
       "      <th>16</th>\n",
       "      <th>17</th>\n",
       "      <th>18</th>\n",
       "      <th>19</th>\n",
       "      <th>20</th>\n",
       "      <th>21</th>\n",
       "      <th>22</th>\n",
       "      <th>23</th>\n",
       "    </tr>\n",
       "  </thead>\n",
       "  <tbody>\n",
       "    <tr>\n",
       "      <th>2012-10-03</th>\n",
       "      <td>9</td>\n",
       "      <td>6</td>\n",
       "      <td>1</td>\n",
       "      <td>3.0</td>\n",
       "      <td>1</td>\n",
       "      <td>10</td>\n",
       "      <td>50</td>\n",
       "      <td>95</td>\n",
       "      <td>146</td>\n",
       "      <td>104</td>\n",
       "      <td>...</td>\n",
       "      <td>77</td>\n",
       "      <td>72</td>\n",
       "      <td>133</td>\n",
       "      <td>192</td>\n",
       "      <td>122</td>\n",
       "      <td>59</td>\n",
       "      <td>29</td>\n",
       "      <td>25</td>\n",
       "      <td>24</td>\n",
       "      <td>5</td>\n",
       "    </tr>\n",
       "    <tr>\n",
       "      <th>2012-10-04</th>\n",
       "      <td>11</td>\n",
       "      <td>0</td>\n",
       "      <td>6</td>\n",
       "      <td>3.0</td>\n",
       "      <td>1</td>\n",
       "      <td>11</td>\n",
       "      <td>51</td>\n",
       "      <td>89</td>\n",
       "      <td>134</td>\n",
       "      <td>94</td>\n",
       "      <td>...</td>\n",
       "      <td>63</td>\n",
       "      <td>73</td>\n",
       "      <td>114</td>\n",
       "      <td>154</td>\n",
       "      <td>137</td>\n",
       "      <td>57</td>\n",
       "      <td>27</td>\n",
       "      <td>31</td>\n",
       "      <td>25</td>\n",
       "      <td>11</td>\n",
       "    </tr>\n",
       "    <tr>\n",
       "      <th>2012-10-05</th>\n",
       "      <td>7</td>\n",
       "      <td>4</td>\n",
       "      <td>3</td>\n",
       "      <td>2.0</td>\n",
       "      <td>2</td>\n",
       "      <td>7</td>\n",
       "      <td>37</td>\n",
       "      <td>101</td>\n",
       "      <td>119</td>\n",
       "      <td>81</td>\n",
       "      <td>...</td>\n",
       "      <td>63</td>\n",
       "      <td>80</td>\n",
       "      <td>120</td>\n",
       "      <td>144</td>\n",
       "      <td>107</td>\n",
       "      <td>42</td>\n",
       "      <td>27</td>\n",
       "      <td>11</td>\n",
       "      <td>10</td>\n",
       "      <td>16</td>\n",
       "    </tr>\n",
       "    <tr>\n",
       "      <th>2012-10-06</th>\n",
       "      <td>7</td>\n",
       "      <td>5</td>\n",
       "      <td>2</td>\n",
       "      <td>2.0</td>\n",
       "      <td>1</td>\n",
       "      <td>2</td>\n",
       "      <td>15</td>\n",
       "      <td>16</td>\n",
       "      <td>47</td>\n",
       "      <td>55</td>\n",
       "      <td>...</td>\n",
       "      <td>89</td>\n",
       "      <td>115</td>\n",
       "      <td>107</td>\n",
       "      <td>107</td>\n",
       "      <td>41</td>\n",
       "      <td>40</td>\n",
       "      <td>25</td>\n",
       "      <td>18</td>\n",
       "      <td>14</td>\n",
       "      <td>15</td>\n",
       "    </tr>\n",
       "    <tr>\n",
       "      <th>2012-10-07</th>\n",
       "      <td>5</td>\n",
       "      <td>5</td>\n",
       "      <td>1</td>\n",
       "      <td>2.0</td>\n",
       "      <td>2</td>\n",
       "      <td>3</td>\n",
       "      <td>8</td>\n",
       "      <td>12</td>\n",
       "      <td>26</td>\n",
       "      <td>36</td>\n",
       "      <td>...</td>\n",
       "      <td>126</td>\n",
       "      <td>122</td>\n",
       "      <td>132</td>\n",
       "      <td>118</td>\n",
       "      <td>68</td>\n",
       "      <td>26</td>\n",
       "      <td>19</td>\n",
       "      <td>12</td>\n",
       "      <td>9</td>\n",
       "      <td>5</td>\n",
       "    </tr>\n",
       "  </tbody>\n",
       "</table>\n",
       "<p>5 rows × 48 columns</p>\n",
       "</div>"
      ],
      "text/plain": [
       "           East                                      ... West                 \\\n",
       "             0  1  2    3  4   5   6    7    8    9  ...   14   15   16   17   \n",
       "2012-10-03    9  6  1  3.0  1  10  50   95  146  104 ...   77   72  133  192   \n",
       "2012-10-04   11  0  6  3.0  1  11  51   89  134   94 ...   63   73  114  154   \n",
       "2012-10-05    7  4  3  2.0  2   7  37  101  119   81 ...   63   80  120  144   \n",
       "2012-10-06    7  5  2  2.0  1   2  15   16   47   55 ...   89  115  107  107   \n",
       "2012-10-07    5  5  1  2.0  2   3   8   12   26   36 ...  126  122  132  118   \n",
       "\n",
       "                                     \n",
       "             18  19  20  21  22  23  \n",
       "2012-10-03  122  59  29  25  24   5  \n",
       "2012-10-04  137  57  27  31  25  11  \n",
       "2012-10-05  107  42  27  11  10  16  \n",
       "2012-10-06   41  40  25  18  14  15  \n",
       "2012-10-07   68  26  19  12   9   5  \n",
       "\n",
       "[5 rows x 48 columns]"
      ]
     },
     "execution_count": 91,
     "metadata": {},
     "output_type": "execute_result"
    }
   ],
   "source": [
    "pivoted = data.pivot_table(['East', 'West'],\n",
    "                           index=data.index.date,\n",
    "                           columns=data.index.hour,\n",
    "                           fill_value=0)\n",
    "pivoted.head()"
   ]
  },
  {
   "cell_type": "code",
   "execution_count": 92,
   "metadata": {
    "collapsed": false
   },
   "outputs": [
    {
     "data": {
      "text/plain": [
       "(990, 48)"
      ]
     },
     "execution_count": 92,
     "metadata": {},
     "output_type": "execute_result"
    }
   ],
   "source": [
    "X = pivoted.values\n",
    "X.shape"
   ]
  },
  {
   "cell_type": "code",
   "execution_count": 93,
   "metadata": {
    "collapsed": false
   },
   "outputs": [
    {
     "data": {
      "text/plain": [
       "array([[  9.,   6.,   1., ...,  25.,  24.,   5.],\n",
       "       [ 11.,   0.,   6., ...,  31.,  25.,  11.],\n",
       "       [  7.,   4.,   3., ...,  11.,  10.,  16.],\n",
       "       ..., \n",
       "       [  6.,   5.,   2., ...,  44.,  35.,  21.],\n",
       "       [ 12.,   2.,   4., ...,  40.,  17.,   9.],\n",
       "       [ 18.,   2.,   1., ...,  38.,  32.,  28.]])"
      ]
     },
     "execution_count": 93,
     "metadata": {},
     "output_type": "execute_result"
    }
   ],
   "source": [
    "X"
   ]
  },
  {
   "cell_type": "markdown",
   "metadata": {},
   "source": [
    "### Q1. \n",
    "\n",
    "Visulize the data using PCA (two dimension). Color the points by the sum of all features."
   ]
  },
  {
   "cell_type": "code",
   "execution_count": 1,
   "metadata": {
    "collapsed": false
   },
   "outputs": [],
   "source": [
    "from sklearn.decomposition import PCA"
   ]
  },
  {
   "cell_type": "code",
   "execution_count": null,
   "metadata": {
    "collapsed": true
   },
   "outputs": [],
   "source": []
  },
  {
   "cell_type": "markdown",
   "metadata": {},
   "source": [
    "### Question 2. \n",
    "\n",
    "Using KMeans to cluster the PCA transformed data set into two clusters. And plot your result."
   ]
  },
  {
   "cell_type": "code",
   "execution_count": 2,
   "metadata": {
    "collapsed": false
   },
   "outputs": [],
   "source": [
    "from sklearn.cluster import KMeans"
   ]
  },
  {
   "cell_type": "markdown",
   "metadata": {},
   "source": [
    "### Question 3,\n",
    "Use Guassian Mixture to repeat question 2."
   ]
  },
  {
   "cell_type": "code",
   "execution_count": 3,
   "metadata": {
    "collapsed": false
   },
   "outputs": [],
   "source": [
    "from sklearn.mixture import GaussianMixture"
   ]
  },
  {
   "cell_type": "markdown",
   "metadata": {},
   "source": [
    "### Question 4: \n",
    "\n",
    "let's analyze the result and see why our clustering result makes sense. What is the average hourly trend by cluster and time using groupby. \n",
    "\n",
    "['Cluster', data.index.time]"
   ]
  },
  {
   "cell_type": "code",
   "execution_count": 98,
   "metadata": {
    "collapsed": false
   },
   "outputs": [
    {
     "data": {
      "text/html": [
       "<div>\n",
       "<table border=\"1\" class=\"dataframe\">\n",
       "  <thead>\n",
       "    <tr style=\"text-align: right;\">\n",
       "      <th></th>\n",
       "      <th>West</th>\n",
       "      <th>East</th>\n",
       "      <th>Total</th>\n",
       "      <th>Cluster</th>\n",
       "    </tr>\n",
       "    <tr>\n",
       "      <th>Date</th>\n",
       "      <th></th>\n",
       "      <th></th>\n",
       "      <th></th>\n",
       "      <th></th>\n",
       "    </tr>\n",
       "  </thead>\n",
       "  <tbody>\n",
       "    <tr>\n",
       "      <th>2012-10-03 00:00:00</th>\n",
       "      <td>4.0</td>\n",
       "      <td>9.0</td>\n",
       "      <td>13.0</td>\n",
       "      <td>0</td>\n",
       "    </tr>\n",
       "    <tr>\n",
       "      <th>2012-10-03 01:00:00</th>\n",
       "      <td>4.0</td>\n",
       "      <td>6.0</td>\n",
       "      <td>10.0</td>\n",
       "      <td>0</td>\n",
       "    </tr>\n",
       "    <tr>\n",
       "      <th>2012-10-03 02:00:00</th>\n",
       "      <td>1.0</td>\n",
       "      <td>1.0</td>\n",
       "      <td>2.0</td>\n",
       "      <td>0</td>\n",
       "    </tr>\n",
       "    <tr>\n",
       "      <th>2012-10-03 03:00:00</th>\n",
       "      <td>2.0</td>\n",
       "      <td>3.0</td>\n",
       "      <td>5.0</td>\n",
       "      <td>0</td>\n",
       "    </tr>\n",
       "    <tr>\n",
       "      <th>2012-10-03 04:00:00</th>\n",
       "      <td>6.0</td>\n",
       "      <td>1.0</td>\n",
       "      <td>7.0</td>\n",
       "      <td>0</td>\n",
       "    </tr>\n",
       "  </tbody>\n",
       "</table>\n",
       "</div>"
      ],
      "text/plain": [
       "                     West  East  Total  Cluster\n",
       "Date                                           \n",
       "2012-10-03 00:00:00   4.0   9.0   13.0        0\n",
       "2012-10-03 01:00:00   4.0   6.0   10.0        0\n",
       "2012-10-03 02:00:00   1.0   1.0    2.0        0\n",
       "2012-10-03 03:00:00   2.0   3.0    5.0        0\n",
       "2012-10-03 04:00:00   6.0   1.0    7.0        0"
      ]
     },
     "execution_count": 98,
     "metadata": {},
     "output_type": "execute_result"
    }
   ],
   "source": [
    "# use this data set:\n",
    "#save your clustering result to cluster_label\n",
    "\n",
    "#cluster_label=.... Make sure use Gaussian or you won't see the result.\n",
    "\n",
    "pivoted['Cluster'] = cluster_label # Make sure here is your clustering result.\n",
    "data1 = data.join(pivoted['Cluster'], on=data.index.date)\n",
    "data1.head()"
   ]
  },
  {
   "cell_type": "code",
   "execution_count": null,
   "metadata": {
    "collapsed": false
   },
   "outputs": [],
   "source": []
  },
  {
   "cell_type": "markdown",
   "metadata": {},
   "source": [
    "### Question 5:  \n",
    "\n",
    "Finally, we can plot the average hourly trend among the days within each cluster:"
   ]
  },
  {
   "cell_type": "code",
   "execution_count": null,
   "metadata": {
    "collapsed": true
   },
   "outputs": [],
   "source": []
  },
  {
   "cell_type": "markdown",
   "metadata": {},
   "source": [
    "### What we could guess from these two plots?"
   ]
  },
  {
   "cell_type": "code",
   "execution_count": null,
   "metadata": {
    "collapsed": true
   },
   "outputs": [],
   "source": []
  },
  {
   "cell_type": "code",
   "execution_count": null,
   "metadata": {
    "collapsed": true
   },
   "outputs": [],
   "source": []
  },
  {
   "cell_type": "code",
   "execution_count": null,
   "metadata": {
    "collapsed": true
   },
   "outputs": [],
   "source": []
  },
  {
   "cell_type": "markdown",
   "metadata": {},
   "source": [
    "### Part Two: The difficult question from Clustering HW. (I will explain this one. It should be quick)"
   ]
  },
  {
   "cell_type": "markdown",
   "metadata": {},
   "source": [
    "This homework assignment concerns NYPD police stops in New York City in the years \n",
    "2011-2012 where the suspected crime was CPW (criminal possession of a weapon).  You can \n",
    "read more about these stops at \n",
    "\n",
    "https://en.wikipedia.org/wiki/Terry_stop \n",
    "\n",
    "https://en.wikipedia.org/wiki/Stop-and-frisk_in_New_York_City "
   ]
  },
  {
   "cell_type": "markdown",
   "metadata": {},
   "source": [
    "You are given 1,069 stop records in the file ‘original_with_duplicates_noid.csv’, but \n",
    "unfortunately technical errors have resulted in some exact duplicate records.  You know \n",
    "there are around 1,000 unique stops in the file (there may be slightly more or slightly \n",
    "fewer).   "
   ]
  },
  {
   "cell_type": "code",
   "execution_count": 7,
   "metadata": {
    "collapsed": false
   },
   "outputs": [
    {
     "data": {
      "text/html": [
       "<div>\n",
       "<table border=\"1\" class=\"dataframe\">\n",
       "  <thead>\n",
       "    <tr style=\"text-align: right;\">\n",
       "      <th></th>\n",
       "      <th>year</th>\n",
       "      <th>found.weapon</th>\n",
       "      <th>found.gun</th>\n",
       "      <th>arrested</th>\n",
       "      <th>suspect.race</th>\n",
       "      <th>suspect.age</th>\n",
       "      <th>suspect.build</th>\n",
       "      <th>suspect.sex</th>\n",
       "      <th>suspect.height</th>\n",
       "      <th>suspect.weight</th>\n",
       "      <th>...</th>\n",
       "      <th>additional.associating</th>\n",
       "      <th>additional.direction</th>\n",
       "      <th>additional.highcrime</th>\n",
       "      <th>additional.time</th>\n",
       "      <th>additional.sights</th>\n",
       "      <th>additional.other</th>\n",
       "      <th>radio.run</th>\n",
       "      <th>day</th>\n",
       "      <th>month</th>\n",
       "      <th>time.period</th>\n",
       "    </tr>\n",
       "  </thead>\n",
       "  <tbody>\n",
       "    <tr>\n",
       "      <th>0</th>\n",
       "      <td>2012</td>\n",
       "      <td>False</td>\n",
       "      <td>False</td>\n",
       "      <td>False</td>\n",
       "      <td>black</td>\n",
       "      <td>27</td>\n",
       "      <td>medium</td>\n",
       "      <td>male</td>\n",
       "      <td>5.666667</td>\n",
       "      <td>180</td>\n",
       "      <td>...</td>\n",
       "      <td>False</td>\n",
       "      <td>False</td>\n",
       "      <td>False</td>\n",
       "      <td>False</td>\n",
       "      <td>False</td>\n",
       "      <td>False</td>\n",
       "      <td>False</td>\n",
       "      <td>Saturday</td>\n",
       "      <td>January</td>\n",
       "      <td>6</td>\n",
       "    </tr>\n",
       "    <tr>\n",
       "      <th>1</th>\n",
       "      <td>2011</td>\n",
       "      <td>False</td>\n",
       "      <td>False</td>\n",
       "      <td>False</td>\n",
       "      <td>asian</td>\n",
       "      <td>40</td>\n",
       "      <td>medium</td>\n",
       "      <td>male</td>\n",
       "      <td>6.166667</td>\n",
       "      <td>225</td>\n",
       "      <td>...</td>\n",
       "      <td>False</td>\n",
       "      <td>False</td>\n",
       "      <td>True</td>\n",
       "      <td>True</td>\n",
       "      <td>False</td>\n",
       "      <td>False</td>\n",
       "      <td>False</td>\n",
       "      <td>Friday</td>\n",
       "      <td>November</td>\n",
       "      <td>6</td>\n",
       "    </tr>\n",
       "    <tr>\n",
       "      <th>2</th>\n",
       "      <td>2012</td>\n",
       "      <td>False</td>\n",
       "      <td>False</td>\n",
       "      <td>False</td>\n",
       "      <td>black</td>\n",
       "      <td>20</td>\n",
       "      <td>medium</td>\n",
       "      <td>male</td>\n",
       "      <td>6.000000</td>\n",
       "      <td>200</td>\n",
       "      <td>...</td>\n",
       "      <td>False</td>\n",
       "      <td>False</td>\n",
       "      <td>False</td>\n",
       "      <td>False</td>\n",
       "      <td>False</td>\n",
       "      <td>False</td>\n",
       "      <td>False</td>\n",
       "      <td>Saturday</td>\n",
       "      <td>August</td>\n",
       "      <td>6</td>\n",
       "    </tr>\n",
       "  </tbody>\n",
       "</table>\n",
       "<p>3 rows × 39 columns</p>\n",
       "</div>"
      ],
      "text/plain": [
       "   year found.weapon found.gun arrested suspect.race  suspect.age  \\\n",
       "0  2012        False     False    False        black           27   \n",
       "1  2011        False     False    False        asian           40   \n",
       "2  2012        False     False    False        black           20   \n",
       "\n",
       "  suspect.build suspect.sex  suspect.height  suspect.weight     ...      \\\n",
       "0        medium        male        5.666667             180     ...       \n",
       "1        medium        male        6.166667             225     ...       \n",
       "2        medium        male        6.000000             200     ...       \n",
       "\n",
       "  additional.associating additional.direction additional.highcrime  \\\n",
       "0                  False                False                False   \n",
       "1                  False                False                 True   \n",
       "2                  False                False                False   \n",
       "\n",
       "  additional.time additional.sights additional.other radio.run       day  \\\n",
       "0           False             False            False     False  Saturday   \n",
       "1            True             False            False     False    Friday   \n",
       "2           False             False            False     False  Saturday   \n",
       "\n",
       "      month time.period  \n",
       "0   January           6  \n",
       "1  November           6  \n",
       "2    August           6  \n",
       "\n",
       "[3 rows x 39 columns]"
      ]
     },
     "execution_count": 7,
     "metadata": {},
     "output_type": "execute_result"
    }
   ],
   "source": [
    "data2=pd.read_csv(\"https://serv.cusp.nyu.edu/~lw1474/ADS_Data/session07/original_with_duplicates_noid.csv\")\n",
    "data2.head(3)"
   ]
  },
  {
   "cell_type": "markdown",
   "metadata": {},
   "source": [
    "\n",
    "#### 1. Use a clustering technique of your choice to determine how many unique records there are. (15 pts)\n",
    "\n",
    "#### 2. Check your work by looking for row-wise duplicates using any technique of your choice (this should be straightforward).  How well did your clustering technique perform?  (5 pts)\n",
    "\n",
    "#### 3. Write a paragraph explaining what you did in parts a) and b)  (10 pts)"
   ]
  },
  {
   "cell_type": "code",
   "execution_count": 9,
   "metadata": {
    "collapsed": false
   },
   "outputs": [
    {
     "data": {
      "text/html": [
       "<div>\n",
       "<table border=\"1\" class=\"dataframe\">\n",
       "  <thead>\n",
       "    <tr style=\"text-align: right;\">\n",
       "      <th></th>\n",
       "      <th>year</th>\n",
       "      <th>found.weapon</th>\n",
       "      <th>found.gun</th>\n",
       "      <th>arrested</th>\n",
       "      <th>suspect.race</th>\n",
       "      <th>suspect.age</th>\n",
       "      <th>suspect.build</th>\n",
       "      <th>suspect.sex</th>\n",
       "      <th>suspect.height</th>\n",
       "      <th>suspect.weight</th>\n",
       "      <th>...</th>\n",
       "      <th>additional.associating</th>\n",
       "      <th>additional.direction</th>\n",
       "      <th>additional.highcrime</th>\n",
       "      <th>additional.time</th>\n",
       "      <th>additional.sights</th>\n",
       "      <th>additional.other</th>\n",
       "      <th>radio.run</th>\n",
       "      <th>day</th>\n",
       "      <th>month</th>\n",
       "      <th>time.period</th>\n",
       "    </tr>\n",
       "  </thead>\n",
       "  <tbody>\n",
       "    <tr>\n",
       "      <th>0</th>\n",
       "      <td>2012.0</td>\n",
       "      <td>0.0</td>\n",
       "      <td>0.0</td>\n",
       "      <td>0.0</td>\n",
       "      <td>0.0</td>\n",
       "      <td>27.0</td>\n",
       "      <td>0.0</td>\n",
       "      <td>0.0</td>\n",
       "      <td>5.666667</td>\n",
       "      <td>180.0</td>\n",
       "      <td>...</td>\n",
       "      <td>0.0</td>\n",
       "      <td>0.0</td>\n",
       "      <td>0.0</td>\n",
       "      <td>0.0</td>\n",
       "      <td>0.0</td>\n",
       "      <td>0.0</td>\n",
       "      <td>0.0</td>\n",
       "      <td>0.0</td>\n",
       "      <td>0.0</td>\n",
       "      <td>6.0</td>\n",
       "    </tr>\n",
       "    <tr>\n",
       "      <th>1</th>\n",
       "      <td>2011.0</td>\n",
       "      <td>0.0</td>\n",
       "      <td>0.0</td>\n",
       "      <td>0.0</td>\n",
       "      <td>1.0</td>\n",
       "      <td>40.0</td>\n",
       "      <td>0.0</td>\n",
       "      <td>0.0</td>\n",
       "      <td>6.166667</td>\n",
       "      <td>225.0</td>\n",
       "      <td>...</td>\n",
       "      <td>0.0</td>\n",
       "      <td>0.0</td>\n",
       "      <td>1.0</td>\n",
       "      <td>1.0</td>\n",
       "      <td>0.0</td>\n",
       "      <td>0.0</td>\n",
       "      <td>0.0</td>\n",
       "      <td>1.0</td>\n",
       "      <td>1.0</td>\n",
       "      <td>6.0</td>\n",
       "    </tr>\n",
       "    <tr>\n",
       "      <th>2</th>\n",
       "      <td>2012.0</td>\n",
       "      <td>0.0</td>\n",
       "      <td>0.0</td>\n",
       "      <td>0.0</td>\n",
       "      <td>0.0</td>\n",
       "      <td>20.0</td>\n",
       "      <td>0.0</td>\n",
       "      <td>0.0</td>\n",
       "      <td>6.000000</td>\n",
       "      <td>200.0</td>\n",
       "      <td>...</td>\n",
       "      <td>0.0</td>\n",
       "      <td>0.0</td>\n",
       "      <td>0.0</td>\n",
       "      <td>0.0</td>\n",
       "      <td>0.0</td>\n",
       "      <td>0.0</td>\n",
       "      <td>0.0</td>\n",
       "      <td>0.0</td>\n",
       "      <td>2.0</td>\n",
       "      <td>6.0</td>\n",
       "    </tr>\n",
       "    <tr>\n",
       "      <th>3</th>\n",
       "      <td>2011.0</td>\n",
       "      <td>0.0</td>\n",
       "      <td>0.0</td>\n",
       "      <td>0.0</td>\n",
       "      <td>0.0</td>\n",
       "      <td>23.0</td>\n",
       "      <td>0.0</td>\n",
       "      <td>0.0</td>\n",
       "      <td>5.916667</td>\n",
       "      <td>180.0</td>\n",
       "      <td>...</td>\n",
       "      <td>0.0</td>\n",
       "      <td>0.0</td>\n",
       "      <td>0.0</td>\n",
       "      <td>1.0</td>\n",
       "      <td>0.0</td>\n",
       "      <td>0.0</td>\n",
       "      <td>0.0</td>\n",
       "      <td>1.0</td>\n",
       "      <td>3.0</td>\n",
       "      <td>1.0</td>\n",
       "    </tr>\n",
       "    <tr>\n",
       "      <th>4</th>\n",
       "      <td>2011.0</td>\n",
       "      <td>0.0</td>\n",
       "      <td>0.0</td>\n",
       "      <td>0.0</td>\n",
       "      <td>0.0</td>\n",
       "      <td>33.0</td>\n",
       "      <td>1.0</td>\n",
       "      <td>0.0</td>\n",
       "      <td>5.666667</td>\n",
       "      <td>175.0</td>\n",
       "      <td>...</td>\n",
       "      <td>0.0</td>\n",
       "      <td>0.0</td>\n",
       "      <td>0.0</td>\n",
       "      <td>0.0</td>\n",
       "      <td>0.0</td>\n",
       "      <td>0.0</td>\n",
       "      <td>0.0</td>\n",
       "      <td>2.0</td>\n",
       "      <td>4.0</td>\n",
       "      <td>4.0</td>\n",
       "    </tr>\n",
       "  </tbody>\n",
       "</table>\n",
       "<p>5 rows × 39 columns</p>\n",
       "</div>"
      ],
      "text/plain": [
       "     year  found.weapon  found.gun  arrested  suspect.race  suspect.age  \\\n",
       "0  2012.0           0.0        0.0       0.0           0.0         27.0   \n",
       "1  2011.0           0.0        0.0       0.0           1.0         40.0   \n",
       "2  2012.0           0.0        0.0       0.0           0.0         20.0   \n",
       "3  2011.0           0.0        0.0       0.0           0.0         23.0   \n",
       "4  2011.0           0.0        0.0       0.0           0.0         33.0   \n",
       "\n",
       "   suspect.build  suspect.sex  suspect.height  suspect.weight     ...       \\\n",
       "0            0.0          0.0        5.666667           180.0     ...        \n",
       "1            0.0          0.0        6.166667           225.0     ...        \n",
       "2            0.0          0.0        6.000000           200.0     ...        \n",
       "3            0.0          0.0        5.916667           180.0     ...        \n",
       "4            1.0          0.0        5.666667           175.0     ...        \n",
       "\n",
       "   additional.associating  additional.direction  additional.highcrime  \\\n",
       "0                     0.0                   0.0                   0.0   \n",
       "1                     0.0                   0.0                   1.0   \n",
       "2                     0.0                   0.0                   0.0   \n",
       "3                     0.0                   0.0                   0.0   \n",
       "4                     0.0                   0.0                   0.0   \n",
       "\n",
       "   additional.time  additional.sights  additional.other  radio.run  day  \\\n",
       "0              0.0                0.0               0.0        0.0  0.0   \n",
       "1              1.0                0.0               0.0        0.0  1.0   \n",
       "2              0.0                0.0               0.0        0.0  0.0   \n",
       "3              1.0                0.0               0.0        0.0  1.0   \n",
       "4              0.0                0.0               0.0        0.0  2.0   \n",
       "\n",
       "   month  time.period  \n",
       "0    0.0          6.0  \n",
       "1    1.0          6.0  \n",
       "2    2.0          6.0  \n",
       "3    3.0          1.0  \n",
       "4    4.0          4.0  \n",
       "\n",
       "[5 rows x 39 columns]"
      ]
     },
     "execution_count": 9,
     "metadata": {},
     "output_type": "execute_result"
    }
   ],
   "source": [
    "# Factorize the data set.\n",
    "# Transform the data set to factors for string terms:\n",
    "data_temp=[]\n",
    "for i in range(len(data2.T)): #Change for every columns one by one\n",
    "    temp=data2.iloc[:,i]\n",
    "    try:                      #change it to float if possible\n",
    "        temp1=temp.apply(float)\n",
    "        data_temp.append(list(temp1))\n",
    "    except ValueError:\n",
    "        temp1=pd.factorize(temp) #factorize it for strings if not possible\n",
    "        data_temp.append(list(temp1[0]))\n",
    "#Then, make it to Pandas Dataframe:\n",
    "data_q1=pd.DataFrame(data_temp).T\n",
    "data_q1.columns=data2.columns\n",
    "data_q1.head()"
   ]
  },
  {
   "cell_type": "code",
   "execution_count": 11,
   "metadata": {
    "collapsed": false
   },
   "outputs": [
    {
     "name": "stdout",
     "output_type": "stream",
     "text": [
      "-37.677083334\n",
      "-31.1458333335\n",
      "-25.1145833335\n",
      "-19.100694444\n",
      "-13.600694444\n",
      "-8.56944444403\n",
      "-4.01388888806\n",
      "-0.0\n",
      "we get 997 unique elements\n"
     ]
    }
   ],
   "source": [
    "#a) For finding duplicates, we calculate the score of accuracy. We stop when we get 0 distance. The only possible situation\n",
    "#is that the number of unique observations is equal to the number of clusters..\n",
    "import sklearn.cluster as cluster\n",
    "for i in range(990,1100):\n",
    "    est=cluster.KMeans(n_clusters=i)# claster=5\n",
    "    est.fit(data_q1)\n",
    "    print est.score(data_q1)\n",
    "    if est.score(data_q1)==0:\n",
    "        print(\"we get {} unique elements\".format(i))\n",
    "        break"
   ]
  },
  {
   "cell_type": "code",
   "execution_count": 13,
   "metadata": {
    "collapsed": false
   },
   "outputs": [
    {
     "name": "stdout",
     "output_type": "stream",
     "text": [
      "we get 997 unique elements.\n"
     ]
    }
   ],
   "source": [
    "#b) Check the unique observations.(pandas has a good function drop_duplicates to help us):\n",
    "ans=len(data_q1.drop_duplicates(list(data_q1.columns)))\n",
    "print(\"we get {} unique elements.\").format(ans)"
   ]
  },
  {
   "cell_type": "code",
   "execution_count": null,
   "metadata": {
    "collapsed": true
   },
   "outputs": [],
   "source": []
  },
  {
   "cell_type": "markdown",
   "metadata": {},
   "source": [
    "You are given 1,100 stop records in the file ‘original_with_errors_noid.csv’, but \n",
    "unfortunately technical errors have resulted in some almost duplicate records (that is, \n",
    "there are some records that are duplicates of others except for slight variations in two \n",
    "features).  You know there are around 1,000 unique stops in the file (there may be \n",
    "slightly more or slightly fewer). \n",
    "\n"
   ]
  },
  {
   "cell_type": "code",
   "execution_count": 15,
   "metadata": {
    "collapsed": false
   },
   "outputs": [
    {
     "data": {
      "text/html": [
       "<div>\n",
       "<table border=\"1\" class=\"dataframe\">\n",
       "  <thead>\n",
       "    <tr style=\"text-align: right;\">\n",
       "      <th></th>\n",
       "      <th>year</th>\n",
       "      <th>found.weapon</th>\n",
       "      <th>found.gun</th>\n",
       "      <th>arrested</th>\n",
       "      <th>suspect.race</th>\n",
       "      <th>suspect.age</th>\n",
       "      <th>suspect.build</th>\n",
       "      <th>suspect.sex</th>\n",
       "      <th>suspect.height</th>\n",
       "      <th>suspect.weight</th>\n",
       "      <th>...</th>\n",
       "      <th>additional.associating</th>\n",
       "      <th>additional.direction</th>\n",
       "      <th>additional.highcrime</th>\n",
       "      <th>additional.time</th>\n",
       "      <th>additional.sights</th>\n",
       "      <th>additional.other</th>\n",
       "      <th>radio.run</th>\n",
       "      <th>day</th>\n",
       "      <th>month</th>\n",
       "      <th>time.period</th>\n",
       "    </tr>\n",
       "  </thead>\n",
       "  <tbody>\n",
       "    <tr>\n",
       "      <th>0</th>\n",
       "      <td>2011</td>\n",
       "      <td>False</td>\n",
       "      <td>False</td>\n",
       "      <td>False</td>\n",
       "      <td>black</td>\n",
       "      <td>20</td>\n",
       "      <td>heavy</td>\n",
       "      <td>male</td>\n",
       "      <td>5.500000</td>\n",
       "      <td>200</td>\n",
       "      <td>...</td>\n",
       "      <td>False</td>\n",
       "      <td>False</td>\n",
       "      <td>True</td>\n",
       "      <td>False</td>\n",
       "      <td>False</td>\n",
       "      <td>False</td>\n",
       "      <td>False</td>\n",
       "      <td>Wednesday</td>\n",
       "      <td>November</td>\n",
       "      <td>4</td>\n",
       "    </tr>\n",
       "    <tr>\n",
       "      <th>1</th>\n",
       "      <td>2012</td>\n",
       "      <td>False</td>\n",
       "      <td>False</td>\n",
       "      <td>False</td>\n",
       "      <td>black</td>\n",
       "      <td>24</td>\n",
       "      <td>medium</td>\n",
       "      <td>male</td>\n",
       "      <td>5.666667</td>\n",
       "      <td>155</td>\n",
       "      <td>...</td>\n",
       "      <td>False</td>\n",
       "      <td>False</td>\n",
       "      <td>True</td>\n",
       "      <td>False</td>\n",
       "      <td>False</td>\n",
       "      <td>False</td>\n",
       "      <td>False</td>\n",
       "      <td>Monday</td>\n",
       "      <td>August</td>\n",
       "      <td>6</td>\n",
       "    </tr>\n",
       "    <tr>\n",
       "      <th>2</th>\n",
       "      <td>2011</td>\n",
       "      <td>False</td>\n",
       "      <td>False</td>\n",
       "      <td>False</td>\n",
       "      <td>black</td>\n",
       "      <td>47</td>\n",
       "      <td>heavy</td>\n",
       "      <td>male</td>\n",
       "      <td>6.000000</td>\n",
       "      <td>245</td>\n",
       "      <td>...</td>\n",
       "      <td>False</td>\n",
       "      <td>True</td>\n",
       "      <td>True</td>\n",
       "      <td>True</td>\n",
       "      <td>False</td>\n",
       "      <td>False</td>\n",
       "      <td>False</td>\n",
       "      <td>Saturday</td>\n",
       "      <td>January</td>\n",
       "      <td>4</td>\n",
       "    </tr>\n",
       "  </tbody>\n",
       "</table>\n",
       "<p>3 rows × 39 columns</p>\n",
       "</div>"
      ],
      "text/plain": [
       "   year found.weapon found.gun arrested suspect.race  suspect.age  \\\n",
       "0  2011        False     False    False        black           20   \n",
       "1  2012        False     False    False        black           24   \n",
       "2  2011        False     False    False        black           47   \n",
       "\n",
       "  suspect.build suspect.sex  suspect.height  suspect.weight     ...      \\\n",
       "0         heavy        male        5.500000             200     ...       \n",
       "1        medium        male        5.666667             155     ...       \n",
       "2         heavy        male        6.000000             245     ...       \n",
       "\n",
       "  additional.associating additional.direction additional.highcrime  \\\n",
       "0                  False                False                 True   \n",
       "1                  False                False                 True   \n",
       "2                  False                 True                 True   \n",
       "\n",
       "  additional.time additional.sights additional.other radio.run        day  \\\n",
       "0           False             False            False     False  Wednesday   \n",
       "1           False             False            False     False     Monday   \n",
       "2            True             False            False     False   Saturday   \n",
       "\n",
       "      month time.period  \n",
       "0  November           4  \n",
       "1    August           6  \n",
       "2   January           4  \n",
       "\n",
       "[3 rows x 39 columns]"
      ]
     },
     "execution_count": 15,
     "metadata": {},
     "output_type": "execute_result"
    }
   ],
   "source": [
    "data4=pd.read_csv(\"https://serv.cusp.nyu.edu/~lw1474/ADS_Data/session07/original_with_errors_noid.csv\")\n",
    "data4.head(3)"
   ]
  },
  {
   "cell_type": "markdown",
   "metadata": {},
   "source": [
    "#### 1. Which are the two features where errors were introduced? (15 pts) \n",
    "\n",
    "#### 2. How many unique records there are? (10 pts)\n",
    "\n",
    "#### 3. Write a paragraph explaining what you did. (5 pts)"
   ]
  },
  {
   "cell_type": "code",
   "execution_count": 16,
   "metadata": {
    "collapsed": false
   },
   "outputs": [
    {
     "data": {
      "text/plain": [
       "(1100, 39)"
      ]
     },
     "execution_count": 16,
     "metadata": {},
     "output_type": "execute_result"
    }
   ],
   "source": [
    "#Facotrize data:\n",
    "# Transform the data set to factors for string terms:\n",
    "data_temp=[]\n",
    "for i in range(len(data4.T)): #Change for every columns one by one\n",
    "    temp=data4.iloc[:,i]\n",
    "    try:                      #change it to float if possible\n",
    "        temp1=temp.apply(float)\n",
    "        data_temp.append(list(temp1))\n",
    "    except ValueError:\n",
    "        temp1=pd.factorize(temp) #factorize it for strings if not possible\n",
    "        data_temp.append(list(temp1[0]))\n",
    "#Then, make it to Pandas Dataframe:\n",
    "data_q2=pd.DataFrame(data_temp).T\n",
    "data_q2.columns=data2.columns\n",
    "data_q2.shape"
   ]
  },
  {
   "cell_type": "code",
   "execution_count": 18,
   "metadata": {
    "collapsed": true
   },
   "outputs": [],
   "source": [
    "#Let's scale the data. Why we need to scale the data for sure??? Or you could not find it by the following way.\n",
    "from sklearn.preprocessing import scale\n",
    "data_q2_s=pd.DataFrame(scale(data_q2))\n",
    "data_q2_s.columns=data_q2.columns"
   ]
  },
  {
   "cell_type": "code",
   "execution_count": 20,
   "metadata": {
    "collapsed": false
   },
   "outputs": [
    {
     "name": "stdout",
     "output_type": "stream",
     "text": [
      "-7.98323389262\n",
      "-8.17519206051\n",
      "-8.10375445662\n",
      "-8.10375445662\n",
      "-8.10375445662\n",
      "-4.1005292115\n",
      "-8.10375445662\n",
      "-8.18828544579\n",
      "-8.21057268839\n",
      "-3.48139256269\n",
      "-8.10375445662\n",
      "-8.18828544579\n",
      "-8.10375445662\n",
      "-8.18828544579\n",
      "-8.10375445662\n",
      "-8.10375445662\n",
      "-8.10375445662\n",
      "-8.10375445662\n",
      "-8.17519206051\n",
      "-8.10375445662\n",
      "-8.10375445662\n",
      "-8.10375445662\n",
      "-8.10375445662\n",
      "-8.17519206051\n",
      "-8.18828544579\n",
      "-8.10375445662\n",
      "-8.17519206051\n",
      "-8.10375445662\n",
      "-8.10375445662\n",
      "-8.10375445662\n",
      "-8.22366607368\n",
      "-8.10375445662\n",
      "-8.18828544579\n",
      "-8.17519206051\n",
      "-8.17519206051\n",
      "-8.10375445662\n",
      "-8.18807943817\n",
      "-8.10375445662\n",
      "-8.10375445662\n"
     ]
    }
   ],
   "source": [
    "#I try to omit one column every time, and report the KMeans scores. I assume that if I remove error column, the\n",
    "#score should be much lower. The reason is that duplicated observations exist.:\n",
    "for i in range(len(data_q2_s.T)):\n",
    "    temp=list(data_q2_s)\n",
    "    temp.remove(temp[i])\n",
    "    GM=cluster.KMeans(n_clusters=1000)\n",
    "    GM.fit(data_q2_s.loc[:,temp])\n",
    "    print GM.score(data_q2_s.loc[:,temp])"
   ]
  },
  {
   "cell_type": "code",
   "execution_count": null,
   "metadata": {
    "collapsed": true
   },
   "outputs": [],
   "source": [
    "print(\"From the result above, we know that the error columns are:{} and {}\".format(list(data_q2.columns)[5],list(data_q2.columns)[9]))"
   ]
  },
  {
   "cell_type": "code",
   "execution_count": null,
   "metadata": {
    "collapsed": true
   },
   "outputs": [],
   "source": []
  },
  {
   "cell_type": "code",
   "execution_count": null,
   "metadata": {
    "collapsed": true
   },
   "outputs": [],
   "source": []
  },
  {
   "cell_type": "code",
   "execution_count": null,
   "metadata": {
    "collapsed": true
   },
   "outputs": [],
   "source": []
  },
  {
   "cell_type": "code",
   "execution_count": null,
   "metadata": {
    "collapsed": true
   },
   "outputs": [],
   "source": []
  },
  {
   "cell_type": "code",
   "execution_count": null,
   "metadata": {
    "collapsed": true
   },
   "outputs": [],
   "source": []
  },
  {
   "cell_type": "code",
   "execution_count": null,
   "metadata": {
    "collapsed": true
   },
   "outputs": [],
   "source": []
  },
  {
   "cell_type": "code",
   "execution_count": null,
   "metadata": {
    "collapsed": true
   },
   "outputs": [],
   "source": []
  },
  {
   "cell_type": "code",
   "execution_count": null,
   "metadata": {
    "collapsed": true
   },
   "outputs": [],
   "source": []
  },
  {
   "cell_type": "code",
   "execution_count": null,
   "metadata": {
    "collapsed": true
   },
   "outputs": [],
   "source": []
  },
  {
   "cell_type": "code",
   "execution_count": null,
   "metadata": {
    "collapsed": true
   },
   "outputs": [],
   "source": []
  },
  {
   "cell_type": "code",
   "execution_count": null,
   "metadata": {
    "collapsed": true
   },
   "outputs": [],
   "source": []
  },
  {
   "cell_type": "code",
   "execution_count": null,
   "metadata": {
    "collapsed": true
   },
   "outputs": [],
   "source": []
  }
 ],
 "metadata": {
  "kernelspec": {
   "display_name": "Python 2",
   "language": "python",
   "name": "python2"
  },
  "language_info": {
   "codemirror_mode": {
    "name": "ipython",
    "version": 2
   },
   "file_extension": ".py",
   "mimetype": "text/x-python",
   "name": "python",
   "nbconvert_exporter": "python",
   "pygments_lexer": "ipython2",
   "version": "2.7.12"
  }
 },
 "nbformat": 4,
 "nbformat_minor": 0
}
