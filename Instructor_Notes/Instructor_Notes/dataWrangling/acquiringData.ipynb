{
 "cells": [
  {
   "cell_type": "code",
   "execution_count": 8,
   "metadata": {
    "collapsed": false
   },
   "outputs": [],
   "source": [
    "from __future__ import print_function\n",
    "__author__ = 'fbb CUSP PUI2016'"
   ]
  },
  {
   "cell_type": "markdown",
   "metadata": {},
   "source": [
    "# Notebook on how to download data within your notebooks\n"
   ]
  },
  {
   "cell_type": "markdown",
   "metadata": {},
   "source": [
    "### CSV file"
   ]
  },
  {
   "cell_type": "code",
   "execution_count": 14,
   "metadata": {
    "collapsed": false
   },
   "outputs": [
    {
     "data": {
      "text/plain": [
       "[['#Students Name',\n",
       "  'Hair Color',\n",
       "  'Gender',\n",
       "  'Major',\n",
       "  'Height',\n",
       "  'Computer Experience'],\n",
       " ['Norma', 'Brown', 'Female', 'Psychology', '5\\'4\"', 'Lots'],\n",
       " ['Amber', 'Blonde', 'Female', 'Social Science', '5\\'7\"', 'Very Little'],\n",
       " ['Paul', 'Blonde', 'Male', 'History', '6\\'1\"', 'Moderate'],\n",
       " ['Christopher', 'Black', 'Male', 'Biology', '5\\'10\"', 'Lots'],\n",
       " ['Sonya', 'Brown', 'Female', 'Psychology', '5\\'4\"', 'Little']]"
      ]
     },
     "execution_count": 14,
     "metadata": {},
     "output_type": "execute_result"
    }
   ],
   "source": [
    "import csv\n",
    "import requests\n",
    "\n",
    "CSV_URL = 'http://cosmo.nyu.edu/~fb55/PUI2016/data/IntrotoStats_Table6_1.csv'\n",
    "\n",
    "\n",
    "with requests.Session() as s:\n",
    "    download = s.get(CSV_URL)\n",
    "\n",
    "    decoded_content = download.content.decode('utf-8')\n",
    "\n",
    "    cr = csv.reader(decoded_content.splitlines(), delimiter=',')\n",
    "    csvData = list(cr)\n",
    "csvData\n"
   ]
  },
  {
   "cell_type": "markdown",
   "metadata": {},
   "source": [
    "### JSON file"
   ]
  },
  {
   "cell_type": "code",
   "execution_count": 15,
   "metadata": {
    "collapsed": false
   },
   "outputs": [
    {
     "data": {
      "text/plain": [
       "{'city': {'coord': {'lat': 40.714272, 'lon': -74.005966},\n",
       "  'country': 'US',\n",
       "  'id': 5128581,\n",
       "  'name': 'New York',\n",
       "  'population': 0},\n",
       " 'cnt': 7,\n",
       " 'cod': '200',\n",
       " 'list': [{'clouds': 0,\n",
       "   'deg': 173,\n",
       "   'dt': 1473696000,\n",
       "   'humidity': 80,\n",
       "   'pressure': 1018.36,\n",
       "   'speed': 1.16,\n",
       "   'temp': {'day': 16.23,\n",
       "    'eve': 16.23,\n",
       "    'max': 16.23,\n",
       "    'min': 16.23,\n",
       "    'morn': 16.23,\n",
       "    'night': 16.23},\n",
       "   'weather': [{'description': 'clear sky',\n",
       "     'icon': '01n',\n",
       "     'id': 800,\n",
       "     'main': 'Clear'}]},\n",
       "  {'clouds': 0,\n",
       "   'deg': 223,\n",
       "   'dt': 1473782400,\n",
       "   'humidity': 59,\n",
       "   'pressure': 1018.67,\n",
       "   'speed': 1.43,\n",
       "   'temp': {'day': 24.4,\n",
       "    'eve': 27.97,\n",
       "    'max': 27.97,\n",
       "    'min': 13.39,\n",
       "    'morn': 13.39,\n",
       "    'night': 20.78},\n",
       "   'weather': [{'description': 'clear sky',\n",
       "     'icon': '01d',\n",
       "     'id': 800,\n",
       "     'main': 'Clear'}]},\n",
       "  {'clouds': 0,\n",
       "   'deg': 235,\n",
       "   'dt': 1473868800,\n",
       "   'humidity': 59,\n",
       "   'pressure': 1012.74,\n",
       "   'rain': 2.1,\n",
       "   'speed': 1.86,\n",
       "   'temp': {'day': 27.06,\n",
       "    'eve': 29.59,\n",
       "    'max': 30.38,\n",
       "    'min': 18.72,\n",
       "    'morn': 19.93,\n",
       "    'night': 18.72},\n",
       "   'weather': [{'description': 'light rain',\n",
       "     'icon': '10d',\n",
       "     'id': 500,\n",
       "     'main': 'Rain'}]},\n",
       "  {'clouds': 0,\n",
       "   'deg': 4,\n",
       "   'dt': 1473955200,\n",
       "   'humidity': 54,\n",
       "   'pressure': 1019.09,\n",
       "   'speed': 2.74,\n",
       "   'temp': {'day': 16.58,\n",
       "    'eve': 19.93,\n",
       "    'max': 19.93,\n",
       "    'min': 12.54,\n",
       "    'morn': 13.61,\n",
       "    'night': 12.54},\n",
       "   'weather': [{'description': 'clear sky',\n",
       "     'icon': '01d',\n",
       "     'id': 800,\n",
       "     'main': 'Clear'}]},\n",
       "  {'clouds': 0,\n",
       "   'deg': 28,\n",
       "   'dt': 1474041600,\n",
       "   'humidity': 0,\n",
       "   'pressure': 1021.91,\n",
       "   'speed': 1.33,\n",
       "   'temp': {'day': 22.08,\n",
       "    'eve': 17.4,\n",
       "    'max': 22.08,\n",
       "    'min': 13.54,\n",
       "    'morn': 13.56,\n",
       "    'night': 13.54},\n",
       "   'weather': [{'description': 'clear sky',\n",
       "     'icon': '01d',\n",
       "     'id': 800,\n",
       "     'main': 'Clear'}]},\n",
       "  {'clouds': 90,\n",
       "   'deg': 169,\n",
       "   'dt': 1474128000,\n",
       "   'humidity': 0,\n",
       "   'pressure': 1018.87,\n",
       "   'rain': 1.44,\n",
       "   'speed': 3.85,\n",
       "   'temp': {'day': 22.83,\n",
       "    'eve': 21.99,\n",
       "    'max': 22.83,\n",
       "    'min': 15.57,\n",
       "    'morn': 15.57,\n",
       "    'night': 21.26},\n",
       "   'weather': [{'description': 'light rain',\n",
       "     'icon': '10d',\n",
       "     'id': 500,\n",
       "     'main': 'Rain'}]},\n",
       "  {'clouds': 27,\n",
       "   'deg': 277,\n",
       "   'dt': 1474214400,\n",
       "   'humidity': 0,\n",
       "   'pressure': 1012.14,\n",
       "   'rain': 4.02,\n",
       "   'speed': 1.86,\n",
       "   'temp': {'day': 24.99,\n",
       "    'eve': 21.1,\n",
       "    'max': 24.99,\n",
       "    'min': 16.6,\n",
       "    'morn': 21.25,\n",
       "    'night': 16.6},\n",
       "   'weather': [{'description': 'moderate rain',\n",
       "     'icon': '10d',\n",
       "     'id': 501,\n",
       "     'main': 'Rain'}]}],\n",
       " 'message': 0.0274}"
      ]
     },
     "execution_count": 15,
     "metadata": {},
     "output_type": "execute_result"
    }
   ],
   "source": [
    "import sys\n",
    "import json\n",
    "try:\n",
    "    import urllib2 as urllib\n",
    "except ImportError:\n",
    "    import urllib.request as urllib\n",
    "\n",
    "\n",
    "def get_jsonparsed_data(url):\n",
    "    \"\"\"\n",
    "    from http://stackoverflow.com/questions/12965203/how-to-get-json-from-webpage-into-python-script\n",
    "    Receive the content of ``url``, parse it as JSON and return the object.\n",
    "\n",
    "    Parameters\n",
    "    ----------\n",
    "    url : str\n",
    "\n",
    "    Returns\n",
    "    -------\n",
    "    dict\n",
    "    \"\"\"\n",
    "    response = urllib.urlopen(url)\n",
    "    data = response.read().decode(\"utf-8\")\n",
    "    return json.loads(data)\n",
    "jsonData = get_jsonparsed_data(\"http://cosmo.nyu.edu/~fb55/PUI2016/data/citiWather.json\")\n",
    "jsonData"
   ]
  },
  {
   "cell_type": "code",
   "execution_count": null,
   "metadata": {
    "collapsed": true
   },
   "outputs": [],
   "source": []
  }
 ],
 "metadata": {
  "kernelspec": {
   "display_name": "Python 3",
   "language": "python",
   "name": "python3"
  },
  "language_info": {
   "codemirror_mode": {
    "name": "ipython",
    "version": 3
   },
   "file_extension": ".py",
   "mimetype": "text/x-python",
   "name": "python",
   "nbconvert_exporter": "python",
   "pygments_lexer": "ipython3",
   "version": "3.5.1"
  }
 },
 "nbformat": 4,
 "nbformat_minor": 0
}
