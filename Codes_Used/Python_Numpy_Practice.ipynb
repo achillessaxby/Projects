{
 "cells": [
  {
   "cell_type": "code",
   "execution_count": 1,
   "metadata": {
    "collapsed": false
   },
   "outputs": [
    {
     "name": "stdout",
     "output_type": "stream",
     "text": [
      "Type:  <type 'numpy.ndarray'>\n",
      "Shape:  (4,)\n",
      "Dimension:  1\n",
      "Itemsize:  8\n",
      "Size:  4\n"
     ]
    }
   ],
   "source": [
    "import numpy as np\n",
    "a = np.array([1, 2, 3, 4], float) #single-dimensional array\n",
    "print 'Type: ',type(a)\n",
    "print 'Shape: ',a.shape\n",
    "print 'Dimension: ',a.ndim\n",
    "print 'Itemsize: ',a.itemsize\n",
    "print 'Size: ',a.size"
   ]
  },
  {
   "cell_type": "code",
   "execution_count": 2,
   "metadata": {
    "collapsed": false
   },
   "outputs": [
    {
     "name": "stdout",
     "output_type": "stream",
     "text": [
      "Datatype:  |S32\n"
     ]
    }
   ],
   "source": [
    "# Elements have to be the same datatype\n",
    "b = np.array([1, 2.0, \"uscl\"])\n",
    "print 'Datatype: ',b.dtype"
   ]
  },
  {
   "cell_type": "code",
   "execution_count": 3,
   "metadata": {
    "collapsed": false
   },
   "outputs": [
    {
     "ename": "ValueError",
     "evalue": "could not convert string to float: uscl",
     "output_type": "error",
     "traceback": [
      "\u001b[1;31m---------------------------------------------------------------------------\u001b[0m",
      "\u001b[1;31mValueError\u001b[0m                                Traceback (most recent call last)",
      "\u001b[1;32m<ipython-input-3-bc1859a989c5>\u001b[0m in \u001b[0;36m<module>\u001b[1;34m()\u001b[0m\n\u001b[1;32m----> 1\u001b[1;33m \u001b[0mb\u001b[0m \u001b[1;33m=\u001b[0m \u001b[0mnp\u001b[0m\u001b[1;33m.\u001b[0m\u001b[0marray\u001b[0m\u001b[1;33m(\u001b[0m\u001b[1;33m[\u001b[0m\u001b[1;36m1\u001b[0m\u001b[1;33m,\u001b[0m \u001b[1;36m2.0\u001b[0m\u001b[1;33m,\u001b[0m \u001b[1;34m\"uscl\"\u001b[0m\u001b[1;33m]\u001b[0m\u001b[1;33m,\u001b[0m\u001b[0mfloat\u001b[0m\u001b[1;33m)\u001b[0m\u001b[1;33m\u001b[0m\u001b[0m\n\u001b[0m\u001b[0;32m      2\u001b[0m \u001b[1;32mprint\u001b[0m \u001b[1;34m'Datatype: '\u001b[0m\u001b[1;33m,\u001b[0m\u001b[0mb\u001b[0m\u001b[1;33m.\u001b[0m\u001b[0mdtype\u001b[0m\u001b[1;33m\u001b[0m\u001b[0m\n",
      "\u001b[1;31mValueError\u001b[0m: could not convert string to float: uscl"
     ]
    }
   ],
   "source": [
    "b = np.array([1, 2.0, \"uscl\"],float)\n",
    "print 'Datatype: ',b.dtype"
   ]
  },
  {
   "cell_type": "code",
   "execution_count": 1,
   "metadata": {
    "collapsed": false
   },
   "outputs": [
    {
     "ename": "NameError",
     "evalue": "name 'np' is not defined",
     "output_type": "error",
     "traceback": [
      "\u001b[1;31m---------------------------------------------------------------------------\u001b[0m",
      "\u001b[1;31mNameError\u001b[0m                                 Traceback (most recent call last)",
      "\u001b[1;32m<ipython-input-1-8f3d61743543>\u001b[0m in \u001b[0;36m<module>\u001b[1;34m()\u001b[0m\n\u001b[1;32m----> 1\u001b[1;33m \u001b[0ma\u001b[0m \u001b[1;33m=\u001b[0m \u001b[0mnp\u001b[0m\u001b[1;33m.\u001b[0m\u001b[0marange\u001b[0m\u001b[1;33m(\u001b[0m\u001b[1;36m5\u001b[0m\u001b[1;33m,\u001b[0m \u001b[0mdtype\u001b[0m \u001b[1;33m=\u001b[0m \u001b[0mfloat\u001b[0m\u001b[1;33m)\u001b[0m\u001b[1;33m\u001b[0m\u001b[0m\n\u001b[0m\u001b[0;32m      2\u001b[0m \u001b[1;32mprint\u001b[0m \u001b[1;34m'\\n arange() for float dtype: \\n'\u001b[0m\u001b[1;33m,\u001b[0m\u001b[0ma\u001b[0m\u001b[1;33m\u001b[0m\u001b[0m\n",
      "\u001b[1;31mNameError\u001b[0m: name 'np' is not defined"
     ]
    }
   ],
   "source": [
    "a = np.arange(5, dtype = float)\n",
    "print '\\n arange() for float dtype: \\n',a"
   ]
  },
  {
   "cell_type": "code",
   "execution_count": 2,
   "metadata": {
    "collapsed": true
   },
   "outputs": [],
   "source": [
    "import numpy as np"
   ]
  },
  {
   "cell_type": "code",
   "execution_count": 3,
   "metadata": {
    "collapsed": false
   },
   "outputs": [
    {
     "ename": "AttributeError",
     "evalue": "'module' object has no attribute 'range'",
     "output_type": "error",
     "traceback": [
      "\u001b[1;31m---------------------------------------------------------------------------\u001b[0m",
      "\u001b[1;31mAttributeError\u001b[0m                            Traceback (most recent call last)",
      "\u001b[1;32m<ipython-input-3-0208e5e7fe58>\u001b[0m in \u001b[0;36m<module>\u001b[1;34m()\u001b[0m\n\u001b[1;32m----> 1\u001b[1;33m \u001b[0ma\u001b[0m \u001b[1;33m=\u001b[0m \u001b[0mnp\u001b[0m\u001b[1;33m.\u001b[0m\u001b[0mrange\u001b[0m\u001b[1;33m(\u001b[0m\u001b[1;36m5\u001b[0m\u001b[1;33m,\u001b[0m \u001b[0mdtype\u001b[0m \u001b[1;33m=\u001b[0m \u001b[0mfloat\u001b[0m\u001b[1;33m)\u001b[0m\u001b[1;33m\u001b[0m\u001b[0m\n\u001b[0m\u001b[0;32m      2\u001b[0m \u001b[1;32mprint\u001b[0m \u001b[1;34m'\\n arange() for float dtype: \\n'\u001b[0m\u001b[1;33m,\u001b[0m\u001b[0ma\u001b[0m\u001b[1;33m\u001b[0m\u001b[0m\n",
      "\u001b[1;31mAttributeError\u001b[0m: 'module' object has no attribute 'range'"
     ]
    }
   ],
   "source": [
    "a = np.range(5, dtype = float)\n",
    "print '\\n arange() for float dtype: \\n',a"
   ]
  },
  {
   "cell_type": "code",
   "execution_count": 5,
   "metadata": {
    "collapsed": false
   },
   "outputs": [
    {
     "name": "stdout",
     "output_type": "stream",
     "text": [
      "\n",
      " arange() for float dtype: \n",
      "[ 0.  1.  2.  3.  4.]\n"
     ]
    }
   ],
   "source": [
    "a = np.arange(5, dtype = float)\n",
    "print '\\n arange() for float dtype: \\n',a"
   ]
  },
  {
   "cell_type": "code",
   "execution_count": 6,
   "metadata": {
    "collapsed": false
   },
   "outputs": [
    {
     "name": "stdout",
     "output_type": "stream",
     "text": [
      "\n",
      " arange() with int dtype: \n",
      "[1 3 5]\n"
     ]
    }
   ],
   "source": [
    "b = np.arange(1, 6, 2, dtype=int)\n",
    "print '\\n arange() with int dtype: \\n',b"
   ]
  },
  {
   "cell_type": "code",
   "execution_count": 7,
   "metadata": {
    "collapsed": false
   },
   "outputs": [
    {
     "name": "stdout",
     "output_type": "stream",
     "text": [
      "\n",
      " ones(): \n",
      "[[ 1.  1.  1.]\n",
      " [ 1.  1.  1.]]\n"
     ]
    }
   ],
   "source": [
    "c = np.ones((2, 3), dtype=float)\n",
    "print '\\n ones(): \\n',c"
   ]
  },
  {
   "cell_type": "code",
   "execution_count": 8,
   "metadata": {
    "collapsed": false
   },
   "outputs": [
    {
     "name": "stdout",
     "output_type": "stream",
     "text": [
      "\n",
      " zeros(): \n",
      "[[ 0.  0.  0.]\n",
      " [ 0.  0.  0.]]\n"
     ]
    }
   ],
   "source": [
    "d = np.zeros((2,3), dtype=float)\n",
    "print '\\n zeros(): \\n',d"
   ]
  },
  {
   "cell_type": "code",
   "execution_count": 9,
   "metadata": {
    "collapsed": false
   },
   "outputs": [
    {
     "name": "stdout",
     "output_type": "stream",
     "text": [
      "\n",
      " Empty: \n",
      "[[ 0.  0.  0.  0.]\n",
      " [ 0.  0.  0.  0.]]\n"
     ]
    }
   ],
   "source": [
    "e = np.empty((2, 4))\n",
    "print '\\n Empty: \\n',e  # Your output might be different.."
   ]
  },
  {
   "cell_type": "code",
   "execution_count": 10,
   "metadata": {
    "collapsed": false
   },
   "outputs": [
    {
     "name": "stdout",
     "output_type": "stream",
     "text": [
      "\n",
      " Ones_like(): \n",
      "[ 1.  1.  1.  1.  1.]\n"
     ]
    }
   ],
   "source": [
    "f = np.ones_like(a)\n",
    "print '\\n Ones_like(): \\n',f"
   ]
  },
  {
   "cell_type": "code",
   "execution_count": 11,
   "metadata": {
    "collapsed": false
   },
   "outputs": [
    {
     "name": "stdout",
     "output_type": "stream",
     "text": [
      "\n",
      " Diagonal array: \n",
      "[[ 0.  0.  0.  0.  0.]\n",
      " [ 0.  1.  0.  0.  0.]\n",
      " [ 0.  0.  2.  0.  0.]\n",
      " [ 0.  0.  0.  3.  0.]\n",
      " [ 0.  0.  0.  0.  4.]]\n"
     ]
    }
   ],
   "source": [
    "g = np.diag(a)\n",
    "print '\\n Diagonal array: \\n',g"
   ]
  },
  {
   "cell_type": "code",
   "execution_count": 4,
   "metadata": {
    "collapsed": false
   },
   "outputs": [
    {
     "name": "stdout",
     "output_type": "stream",
     "text": [
      "\n",
      "Single Dimensional: \n",
      "[0 1 2 3]\n",
      "\n",
      "Two Dimensional: \n",
      "[[0 1 2]\n",
      " [3 4 5]]\n",
      "\n",
      "Three Dimensional: \n",
      "[[[ 0  1]\n",
      "  [ 2  3]\n",
      "  [ 4  5]]\n",
      "\n",
      " [[ 6  7]\n",
      "  [ 8  9]\n",
      "  [10 11]]]\n"
     ]
    }
   ],
   "source": [
    "import numpy as np\n",
    "print '\\nSingle Dimensional: \\n',np.arange(4)\n",
    "print '\\nTwo Dimensional: \\n',np.arange(6).reshape(2,3) \n",
    "print '\\nThree Dimensional: \\n',np.arange(12).reshape(2,3,2)"
   ]
  },
  {
   "cell_type": "code",
   "execution_count": 7,
   "metadata": {
    "collapsed": false
   },
   "outputs": [
    {
     "name": "stdout",
     "output_type": "stream",
     "text": [
      "\n",
      "Two Dimensional: \n",
      "[[0 1 2]\n",
      " [3 4 5]]\n"
     ]
    }
   ],
   "source": [
    "print '\\nTwo Dimensional: \\n',np.arange(6).reshape(2,3)\n"
   ]
  },
  {
   "cell_type": "code",
   "execution_count": 8,
   "metadata": {
    "collapsed": false
   },
   "outputs": [
    {
     "name": "stdout",
     "output_type": "stream",
     "text": [
      "\n",
      "Three Dimensional: \n",
      "[[[ 0  1]\n",
      "  [ 2  3]\n",
      "  [ 4  5]\n",
      "  [ 6  7]]\n",
      "\n",
      " [[ 8  9]\n",
      "  [10 11]\n",
      "  [12 13]\n",
      "  [14 15]]]\n"
     ]
    }
   ],
   "source": [
    "print '\\nThree Dimensional: \\n',np.arange(16).reshape(2,4,2)"
   ]
  },
  {
   "cell_type": "code",
   "execution_count": 9,
   "metadata": {
    "collapsed": false
   },
   "outputs": [
    {
     "name": "stdout",
     "output_type": "stream",
     "text": [
      "\n",
      "b-a: \n",
      "[  3.   6.   9.  12.]\n",
      "\n",
      "b-a: \n"
     ]
    },
    {
     "ename": "ValueError",
     "evalue": "operands could not be broadcast together with shapes (3,) (4,) ",
     "output_type": "error",
     "traceback": [
      "\u001b[1;31m---------------------------------------------------------------------------\u001b[0m",
      "\u001b[1;31mValueError\u001b[0m                                Traceback (most recent call last)",
      "\u001b[1;32m<ipython-input-9-02f45bbe05e0>\u001b[0m in \u001b[0;36m<module>\u001b[1;34m()\u001b[0m\n\u001b[0;32m      5\u001b[0m \u001b[1;33m\u001b[0m\u001b[0m\n\u001b[0;32m      6\u001b[0m \u001b[0mb\u001b[0m \u001b[1;33m=\u001b[0m \u001b[0mnp\u001b[0m\u001b[1;33m.\u001b[0m\u001b[0mlinspace\u001b[0m\u001b[1;33m(\u001b[0m\u001b[1;36m4\u001b[0m\u001b[1;33m,\u001b[0m \u001b[1;36m16\u001b[0m\u001b[1;33m,\u001b[0m \u001b[0mnum\u001b[0m\u001b[1;33m=\u001b[0m\u001b[1;36m3\u001b[0m\u001b[1;33m)\u001b[0m\u001b[1;33m\u001b[0m\u001b[0m\n\u001b[1;32m----> 7\u001b[1;33m \u001b[1;32mprint\u001b[0m \u001b[1;34m'\\nb-a: \\n'\u001b[0m\u001b[1;33m,\u001b[0m \u001b[0mb\u001b[0m\u001b[1;33m-\u001b[0m\u001b[0ma\u001b[0m\u001b[1;33m\u001b[0m\u001b[0m\n\u001b[0m",
      "\u001b[1;31mValueError\u001b[0m: operands could not be broadcast together with shapes (3,) (4,) "
     ]
    }
   ],
   "source": [
    "#Single Dimensional Operations\n",
    "a = np.array([1, 2, 3, 4])\n",
    "b = np.linspace(4, 16, num=4)\n",
    "\n",
    "print '\\nb-a: \\n', b-a\n",
    "\n",
    "b = np.linspace(4, 16, num=3)\n",
    "print '\\nb-a: \\n', b-a"
   ]
  },
  {
   "cell_type": "code",
   "execution_count": 12,
   "metadata": {
    "collapsed": false
   },
   "outputs": [
    {
     "name": "stdout",
     "output_type": "stream",
     "text": [
      "\n",
      "a: \n",
      "[[0 1]\n",
      " [2 3]]\n",
      "\n",
      "b: \n",
      "[[2 2]\n",
      " [2 2]]\n",
      "\n",
      "a * b: \n",
      "[[0 2]\n",
      " [4 6]]\n",
      "\n",
      "Dot Product: \n",
      "[[ 2  2]\n",
      " [10 10]]\n"
     ]
    }
   ],
   "source": [
    "#Multi-Dimensional Operations\n",
    "\n",
    "a = np.arange(4).reshape(2,2)\n",
    "print '\\na: \\n',a\n",
    "\n",
    "b = np.ones_like(a) * 2\n",
    "print '\\nb: \\n',b\n",
    "print '\\na * b: \\n',a * b #element-wise multiplication\n",
    "print '\\nDot Product: \\n',np.dot(a, b)\n"
   ]
  },
  {
   "cell_type": "code",
   "execution_count": 3,
   "metadata": {
    "collapsed": false
   },
   "outputs": [
    {
     "name": "stdout",
     "output_type": "stream",
     "text": [
      "\n",
      "Dtype of a: \n",
      "int16\n",
      "\n",
      "Dtype of b: \n",
      "float64\n",
      "\n",
      "C: \n",
      "[  4.    5.5   7.    8.5  10. ]\n",
      "\n",
      "Dtype of c: \n",
      "float64\n"
     ]
    }
   ],
   "source": [
    "import numpy as np\n",
    "\n",
    "a = np.ones(5, dtype = 'int16')\n",
    "b = np.linspace(3,9, num=5)\n",
    "print '\\nDtype of a: \\n',a.dtype\n",
    "print '\\nDtype of b: \\n',b.dtype\n",
    "c = a + b\n",
    "print '\\nC: \\n',c\n",
    "print '\\nDtype of c: \\n',c.dtype"
   ]
  },
  {
   "cell_type": "code",
   "execution_count": 6,
   "metadata": {
    "collapsed": false
   },
   "outputs": [
    {
     "name": "stdout",
     "output_type": "stream",
     "text": [
      "\n",
      "a: \n",
      "[[ 0.90558921  0.06341661  0.99574472  0.86561858]\n",
      " [ 0.90581262  0.00228848  0.15881866  0.79857426]\n",
      " [ 0.74894805  0.01343212  0.3721589   0.64573659]\n",
      " [ 0.79838848  0.74988687  0.65212499  0.27496789]]\n",
      "\n",
      "Sum: \n",
      "8.95150703159\n",
      "\n",
      "Minimum: \n",
      "0.00228847998205\n",
      "\n",
      "Maximum: \n",
      "0.995744722121\n",
      "\n",
      "Minimum at axis=0: \n",
      "[ 0.74894805  0.00228848  0.15881866  0.27496789]\n",
      "\n",
      "Cumulative sum along each row: \n",
      "[[ 0.90558921  0.96900582  1.96475054  2.83036912]\n",
      " [ 0.90581262  0.9081011   1.06691976  1.86549402]\n",
      " [ 0.74894805  0.76238016  1.13453907  1.78027566]\n",
      " [ 0.79838848  1.54827535  2.20040034  2.47536823]]\n"
     ]
    }
   ],
   "source": [
    "a = np.random.random((4, 4))\n",
    "print '\\na: \\n',a\n",
    "print '\\nSum: \\n',np.sum(a)\n",
    "print '\\nMinimum: \\n',np.min(a)\n",
    "print '\\nMaximum: \\n',np.max(a)\n",
    "print '\\nMinimum at axis=0: \\n',a.min(axis=0)\n",
    "print '\\nCumulative sum along each row: \\n',a.cumsum(axis=1)"
   ]
  },
  {
   "cell_type": "code",
   "execution_count": 7,
   "metadata": {
    "collapsed": false
   },
   "outputs": [
    {
     "name": "stdout",
     "output_type": "stream",
     "text": [
      "\n",
      "Sin Values: \n",
      "[ 0.          0.3271947   0.6183698   0.84147098]\n",
      "\n",
      "Square root of Values: \n",
      "[ 0.          0.57735027  0.81649658  1.        ]\n"
     ]
    }
   ],
   "source": [
    "a = np.linspace(0, 1, num=4)\n",
    "print '\\nSin Values: \\n',np.sin(a)\n",
    "print '\\nSquare root of Values: \\n',np.sqrt(a)"
   ]
  },
  {
   "cell_type": "code",
   "execution_count": 12,
   "metadata": {
    "collapsed": false
   },
   "outputs": [
    {
     "name": "stdout",
     "output_type": "stream",
     "text": [
      "\n",
      "Elements at index 0, 1, 2: \n",
      "[  5.    13.75  22.5 ]\n",
      "\n",
      "Elements at index 0, 2, 4: \n",
      "[  5.   22.5  40. ]\n",
      "\n",
      "Elements: \n",
      "[  5.    13.75  22.5   31.25  40.  ]\n"
     ]
    }
   ],
   "source": [
    "a = np.linspace(5, 40, num=5)\n",
    "print '\\nElements at index 0, 1, 2: \\n',a[:3]\n",
    "print '\\nElements at index 0, 2, 4: \\n',a[-5:5:2]\n",
    "print '\\nElements: \\n',a[-5:5]"
   ]
  },
  {
   "cell_type": "code",
   "execution_count": 17,
   "metadata": {
    "collapsed": false
   },
   "outputs": [
    {
     "name": "stdout",
     "output_type": "stream",
     "text": [
      "\n",
      "First row and second column: \n",
      "35.0\n",
      "\n",
      "All elements from second column: \n",
      "[ 15.  35.]\n",
      "\n",
      "Elements: \n",
      "[[  5.  10.  15.  20.]\n",
      " [ 25.  30.  35.  40.]]\n"
     ]
    }
   ],
   "source": [
    "a = np.linspace(5, 40, num=8).reshape(2,4)\n",
    "print '\\nFirst row and second column: \\n',a[1,2]\n",
    "print '\\nAll elements from second column: \\n',a[:,2]\n",
    "print '\\nElements: \\n',a[:]"
   ]
  },
  {
   "cell_type": "code",
   "execution_count": 20,
   "metadata": {
    "collapsed": false
   },
   "outputs": [
    {
     "name": "stdout",
     "output_type": "stream",
     "text": [
      "\n",
      "a:  [0 1 2 3 4]\n",
      "\n",
      "b: \n",
      "[3 4]\n",
      "\n",
      "Before changing b[0], b[0]: \n",
      "3\n",
      "\n",
      "After changing b[0], a: \n",
      "[ 0  1  2 99  4]\n"
     ]
    }
   ],
   "source": [
    "a = np.arange(5)\n",
    "print '\\na: ',a\n",
    "b = a[3:5]\n",
    "print '\\nb: \\n',b\n",
    "print '\\nBefore changing b[0], b[0]: \\n',b[0]\n",
    "b[0] = 99\n",
    "print '\\nAfter changing b[0], a: \\n',a"
   ]
  },
  {
   "cell_type": "code",
   "execution_count": 21,
   "metadata": {
    "collapsed": true
   },
   "outputs": [],
   "source": [
    "import numpy as np"
   ]
  },
  {
   "cell_type": "code",
   "execution_count": 22,
   "metadata": {
    "collapsed": false
   },
   "outputs": [
    {
     "name": "stdout",
     "output_type": "stream",
     "text": [
      "[ 0  1  4  9 16 25 36 49 64 81]\n",
      "[1 3 5 7 9]\n",
      "[ 1  9 25 49 81]\n"
     ]
    }
   ],
   "source": [
    "a = np.arange(10)**2\n",
    "b = np.arange(1 ,10, 2) #(start, stop, step)\n",
    "print a \n",
    "print b \n",
    "print a[b]"
   ]
  },
  {
   "cell_type": "code",
   "execution_count": 23,
   "metadata": {
    "collapsed": false
   },
   "outputs": [
    {
     "name": "stdout",
     "output_type": "stream",
     "text": [
      "\n",
      "Array a: \n",
      "[  0   1   4   9  16  25  36  49  64  81 100 121]\n",
      "\n",
      "ind: \n",
      "[ 7  6  8  6 10  3  3  3  7  4]\n",
      "\n",
      "Array of elements at pos ind: \n",
      "[ 49  36  64  36 100   9   9   9  49  16]\n",
      "\n",
      "ind1: \n",
      "[[8 2 4 8]\n",
      " [5 2 8 7]\n",
      " [4 2 8 5]]\n",
      "\n",
      "Array of elements at pos ind1: \n",
      "[[64  4 16 64]\n",
      " [25  4 64 49]\n",
      " [16  4 64 25]]\n"
     ]
    }
   ],
   "source": [
    "ind = None\n",
    "ind1 = None\n",
    "a = np.arange(12)**2\n",
    "print '\\nArray a: \\n',a\n",
    "\n",
    "#Taking Array of Indices:\n",
    "\n",
    "ind = np.random.random_integers(2, 10, size=(10,))\n",
    "print '\\nind: \\n',ind\n",
    "print '\\nArray of elements at pos ind: \\n',a[ind]\n",
    "\n",
    "ind1 = np.random.random_integers(2, 8, size=(3,4))\n",
    "print '\\nind1: \\n',ind1\n",
    "print '\\nArray of elements at pos ind1: \\n',a[ind1]\n"
   ]
  },
  {
   "cell_type": "code",
   "execution_count": 26,
   "metadata": {
    "collapsed": false
   },
   "outputs": [
    {
     "name": "stdout",
     "output_type": "stream",
     "text": [
      "\n",
      "Array: \n",
      "[[ 0  1  2  3  4]\n",
      " [ 5  6  7  8  9]\n",
      " [10 11 12 13 14]\n",
      " [15 16 17 18 19]]\n",
      "\n",
      "ind1: \n",
      "[[0 1]\n",
      " [2 3]]\n",
      "\n",
      "ind2: \n",
      "[[4 3]\n",
      " [3 4]]\n",
      "\n",
      "a[ind1, ind2]: \n",
      "[[ 4  8]\n",
      " [13 19]]\n",
      "\n",
      "a[:,ind2]: \n",
      "[[[ 4  3]\n",
      "  [ 3  4]]\n",
      "\n",
      " [[ 9  8]\n",
      "  [ 8  9]]\n",
      "\n",
      " [[14 13]\n",
      "  [13 14]]\n",
      "\n",
      " [[19 18]\n",
      "  [18 19]]]\n"
     ]
    }
   ],
   "source": [
    "a = np.arange(20).reshape(4,5)\n",
    "print '\\nArray: \\n',a\n",
    "\n",
    "ind1 = np.arange(4).reshape(2,2)\n",
    "print '\\nind1: \\n',ind1\n",
    "\n",
    "ind2 = np.random.random_integers(1, 4, size=(2,2))\n",
    "print '\\nind2: \\n',ind2\n",
    "\n",
    "#Always remember that ind1 and ind2 must be of the same shape\n",
    "\n",
    "print '\\na[ind1, ind2]: \\n',a[ind1, ind2]\n",
    "print '\\na[:,ind2]: \\n',a[:,ind2]\n"
   ]
  },
  {
   "cell_type": "code",
   "execution_count": 29,
   "metadata": {
    "collapsed": false
   },
   "outputs": [
    {
     "name": "stdout",
     "output_type": "stream",
     "text": [
      "\n",
      "t: \n",
      "[  10.           33.33333333   56.66666667   80.          103.33333333\n",
      "  126.66666667  150.        ]\n",
      "\n",
      "data: \n",
      "[[ 0.          0.84147098  0.90929743  0.14112001 -0.7568025 ]\n",
      " [-0.95892427 -0.2794155   0.6569866   0.98935825  0.41211849]\n",
      " [-0.54402111 -0.99999021 -0.53657292  0.42016704  0.99060736]\n",
      " [ 0.65028784 -0.28790332 -0.96139749 -0.75098725  0.14987721]\n",
      " [ 0.91294525  0.83665564 -0.00885131 -0.8462204  -0.90557836]]\n",
      "\n",
      "ind: \n",
      "[4 0 0 1 2]\n",
      "\n",
      "Maximum Time: \n",
      "[ 103.33333333   10.           10.           33.33333333   56.66666667]\n",
      "\n",
      "Data at that maximum time: \n",
      "[ 0.91294525  0.84147098  0.90929743  0.98935825  0.99060736]\n"
     ]
    }
   ],
   "source": [
    "t = np.linspace(10, 150, 7) #create fake timescale\n",
    "print '\\nt: \\n',t\n",
    "data = np.sin(np.arange(25)).reshape(5,5) #generate fake data\n",
    "print '\\ndata: \\n',data\n",
    "ind = data.argmax(axis=0)\n",
    "print '\\nind: \\n',ind\n",
    "\n",
    "max_t = t[ind]\n",
    "max_data = data[ind, xrange(data.shape[1])]\n",
    "\n",
    "print '\\nMaximum Time: \\n',max_t\n",
    "print '\\nData at that maximum time: \\n',data.max(axis=0)\n",
    "\n"
   ]
  },
  {
   "cell_type": "code",
   "execution_count": 30,
   "metadata": {
    "collapsed": false
   },
   "outputs": [
    {
     "name": "stdout",
     "output_type": "stream",
     "text": [
      "\n",
      "a: \n",
      "[0 0 2 0 4 0 6 7 8 0]\n"
     ]
    }
   ],
   "source": [
    "a = np.arange(10)\n",
    "a[[1, 3, 5, 9]]=0\n",
    "print '\\na: \\n',a"
   ]
  },
  {
   "cell_type": "code",
   "execution_count": 31,
   "metadata": {
    "collapsed": false
   },
   "outputs": [
    {
     "name": "stdout",
     "output_type": "stream",
     "text": [
      "\n",
      "Elements with values > 10: \n",
      "[11 12 13 14 15]\n"
     ]
    }
   ],
   "source": [
    "a = np.arange(16).reshape(2,2,4)\n",
    "b = a > 10\n",
    "print '\\nElements with values > 10: \\n',a[b]"
   ]
  },
  {
   "cell_type": "code",
   "execution_count": 32,
   "metadata": {
    "collapsed": false
   },
   "outputs": [
    {
     "data": {
      "text/plain": [
       "(2, 5, 3)"
      ]
     },
     "execution_count": 32,
     "metadata": {},
     "output_type": "execute_result"
    }
   ],
   "source": [
    "a = np.arange(30)\n",
    "a.shape = 2,-1,3 #-1 means whatever is needed \n",
    "a.shape"
   ]
  },
  {
   "cell_type": "code",
   "execution_count": 33,
   "metadata": {
    "collapsed": false
   },
   "outputs": [
    {
     "data": {
      "text/plain": [
       "array([[[ 0,  1,  2],\n",
       "        [ 3,  4,  5],\n",
       "        [ 6,  7,  8],\n",
       "        [ 9, 10, 11],\n",
       "        [12, 13, 14]],\n",
       "\n",
       "       [[15, 16, 17],\n",
       "        [18, 19, 20],\n",
       "        [21, 22, 23],\n",
       "        [24, 25, 26],\n",
       "        [27, 28, 29]]])"
      ]
     },
     "execution_count": 33,
     "metadata": {},
     "output_type": "execute_result"
    }
   ],
   "source": [
    "a"
   ]
  },
  {
   "cell_type": "code",
   "execution_count": 34,
   "metadata": {
    "collapsed": false
   },
   "outputs": [
    {
     "name": "stdout",
     "output_type": "stream",
     "text": [
      "\n",
      "x: \n",
      "[0 2 4 6 8]\n",
      "\n",
      "y: \n",
      "[0 1 2 3 4]\n"
     ]
    }
   ],
   "source": [
    "x = np.arange(0,10,2)\n",
    "print '\\nx: \\n',x\n",
    "y = np.arange(5)\n",
    "print '\\ny: \\n',y\n",
    "m = np.vstack([x,y])\n",
    "xy = np.hstack([x,y])"
   ]
  },
  {
   "cell_type": "code",
   "execution_count": 35,
   "metadata": {
    "collapsed": false
   },
   "outputs": [
    {
     "data": {
      "text/plain": [
       "array([[0, 2, 4, 6, 8],\n",
       "       [0, 1, 2, 3, 4]])"
      ]
     },
     "execution_count": 35,
     "metadata": {},
     "output_type": "execute_result"
    }
   ],
   "source": [
    "m"
   ]
  },
  {
   "cell_type": "code",
   "execution_count": 36,
   "metadata": {
    "collapsed": false
   },
   "outputs": [
    {
     "data": {
      "text/plain": [
       "array([0, 2, 4, 6, 8, 0, 1, 2, 3, 4])"
      ]
     },
     "execution_count": 36,
     "metadata": {},
     "output_type": "execute_result"
    }
   ],
   "source": [
    "xy"
   ]
  },
  {
   "cell_type": "code",
   "execution_count": 37,
   "metadata": {
    "collapsed": false
   },
   "outputs": [
    {
     "data": {
      "text/plain": [
       "(array([0, 1, 2]), array([0, 1, 2, 3]))"
      ]
     },
     "execution_count": 37,
     "metadata": {},
     "output_type": "execute_result"
    }
   ],
   "source": [
    "np.histogram([1, 2, 3], bins=[0, 1, 2, 3])"
   ]
  },
  {
   "cell_type": "code",
   "execution_count": 38,
   "metadata": {
    "collapsed": true
   },
   "outputs": [],
   "source": [
    "%matplotlib inline\n",
    "import matplotlib.pyplot as plt"
   ]
  },
  {
   "cell_type": "code",
   "execution_count": 39,
   "metadata": {
    "collapsed": false
   },
   "outputs": [
    {
     "data": {
      "text/plain": [
       "<Container object of 3 artists>"
      ]
     },
     "execution_count": 39,
     "metadata": {},
     "output_type": "execute_result"
    },
    {
     "data": {
      "image/png": "[encoded data removed]",
      "text/plain": [
       "<matplotlib.figure.Figure at 0x7f7119cfde50>"
      ]
     },
     "metadata": {},
     "output_type": "display_data"
    }
   ],
   "source": [
    "#without using plt.hist() - built in histogram function\n",
    "\n",
    "fig = plt.figure()\n",
    "ax = fig.add_subplot(111)\n",
    "hist, bins = np.histogram([1, 2, 3], bins=[0, 1, 2, 3])\n",
    "ax.bar(bins[:-1], hist, width=1)"
   ]
  },
  {
   "cell_type": "code",
   "execution_count": 40,
   "metadata": {
    "collapsed": false
   },
   "outputs": [
    {
     "data": {
      "text/plain": [
       "(array([ 0.,  1.,  2.]), array([0, 1, 2, 3]), <a list of 3 Patch objects>)"
      ]
     },
     "execution_count": 40,
     "metadata": {},
     "output_type": "execute_result"
    },
    {
     "data": {
      "image/png": "[encoded data removed]",
      "text/plain": [
       "<matplotlib.figure.Figure at 0x7f7119d36a90>"
      ]
     },
     "metadata": {},
     "output_type": "display_data"
    }
   ],
   "source": [
    "#same but using plt.hist()\n",
    "plt.hist([1, 2, 3], bins=[0, 1, 2, 3])"
   ]
  },
  {
   "cell_type": "code",
   "execution_count": null,
   "metadata": {
    "collapsed": true
   },
   "outputs": [],
   "source": []
  }
 ],
 "metadata": {
  "kernelspec": {
   "display_name": "Python 2",
   "language": "python",
   "name": "python2"
  },
  "language_info": {
   "codemirror_mode": {
    "name": "ipython",
    "version": 2
   },
   "file_extension": ".py",
   "mimetype": "text/x-python",
   "name": "python",
   "nbconvert_exporter": "python",
   "pygments_lexer": "ipython2",
   "version": "2.7.11"
  }
 },
 "nbformat": 4,
 "nbformat_minor": 0
}
