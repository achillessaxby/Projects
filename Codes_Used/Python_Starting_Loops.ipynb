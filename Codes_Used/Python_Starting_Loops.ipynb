{
 "cells": [
  {
   "cell_type": "code",
   "execution_count": 1,
   "metadata": {
    "collapsed": true
   },
   "outputs": [],
   "source": [
    "## All codes present in these solutions have been first tried, run and compiled on the Python27 software on my presonal computer.\n",
    "## Raw files and different ways of trying and achieving the solutions have been monitored and logged there.\n",
    "## Only after workable codes have been achieved, have they been entered into the notebook.\n",
    "## If this is not acceptable - from the next submission, only Jupyter Notebooks shall be used for any and all coding.\n",
    "## Achilles Edwin Alfred Saxby - aes807."
   ]
  },
  {
   "cell_type": "code",
   "execution_count": 2,
   "metadata": {
    "collapsed": false
   },
   "outputs": [
    {
     "name": "stdout",
     "output_type": "stream",
     "text": [
      "Input the row and column array range here seperated by a comma: 3,5\n",
      "[[0, 0, 0, 0, 0], [0, 1, 2, 3, 4], [0, 2, 4, 6, 8]]\n"
     ]
    }
   ],
   "source": [
    "# Solution for Question-1:\n",
    "\n",
    "i, j = raw_input('Input the row and column array range here seperated by a comma: ').split(',')\n",
    "i = int(i)\n",
    "j = int(j)\n",
    "\n",
    "array = [[0 for column in range(j)]for row in range(i)]\n",
    "\n",
    "for row in range(i):\n",
    "    for column in range(j):\n",
    "        array[row][column] = row*column\n",
    "\n",
    "print array"
   ]
  },
  {
   "cell_type": "code",
   "execution_count": 3,
   "metadata": {
    "collapsed": false
   },
   "outputs": [
    {
     "name": "stdout",
     "output_type": "stream",
     "text": [
      "\n",
      "Author = Achilles Edwin Alfred Saxby.\n",
      "Date = August 01, 2016.\n",
      "This is my first script with user-defined functions and a proper docstring.\n",
      "\n",
      "Description:\n",
      "\n",
      "We define a function which can generate and print a list where\n",
      "the values are squares of numbers between 1 and 20.\n",
      "\n",
      "Usage:\n",
      "\n",
      "First, we generate the list of numbers that are to be squared - here\n",
      "the numbers are from (1) to (20) and in Python, the range of numbers\n",
      "are always enclosed in parentheses - ().\n",
      "\n",
      "Secondly, the reason that the range extends to 21 is due to the fact\n",
      "that Python stores its lists in locations that begin with the storage\n",
      "address [0] and goes on - so if the numbers are to be (1-20), we store\n",
      "[21] numbers in that space.\n",
      "    \n",
      "Lastly, we can make use of two ways of generating and printing this list.\n",
      "\n",
      "Way1 - Define the function and later on map the function to the list and print.\n",
      "       All steps are done independently.\n",
      "Way2 - Define an anonymous function lambda with the desired requirement\n",
      "       and range and map it directly within one line of code.\n",
      "\n",
      "Both ways are shown below.    \n",
      "\n",
      "Keyword arguments:\n",
      "\n",
      "def -- keyword used to define the necessary function (to initialize it)\n",
      "map -- applies the function to every element in the iterable(list)\n",
      "lambda -- the anonymous function that can take any number of arguments\n",
      "range -- the range of the numbers we are to generate and print\n",
      "\n",
      "Way1: \n",
      "[1, 4, 9, 16, 25, 36, 49, 64, 81, 100, 121, 144, 169, 196, 225, 256, 289, 324, 361, 400]\n",
      "Way2: \n",
      "[1, 4, 9, 16, 25, 36, 49, 64, 81, 100, 121, 144, 169, 196, 225, 256, 289, 324, 361, 400]\n"
     ]
    }
   ],
   "source": [
    "# Solution for Question-2:\n",
    "\n",
    "\"\"\"\n",
    "Author = Achilles Edwin Alfred Saxby.\n",
    "Date = August 01, 2016.\n",
    "This is my first script with user-defined functions and a proper docstring.\n",
    "\n",
    "Description:\n",
    "\n",
    "We define a function which can generate and print a list where\n",
    "the values are squares of numbers between 1 and 20.\n",
    "\n",
    "Usage:\n",
    "\n",
    "First, we generate the list of numbers that are to be squared - here\n",
    "the numbers are from (1) to (20) and in Python, the range of numbers\n",
    "are always enclosed in parentheses - ().\n",
    "\n",
    "Secondly, the reason that the range extends to 21 is due to the fact\n",
    "that Python stores its lists in locations that begin with the storage\n",
    "address [0] and goes on - so if the numbers are to be (1-20), we store\n",
    "[21] numbers in that space.\n",
    "    \n",
    "Lastly, we can make use of two ways of generating and printing this list.\n",
    "\n",
    "Way1 - Define the function and later on map the function to the list and print.\n",
    "       All steps are done independently.\n",
    "Way2 - Define an anonymous function lambda with the desired requirement\n",
    "       and range and map it directly within one line of code.\n",
    "\n",
    "Both ways are shown below.    \n",
    "\n",
    "Keyword arguments:\n",
    "\n",
    "def -- keyword used to define the necessary function (to initialize it)\n",
    "map -- applies the function to every element in the iterable(list)\n",
    "lambda -- the anonymous function that can take any number of arguments\n",
    "range -- the range of the numbers we are to generate and print\n",
    "\"\"\"\n",
    "\n",
    "def info():\n",
    "    return __doc__\n",
    "\n",
    "print info()\n",
    "\n",
    "numbers = range(1,21)\n",
    "def square(num):\n",
    "    \n",
    "    return num**2\n",
    "\n",
    "print ('Way1: ')\n",
    "print map(square,numbers) #Way1\n",
    "\n",
    "print ('Way2: ')\n",
    "print map(lambda x: x**2, range(1,21)) #Way2"
   ]
  },
  {
   "cell_type": "code",
   "execution_count": 4,
   "metadata": {
    "collapsed": false
   },
   "outputs": [
    {
     "name": "stdout",
     "output_type": "stream",
     "text": [
      "Enter the D values here: \n",
      "100,150,180\n",
      "18, 22, 24\n"
     ]
    }
   ],
   "source": [
    "# Solution for Question-3:\n",
    "\n",
    "numbers = raw_input('Enter the D values here: \\n').split(',')\n",
    "new_set = [float(i) for i in numbers]\n",
    "\n",
    "C = 50\n",
    "H = 30\n",
    "\n",
    "def solutions(num):\n",
    "    return int(((2*C*num)/H)**0.5)\n",
    "\n",
    "final_output = map(solutions,new_set)\n",
    "\n",
    "print str(final_output)[1:-1]"
   ]
  },
  {
   "cell_type": "code",
   "execution_count": 5,
   "metadata": {
    "collapsed": false
   },
   "outputs": [
    {
     "name": "stdout",
     "output_type": "stream",
     "text": [
      "Enter a string: Far far away, behind the mountains, away from the countries\n",
      "away: 1\n",
      "away,: 1\n",
      "behind: 1\n",
      "countries: 1\n",
      "Far: 1\n",
      "far: 1\n",
      "from: 1\n",
      "mountains,: 1\n",
      "the: 2\n"
     ]
    }
   ],
   "source": [
    "# Solution for Question-4:\n",
    "\n",
    "test_string = raw_input(\"Enter a string: \")\n",
    "\n",
    "words = test_string.split()\n",
    "\n",
    "Words = sorted(set(words))\n",
    "Words.sort(key = lambda k : k.lower())\n",
    "\n",
    "for word in Words:\n",
    "    print '{}: {}'.format(word,words.count(word))\n",
    "    # print word,':', words.count(word) - can also be used"
   ]
  },
  {
   "cell_type": "code",
   "execution_count": 1,
   "metadata": {
    "collapsed": false
   },
   "outputs": [
    {
     "name": "stdout",
     "output_type": "stream",
     "text": [
      "Enter your string here: Far far away, behind the mountains, away from the countries\n",
      "away: 2\n",
      "behind: 1\n",
      "countries: 1\n",
      "far: 2\n",
      "from: 1\n",
      "mountains: 1\n",
      "the: 2\n"
     ]
    }
   ],
   "source": [
    "# Solution for Question-4 **BONUS TRACK**:\n",
    "\n",
    "import re\n",
    "\n",
    "test_string = raw_input(\"Enter your string here: \").lower()\n",
    "check_string = re.split(r'\\W+',test_string,0,re.IGNORECASE)\n",
    "\n",
    "my_string = {}\n",
    "\n",
    "for words in xrange(0,len(check_string)):\n",
    "    main_test = str(check_string[words])\n",
    "    o = check_string.count(main_test)\n",
    "    my_string[str(main_test)] = str(o)\n",
    "\n",
    "result = my_string.keys()\n",
    "result.sort()\n",
    "\n",
    "for item in result:\n",
    "    print '{}: {}'.format(item, my_string[item])"
   ]
  },
  {
   "cell_type": "code",
   "execution_count": null,
   "metadata": {
    "collapsed": true
   },
   "outputs": [],
   "source": []
  }
 ],
 "metadata": {
  "kernelspec": {
   "display_name": "Python 2",
   "language": "python",
   "name": "python2"
  },
  "language_info": {
   "codemirror_mode": {
    "name": "ipython",
    "version": 2
   },
   "file_extension": ".py",
   "mimetype": "text/x-python",
   "name": "python",
   "nbconvert_exporter": "python",
   "pygments_lexer": "ipython2",
   "version": "2.7.11"
  }
 },
 "nbformat": 4,
 "nbformat_minor": 0
}
