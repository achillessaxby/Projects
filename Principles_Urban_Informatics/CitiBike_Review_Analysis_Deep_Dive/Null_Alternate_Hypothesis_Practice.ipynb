{
 "cells": [
  {
   "cell_type": "markdown",
   "metadata": {},
   "source": [
    "# Achilles Edwin Alfred Saxby\n",
    "# aes807\n",
    "\n",
    "# Assignment 3: Practice formulating the null hypothesis"
   ]
  },
  {
   "cell_type": "markdown",
   "metadata": {},
   "source": [
    "#### Formulate the Null hypothesis in words and in formulae for the 4 experiments below:"
   ]
  },
  {
   "cell_type": "markdown",
   "metadata": {},
   "source": [
    "# ----------------------------------------------"
   ]
  },
  {
   "cell_type": "markdown",
   "metadata": {},
   "source": [
    "## Do diets help lose more fat than the exercise?\n",
    "    - Experimental setup: you have a test and a control sample."
   ]
  },
  {
   "cell_type": "markdown",
   "metadata": {},
   "source": [
    "####  Null Hypothesis: Exercising makes you lose more weight than dieting does !!\n",
    "\n",
    "##### The mean weight lost by the population in the test sample that was exercising is greater than or equal to the mean weight lost by the control sample that did not exercise and only went into dieting.\n",
    "\n",
    "#### $H_0$ => $Mean_W(exercise) >= Mean_W(diet)$\n",
    "\n",
    "#### Alternate Hypothesis: Dieting makes you lose more weight than Exercising does !!\n",
    "\n",
    "##### The mean weight lost by the population in the test sample that was exercising is less than the mean weight lost by the control sample that went into dieting.\n",
    "\n",
    "#### $H_a$ => $Mean_W(exercise) < Mean_W(diet)$\n",
    "\n",
    "##### Significance Level - 0.05 or 5%"
   ]
  },
  {
   "cell_type": "markdown",
   "metadata": {},
   "source": [
    "# ----------------------------------------------"
   ]
  },
  {
   "cell_type": "markdown",
   "metadata": {},
   "source": [
    "## Do American trust the president?\n",
    "    - POLL RESULTS: On May 16, 1994, Newsweek reported the results of a public opinion poll that asked: “From\n",
    "      everything you know about Bill Clinton, does he have the honesty and integrity you expect in a president?” (p.\n",
    "      23). Poll surveyed 518 adults and 233, or 0.45 of them answered yes."
   ]
  },
  {
   "cell_type": "markdown",
   "metadata": {},
   "source": [
    "####  Null Hypothesis: Yes, the American population does trust the president !!\n",
    "\n",
    "##### The proportion of the American population that trusts the president is greater than or equal to the proportion of the American population that does not trust the president.\n",
    "\n",
    "#### $H_0$ => $Percentage(Trust) >= Percentage(Does-Not-Trust)$\n",
    "\n",
    "#### Alternate Hypothesis: No, the American population does not trust the president !!\n",
    "\n",
    "##### The proportion of the American population that trusts the president is less than the proportion of the American population that does not trust the president.\n",
    "\n",
    "#### $H_a$ => $Percentage(Trust) < Percentage(Does-Not-Trust)$\n",
    "\n",
    "##### Significance Level - 0.05 or 5%"
   ]
  },
  {
   "cell_type": "markdown",
   "metadata": {},
   "source": [
    "# ----------------------------------------------"
   ]
  },
  {
   "cell_type": "markdown",
   "metadata": {},
   "source": [
    "## Effectiveness of nicotine patches to quit smoking.\n",
    "    - Experimental setup: measure cessation rates for smokers randomly assigned to use a nicotine patch versus a\n",
    "      placebo patch."
   ]
  },
  {
   "cell_type": "markdown",
   "metadata": {},
   "source": [
    "####  Null Hypothesis: Nicotine patches do not help quit smoking !!\n",
    "\n",
    "##### The cessation rates for smokers using a nicotine patch is less than or equal to the cessation rates for smokers who use placebo patches.\n",
    "\n",
    "#### $H_0$ => $Cessation_n <= Cessation_p$\n",
    "\n",
    "#### Alternate Hypothesis: Nicotine patches help quit smoking !!\n",
    "\n",
    "##### The cessation rates for smokers using a nicotine patch is greater than the cessation rates for smokers who use placebo patches.\n",
    "\n",
    "#### $H_a$ => $Cessation_n > Cessation_p$\n",
    "\n",
    "##### Significance Level - 0.05 or 5%\n",
    "##### $Cessation_n = Cessation-Nicotine$\n",
    "##### $Cessation_p = Cessation-Placebo$"
   ]
  },
  {
   "cell_type": "markdown",
   "metadata": {},
   "source": [
    "# ----------------------------------------------"
   ]
  },
  {
   "cell_type": "markdown",
   "metadata": {},
   "source": [
    "## Quantify the danger of smoking for pregnant women.\n",
    "    - Experimemtal setup: measure IQ of children at ages 1, 2, 3, and 4 years of age."
   ]
  },
  {
   "cell_type": "markdown",
   "metadata": {},
   "source": [
    "####  Null Hypothesis: Smoking during pregnancy does not harm the IQ of children after childbirth !!\n",
    "\n",
    "##### The IQ of children at ages 1, 2, 3 and 4 to mothers who smoked during pregnancy is higher than the IQ of the children of the same age groups to mothers who did not smoke during pregnancy.\n",
    "\n",
    "#### $H_0$ => $IQ(smoking) > IQ(non-smoking)$\n",
    "\n",
    "#### Alternate Hypothesis: Smoking during pregnancy harms the IQ of children after childbirth !!\n",
    "\n",
    "##### The IQ of children at ages 1, 2, 3 and 4 to mothers who smoked during pregnancy is less than or equal to the IQ of the children of the same age groups to mothers who did not smoke during pregnancy.\n",
    "\n",
    "#### $H_a$ => $IQ(smoking) <= IQ(non-smoking)$\n",
    "\n",
    "##### Significance Level - 0.05 or 5%"
   ]
  },
  {
   "cell_type": "markdown",
   "metadata": {},
   "source": [
    "# ----------------------------------------------"
   ]
  },
  {
   "cell_type": "code",
   "execution_count": null,
   "metadata": {
    "collapsed": true
   },
   "outputs": [],
   "source": []
  }
 ],
 "metadata": {
  "kernelspec": {
   "display_name": "Python 3",
   "language": "python",
   "name": "python3"
  },
  "language_info": {
   "codemirror_mode": {
    "name": "ipython",
    "version": 3
   },
   "file_extension": ".py",
   "mimetype": "text/x-python",
   "name": "python",
   "nbconvert_exporter": "python",
   "pygments_lexer": "ipython3",
   "version": "3.4.2"
  }
 },
 "nbformat": 4,
 "nbformat_minor": 0
}
