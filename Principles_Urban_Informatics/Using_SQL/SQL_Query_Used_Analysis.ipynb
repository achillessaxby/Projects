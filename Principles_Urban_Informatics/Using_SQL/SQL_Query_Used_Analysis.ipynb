{
 "cells": [
  {
   "cell_type": "markdown",
   "metadata": {},
   "source": [
    "#### Achilles Edwin Alfred Saxby - aes807\n",
    "#### Extra_Credit_Assignment\n",
    "#### Principles of Urban Informatics, Fall 2016, NYU - CUSP. \n",
    "#### Instructor: Dr. Federica Bianco\n",
    "\n",
    "##### Worked with:\n",
    "- Vishwajeet Shelar\n",
    "\n",
    "##### Contributed to:\n",
    "- Akshay Penmatcha\n",
    "- Priyanshi Singh\n",
    "- Patrick Gitundu\n",
    "- Shalmali Kulkarni"
   ]
  },
  {
   "cell_type": "code",
   "execution_count": 13,
   "metadata": {
    "collapsed": false
   },
   "outputs": [],
   "source": [
    "import os\n",
    "import ast\n",
    "import urllib2\n",
    "import urllib\n",
    "import zipcode_run\n",
    "import json\n",
    "import numpy as np\n",
    "import shapely\n",
    "import matplotlib.pyplot as pl\n",
    "import geopandas as gpd\n",
    "import pandas as pd\n",
    "\n",
    "from cStringIO import StringIO\n",
    "from geopandas import GeoDataFrame\n",
    "from scipy.spatial.distance import pdist, squareform\n",
    "\n",
    "%matplotlib inline"
   ]
  },
  {
   "cell_type": "code",
   "execution_count": 2,
   "metadata": {
    "collapsed": true
   },
   "outputs": [],
   "source": [
    "SQL_SOURCE = 'https://fb55.carto.com/api/v2/sql'"
   ]
  },
  {
   "cell_type": "code",
   "execution_count": 3,
   "metadata": {
    "collapsed": true
   },
   "outputs": [],
   "source": [
    "def queryCartoDB(query, format='CSV', source=SQL_SOURCE):\n",
    "    \"\"\" Queries a url with an sql compatible search\n",
    "    Code taken from Fbb55\n",
    "    Arguments:\n",
    "    query : the sql query string\n",
    "    format : the expected format\n",
    "    source \" the url of the API\n",
    "    \"\"\"\n",
    "    data = urllib.urlencode({'format': format, 'q': query})\n",
    "    try:\n",
    "        response = urllib2.urlopen(source, data)\n",
    "    except urllib2.HTTPError, e:\n",
    "        raise ValueError('\\n'.join(ast.literal_eval(e.readline())['error']))\n",
    "    except Exception:\n",
    "        raise\n",
    "    return StringIO(response.read())"
   ]
  },
  {
   "cell_type": "code",
   "execution_count": 4,
   "metadata": {
    "collapsed": false
   },
   "outputs": [
    {
     "name": "stdout",
     "output_type": "stream",
     "text": [
      "(29, 2)\n"
     ]
    },
    {
     "data": {
      "text/html": [
       "<div>\n",
       "<table border=\"1\" class=\"dataframe\">\n",
       "  <thead>\n",
       "    <tr style=\"text-align: right;\">\n",
       "      <th></th>\n",
       "      <th>Counts</th>\n",
       "      <th>ZIPCODE</th>\n",
       "    </tr>\n",
       "  </thead>\n",
       "  <tbody>\n",
       "    <tr>\n",
       "      <th>0</th>\n",
       "      <td>1699</td>\n",
       "      <td>10461</td>\n",
       "    </tr>\n",
       "    <tr>\n",
       "      <th>1</th>\n",
       "      <td>405</td>\n",
       "      <td>11373</td>\n",
       "    </tr>\n",
       "    <tr>\n",
       "      <th>2</th>\n",
       "      <td>1698</td>\n",
       "      <td>10451</td>\n",
       "    </tr>\n",
       "    <tr>\n",
       "      <th>3</th>\n",
       "      <td>220</td>\n",
       "      <td>11691</td>\n",
       "    </tr>\n",
       "    <tr>\n",
       "      <th>4</th>\n",
       "      <td>246</td>\n",
       "      <td>11375</td>\n",
       "    </tr>\n",
       "  </tbody>\n",
       "</table>\n",
       "</div>"
      ],
      "text/plain": [
       "   Counts  ZIPCODE\n",
       "0    1699    10461\n",
       "1     405    11373\n",
       "2    1698    10451\n",
       "3     220    11691\n",
       "4     246    11375"
      ]
     },
     "execution_count": 4,
     "metadata": {},
     "output_type": "execute_result"
    }
   ],
   "source": [
    "facilityQuery = '''SELECT count(cartodb_id), zipcodes \n",
    "                  FROM NYCAsthmasDismissals \n",
    "                  GROUP BY zipcodes\n",
    "                  '''\n",
    "\n",
    "facilityStream = queryCartoDB(facilityQuery, format='JSON')\n",
    "\n",
    "facilityData   = json.loads(facilityStream.read())\n",
    "facilities     = pd.DataFrame.from_dict(facilityData['rows'])\n",
    "facilities.columns = ['Counts','ZIPCODE']\n",
    "print facilities.shape\n",
    "facilities.head()"
   ]
  },
  {
   "cell_type": "markdown",
   "metadata": {},
   "source": [
    "#### Getting the Shapefiles.\n",
    "#### The Snippet of Code is in the directory itself.\n",
    "#### zipcode_run.py"
   ]
  },
  {
   "cell_type": "code",
   "execution_count": 14,
   "metadata": {
    "collapsed": false
   },
   "outputs": [
    {
     "name": "stdout",
     "output_type": "stream",
     "text": [
      "Downloading\n",
      "Unzipped\n",
      "Folder with required files in PUIdata, you can continue\n"
     ]
    }
   ],
   "source": [
    "zipcode_run.getzips()"
   ]
  },
  {
   "cell_type": "markdown",
   "metadata": {},
   "source": [
    "#### Shapefile Working"
   ]
  },
  {
   "cell_type": "code",
   "execution_count": 6,
   "metadata": {
    "collapsed": true
   },
   "outputs": [],
   "source": [
    "zipfile = gpd.read_file(os.getenv(\"PUIDATA\") + \"/\" + \"ZIP_CODE_040114.shp\")"
   ]
  },
  {
   "cell_type": "code",
   "execution_count": 7,
   "metadata": {
    "collapsed": false
   },
   "outputs": [
    {
     "data": {
      "text/plain": [
       "Index([      u'AREA',    u'BLDGZIP',     u'COUNTY',   u'CTY_FIPS',\n",
       "       u'POPULATION',    u'PO_NAME', u'SHAPE_AREA',  u'SHAPE_LEN',\n",
       "            u'STATE',    u'ST_FIPS',        u'URL',    u'ZIPCODE',\n",
       "         u'geometry'],\n",
       "      dtype='object')"
      ]
     },
     "execution_count": 7,
     "metadata": {},
     "output_type": "execute_result"
    }
   ],
   "source": [
    "zipfile.columns"
   ]
  },
  {
   "cell_type": "code",
   "execution_count": 8,
   "metadata": {
    "collapsed": false
   },
   "outputs": [
    {
     "data": {
      "text/plain": [
       "(263, 13)"
      ]
     },
     "execution_count": 8,
     "metadata": {},
     "output_type": "execute_result"
    }
   ],
   "source": [
    "zipfile.shape"
   ]
  },
  {
   "cell_type": "code",
   "execution_count": 9,
   "metadata": {
    "collapsed": false
   },
   "outputs": [],
   "source": [
    "zipfile.to_crs(epsg=2263, inplace=True)"
   ]
  },
  {
   "cell_type": "code",
   "execution_count": 10,
   "metadata": {
    "collapsed": false
   },
   "outputs": [],
   "source": [
    "zipfile.loc[:,'center'] = zipfile.loc[:,'geometry'].centroid"
   ]
  },
  {
   "cell_type": "code",
   "execution_count": 11,
   "metadata": {
    "collapsed": true
   },
   "outputs": [],
   "source": [
    "zipfile.drop([u'AREA',    u'BLDGZIP',     u'COUNTY',   u'CTY_FIPS',\n",
    "           u'POPULATION',    u'PO_NAME', u'SHAPE_AREA',  u'SHAPE_LEN',\n",
    "           u'STATE',    u'ST_FIPS',        u'URL', u'geometry'], \n",
    "          axis = 1, inplace = True)"
   ]
  },
  {
   "cell_type": "code",
   "execution_count": 12,
   "metadata": {
    "collapsed": false
   },
   "outputs": [
    {
     "data": {
      "text/html": [
       "<div>\n",
       "<table border=\"1\" class=\"dataframe\">\n",
       "  <thead>\n",
       "    <tr style=\"text-align: right;\">\n",
       "      <th></th>\n",
       "      <th>ZIPCODE</th>\n",
       "      <th>center</th>\n",
       "    </tr>\n",
       "  </thead>\n",
       "  <tbody>\n",
       "    <tr>\n",
       "      <th>0</th>\n",
       "      <td>11436</td>\n",
       "      <td>POINT (1040696.262135346 185580.2219261284)</td>\n",
       "    </tr>\n",
       "    <tr>\n",
       "      <th>1</th>\n",
       "      <td>11213</td>\n",
       "      <td>POINT (1001912.871996465 183803.1131541364)</td>\n",
       "    </tr>\n",
       "    <tr>\n",
       "      <th>2</th>\n",
       "      <td>11212</td>\n",
       "      <td>POINT (1008365.375095716 180768.9448689773)</td>\n",
       "    </tr>\n",
       "    <tr>\n",
       "      <th>3</th>\n",
       "      <td>11225</td>\n",
       "      <td>POINT (997023.1926918954 180870.3533321856)</td>\n",
       "    </tr>\n",
       "    <tr>\n",
       "      <th>4</th>\n",
       "      <td>11218</td>\n",
       "      <td>POINT (990785.2911208547 173656.0483912209)</td>\n",
       "    </tr>\n",
       "  </tbody>\n",
       "</table>\n",
       "</div>"
      ],
      "text/plain": [
       "   ZIPCODE                                       center\n",
       "0    11436  POINT (1040696.262135346 185580.2219261284)\n",
       "1    11213  POINT (1001912.871996465 183803.1131541364)\n",
       "2    11212  POINT (1008365.375095716 180768.9448689773)\n",
       "3    11225  POINT (997023.1926918954 180870.3533321856)\n",
       "4    11218  POINT (990785.2911208547 173656.0483912209)"
      ]
     },
     "execution_count": 12,
     "metadata": {},
     "output_type": "execute_result"
    }
   ],
   "source": [
    "zipfile.ZIPCODE = zipfile.ZIPCODE.astype('int64')\n",
    "zipfile.head()"
   ]
  },
  {
   "cell_type": "markdown",
   "metadata": {},
   "source": [
    "#### Merging the Zipcodes and Dismissal Records"
   ]
  },
  {
   "cell_type": "code",
   "execution_count": 85,
   "metadata": {
    "collapsed": true
   },
   "outputs": [],
   "source": [
    "zips_facility = pd.merge(facilities, zipfile, how='inner', on='ZIPCODE')"
   ]
  },
  {
   "cell_type": "code",
   "execution_count": 86,
   "metadata": {
    "collapsed": false
   },
   "outputs": [
    {
     "data": {
      "text/html": [
       "<div>\n",
       "<table border=\"1\" class=\"dataframe\">\n",
       "  <thead>\n",
       "    <tr style=\"text-align: right;\">\n",
       "      <th></th>\n",
       "      <th>Counts</th>\n",
       "      <th>ZIPCODE</th>\n",
       "      <th>center</th>\n",
       "    </tr>\n",
       "  </thead>\n",
       "  <tbody>\n",
       "    <tr>\n",
       "      <th>0</th>\n",
       "      <td>1699</td>\n",
       "      <td>10461</td>\n",
       "      <td>POINT (1028292.72437689 247902.4282908511)</td>\n",
       "    </tr>\n",
       "    <tr>\n",
       "      <th>1</th>\n",
       "      <td>405</td>\n",
       "      <td>11373</td>\n",
       "      <td>POINT (1017941.215480482 208485.1046782668)</td>\n",
       "    </tr>\n",
       "    <tr>\n",
       "      <th>2</th>\n",
       "      <td>1698</td>\n",
       "      <td>10451</td>\n",
       "      <td>POINT (1005358.961284299 238316.0675282735)</td>\n",
       "    </tr>\n",
       "    <tr>\n",
       "      <th>3</th>\n",
       "      <td>220</td>\n",
       "      <td>11691</td>\n",
       "      <td>POINT (1050360.772370897 158235.4624442375)</td>\n",
       "    </tr>\n",
       "    <tr>\n",
       "      <th>4</th>\n",
       "      <td>246</td>\n",
       "      <td>11375</td>\n",
       "      <td>POINT (1026858.206454872 201880.2234938797)</td>\n",
       "    </tr>\n",
       "  </tbody>\n",
       "</table>\n",
       "</div>"
      ],
      "text/plain": [
       "   Counts  ZIPCODE                                       center\n",
       "0    1699    10461   POINT (1028292.72437689 247902.4282908511)\n",
       "1     405    11373  POINT (1017941.215480482 208485.1046782668)\n",
       "2    1698    10451  POINT (1005358.961284299 238316.0675282735)\n",
       "3     220    11691  POINT (1050360.772370897 158235.4624442375)\n",
       "4     246    11375  POINT (1026858.206454872 201880.2234938797)"
      ]
     },
     "execution_count": 86,
     "metadata": {},
     "output_type": "execute_result"
    }
   ],
   "source": [
    "zips_facility.head()"
   ]
  },
  {
   "cell_type": "code",
   "execution_count": 87,
   "metadata": {
    "collapsed": true
   },
   "outputs": [],
   "source": [
    "krigdata = np.zeros((len(zips_facility),3))"
   ]
  },
  {
   "cell_type": "code",
   "execution_count": 88,
   "metadata": {
    "collapsed": true
   },
   "outputs": [],
   "source": [
    "for i in xrange(len(krigdata)):\n",
    "    krigdata[i][0] = zips_facility.center[i].coords[0][0]\n",
    "    krigdata[i][1] = zips_facility.center[i].coords[0][1]\n",
    "    krigdata[i][2] = zips_facility.Counts[i]"
   ]
  },
  {
   "cell_type": "code",
   "execution_count": 89,
   "metadata": {
    "collapsed": false
   },
   "outputs": [
    {
     "data": {
      "text/plain": [
       "<matplotlib.colorbar.Colorbar at 0x7f35e38e8410>"
      ]
     },
     "execution_count": 89,
     "metadata": {},
     "output_type": "execute_result"
    },
    {
     "data": {
      "image/png": "[encoded data removed]",
      "text/plain": [
       "<matplotlib.figure.Figure at 0x7f35e39f32d0>"
      ]
     },
     "metadata": {},
     "output_type": "display_data"
    }
   ],
   "source": [
    "pl.figure(figsize=(15,5))\n",
    "pl.scatter(krigdata[:,0], krigdata[:,1], c=krigdata[:,2], s=100, cmap='bone')\n",
    "pl.xlabel(\"Easting (m)\", fontsize=13)\n",
    "pl.xticks(rotation = 60)\n",
    "pl.ylabel(\"Northing (m)\", fontsize=13)\n",
    "pl.title('NYC Locations - Asthma Dismissal Records', fontsize=16, fontweight = 'bold')\n",
    "pl.colorbar()"
   ]
  },
  {
   "cell_type": "markdown",
   "metadata": {},
   "source": [
    "#### Figure 1: The plot above shows the locations of NYC Hospitals on a Northing vs. Easting coordinate space and the Colour Density shows Asthma Dismissal Counts."
   ]
  },
  {
   "cell_type": "code",
   "execution_count": 90,
   "metadata": {
    "collapsed": true
   },
   "outputs": [],
   "source": [
    "def SVh_vctzd( P, h, bw ):\n",
    "    '''\n",
    "    Experimental semivariogram for a single lag\n",
    "    bw max distance\n",
    "    h lag\n",
    "    P data\n",
    "    '''\n",
    "    pdsv = squareform( pdist( P[:,:2] ) )\n",
    "    #print pdsv\n",
    "    N = pdsv.shape[0]\n",
    "    #print N\n",
    "    #print np.triu_indices(N)\n",
    "    Z = np.zeros((N,N))\n",
    "    Z = Z - P[:,2]\n",
    "    #print Z\n",
    "    Z = Z.T + P[:,2]\n",
    "    #print Z\n",
    "    Z = Z**2\n",
    "    #print Z\n",
    "    Zcd =  Z[(pdsv >= h - bw) * (pdsv <= h + bw) * \\\n",
    "            (~np.identity(N, dtype=bool))]\n",
    "\n",
    "    #print Zcd\n",
    "    return np.sum( Zcd ) / ( 2.0 * len( Zcd ) )"
   ]
  },
  {
   "cell_type": "code",
   "execution_count": 92,
   "metadata": {
    "collapsed": true
   },
   "outputs": [],
   "source": [
    "def SVh( P, h, bw ):\n",
    "    '''\n",
    "    Experimental semivariogram for a single lag\n",
    "    bw max distance\n",
    "    h lag\n",
    "    P data\n",
    "    '''\n",
    "    #distance matrix (eucledian)\n",
    "    pdsv = squareform( pdist( P[:,:2] ) )\n",
    "    #print pdsv\n",
    "    N = pdsv.shape[0]\n",
    "    #print N\n",
    "\n",
    "    Z = list()\n",
    "    for i in range(N):\n",
    "        for j in range(i+1, N):\n",
    "            #select only pair of points at the appropriate lag\n",
    "            if( pdsv[i,j] >= h - bw )and( pdsv[i,j] <= h + bw ):\n",
    "                Z.append( ( P[i,2] - P[j,2] )**2.0 )\n",
    "    #print Z\n",
    "    return np.sum( Z ) / ( 2.0 * len( Z ) )"
   ]
  },
  {
   "cell_type": "code",
   "execution_count": 93,
   "metadata": {
    "collapsed": true
   },
   "outputs": [],
   "source": [
    "def SV( P, hs, bw ):\n",
    "    '''\n",
    "    Experimental variogram for a collection of lags\n",
    "    '''\n",
    "    sv = list()\n",
    "    for h in hs:\n",
    "        #print h\n",
    "        sv.append( SVh( P, h, bw ) )\n",
    "        #sv.append( SVh_vctzd ( P, h, bw ) )\n",
    "    sv = [ [ hs[i], sv[i] ] for i in range( len( hs ) ) if sv[i] > 0 ]\n",
    "    return np.array( sv ).T"
   ]
  },
  {
   "cell_type": "code",
   "execution_count": 94,
   "metadata": {
    "collapsed": true
   },
   "outputs": [],
   "source": [
    "lag = 400\n",
    "mysv = SV( krigdata, np.arange(1, 40000, lag), 1000 )"
   ]
  },
  {
   "cell_type": "code",
   "execution_count": 95,
   "metadata": {
    "collapsed": false
   },
   "outputs": [
    {
     "data": {
      "text/plain": [
       "<matplotlib.text.Text at 0x7f35e3885850>"
      ]
     },
     "execution_count": 95,
     "metadata": {},
     "output_type": "execute_result"
    },
    {
     "data": {
      "image/png": "[encoded data removed]",
      "text/plain": [
       "<matplotlib.figure.Figure at 0x7f35e3900390>"
      ]
     },
     "metadata": {},
     "output_type": "display_data"
    }
   ],
   "source": [
    "# lags in 500 meter increments from zero to 10,000\n",
    "hs = np.arange(0, 10500, lag)\n",
    "#mysv = SV( x, hs, bw )\n",
    "pl.figure(figsize=(5,5))\n",
    "pl.plot( mysv[0], mysv[1], '.-' )\n",
    "pl.xlabel('Lag[ft]', fontsize=11, fontweight = 'bold')\n",
    "pl.ylabel('Semivariogram Units', fontsize=11, fontweight = 'bold')\n",
    "pl.title('Sample Semivariogram\\n NYC Asthma Dismissals(Lag in %dft)'%lag, \n",
    "         fontsize=11, fontweight = 'bold') "
   ]
  },
  {
   "cell_type": "markdown",
   "metadata": {},
   "source": [
    "#### Figure 2: Semivariogram - \n",
    "    - The Lag on the X-Axis measures the distance between points.\n",
    "    - The Y-Axis shows similarity in the plotted distance. \n",
    "- There is a relationship between Space and Points due to its Semi-Smooth curve. \n",
    "- There is no relationship observed between Hospitals and Asthma Dismissals."
   ]
  }
 ],
 "metadata": {
  "kernelspec": {
   "display_name": "PUI2016_Python2",
   "language": "python",
   "name": "pui2016_python2"
  },
  "language_info": {
   "codemirror_mode": {
    "name": "ipython",
    "version": 2
   },
   "file_extension": ".py",
   "mimetype": "text/x-python",
   "name": "python",
   "nbconvert_exporter": "python",
   "pygments_lexer": "ipython2",
   "version": "2.7.12"
  }
 },
 "nbformat": 4,
 "nbformat_minor": 0
}
