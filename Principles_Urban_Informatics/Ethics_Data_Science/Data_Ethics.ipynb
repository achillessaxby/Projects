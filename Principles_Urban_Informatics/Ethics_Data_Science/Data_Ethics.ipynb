{
 "cells": [
  {
   "cell_type": "markdown",
   "metadata": {},
   "source": [
    "## Homework_8_Solutions\n",
    "## Laboratory_Workbook\n",
    "### Achilles Edwin Alfred Saxby\n",
    "### aes807\n",
    "\n",
    "#### Taken extensive help from:\n",
    "    - Aaron D'Souza\n",
    "- The solution for this question has not been done by me\n",
    "- Took entensive help and mostly all the code from Aaron and just tried to complete and learn the solution\n",
    "- The whole coding aspect of this problem was difficult for me to understand and work on\n",
    "    \n",
    "#### Taken help from:\n",
    "    - Priyanshi Singh\n",
    "    - Vishwajeet Shelar\n",
    "    - Akshay Penmatcha\n",
    "    \n",
    "#### Worked with:\n",
    "    - Patrick Gitundu\n",
    "    - Nonie Mathur"
   ]
  },
  {
   "cell_type": "markdown",
   "metadata": {},
   "source": [
    "# Working with Data - Computer Lab for Guest Lecture Julia Lane\n",
    "\n",
    "In this computer lab we will learn more more details and practice data work to enhance the content of the lecture presented by Julia Lane on responsible data use. We will address a research question, think about data and measurement errors, and manipulate data. \n",
    "\n",
    "OUTLINE: \n",
    "1. Define a research question \n",
    "2. Think about what data are available \n",
    "3. Think about possible measurement errors \n",
    "4. Think about the interpretation of your results \n",
    "5. Inform your results by linking datasets "
   ]
  },
  {
   "cell_type": "markdown",
   "metadata": {
    "raw_mimetype": "text/markdown"
   },
   "source": [
    "# 1. Define a reserach question\n",
    "Which Community Districts in NYC show the highest number of complaints?\n",
    "\n",
    "# 2. Think about what data are available\n",
    "Find suitable data by searching the CUSP Data Catalog https://datahub.cusp.nyu.edu/catalog. You can use Urban Profiler to investigate the Metadata associated with each dataset. Using this tool will help you to decide which attributes of the data you need to answer your question so you don't have to load the entire dataset. "
   ]
  },
  {
   "cell_type": "code",
   "execution_count": 1,
   "metadata": {
    "collapsed": false
   },
   "outputs": [],
   "source": [
    "import os\n",
    "import pandas as pd\n",
    "import numpy as np\n",
    "import re\n",
    "\n",
    "from sklearn import preprocessing\n",
    "from sklearn.cluster import KMeans\n",
    "\n",
    "PUIdata = os.getenv('PUIDATA')"
   ]
  },
  {
   "cell_type": "code",
   "execution_count": 2,
   "metadata": {
    "collapsed": true
   },
   "outputs": [],
   "source": [
    "fields = ['Borough', 'Community Board', 'Complaint Type', 'Descriptor', 'Incident Address', 'Incident Zip', 'Location']"
   ]
  },
  {
   "cell_type": "code",
   "execution_count": 3,
   "metadata": {
    "collapsed": false
   },
   "outputs": [
    {
     "name": "stderr",
     "output_type": "stream",
     "text": [
      "/opt/rh/anaconda/root/envs/PUI2016_Python2/lib/python2.7/site-packages/IPython/core/interactiveshell.py:2717: DtypeWarning: Columns (8) have mixed types. Specify dtype option on import or set low_memory=False.\n",
      "  interactivity=interactivity, compiler=compiler, result=result)\n"
     ]
    },
    {
     "data": {
      "text/html": [
       "<div>\n",
       "<table border=\"1\" class=\"dataframe\">\n",
       "  <thead>\n",
       "    <tr style=\"text-align: right;\">\n",
       "      <th></th>\n",
       "      <th>Complaint Type</th>\n",
       "      <th>Descriptor</th>\n",
       "      <th>Incident Zip</th>\n",
       "      <th>Incident Address</th>\n",
       "      <th>Community Board</th>\n",
       "      <th>Borough</th>\n",
       "      <th>Location</th>\n",
       "    </tr>\n",
       "  </thead>\n",
       "  <tbody>\n",
       "    <tr>\n",
       "      <th>0</th>\n",
       "      <td>Street Condition</td>\n",
       "      <td>Pothole</td>\n",
       "      <td>11224</td>\n",
       "      <td>NaN</td>\n",
       "      <td>13 BROOKLYN</td>\n",
       "      <td>BROOKLYN</td>\n",
       "      <td>(40.57343122248129, -73.99174247588253)</td>\n",
       "    </tr>\n",
       "    <tr>\n",
       "      <th>1</th>\n",
       "      <td>Opinion for the Mayor</td>\n",
       "      <td>HOUSING</td>\n",
       "      <td>NaN</td>\n",
       "      <td>NaN</td>\n",
       "      <td>0 Unspecified</td>\n",
       "      <td>Unspecified</td>\n",
       "      <td>NaN</td>\n",
       "    </tr>\n",
       "    <tr>\n",
       "      <th>2</th>\n",
       "      <td>Root/Sewer/Sidewalk Condition</td>\n",
       "      <td>Trees and Sidewalks Program</td>\n",
       "      <td>11234</td>\n",
       "      <td>1157 EAST 57 STREET</td>\n",
       "      <td>18 BROOKLYN</td>\n",
       "      <td>BROOKLYN</td>\n",
       "      <td>(40.62500363580505, -73.92072558378698)</td>\n",
       "    </tr>\n",
       "    <tr>\n",
       "      <th>3</th>\n",
       "      <td>Illegal Parking</td>\n",
       "      <td>Blocked Hydrant</td>\n",
       "      <td>11218</td>\n",
       "      <td>722 EAST 4 STREET</td>\n",
       "      <td>12 BROOKLYN</td>\n",
       "      <td>BROOKLYN</td>\n",
       "      <td>(40.634522428879706, -73.97479041437481)</td>\n",
       "    </tr>\n",
       "    <tr>\n",
       "      <th>4</th>\n",
       "      <td>Benefit Card Replacement</td>\n",
       "      <td>Medicaid</td>\n",
       "      <td>NaN</td>\n",
       "      <td>NaN</td>\n",
       "      <td>0 Unspecified</td>\n",
       "      <td>Unspecified</td>\n",
       "      <td>NaN</td>\n",
       "    </tr>\n",
       "  </tbody>\n",
       "</table>\n",
       "</div>"
      ],
      "text/plain": [
       "                  Complaint Type                   Descriptor Incident Zip  \\\n",
       "0               Street Condition                      Pothole        11224   \n",
       "1          Opinion for the Mayor                      HOUSING          NaN   \n",
       "2  Root/Sewer/Sidewalk Condition  Trees and Sidewalks Program        11234   \n",
       "3                Illegal Parking              Blocked Hydrant        11218   \n",
       "4       Benefit Card Replacement                     Medicaid          NaN   \n",
       "\n",
       "      Incident Address Community Board      Borough  \\\n",
       "0                  NaN     13 BROOKLYN     BROOKLYN   \n",
       "1                  NaN   0 Unspecified  Unspecified   \n",
       "2  1157 EAST 57 STREET     18 BROOKLYN     BROOKLYN   \n",
       "3    722 EAST 4 STREET     12 BROOKLYN     BROOKLYN   \n",
       "4                  NaN   0 Unspecified  Unspecified   \n",
       "\n",
       "                                   Location  \n",
       "0   (40.57343122248129, -73.99174247588253)  \n",
       "1                                       NaN  \n",
       "2   (40.62500363580505, -73.92072558378698)  \n",
       "3  (40.634522428879706, -73.97479041437481)  \n",
       "4                                       NaN  "
      ]
     },
     "execution_count": 3,
     "metadata": {},
     "output_type": "execute_result"
    }
   ],
   "source": [
    "# Load dataset\n",
    "data = pd.read_csv('/projects/open/NYCOpenData/nycopendata/data/erm2-nwe9/1446832678/erm2-nwe9', usecols = fields)\n",
    "data.head()"
   ]
  },
  {
   "cell_type": "markdown",
   "metadata": {},
   "source": [
    "# 3. Think about possible measurement errors\n",
    "Do you see any problems regarding possible measurement error? Think about who is represented in the data, ommissions, duplications, content error, missing data, etc. "
   ]
  },
  {
   "cell_type": "code",
   "execution_count": 4,
   "metadata": {
    "collapsed": false
   },
   "outputs": [
    {
     "data": {
      "text/plain": [
       "array(['BROOKLYN', 'Unspecified', 'STATEN ISLAND', 'MANHATTAN', 'BRONX',\n",
       "       'QUEENS'], dtype=object)"
      ]
     },
     "execution_count": 4,
     "metadata": {},
     "output_type": "execute_result"
    }
   ],
   "source": [
    "# Check if all Boroughs and Community Districts are represented in the Data\n",
    "data['Borough'].unique()"
   ]
  },
  {
   "cell_type": "code",
   "execution_count": 5,
   "metadata": {
    "collapsed": false
   },
   "outputs": [
    {
     "data": {
      "text/plain": [
       "array(['13 BROOKLYN', '0 Unspecified', '18 BROOKLYN', '12 BROOKLYN',\n",
       "       '02 STATEN ISLAND', '08 MANHATTAN', '06 BROOKLYN', '10 BRONX',\n",
       "       '06 MANHATTAN', '04 BROOKLYN', '04 QUEENS', '09 MANHATTAN',\n",
       "       '14 BROOKLYN', '05 MANHATTAN', '02 MANHATTAN', '10 QUEENS',\n",
       "       '07 QUEENS', '02 QUEENS', '11 BROOKLYN', '05 QUEENS', '05 BROOKLYN',\n",
       "       '09 QUEENS', '12 MANHATTAN', '01 BROOKLYN', '11 MANHATTAN',\n",
       "       '03 BRONX', '03 STATEN ISLAND', '08 BROOKLYN', '03 BROOKLYN',\n",
       "       '07 MANHATTAN', '10 MANHATTAN', '04 BRONX', '01 MANHATTAN',\n",
       "       '07 BRONX', '09 BRONX', '03 MANHATTAN', '13 QUEENS', '02 BRONX',\n",
       "       '12 QUEENS', '16 BROOKLYN', '08 QUEENS', '04 MANHATTAN',\n",
       "       '14 QUEENS', '10 BROOKLYN', '11 QUEENS', '06 BRONX', '08 BRONX',\n",
       "       '05 BRONX', '15 BROOKLYN', '02 BROOKLYN', '12 BRONX', '03 QUEENS',\n",
       "       '06 QUEENS', '01 STATEN ISLAND', '01 BRONX', '01 QUEENS',\n",
       "       '17 BROOKLYN', '11 BRONX', 'Unspecified QUEENS', '09 BROOKLYN',\n",
       "       'Unspecified MANHATTAN', 'Unspecified BROOKLYN', '07 BROOKLYN',\n",
       "       'Unspecified BRONX', '64 MANHATTAN', '81 QUEENS', '55 BROOKLYN',\n",
       "       '83 QUEENS', 'Unspecified STATEN ISLAND', '28 BRONX', '80 QUEENS',\n",
       "       '26 BRONX', '95 STATEN ISLAND', '82 QUEENS', '27 BRONX',\n",
       "       '56 BROOKLYN', '84 QUEENS'], dtype=object)"
      ]
     },
     "execution_count": 5,
     "metadata": {},
     "output_type": "execute_result"
    }
   ],
   "source": [
    "data['Community Board'].unique()"
   ]
  },
  {
   "cell_type": "markdown",
   "metadata": {},
   "source": [
    "#### How many unique values do we have? "
   ]
  },
  {
   "cell_type": "code",
   "execution_count": 6,
   "metadata": {
    "collapsed": false
   },
   "outputs": [
    {
     "data": {
      "text/plain": [
       "77"
      ]
     },
     "execution_count": 6,
     "metadata": {},
     "output_type": "execute_result"
    }
   ],
   "source": [
    "len(data['Community Board'].unique())"
   ]
  },
  {
   "cell_type": "code",
   "execution_count": 7,
   "metadata": {
    "collapsed": false
   },
   "outputs": [
    {
     "data": {
      "text/plain": [
       "6"
      ]
     },
     "execution_count": 7,
     "metadata": {},
     "output_type": "execute_result"
    }
   ],
   "source": [
    "len(data['Borough'].unique())"
   ]
  },
  {
   "cell_type": "code",
   "execution_count": 8,
   "metadata": {
    "collapsed": false
   },
   "outputs": [
    {
     "data": {
      "text/plain": [
       "242"
      ]
     },
     "execution_count": 8,
     "metadata": {},
     "output_type": "execute_result"
    }
   ],
   "source": [
    "len(data['Complaint Type'].unique()) "
   ]
  },
  {
   "cell_type": "code",
   "execution_count": 9,
   "metadata": {
    "collapsed": false
   },
   "outputs": [
    {
     "data": {
      "text/plain": [
       "1629"
      ]
     },
     "execution_count": 9,
     "metadata": {},
     "output_type": "execute_result"
    }
   ],
   "source": [
    "len(data['Descriptor'].unique())"
   ]
  },
  {
   "cell_type": "code",
   "execution_count": 10,
   "metadata": {
    "collapsed": false
   },
   "outputs": [
    {
     "data": {
      "text/plain": [
       "2672"
      ]
     },
     "execution_count": 10,
     "metadata": {},
     "output_type": "execute_result"
    }
   ],
   "source": [
    "len(data['Incident Zip'].unique())"
   ]
  },
  {
   "cell_type": "code",
   "execution_count": 11,
   "metadata": {
    "collapsed": false
   },
   "outputs": [
    {
     "data": {
      "text/plain": [
       "1034112"
      ]
     },
     "execution_count": 11,
     "metadata": {},
     "output_type": "execute_result"
    }
   ],
   "source": [
    "len(data['Incident Address'].unique())"
   ]
  },
  {
   "cell_type": "code",
   "execution_count": 12,
   "metadata": {
    "collapsed": false,
    "scrolled": true
   },
   "outputs": [
    {
     "data": {
      "text/plain": [
       "949705"
      ]
     },
     "execution_count": 12,
     "metadata": {},
     "output_type": "execute_result"
    }
   ],
   "source": [
    "len(data['Location'].unique())"
   ]
  },
  {
   "cell_type": "code",
   "execution_count": 13,
   "metadata": {
    "collapsed": false
   },
   "outputs": [
    {
     "data": {
      "text/plain": [
       "10187766"
      ]
     },
     "execution_count": 13,
     "metadata": {},
     "output_type": "execute_result"
    }
   ],
   "source": [
    "len(data)"
   ]
  },
  {
   "cell_type": "markdown",
   "metadata": {},
   "source": [
    "#### Checking the representation for all the broroughs."
   ]
  },
  {
   "cell_type": "code",
   "execution_count": 17,
   "metadata": {
    "collapsed": false
   },
   "outputs": [
    {
     "name": "stdout",
     "output_type": "stream",
     "text": [
      "Borough \n",
      "\n",
      "BROOKLYN\n",
      "Unspecified\n",
      "STATEN ISLAND\n",
      "MANHATTAN\n",
      "BRONX\n",
      "QUEENS\n"
     ]
    }
   ],
   "source": [
    "unique_borough = data.Borough.unique()\n",
    "unique_community_board = data['Community Board'].unique()\n",
    "print(\"Borough \\n\")\n",
    "for i in data.Borough.unique():\n",
    "    print(i)"
   ]
  },
  {
   "cell_type": "code",
   "execution_count": 16,
   "metadata": {
    "collapsed": true
   },
   "outputs": [],
   "source": [
    "com = data['Community Board'].unique()\n",
    "com = pd.Series(com)"
   ]
  },
  {
   "cell_type": "code",
   "execution_count": 19,
   "metadata": {
    "collapsed": false
   },
   "outputs": [
    {
     "name": "stdout",
     "output_type": "stream",
     "text": [
      "Total number of borough 6\n",
      "Total number of community board 77\n"
     ]
    }
   ],
   "source": [
    "# How many unique values do we have? \n",
    "print('Total number of borough %s'%(len(unique_borough)))\n",
    "print('Total number of community board %s'%(len(unique_community_board)))"
   ]
  },
  {
   "cell_type": "code",
   "execution_count": 20,
   "metadata": {
    "collapsed": false
   },
   "outputs": [
    {
     "name": "stdout",
     "output_type": "stream",
     "text": [
      "Total number of duplicated values 4828430\n"
     ]
    }
   ],
   "source": [
    "# Check for duplicates? Are these plausible?\n",
    "print(\"Total number of duplicated values %s\"%data.duplicated().sum())"
   ]
  },
  {
   "cell_type": "code",
   "execution_count": 21,
   "metadata": {
    "collapsed": true
   },
   "outputs": [],
   "source": [
    "duplicate_data = data[data.duplicated() == True]"
   ]
  },
  {
   "cell_type": "code",
   "execution_count": 22,
   "metadata": {
    "collapsed": false
   },
   "outputs": [
    {
     "name": "stdout",
     "output_type": "stream",
     "text": [
      "Borough : BROOKLYN \n",
      "\n",
      "Complaint Type      1214927\n",
      "Descriptor          1214927\n",
      "Incident Zip        1116669\n",
      "Incident Address     941838\n",
      "Community Board     1214927\n",
      "Borough             1214927\n",
      "Location            1101142\n",
      "dtype: int64\n",
      "\n",
      "\n",
      "Borough : Unspecified \n",
      "\n",
      "Complaint Type      796101\n",
      "Descriptor          796101\n",
      "Incident Zip        519599\n",
      "Incident Address    524580\n",
      "Community Board     796101\n",
      "Borough             796101\n",
      "Location            518880\n",
      "dtype: int64\n",
      "\n",
      "\n",
      "Borough : STATEN ISLAND \n",
      "\n",
      "Complaint Type      140917\n",
      "Descriptor          140917\n",
      "Incident Zip        134369\n",
      "Incident Address     82758\n",
      "Community Board     140917\n",
      "Borough             140917\n",
      "Location            132153\n",
      "dtype: int64\n",
      "\n",
      "\n",
      "Borough : MANHATTAN \n",
      "\n",
      "Complaint Type      966401\n",
      "Descriptor          966401\n",
      "Incident Zip        839150\n",
      "Incident Address    640579\n",
      "Community Board     966401\n",
      "Borough             966401\n",
      "Location            818412\n",
      "dtype: int64\n",
      "\n",
      "\n",
      "Borough : BRONX \n",
      "\n",
      "Complaint Type      901845\n",
      "Descriptor          901845\n",
      "Incident Zip        800547\n",
      "Incident Address    731672\n",
      "Community Board     901845\n",
      "Borough             901845\n",
      "Location            792881\n",
      "dtype: int64\n",
      "\n",
      "\n",
      "Borough : QUEENS \n",
      "\n",
      "Complaint Type      808239\n",
      "Descriptor          808239\n",
      "Incident Zip        709904\n",
      "Incident Address    537523\n",
      "Community Board     808239\n",
      "Borough             808239\n",
      "Location            698037\n",
      "dtype: int64\n",
      "\n",
      "\n"
     ]
    }
   ],
   "source": [
    "for i in unique_borough:\n",
    "    print('Borough : %s \\n'%i)\n",
    "    print(duplicate_data[duplicate_data['Borough'] == i].count())\n",
    "    print('\\n')"
   ]
  },
  {
   "cell_type": "code",
   "execution_count": 23,
   "metadata": {
    "collapsed": true
   },
   "outputs": [],
   "source": [
    "unique_data = data[data.duplicated() == False]"
   ]
  },
  {
   "cell_type": "code",
   "execution_count": 24,
   "metadata": {
    "collapsed": false
   },
   "outputs": [
    {
     "name": "stdout",
     "output_type": "stream",
     "text": [
      "Borough : BROOKLYN \n",
      "\n",
      "Complaint Type      1617005\n",
      "Descriptor          1617005\n",
      "Incident Zip        1593308\n",
      "Incident Address    1374930\n",
      "Community Board     1617005\n",
      "Borough             1617005\n",
      "Location            1588072\n",
      "dtype: int64\n",
      "\n",
      "\n",
      "Borough : Unspecified \n",
      "\n",
      "Complaint Type      313345\n",
      "Descriptor          313345\n",
      "Incident Zip        307663\n",
      "Incident Address    312249\n",
      "Community Board     313345\n",
      "Borough             313345\n",
      "Location            301970\n",
      "dtype: int64\n",
      "\n",
      "\n",
      "Borough : STATEN ISLAND \n",
      "\n",
      "Complaint Type      350081\n",
      "Descriptor          350081\n",
      "Incident Zip        344928\n",
      "Incident Address    279499\n",
      "Community Board     350081\n",
      "Borough             350081\n",
      "Location            343884\n",
      "dtype: int64\n",
      "\n",
      "\n",
      "Borough : MANHATTAN \n",
      "\n",
      "Complaint Type      933604\n",
      "Descriptor          933604\n",
      "Incident Zip        917076\n",
      "Incident Address    775049\n",
      "Community Board     933604\n",
      "Borough             933604\n",
      "Location            910312\n",
      "dtype: int64\n",
      "\n",
      "\n",
      "Borough : BRONX \n",
      "\n",
      "Complaint Type      763780\n",
      "Descriptor          763780\n",
      "Incident Zip        750014\n",
      "Incident Address    668925\n",
      "Community Board     763780\n",
      "Borough             763780\n",
      "Location            746967\n",
      "dtype: int64\n",
      "\n",
      "\n",
      "Borough : QUEENS \n",
      "\n",
      "Complaint Type      1381521\n",
      "Descriptor          1381521\n",
      "Incident Zip        1360380\n",
      "Incident Address    1120458\n",
      "Community Board     1381521\n",
      "Borough             1381521\n",
      "Location            1356304\n",
      "dtype: int64\n",
      "\n",
      "\n"
     ]
    }
   ],
   "source": [
    "# What about missing values? Can you detect any patterns? \n",
    "for i in unique_borough:\n",
    "    print('Borough : %s \\n'%i)\n",
    "    print(unique_data[unique_data['Borough'] == i].count())\n",
    "    print('\\n')"
   ]
  },
  {
   "cell_type": "code",
   "execution_count": 25,
   "metadata": {
    "collapsed": false
   },
   "outputs": [
    {
     "data": {
      "text/html": [
       "<div>\n",
       "<table border=\"1\" class=\"dataframe\">\n",
       "  <thead>\n",
       "    <tr style=\"text-align: right;\">\n",
       "      <th></th>\n",
       "      <th>Complaint Type</th>\n",
       "      <th>Descriptor</th>\n",
       "      <th>Incident Zip</th>\n",
       "      <th>Incident Address</th>\n",
       "      <th>Community Board</th>\n",
       "      <th>Borough</th>\n",
       "      <th>Location</th>\n",
       "    </tr>\n",
       "  </thead>\n",
       "  <tbody>\n",
       "    <tr>\n",
       "      <th>0</th>\n",
       "      <td>201</td>\n",
       "      <td>1134</td>\n",
       "      <td>11224</td>\n",
       "      <td>NaN</td>\n",
       "      <td>13 BROOKLYN</td>\n",
       "      <td>BROOKLYN</td>\n",
       "      <td>(40.57343122248129, -73.99174247588253)</td>\n",
       "    </tr>\n",
       "    <tr>\n",
       "      <th>1</th>\n",
       "      <td>149</td>\n",
       "      <td>657</td>\n",
       "      <td>NaN</td>\n",
       "      <td>NaN</td>\n",
       "      <td>0 Unspecified</td>\n",
       "      <td>Unspecified</td>\n",
       "      <td>NaN</td>\n",
       "    </tr>\n",
       "    <tr>\n",
       "      <th>2</th>\n",
       "      <td>176</td>\n",
       "      <td>1516</td>\n",
       "      <td>11234</td>\n",
       "      <td>1157 EAST 57 STREET</td>\n",
       "      <td>18 BROOKLYN</td>\n",
       "      <td>BROOKLYN</td>\n",
       "      <td>(40.62500363580505, -73.92072558378698)</td>\n",
       "    </tr>\n",
       "    <tr>\n",
       "      <th>3</th>\n",
       "      <td>112</td>\n",
       "      <td>179</td>\n",
       "      <td>11218</td>\n",
       "      <td>722 EAST 4 STREET</td>\n",
       "      <td>12 BROOKLYN</td>\n",
       "      <td>BROOKLYN</td>\n",
       "      <td>(40.634522428879706, -73.97479041437481)</td>\n",
       "    </tr>\n",
       "    <tr>\n",
       "      <th>4</th>\n",
       "      <td>15</td>\n",
       "      <td>855</td>\n",
       "      <td>NaN</td>\n",
       "      <td>NaN</td>\n",
       "      <td>0 Unspecified</td>\n",
       "      <td>Unspecified</td>\n",
       "      <td>NaN</td>\n",
       "    </tr>\n",
       "  </tbody>\n",
       "</table>\n",
       "</div>"
      ],
      "text/plain": [
       "   Complaint Type  Descriptor Incident Zip     Incident Address  \\\n",
       "0             201        1134        11224                  NaN   \n",
       "1             149         657          NaN                  NaN   \n",
       "2             176        1516        11234  1157 EAST 57 STREET   \n",
       "3             112         179        11218    722 EAST 4 STREET   \n",
       "4              15         855          NaN                  NaN   \n",
       "\n",
       "  Community Board      Borough                                  Location  \n",
       "0     13 BROOKLYN     BROOKLYN   (40.57343122248129, -73.99174247588253)  \n",
       "1   0 Unspecified  Unspecified                                       NaN  \n",
       "2     18 BROOKLYN     BROOKLYN   (40.62500363580505, -73.92072558378698)  \n",
       "3     12 BROOKLYN     BROOKLYN  (40.634522428879706, -73.97479041437481)  \n",
       "4   0 Unspecified  Unspecified                                       NaN  "
      ]
     },
     "execution_count": 25,
     "metadata": {},
     "output_type": "execute_result"
    }
   ],
   "source": [
    "# Data Editing: Is it possible to replace missing values? Is it possible to use Complaint Type \n",
    "# to fill missings in Resolution Descriptor?\n",
    "unique_data.head()"
   ]
  },
  {
   "cell_type": "code",
   "execution_count": 26,
   "metadata": {
    "collapsed": false
   },
   "outputs": [
    {
     "data": {
      "text/plain": [
       "0      13 BROOKLYN\n",
       "1    0 Unspecified\n",
       "2      18 BROOKLYN\n",
       "3      12 BROOKLYN\n",
       "4    0 Unspecified\n",
       "Name: Community Board, dtype: object"
      ]
     },
     "execution_count": 26,
     "metadata": {},
     "output_type": "execute_result"
    }
   ],
   "source": [
    "# Generate marker for unplausible Community Districts\n",
    "# How do these districts look like? \n",
    "community_board = pd.Series(data['Community Board'])\n",
    "community_board.head()"
   ]
  },
  {
   "cell_type": "code",
   "execution_count": 27,
   "metadata": {
    "collapsed": false
   },
   "outputs": [
    {
     "data": {
      "text/html": [
       "<div>\n",
       "<table border=\"1\" class=\"dataframe\">\n",
       "  <thead>\n",
       "    <tr style=\"text-align: right;\">\n",
       "      <th></th>\n",
       "      <th>Complaint Type</th>\n",
       "      <th>Descriptor</th>\n",
       "      <th>Incident Zip</th>\n",
       "      <th>Incident Address</th>\n",
       "      <th>Community Board</th>\n",
       "      <th>Borough</th>\n",
       "      <th>Location</th>\n",
       "      <th>Community Index</th>\n",
       "      <th>Community Borough</th>\n",
       "    </tr>\n",
       "  </thead>\n",
       "  <tbody>\n",
       "    <tr>\n",
       "      <th>0</th>\n",
       "      <td>201</td>\n",
       "      <td>1134</td>\n",
       "      <td>11224</td>\n",
       "      <td>NaN</td>\n",
       "      <td>13 BROOKLYN</td>\n",
       "      <td>BROOKLYN</td>\n",
       "      <td>(40.57343122248129, -73.99174247588253)</td>\n",
       "      <td>13</td>\n",
       "      <td>BROOKLYN</td>\n",
       "    </tr>\n",
       "    <tr>\n",
       "      <th>1</th>\n",
       "      <td>149</td>\n",
       "      <td>657</td>\n",
       "      <td>NaN</td>\n",
       "      <td>NaN</td>\n",
       "      <td>0 Unspecified</td>\n",
       "      <td>Unspecified</td>\n",
       "      <td>NaN</td>\n",
       "      <td>0</td>\n",
       "      <td>Unspecified</td>\n",
       "    </tr>\n",
       "    <tr>\n",
       "      <th>2</th>\n",
       "      <td>176</td>\n",
       "      <td>1516</td>\n",
       "      <td>11234</td>\n",
       "      <td>1157 EAST 57 STREET</td>\n",
       "      <td>18 BROOKLYN</td>\n",
       "      <td>BROOKLYN</td>\n",
       "      <td>(40.62500363580505, -73.92072558378698)</td>\n",
       "      <td>18</td>\n",
       "      <td>BROOKLYN</td>\n",
       "    </tr>\n",
       "    <tr>\n",
       "      <th>3</th>\n",
       "      <td>112</td>\n",
       "      <td>179</td>\n",
       "      <td>11218</td>\n",
       "      <td>722 EAST 4 STREET</td>\n",
       "      <td>12 BROOKLYN</td>\n",
       "      <td>BROOKLYN</td>\n",
       "      <td>(40.634522428879706, -73.97479041437481)</td>\n",
       "      <td>12</td>\n",
       "      <td>BROOKLYN</td>\n",
       "    </tr>\n",
       "    <tr>\n",
       "      <th>4</th>\n",
       "      <td>15</td>\n",
       "      <td>855</td>\n",
       "      <td>NaN</td>\n",
       "      <td>NaN</td>\n",
       "      <td>0 Unspecified</td>\n",
       "      <td>Unspecified</td>\n",
       "      <td>NaN</td>\n",
       "      <td>0</td>\n",
       "      <td>Unspecified</td>\n",
       "    </tr>\n",
       "  </tbody>\n",
       "</table>\n",
       "</div>"
      ],
      "text/plain": [
       "   Complaint Type  Descriptor Incident Zip     Incident Address  \\\n",
       "0             201        1134        11224                  NaN   \n",
       "1             149         657          NaN                  NaN   \n",
       "2             176        1516        11234  1157 EAST 57 STREET   \n",
       "3             112         179        11218    722 EAST 4 STREET   \n",
       "4              15         855          NaN                  NaN   \n",
       "\n",
       "  Community Board      Borough                                  Location  \\\n",
       "0     13 BROOKLYN     BROOKLYN   (40.57343122248129, -73.99174247588253)   \n",
       "1   0 Unspecified  Unspecified                                       NaN   \n",
       "2     18 BROOKLYN     BROOKLYN   (40.62500363580505, -73.92072558378698)   \n",
       "3     12 BROOKLYN     BROOKLYN  (40.634522428879706, -73.97479041437481)   \n",
       "4   0 Unspecified  Unspecified                                       NaN   \n",
       "\n",
       "  Community Index Community Borough  \n",
       "0              13          BROOKLYN  \n",
       "1               0       Unspecified  \n",
       "2              18          BROOKLYN  \n",
       "3              12          BROOKLYN  \n",
       "4               0       Unspecified  "
      ]
     },
     "execution_count": 27,
     "metadata": {},
     "output_type": "execute_result"
    }
   ],
   "source": [
    "data['Community Index'] =community_board.str.extract('(\\d+)', expand=True)\n",
    "data['Community Borough'] = community_board.str.extract('([A-Z]\\w{0,})', expand=True)\n",
    "data.head()"
   ]
  },
  {
   "cell_type": "code",
   "execution_count": 28,
   "metadata": {
    "collapsed": false
   },
   "outputs": [
    {
     "data": {
      "text/plain": [
       "10187766"
      ]
     },
     "execution_count": 28,
     "metadata": {},
     "output_type": "execute_result"
    }
   ],
   "source": [
    "len(data)"
   ]
  },
  {
   "cell_type": "code",
   "execution_count": 29,
   "metadata": {
    "collapsed": false
   },
   "outputs": [
    {
     "data": {
      "text/plain": [
       "numpy.float64"
      ]
     },
     "execution_count": 29,
     "metadata": {},
     "output_type": "execute_result"
    }
   ],
   "source": [
    "data['Community Index'] = pd.to_numeric(data['Community Index'])\n",
    "type(data['Community Index'][0])"
   ]
  },
  {
   "cell_type": "code",
   "execution_count": 30,
   "metadata": {
    "collapsed": true
   },
   "outputs": [],
   "source": [
    "cd_manhattan =(data['Community Index'] > 0) & (data['Community Index'] < 13) \\\n",
    "& (data['Community Borough'] == 'MANHATTAN')"
   ]
  },
  {
   "cell_type": "code",
   "execution_count": 31,
   "metadata": {
    "collapsed": true
   },
   "outputs": [],
   "source": [
    "cd_brooklyn = (data['Community Index'] > 0) & (data['Community Index'] < 19) \\\n",
    "& (data['Community Borough'] == 'BROOKLYN')"
   ]
  },
  {
   "cell_type": "code",
   "execution_count": 32,
   "metadata": {
    "collapsed": true
   },
   "outputs": [],
   "source": [
    "cd_queens = (data['Community Index'] > 0) & (data['Community Index'] < 15) \\\n",
    "& (data['Community Borough'] == 'QUEENS')"
   ]
  },
  {
   "cell_type": "code",
   "execution_count": 33,
   "metadata": {
    "collapsed": true
   },
   "outputs": [],
   "source": [
    "cd_statenisland = (data['Community Index'] > 0) & (data['Community Index'] < 4) \\\n",
    "& (data['Community Borough'] == 'STATEN')"
   ]
  },
  {
   "cell_type": "code",
   "execution_count": 34,
   "metadata": {
    "collapsed": true
   },
   "outputs": [],
   "source": [
    "cd_bronx = (data['Community Index'] > 0) & (data['Community Index'] < 13) \\\n",
    "& (data['Community Borough'] == 'BRONX')"
   ]
  },
  {
   "cell_type": "code",
   "execution_count": 35,
   "metadata": {
    "collapsed": true
   },
   "outputs": [],
   "source": [
    "cd_total = cd_manhattan | cd_brooklyn | cd_queens | cd_statenisland | cd_bronx"
   ]
  },
  {
   "cell_type": "code",
   "execution_count": 36,
   "metadata": {
    "collapsed": false
   },
   "outputs": [
    {
     "data": {
      "text/html": [
       "<div>\n",
       "<table border=\"1\" class=\"dataframe\">\n",
       "  <thead>\n",
       "    <tr style=\"text-align: right;\">\n",
       "      <th></th>\n",
       "      <th>Complaint Type</th>\n",
       "      <th>Descriptor</th>\n",
       "      <th>Incident Zip</th>\n",
       "      <th>Incident Address</th>\n",
       "      <th>Community Board</th>\n",
       "      <th>Borough</th>\n",
       "      <th>Location</th>\n",
       "      <th>Community Index</th>\n",
       "      <th>Community Borough</th>\n",
       "    </tr>\n",
       "  </thead>\n",
       "  <tbody>\n",
       "    <tr>\n",
       "      <th>1</th>\n",
       "      <td>149</td>\n",
       "      <td>657</td>\n",
       "      <td>NaN</td>\n",
       "      <td>NaN</td>\n",
       "      <td>0 Unspecified</td>\n",
       "      <td>Unspecified</td>\n",
       "      <td>NaN</td>\n",
       "      <td>0.0</td>\n",
       "      <td>Unspecified</td>\n",
       "    </tr>\n",
       "    <tr>\n",
       "      <th>4</th>\n",
       "      <td>15</td>\n",
       "      <td>855</td>\n",
       "      <td>NaN</td>\n",
       "      <td>NaN</td>\n",
       "      <td>0 Unspecified</td>\n",
       "      <td>Unspecified</td>\n",
       "      <td>NaN</td>\n",
       "      <td>0.0</td>\n",
       "      <td>Unspecified</td>\n",
       "    </tr>\n",
       "    <tr>\n",
       "      <th>6</th>\n",
       "      <td>7</td>\n",
       "      <td>912</td>\n",
       "      <td>NaN</td>\n",
       "      <td>NaN</td>\n",
       "      <td>0 Unspecified</td>\n",
       "      <td>Unspecified</td>\n",
       "      <td>NaN</td>\n",
       "      <td>0.0</td>\n",
       "      <td>Unspecified</td>\n",
       "    </tr>\n",
       "    <tr>\n",
       "      <th>70</th>\n",
       "      <td>149</td>\n",
       "      <td>657</td>\n",
       "      <td>NaN</td>\n",
       "      <td>NaN</td>\n",
       "      <td>0 Unspecified</td>\n",
       "      <td>Unspecified</td>\n",
       "      <td>NaN</td>\n",
       "      <td>0.0</td>\n",
       "      <td>Unspecified</td>\n",
       "    </tr>\n",
       "    <tr>\n",
       "      <th>72</th>\n",
       "      <td>149</td>\n",
       "      <td>1036</td>\n",
       "      <td>NaN</td>\n",
       "      <td>NaN</td>\n",
       "      <td>0 Unspecified</td>\n",
       "      <td>Unspecified</td>\n",
       "      <td>NaN</td>\n",
       "      <td>0.0</td>\n",
       "      <td>Unspecified</td>\n",
       "    </tr>\n",
       "  </tbody>\n",
       "</table>\n",
       "</div>"
      ],
      "text/plain": [
       "    Complaint Type  Descriptor Incident Zip Incident Address Community Board  \\\n",
       "1              149         657          NaN              NaN   0 Unspecified   \n",
       "4               15         855          NaN              NaN   0 Unspecified   \n",
       "6                7         912          NaN              NaN   0 Unspecified   \n",
       "70             149         657          NaN              NaN   0 Unspecified   \n",
       "72             149        1036          NaN              NaN   0 Unspecified   \n",
       "\n",
       "        Borough Location  Community Index Community Borough  \n",
       "1   Unspecified      NaN              0.0       Unspecified  \n",
       "4   Unspecified      NaN              0.0       Unspecified  \n",
       "6   Unspecified      NaN              0.0       Unspecified  \n",
       "70  Unspecified      NaN              0.0       Unspecified  \n",
       "72  Unspecified      NaN              0.0       Unspecified  "
      ]
     },
     "execution_count": 36,
     "metadata": {},
     "output_type": "execute_result"
    }
   ],
   "source": [
    "unspecified = data[~cd_total]\n",
    "unspecified.head()"
   ]
  },
  {
   "cell_type": "code",
   "execution_count": 37,
   "metadata": {
    "collapsed": false
   },
   "outputs": [
    {
     "name": "stderr",
     "output_type": "stream",
     "text": [
      "/opt/rh/anaconda/root/envs/PUI2016_Python2/lib/python2.7/site-packages/ipykernel/__main__.py:3: SettingWithCopyWarning: \n",
      "A value is trying to be set on a copy of a slice from a DataFrame\n",
      "\n",
      "See the caveats in the documentation: http://pandas.pydata.org/pandas-docs/stable/indexing.html#indexing-view-versus-copy\n",
      "  app.launch_new_instance()\n"
     ]
    },
    {
     "data": {
      "text/html": [
       "<div>\n",
       "<table border=\"1\" class=\"dataframe\">\n",
       "  <thead>\n",
       "    <tr style=\"text-align: right;\">\n",
       "      <th></th>\n",
       "      <th>Complaint Type</th>\n",
       "      <th>Descriptor</th>\n",
       "      <th>Incident Zip</th>\n",
       "      <th>Incident Address</th>\n",
       "      <th>Community Board</th>\n",
       "      <th>Borough</th>\n",
       "      <th>Location</th>\n",
       "    </tr>\n",
       "  </thead>\n",
       "  <tbody>\n",
       "    <tr>\n",
       "      <th>0</th>\n",
       "      <td>201</td>\n",
       "      <td>1134</td>\n",
       "      <td>11224</td>\n",
       "      <td>NaN</td>\n",
       "      <td>13 BROOKLYN</td>\n",
       "      <td>BROOKLYN</td>\n",
       "      <td>(40.57343122248129, -73.99174247588253)</td>\n",
       "    </tr>\n",
       "    <tr>\n",
       "      <th>2</th>\n",
       "      <td>176</td>\n",
       "      <td>1516</td>\n",
       "      <td>11234</td>\n",
       "      <td>1157 EAST 57 STREET</td>\n",
       "      <td>18 BROOKLYN</td>\n",
       "      <td>BROOKLYN</td>\n",
       "      <td>(40.62500363580505, -73.92072558378698)</td>\n",
       "    </tr>\n",
       "    <tr>\n",
       "      <th>3</th>\n",
       "      <td>112</td>\n",
       "      <td>179</td>\n",
       "      <td>11218</td>\n",
       "      <td>722 EAST 4 STREET</td>\n",
       "      <td>12 BROOKLYN</td>\n",
       "      <td>BROOKLYN</td>\n",
       "      <td>(40.634522428879706, -73.97479041437481)</td>\n",
       "    </tr>\n",
       "    <tr>\n",
       "      <th>5</th>\n",
       "      <td>102</td>\n",
       "      <td>1135</td>\n",
       "      <td>10304</td>\n",
       "      <td>NaN</td>\n",
       "      <td>02 STATEN ISLAND</td>\n",
       "      <td>STATEN ISLAND</td>\n",
       "      <td>(40.60687536641399, -74.0854077221027)</td>\n",
       "    </tr>\n",
       "    <tr>\n",
       "      <th>7</th>\n",
       "      <td>137</td>\n",
       "      <td>829</td>\n",
       "      <td>10021</td>\n",
       "      <td>1402 2 AVENUE</td>\n",
       "      <td>08 MANHATTAN</td>\n",
       "      <td>MANHATTAN</td>\n",
       "      <td>(40.769378795761845, -73.95793023233308)</td>\n",
       "    </tr>\n",
       "  </tbody>\n",
       "</table>\n",
       "</div>"
      ],
      "text/plain": [
       "   Complaint Type  Descriptor Incident Zip     Incident Address  \\\n",
       "0             201        1134        11224                  NaN   \n",
       "2             176        1516        11234  1157 EAST 57 STREET   \n",
       "3             112         179        11218    722 EAST 4 STREET   \n",
       "5             102        1135        10304                  NaN   \n",
       "7             137         829        10021        1402 2 AVENUE   \n",
       "\n",
       "    Community Board        Borough                                  Location  \n",
       "0       13 BROOKLYN       BROOKLYN   (40.57343122248129, -73.99174247588253)  \n",
       "2       18 BROOKLYN       BROOKLYN   (40.62500363580505, -73.92072558378698)  \n",
       "3       12 BROOKLYN       BROOKLYN  (40.634522428879706, -73.97479041437481)  \n",
       "5  02 STATEN ISLAND  STATEN ISLAND    (40.60687536641399, -74.0854077221027)  \n",
       "7      08 MANHATTAN      MANHATTAN  (40.769378795761845, -73.95793023233308)  "
      ]
     },
     "execution_count": 37,
     "metadata": {},
     "output_type": "execute_result"
    }
   ],
   "source": [
    "# Drop the marked districts\n",
    "clean_data = data[cd_total]\n",
    "clean_data.drop(['Community Index', 'Community Borough'], axis = 1, inplace=True)\n",
    "clean_data.head()"
   ]
  },
  {
   "cell_type": "code",
   "execution_count": 38,
   "metadata": {
    "collapsed": false
   },
   "outputs": [
    {
     "data": {
      "text/plain": [
       "59"
      ]
     },
     "execution_count": 38,
     "metadata": {},
     "output_type": "execute_result"
    }
   ],
   "source": [
    "len(clean_data['Community Board'].unique())"
   ]
  },
  {
   "cell_type": "code",
   "execution_count": 41,
   "metadata": {
    "collapsed": false
   },
   "outputs": [
    {
     "data": {
      "text/plain": [
       "Index([u'Complaint Type', u'Descriptor', u'Incident Zip', u'Incident Address',\n",
       "       u'Community Board', u'Borough', u'Location'],\n",
       "      dtype='object')"
      ]
     },
     "execution_count": 41,
     "metadata": {},
     "output_type": "execute_result"
    }
   ],
   "source": [
    "clean_data.columns"
   ]
  },
  {
   "cell_type": "code",
   "execution_count": 42,
   "metadata": {
    "collapsed": false
   },
   "outputs": [
    {
     "data": {
      "text/html": [
       "<div>\n",
       "<table border=\"1\" class=\"dataframe\">\n",
       "  <thead>\n",
       "    <tr style=\"text-align: right;\">\n",
       "      <th></th>\n",
       "      <th>Complaint Type</th>\n",
       "      <th>Descriptor</th>\n",
       "      <th>Incident Zip</th>\n",
       "      <th>Incident Address</th>\n",
       "      <th>Borough</th>\n",
       "      <th>Location</th>\n",
       "    </tr>\n",
       "    <tr>\n",
       "      <th>Community Board</th>\n",
       "      <th></th>\n",
       "      <th></th>\n",
       "      <th></th>\n",
       "      <th></th>\n",
       "      <th></th>\n",
       "      <th></th>\n",
       "    </tr>\n",
       "  </thead>\n",
       "  <tbody>\n",
       "    <tr>\n",
       "      <th>01 BRONX</th>\n",
       "      <td>74631</td>\n",
       "      <td>74631</td>\n",
       "      <td>74435</td>\n",
       "      <td>64772</td>\n",
       "      <td>74631</td>\n",
       "      <td>73748</td>\n",
       "    </tr>\n",
       "    <tr>\n",
       "      <th>01 BROOKLYN</th>\n",
       "      <td>185057</td>\n",
       "      <td>185057</td>\n",
       "      <td>184497</td>\n",
       "      <td>144518</td>\n",
       "      <td>185057</td>\n",
       "      <td>182790</td>\n",
       "    </tr>\n",
       "    <tr>\n",
       "      <th>01 MANHATTAN</th>\n",
       "      <td>77974</td>\n",
       "      <td>77974</td>\n",
       "      <td>77877</td>\n",
       "      <td>49134</td>\n",
       "      <td>77974</td>\n",
       "      <td>77186</td>\n",
       "    </tr>\n",
       "    <tr>\n",
       "      <th>01 QUEENS</th>\n",
       "      <td>171484</td>\n",
       "      <td>171484</td>\n",
       "      <td>170826</td>\n",
       "      <td>134409</td>\n",
       "      <td>171484</td>\n",
       "      <td>169154</td>\n",
       "    </tr>\n",
       "    <tr>\n",
       "      <th>01 STATEN ISLAND</th>\n",
       "      <td>182713</td>\n",
       "      <td>182713</td>\n",
       "      <td>182043</td>\n",
       "      <td>144748</td>\n",
       "      <td>182713</td>\n",
       "      <td>180800</td>\n",
       "    </tr>\n",
       "  </tbody>\n",
       "</table>\n",
       "</div>"
      ],
      "text/plain": [
       "                  Complaint Type  Descriptor  Incident Zip  Incident Address  \\\n",
       "Community Board                                                                \n",
       "01 BRONX                   74631       74631         74435             64772   \n",
       "01 BROOKLYN               185057      185057        184497            144518   \n",
       "01 MANHATTAN               77974       77974         77877             49134   \n",
       "01 QUEENS                 171484      171484        170826            134409   \n",
       "01 STATEN ISLAND          182713      182713        182043            144748   \n",
       "\n",
       "                  Borough  Location  \n",
       "Community Board                      \n",
       "01 BRONX            74631     73748  \n",
       "01 BROOKLYN        185057    182790  \n",
       "01 MANHATTAN        77974     77186  \n",
       "01 QUEENS          171484    169154  \n",
       "01 STATEN ISLAND   182713    180800  "
      ]
     },
     "execution_count": 42,
     "metadata": {},
     "output_type": "execute_result"
    }
   ],
   "source": [
    "# Produce your result: Generate an indicator which ranks the Community District by complaint numbers \n",
    "# on the Community district level\n",
    "complaints = clean_data.groupby('Community Board').count()\n",
    "complaints.head()"
   ]
  },
  {
   "cell_type": "code",
   "execution_count": 43,
   "metadata": {
    "collapsed": false
   },
   "outputs": [
    {
     "data": {
      "text/html": [
       "<div>\n",
       "<table border=\"1\" class=\"dataframe\">\n",
       "  <thead>\n",
       "    <tr style=\"text-align: right;\">\n",
       "      <th></th>\n",
       "      <th>Complaint Type</th>\n",
       "    </tr>\n",
       "    <tr>\n",
       "      <th>Community Board</th>\n",
       "      <th></th>\n",
       "    </tr>\n",
       "  </thead>\n",
       "  <tbody>\n",
       "    <tr>\n",
       "      <th>01 BRONX</th>\n",
       "      <td>74631</td>\n",
       "    </tr>\n",
       "    <tr>\n",
       "      <th>01 BROOKLYN</th>\n",
       "      <td>185057</td>\n",
       "    </tr>\n",
       "    <tr>\n",
       "      <th>01 MANHATTAN</th>\n",
       "      <td>77974</td>\n",
       "    </tr>\n",
       "    <tr>\n",
       "      <th>01 QUEENS</th>\n",
       "      <td>171484</td>\n",
       "    </tr>\n",
       "    <tr>\n",
       "      <th>01 STATEN ISLAND</th>\n",
       "      <td>182713</td>\n",
       "    </tr>\n",
       "  </tbody>\n",
       "</table>\n",
       "</div>"
      ],
      "text/plain": [
       "                  Complaint Type\n",
       "Community Board                 \n",
       "01 BRONX                   74631\n",
       "01 BROOKLYN               185057\n",
       "01 MANHATTAN               77974\n",
       "01 QUEENS                 171484\n",
       "01 STATEN ISLAND          182713"
      ]
     },
     "execution_count": 43,
     "metadata": {},
     "output_type": "execute_result"
    }
   ],
   "source": [
    "complaints.drop([u'Descriptor', u'Incident Zip', u'Borough', u'Location', u'Incident Address'], axis = 1, inplace = True)\n",
    "complaints.head()"
   ]
  },
  {
   "cell_type": "code",
   "execution_count": 44,
   "metadata": {
    "collapsed": false
   },
   "outputs": [
    {
     "data": {
      "text/html": [
       "<div>\n",
       "<table border=\"1\" class=\"dataframe\">\n",
       "  <thead>\n",
       "    <tr style=\"text-align: right;\">\n",
       "      <th></th>\n",
       "      <th>Community Board</th>\n",
       "      <th>Complaint Count</th>\n",
       "    </tr>\n",
       "  </thead>\n",
       "  <tbody>\n",
       "    <tr>\n",
       "      <th>0</th>\n",
       "      <td>01 BRONX</td>\n",
       "      <td>74631</td>\n",
       "    </tr>\n",
       "    <tr>\n",
       "      <th>1</th>\n",
       "      <td>01 BROOKLYN</td>\n",
       "      <td>185057</td>\n",
       "    </tr>\n",
       "    <tr>\n",
       "      <th>2</th>\n",
       "      <td>01 MANHATTAN</td>\n",
       "      <td>77974</td>\n",
       "    </tr>\n",
       "    <tr>\n",
       "      <th>3</th>\n",
       "      <td>01 QUEENS</td>\n",
       "      <td>171484</td>\n",
       "    </tr>\n",
       "    <tr>\n",
       "      <th>4</th>\n",
       "      <td>01 STATEN ISLAND</td>\n",
       "      <td>182713</td>\n",
       "    </tr>\n",
       "  </tbody>\n",
       "</table>\n",
       "</div>"
      ],
      "text/plain": [
       "    Community Board  Complaint Count\n",
       "0          01 BRONX            74631\n",
       "1       01 BROOKLYN           185057\n",
       "2      01 MANHATTAN            77974\n",
       "3         01 QUEENS           171484\n",
       "4  01 STATEN ISLAND           182713"
      ]
     },
     "execution_count": 44,
     "metadata": {},
     "output_type": "execute_result"
    }
   ],
   "source": [
    "complaints.reset_index(inplace=True)\n",
    "complaints.rename(columns={'Complaint Type' : 'Complaint Count'}, inplace=True)\n",
    "complaints.head()"
   ]
  },
  {
   "cell_type": "code",
   "execution_count": 45,
   "metadata": {
    "collapsed": false
   },
   "outputs": [
    {
     "data": {
      "text/html": [
       "<div>\n",
       "<table border=\"1\" class=\"dataframe\">\n",
       "  <thead>\n",
       "    <tr style=\"text-align: right;\">\n",
       "      <th></th>\n",
       "      <th>Community Board</th>\n",
       "      <th>Complaint Count</th>\n",
       "      <th>Rank</th>\n",
       "    </tr>\n",
       "  </thead>\n",
       "  <tbody>\n",
       "    <tr>\n",
       "      <th>0</th>\n",
       "      <td>01 BRONX</td>\n",
       "      <td>74631</td>\n",
       "      <td>59.0</td>\n",
       "    </tr>\n",
       "    <tr>\n",
       "      <th>1</th>\n",
       "      <td>01 BROOKLYN</td>\n",
       "      <td>185057</td>\n",
       "      <td>58.0</td>\n",
       "    </tr>\n",
       "    <tr>\n",
       "      <th>2</th>\n",
       "      <td>01 MANHATTAN</td>\n",
       "      <td>77974</td>\n",
       "      <td>57.0</td>\n",
       "    </tr>\n",
       "    <tr>\n",
       "      <th>3</th>\n",
       "      <td>01 QUEENS</td>\n",
       "      <td>171484</td>\n",
       "      <td>56.0</td>\n",
       "    </tr>\n",
       "    <tr>\n",
       "      <th>4</th>\n",
       "      <td>01 STATEN ISLAND</td>\n",
       "      <td>182713</td>\n",
       "      <td>55.0</td>\n",
       "    </tr>\n",
       "  </tbody>\n",
       "</table>\n",
       "</div>"
      ],
      "text/plain": [
       "    Community Board  Complaint Count  Rank\n",
       "0          01 BRONX            74631  59.0\n",
       "1       01 BROOKLYN           185057  58.0\n",
       "2      01 MANHATTAN            77974  57.0\n",
       "3         01 QUEENS           171484  56.0\n",
       "4  01 STATEN ISLAND           182713  55.0"
      ]
     },
     "execution_count": 45,
     "metadata": {},
     "output_type": "execute_result"
    }
   ],
   "source": [
    "complaints['Rank'] = complaints['Community Board'].rank(ascending=False)\n",
    "complaints.head()"
   ]
  },
  {
   "cell_type": "code",
   "execution_count": 46,
   "metadata": {
    "collapsed": false
   },
   "outputs": [
    {
     "name": "stderr",
     "output_type": "stream",
     "text": [
      "/opt/rh/anaconda/root/envs/PUI2016_Python2/lib/python2.7/site-packages/ipykernel/__main__.py:1: FutureWarning: sort(columns=....) is deprecated, use sort_values(by=.....)\n",
      "  if __name__ == '__main__':\n"
     ]
    },
    {
     "data": {
      "text/html": [
       "<div>\n",
       "<table border=\"1\" class=\"dataframe\">\n",
       "  <thead>\n",
       "    <tr style=\"text-align: right;\">\n",
       "      <th></th>\n",
       "      <th>Community Board</th>\n",
       "      <th>Complaint Count</th>\n",
       "      <th>Rank</th>\n",
       "    </tr>\n",
       "  </thead>\n",
       "  <tbody>\n",
       "    <tr>\n",
       "      <th>58</th>\n",
       "      <td>18 BROOKLYN</td>\n",
       "      <td>156100</td>\n",
       "      <td>1.0</td>\n",
       "    </tr>\n",
       "    <tr>\n",
       "      <th>57</th>\n",
       "      <td>17 BROOKLYN</td>\n",
       "      <td>191720</td>\n",
       "      <td>2.0</td>\n",
       "    </tr>\n",
       "    <tr>\n",
       "      <th>56</th>\n",
       "      <td>16 BROOKLYN</td>\n",
       "      <td>85467</td>\n",
       "      <td>3.0</td>\n",
       "    </tr>\n",
       "    <tr>\n",
       "      <th>55</th>\n",
       "      <td>15 BROOKLYN</td>\n",
       "      <td>146129</td>\n",
       "      <td>4.0</td>\n",
       "    </tr>\n",
       "    <tr>\n",
       "      <th>54</th>\n",
       "      <td>14 QUEENS</td>\n",
       "      <td>103396</td>\n",
       "      <td>5.0</td>\n",
       "    </tr>\n",
       "  </tbody>\n",
       "</table>\n",
       "</div>"
      ],
      "text/plain": [
       "   Community Board  Complaint Count  Rank\n",
       "58     18 BROOKLYN           156100   1.0\n",
       "57     17 BROOKLYN           191720   2.0\n",
       "56     16 BROOKLYN            85467   3.0\n",
       "55     15 BROOKLYN           146129   4.0\n",
       "54       14 QUEENS           103396   5.0"
      ]
     },
     "execution_count": 46,
     "metadata": {},
     "output_type": "execute_result"
    }
   ],
   "source": [
    "complaints.sort(columns='Rank').head()"
   ]
  },
  {
   "cell_type": "code",
   "execution_count": 47,
   "metadata": {
    "collapsed": false
   },
   "outputs": [],
   "source": [
    "# km = KMeans(random_state = 123, n_clusters = len(data.index))\n",
    "# res = km.fit(data)\n",
    "# print (res.labels_.max())"
   ]
  },
  {
   "cell_type": "code",
   "execution_count": 48,
   "metadata": {
    "collapsed": true
   },
   "outputs": [],
   "source": [
    "# Safe reduced data frame (Community District level)"
   ]
  },
  {
   "cell_type": "markdown",
   "metadata": {},
   "source": [
    "# 4. Think about the interpretation of your results?\n",
    "What do you have to keep in mind when interpreting your results? Are they generable? Does the way the data is collected influence your results? To better inform city agancies it might be good to explore in more detail the underlying dempgraphics/infrastructure of a Community District becasue this might influence 311 calls. You can do this by merging external data on the Community District level to your analysis data. "
   ]
  },
  {
   "cell_type": "markdown",
   "metadata": {},
   "source": [
    "#### CSV directly downloaded\n",
    "#### Uploaded via Jupyter Notebooks into PUIdata folder"
   ]
  },
  {
   "cell_type": "code",
   "execution_count": 63,
   "metadata": {
    "collapsed": false
   },
   "outputs": [
    {
     "data": {
      "text/html": [
       "<div>\n",
       "<table border=\"1\" class=\"dataframe\">\n",
       "  <thead>\n",
       "    <tr style=\"text-align: right;\">\n",
       "      <th></th>\n",
       "      <th>FIPS</th>\n",
       "      <th>cd_id</th>\n",
       "      <th>Total Population</th>\n",
       "      <th>Population Density (per sq. mile)</th>\n",
       "      <th>% Total Population: Male</th>\n",
       "      <th>% Total Population: 18 to 24 Years</th>\n",
       "      <th>% Total Population: 25 to 34 Years</th>\n",
       "      <th>% Total Population: 35 to 44 Years</th>\n",
       "      <th>% Population 5 Years And Over: Speak Only English</th>\n",
       "      <th>% Population 5 Years And Over: Spanish or Spanish Creole</th>\n",
       "      <th>...</th>\n",
       "      <th>Employed Civilian Population 16 Years And Over: Production, transportation, and material moving  occupations: Production occupations</th>\n",
       "      <th>Employed Civilian Population 16 Years And Over: Production, transportation, and material moving  occupations: Transportation and material moving occupations</th>\n",
       "      <th>% Employed Civilian Population 16 Years And Over: Management, professional, and related occupations</th>\n",
       "      <th>% Employed Civilian Population 16 Years And Over: Service occupations</th>\n",
       "      <th>% Employed Civilian Population 16 Years And Over: Sales and office occupations</th>\n",
       "      <th>% Employed Civilian Population 16 Years And Over: Farming, fishing, and forestry occupations</th>\n",
       "      <th>% Employed Civilian Population 16 Years And Over: Construction, extraction, and maintenance  occupations</th>\n",
       "      <th>% Employed Civilian Population 16 Years And Over: Production, transportation, and material moving  occupations</th>\n",
       "      <th>% Employed Civilian Population 16 Years And Over: Production, transportation, and material moving  occupations: Production occupations</th>\n",
       "      <th>% Employed Civilian Population 16 Years And Over: Production, transportation, and material moving  occupations: Transportation and material moving occupations</th>\n",
       "    </tr>\n",
       "  </thead>\n",
       "  <tbody>\n",
       "    <tr>\n",
       "      <th>0</th>\n",
       "      <td>3603701</td>\n",
       "      <td>BX08</td>\n",
       "      <td>106737</td>\n",
       "      <td>31229.95006</td>\n",
       "      <td>46.65</td>\n",
       "      <td>10.73</td>\n",
       "      <td>15.04</td>\n",
       "      <td>11.32</td>\n",
       "      <td>46.80</td>\n",
       "      <td>39.24</td>\n",
       "      <td>...</td>\n",
       "      <td>665</td>\n",
       "      <td>1518</td>\n",
       "      <td>42.66</td>\n",
       "      <td>28.95</td>\n",
       "      <td>20.89</td>\n",
       "      <td>0.24</td>\n",
       "      <td>2.65</td>\n",
       "      <td>4.60</td>\n",
       "      <td>1.40</td>\n",
       "      <td>3.20</td>\n",
       "    </tr>\n",
       "    <tr>\n",
       "      <th>1</th>\n",
       "      <td>3603702</td>\n",
       "      <td>BX12</td>\n",
       "      <td>134644</td>\n",
       "      <td>19966.67839</td>\n",
       "      <td>46.35</td>\n",
       "      <td>11.35</td>\n",
       "      <td>14.29</td>\n",
       "      <td>12.57</td>\n",
       "      <td>73.09</td>\n",
       "      <td>18.19</td>\n",
       "      <td>...</td>\n",
       "      <td>1156</td>\n",
       "      <td>4174</td>\n",
       "      <td>29.57</td>\n",
       "      <td>33.98</td>\n",
       "      <td>20.40</td>\n",
       "      <td>0.00</td>\n",
       "      <td>7.08</td>\n",
       "      <td>8.97</td>\n",
       "      <td>1.95</td>\n",
       "      <td>7.02</td>\n",
       "    </tr>\n",
       "    <tr>\n",
       "      <th>2</th>\n",
       "      <td>3603703</td>\n",
       "      <td>BX10</td>\n",
       "      <td>121209</td>\n",
       "      <td>12913.81703</td>\n",
       "      <td>45.20</td>\n",
       "      <td>8.62</td>\n",
       "      <td>13.74</td>\n",
       "      <td>12.78</td>\n",
       "      <td>61.79</td>\n",
       "      <td>26.43</td>\n",
       "      <td>...</td>\n",
       "      <td>941</td>\n",
       "      <td>3433</td>\n",
       "      <td>36.20</td>\n",
       "      <td>22.85</td>\n",
       "      <td>25.09</td>\n",
       "      <td>0.00</td>\n",
       "      <td>7.68</td>\n",
       "      <td>8.18</td>\n",
       "      <td>1.76</td>\n",
       "      <td>6.42</td>\n",
       "    </tr>\n",
       "    <tr>\n",
       "      <th>3</th>\n",
       "      <td>3603704</td>\n",
       "      <td>BX11</td>\n",
       "      <td>135839</td>\n",
       "      <td>35677.95453</td>\n",
       "      <td>50.09</td>\n",
       "      <td>8.10</td>\n",
       "      <td>17.43</td>\n",
       "      <td>14.09</td>\n",
       "      <td>43.22</td>\n",
       "      <td>36.45</td>\n",
       "      <td>...</td>\n",
       "      <td>2189</td>\n",
       "      <td>5592</td>\n",
       "      <td>30.06</td>\n",
       "      <td>27.86</td>\n",
       "      <td>22.24</td>\n",
       "      <td>0.00</td>\n",
       "      <td>7.03</td>\n",
       "      <td>12.81</td>\n",
       "      <td>3.60</td>\n",
       "      <td>9.20</td>\n",
       "    </tr>\n",
       "    <tr>\n",
       "      <th>4</th>\n",
       "      <td>3603705</td>\n",
       "      <td>BX03</td>\n",
       "      <td>172247</td>\n",
       "      <td>39405.79222</td>\n",
       "      <td>44.72</td>\n",
       "      <td>14.24</td>\n",
       "      <td>14.89</td>\n",
       "      <td>12.38</td>\n",
       "      <td>36.82</td>\n",
       "      <td>54.24</td>\n",
       "      <td>...</td>\n",
       "      <td>1437</td>\n",
       "      <td>5436</td>\n",
       "      <td>16.80</td>\n",
       "      <td>41.00</td>\n",
       "      <td>22.29</td>\n",
       "      <td>0.03</td>\n",
       "      <td>8.45</td>\n",
       "      <td>11.43</td>\n",
       "      <td>2.39</td>\n",
       "      <td>9.04</td>\n",
       "    </tr>\n",
       "  </tbody>\n",
       "</table>\n",
       "<p>5 rows × 158 columns</p>\n",
       "</div>"
      ],
      "text/plain": [
       "      FIPS cd_id  Total Population  Population Density (per sq. mile)  \\\n",
       "0  3603701  BX08            106737                        31229.95006   \n",
       "1  3603702  BX12            134644                        19966.67839   \n",
       "2  3603703  BX10            121209                        12913.81703   \n",
       "3  3603704  BX11            135839                        35677.95453   \n",
       "4  3603705  BX03            172247                        39405.79222   \n",
       "\n",
       "   % Total Population: Male  % Total Population: 18 to 24 Years  \\\n",
       "0                     46.65                               10.73   \n",
       "1                     46.35                               11.35   \n",
       "2                     45.20                                8.62   \n",
       "3                     50.09                                8.10   \n",
       "4                     44.72                               14.24   \n",
       "\n",
       "   % Total Population: 25 to 34 Years  % Total Population: 35 to 44 Years  \\\n",
       "0                               15.04                               11.32   \n",
       "1                               14.29                               12.57   \n",
       "2                               13.74                               12.78   \n",
       "3                               17.43                               14.09   \n",
       "4                               14.89                               12.38   \n",
       "\n",
       "   % Population 5 Years And Over: Speak Only English  \\\n",
       "0                                              46.80   \n",
       "1                                              73.09   \n",
       "2                                              61.79   \n",
       "3                                              43.22   \n",
       "4                                              36.82   \n",
       "\n",
       "   % Population 5 Years And Over: Spanish or Spanish Creole  \\\n",
       "0                                              39.24          \n",
       "1                                              18.19          \n",
       "2                                              26.43          \n",
       "3                                              36.45          \n",
       "4                                              54.24          \n",
       "\n",
       "                                                                                ...                                                                                \\\n",
       "0                                                                               ...                                                                                 \n",
       "1                                                                               ...                                                                                 \n",
       "2                                                                               ...                                                                                 \n",
       "3                                                                               ...                                                                                 \n",
       "4                                                                               ...                                                                                 \n",
       "\n",
       "   Employed Civilian Population 16 Years And Over: Production, transportation, and material moving  occupations: Production occupations  \\\n",
       "0                                                665                                                                                      \n",
       "1                                               1156                                                                                      \n",
       "2                                                941                                                                                      \n",
       "3                                               2189                                                                                      \n",
       "4                                               1437                                                                                      \n",
       "\n",
       "   Employed Civilian Population 16 Years And Over: Production, transportation, and material moving  occupations: Transportation and material moving occupations  \\\n",
       "0                                               1518                                                                                                              \n",
       "1                                               4174                                                                                                              \n",
       "2                                               3433                                                                                                              \n",
       "3                                               5592                                                                                                              \n",
       "4                                               5436                                                                                                              \n",
       "\n",
       "   % Employed Civilian Population 16 Years And Over: Management, professional, and related occupations  \\\n",
       "0                                              42.66                                                     \n",
       "1                                              29.57                                                     \n",
       "2                                              36.20                                                     \n",
       "3                                              30.06                                                     \n",
       "4                                              16.80                                                     \n",
       "\n",
       "   % Employed Civilian Population 16 Years And Over: Service occupations  \\\n",
       "0                                              28.95                       \n",
       "1                                              33.98                       \n",
       "2                                              22.85                       \n",
       "3                                              27.86                       \n",
       "4                                              41.00                       \n",
       "\n",
       "   % Employed Civilian Population 16 Years And Over: Sales and office occupations  \\\n",
       "0                                              20.89                                \n",
       "1                                              20.40                                \n",
       "2                                              25.09                                \n",
       "3                                              22.24                                \n",
       "4                                              22.29                                \n",
       "\n",
       "   % Employed Civilian Population 16 Years And Over: Farming, fishing, and forestry occupations  \\\n",
       "0                                               0.24                                              \n",
       "1                                               0.00                                              \n",
       "2                                               0.00                                              \n",
       "3                                               0.00                                              \n",
       "4                                               0.03                                              \n",
       "\n",
       "   % Employed Civilian Population 16 Years And Over: Construction, extraction, and maintenance  occupations  \\\n",
       "0                                               2.65                                                          \n",
       "1                                               7.08                                                          \n",
       "2                                               7.68                                                          \n",
       "3                                               7.03                                                          \n",
       "4                                               8.45                                                          \n",
       "\n",
       "   % Employed Civilian Population 16 Years And Over: Production, transportation, and material moving  occupations  \\\n",
       "0                                               4.60                                                                \n",
       "1                                               8.97                                                                \n",
       "2                                               8.18                                                                \n",
       "3                                              12.81                                                                \n",
       "4                                              11.43                                                                \n",
       "\n",
       "   % Employed Civilian Population 16 Years And Over: Production, transportation, and material moving  occupations: Production occupations  \\\n",
       "0                                               1.40                                                                                        \n",
       "1                                               1.95                                                                                        \n",
       "2                                               1.76                                                                                        \n",
       "3                                               3.60                                                                                        \n",
       "4                                               2.39                                                                                        \n",
       "\n",
       "   % Employed Civilian Population 16 Years And Over: Production, transportation, and material moving  occupations: Transportation and material moving occupations  \n",
       "0                                               3.20                                                                                                               \n",
       "1                                               7.02                                                                                                               \n",
       "2                                               6.42                                                                                                               \n",
       "3                                               9.20                                                                                                               \n",
       "4                                               9.04                                                                                                               \n",
       "\n",
       "[5 rows x 158 columns]"
      ]
     },
     "execution_count": 63,
     "metadata": {},
     "output_type": "execute_result"
    }
   ],
   "source": [
    "# Population by Community District\n",
    "df_pop = pd.read_csv(PUIdata + \"/Final_Demographics.csv\")\n",
    "df_pop.head()"
   ]
  },
  {
   "cell_type": "code",
   "execution_count": 64,
   "metadata": {
    "collapsed": false
   },
   "outputs": [
    {
     "name": "stdout",
     "output_type": "stream",
     "text": [
      "There are 158 variables in the csv file\n"
     ]
    }
   ],
   "source": [
    "# Check variables in file\n",
    "print(\"There are %d variables in the csv file\"%len(df_pop.columns))"
   ]
  },
  {
   "cell_type": "code",
   "execution_count": 65,
   "metadata": {
    "collapsed": false
   },
   "outputs": [
    {
     "name": "stdout",
     "output_type": "stream",
     "text": [
      "There are 59 community districts in the file\n"
     ]
    }
   ],
   "source": [
    "# How many community districts are in file? \n",
    "print(\"There are %d community districts in the file\"%len(df_pop.cd_id.unique()))"
   ]
  },
  {
   "cell_type": "code",
   "execution_count": 66,
   "metadata": {
    "collapsed": false
   },
   "outputs": [
    {
     "data": {
      "text/plain": [
       "Index([u'FIPS', u'cd_id', u'Total Population',\n",
       "       u'Population Density (per sq. mile)', u'% Total Population: Male',\n",
       "       u'% Total Population: 18 to 24 Years',\n",
       "       u'% Total Population: 25 to 34 Years',\n",
       "       u'% Total Population: 35 to 44 Years',\n",
       "       u'% Population 5 Years And Over: Speak Only English',\n",
       "       u'% Population 5 Years And Over: Spanish or Spanish Creole',\n",
       "       ...\n",
       "       u'Employed Civilian Population 16 Years And Over: Production, transportation, and material moving  occupations: Production occupations',\n",
       "       u'Employed Civilian Population 16 Years And Over: Production, transportation, and material moving  occupations: Transportation and material moving occupations',\n",
       "       u'% Employed Civilian Population 16 Years And Over: Management, professional, and related occupations',\n",
       "       u'% Employed Civilian Population 16 Years And Over: Service occupations',\n",
       "       u'% Employed Civilian Population 16 Years And Over: Sales and office occupations',\n",
       "       u'% Employed Civilian Population 16 Years And Over: Farming, fishing, and forestry occupations',\n",
       "       u'% Employed Civilian Population 16 Years And Over: Construction, extraction, and maintenance  occupations',\n",
       "       u'% Employed Civilian Population 16 Years And Over: Production, transportation, and material moving  occupations',\n",
       "       u'% Employed Civilian Population 16 Years And Over: Production, transportation, and material moving  occupations: Production occupations',\n",
       "       u'% Employed Civilian Population 16 Years And Over: Production, transportation, and material moving  occupations: Transportation and material moving occupations'],\n",
       "      dtype='object', length=158)"
      ]
     },
     "execution_count": 66,
     "metadata": {},
     "output_type": "execute_result"
    }
   ],
   "source": [
    "# Manipulate data to get some information on demographics by Community District. \n",
    "# Think about who might be more likely to call 311count\n",
    "df_pop.columns"
   ]
  },
  {
   "cell_type": "code",
   "execution_count": 67,
   "metadata": {
    "collapsed": false
   },
   "outputs": [
    {
     "data": {
      "text/html": [
       "<div>\n",
       "<table border=\"1\" class=\"dataframe\">\n",
       "  <thead>\n",
       "    <tr style=\"text-align: right;\">\n",
       "      <th></th>\n",
       "      <th>FIPS</th>\n",
       "      <th>cd_id</th>\n",
       "      <th>Median household income (In 2014 Inflation Adjusted Dollars)</th>\n",
       "    </tr>\n",
       "  </thead>\n",
       "  <tbody>\n",
       "    <tr>\n",
       "      <th>0</th>\n",
       "      <td>3603701</td>\n",
       "      <td>BX08</td>\n",
       "      <td>54224</td>\n",
       "    </tr>\n",
       "    <tr>\n",
       "      <th>1</th>\n",
       "      <td>3603702</td>\n",
       "      <td>BX12</td>\n",
       "      <td>44906</td>\n",
       "    </tr>\n",
       "    <tr>\n",
       "      <th>2</th>\n",
       "      <td>3603703</td>\n",
       "      <td>BX10</td>\n",
       "      <td>54962</td>\n",
       "    </tr>\n",
       "    <tr>\n",
       "      <th>3</th>\n",
       "      <td>3603704</td>\n",
       "      <td>BX11</td>\n",
       "      <td>47910</td>\n",
       "    </tr>\n",
       "    <tr>\n",
       "      <th>4</th>\n",
       "      <td>3603705</td>\n",
       "      <td>BX03</td>\n",
       "      <td>22041</td>\n",
       "    </tr>\n",
       "  </tbody>\n",
       "</table>\n",
       "</div>"
      ],
      "text/plain": [
       "      FIPS cd_id  Median household income (In 2014 Inflation Adjusted Dollars)\n",
       "0  3603701  BX08                                              54224           \n",
       "1  3603702  BX12                                              44906           \n",
       "2  3603703  BX10                                              54962           \n",
       "3  3603704  BX11                                              47910           \n",
       "4  3603705  BX03                                              22041           "
      ]
     },
     "execution_count": 67,
     "metadata": {},
     "output_type": "execute_result"
    }
   ],
   "source": [
    "# Save data frame\n",
    "demographics = df_pop[['FIPS','cd_id','Median household income (In 2014 Inflation Adjusted Dollars)']]\n",
    "demographics.head()"
   ]
  },
  {
   "cell_type": "code",
   "execution_count": 69,
   "metadata": {
    "collapsed": false
   },
   "outputs": [
    {
     "name": "stderr",
     "output_type": "stream",
     "text": [
      "/opt/rh/anaconda/root/envs/PUI2016_Python2/lib/python2.7/site-packages/ipykernel/__main__.py:1: SettingWithCopyWarning: \n",
      "A value is trying to be set on a copy of a slice from a DataFrame\n",
      "\n",
      "See the caveats in the documentation: http://pandas.pydata.org/pandas-docs/stable/indexing.html#indexing-view-versus-copy\n",
      "  if __name__ == '__main__':\n"
     ]
    },
    {
     "data": {
      "text/html": [
       "<div>\n",
       "<table border=\"1\" class=\"dataframe\">\n",
       "  <thead>\n",
       "    <tr style=\"text-align: right;\">\n",
       "      <th></th>\n",
       "      <th>FIPS</th>\n",
       "      <th>cd_id</th>\n",
       "      <th>Median household income (In 2014 Inflation Adjusted Dollars)</th>\n",
       "    </tr>\n",
       "  </thead>\n",
       "  <tbody>\n",
       "    <tr>\n",
       "      <th>0</th>\n",
       "      <td>3603701</td>\n",
       "      <td>BX08</td>\n",
       "      <td>54224</td>\n",
       "    </tr>\n",
       "    <tr>\n",
       "      <th>1</th>\n",
       "      <td>3603702</td>\n",
       "      <td>BX12</td>\n",
       "      <td>44906</td>\n",
       "    </tr>\n",
       "    <tr>\n",
       "      <th>2</th>\n",
       "      <td>3603703</td>\n",
       "      <td>BX10</td>\n",
       "      <td>54962</td>\n",
       "    </tr>\n",
       "    <tr>\n",
       "      <th>3</th>\n",
       "      <td>3603704</td>\n",
       "      <td>BX11</td>\n",
       "      <td>47910</td>\n",
       "    </tr>\n",
       "    <tr>\n",
       "      <th>4</th>\n",
       "      <td>3603705</td>\n",
       "      <td>BX03</td>\n",
       "      <td>22041</td>\n",
       "    </tr>\n",
       "  </tbody>\n",
       "</table>\n",
       "</div>"
      ],
      "text/plain": [
       "      FIPS cd_id  Median household income (In 2014 Inflation Adjusted Dollars)\n",
       "0  3603701  BX08                                              54224           \n",
       "1  3603702  BX12                                              44906           \n",
       "2  3603703  BX10                                              54962           \n",
       "3  3603704  BX11                                              47910           \n",
       "4  3603705  BX03                                              22041           "
      ]
     },
     "execution_count": 69,
     "metadata": {},
     "output_type": "execute_result"
    }
   ],
   "source": [
    "demographics['cd_id'][15] = 'MN11'\n",
    "demographics.head()"
   ]
  },
  {
   "cell_type": "markdown",
   "metadata": {},
   "source": [
    "#### CSV directly downloaded\n",
    "#### Uploaded via Jupyter Notebooks into PUIdata folder"
   ]
  },
  {
   "cell_type": "code",
   "execution_count": 71,
   "metadata": {
    "collapsed": false
   },
   "outputs": [
    {
     "data": {
      "text/html": [
       "<div>\n",
       "<table border=\"1\" class=\"dataframe\">\n",
       "  <thead>\n",
       "    <tr style=\"text-align: right;\">\n",
       "      <th></th>\n",
       "      <th>FIPS</th>\n",
       "      <th>Geographic Identifier</th>\n",
       "      <th>Qualifying Name</th>\n",
       "      <th>Households</th>\n",
       "      <th>Households: With An Internet Subscription</th>\n",
       "      <th>Households: Dial-Up Alone</th>\n",
       "      <th>Households: Dsl</th>\n",
       "      <th>Households: With Mobile Broadband</th>\n",
       "      <th>Households: Without Mobile Broadband</th>\n",
       "      <th>Households: Cable Modem</th>\n",
       "      <th>...</th>\n",
       "      <th>Households: Mobile Broadband Alone or With Dialup</th>\n",
       "      <th>Households: Internet Access Without A Subscription</th>\n",
       "      <th>Households: No Internet Access</th>\n",
       "      <th>% Households: With An Internet Subscription</th>\n",
       "      <th>Households.1</th>\n",
       "      <th>Households: Has A Computer</th>\n",
       "      <th>Households: With Dial-Up Internet Subscription Alone</th>\n",
       "      <th>Households: With A Broadband Internet Subscription</th>\n",
       "      <th>Households: Without An Internet Subscription</th>\n",
       "      <th>Households: No Computer</th>\n",
       "    </tr>\n",
       "  </thead>\n",
       "  <tbody>\n",
       "    <tr>\n",
       "      <th>0</th>\n",
       "      <td>3603701</td>\n",
       "      <td>79500US3603701</td>\n",
       "      <td>NYC-Bronx Community District 8--Riverdale, New...</td>\n",
       "      <td>42035</td>\n",
       "      <td>31795</td>\n",
       "      <td>444</td>\n",
       "      <td>2813</td>\n",
       "      <td>946</td>\n",
       "      <td>1867</td>\n",
       "      <td>19178</td>\n",
       "      <td>...</td>\n",
       "      <td>2168</td>\n",
       "      <td>2119</td>\n",
       "      <td>8121</td>\n",
       "      <td>75.64</td>\n",
       "      <td>42035</td>\n",
       "      <td>35048</td>\n",
       "      <td>404</td>\n",
       "      <td>30943</td>\n",
       "      <td>3701</td>\n",
       "      <td>6987</td>\n",
       "    </tr>\n",
       "    <tr>\n",
       "      <th>1</th>\n",
       "      <td>3603702</td>\n",
       "      <td>79500US3603702</td>\n",
       "      <td>NYC-Bronx Community District 12--Wakefield, Ne...</td>\n",
       "      <td>44830</td>\n",
       "      <td>32243</td>\n",
       "      <td>178</td>\n",
       "      <td>849</td>\n",
       "      <td>405</td>\n",
       "      <td>444</td>\n",
       "      <td>18653</td>\n",
       "      <td>...</td>\n",
       "      <td>928</td>\n",
       "      <td>1891</td>\n",
       "      <td>10696</td>\n",
       "      <td>71.92</td>\n",
       "      <td>44830</td>\n",
       "      <td>36700</td>\n",
       "      <td>178</td>\n",
       "      <td>31435</td>\n",
       "      <td>5087</td>\n",
       "      <td>8130</td>\n",
       "    </tr>\n",
       "    <tr>\n",
       "      <th>2</th>\n",
       "      <td>3603703</td>\n",
       "      <td>79500US3603703</td>\n",
       "      <td>NYC-Bronx Community District 10--Co-op City, N...</td>\n",
       "      <td>47050</td>\n",
       "      <td>32729</td>\n",
       "      <td>158</td>\n",
       "      <td>1863</td>\n",
       "      <td>398</td>\n",
       "      <td>1465</td>\n",
       "      <td>20044</td>\n",
       "      <td>...</td>\n",
       "      <td>639</td>\n",
       "      <td>2882</td>\n",
       "      <td>11439</td>\n",
       "      <td>69.56</td>\n",
       "      <td>47050</td>\n",
       "      <td>38700</td>\n",
       "      <td>158</td>\n",
       "      <td>32333</td>\n",
       "      <td>6209</td>\n",
       "      <td>8350</td>\n",
       "    </tr>\n",
       "    <tr>\n",
       "      <th>3</th>\n",
       "      <td>3603704</td>\n",
       "      <td>79500US3603704</td>\n",
       "      <td>NYC-Bronx Community District 11--Pelham Parkwa...</td>\n",
       "      <td>44922</td>\n",
       "      <td>32003</td>\n",
       "      <td>141</td>\n",
       "      <td>1478</td>\n",
       "      <td>474</td>\n",
       "      <td>1004</td>\n",
       "      <td>17917</td>\n",
       "      <td>...</td>\n",
       "      <td>1001</td>\n",
       "      <td>2722</td>\n",
       "      <td>10197</td>\n",
       "      <td>71.24</td>\n",
       "      <td>44922</td>\n",
       "      <td>37237</td>\n",
       "      <td>122</td>\n",
       "      <td>31278</td>\n",
       "      <td>5837</td>\n",
       "      <td>7685</td>\n",
       "    </tr>\n",
       "    <tr>\n",
       "      <th>4</th>\n",
       "      <td>3603705</td>\n",
       "      <td>79500US3603705</td>\n",
       "      <td>NYC-Bronx Community District 3 &amp; 6--Belmont, N...</td>\n",
       "      <td>57556</td>\n",
       "      <td>35503</td>\n",
       "      <td>88</td>\n",
       "      <td>1297</td>\n",
       "      <td>651</td>\n",
       "      <td>646</td>\n",
       "      <td>15847</td>\n",
       "      <td>...</td>\n",
       "      <td>1385</td>\n",
       "      <td>3312</td>\n",
       "      <td>18741</td>\n",
       "      <td>61.68</td>\n",
       "      <td>57556</td>\n",
       "      <td>42576</td>\n",
       "      <td>88</td>\n",
       "      <td>33408</td>\n",
       "      <td>9080</td>\n",
       "      <td>14980</td>\n",
       "    </tr>\n",
       "  </tbody>\n",
       "</table>\n",
       "<p>5 rows × 31 columns</p>\n",
       "</div>"
      ],
      "text/plain": [
       "      FIPS Geographic Identifier  \\\n",
       "0  3603701        79500US3603701   \n",
       "1  3603702        79500US3603702   \n",
       "2  3603703        79500US3603703   \n",
       "3  3603704        79500US3603704   \n",
       "4  3603705        79500US3603705   \n",
       "\n",
       "                                     Qualifying Name  Households  \\\n",
       "0  NYC-Bronx Community District 8--Riverdale, New...       42035   \n",
       "1  NYC-Bronx Community District 12--Wakefield, Ne...       44830   \n",
       "2  NYC-Bronx Community District 10--Co-op City, N...       47050   \n",
       "3  NYC-Bronx Community District 11--Pelham Parkwa...       44922   \n",
       "4  NYC-Bronx Community District 3 & 6--Belmont, N...       57556   \n",
       "\n",
       "   Households: With An Internet Subscription  Households: Dial-Up Alone  \\\n",
       "0                                      31795                        444   \n",
       "1                                      32243                        178   \n",
       "2                                      32729                        158   \n",
       "3                                      32003                        141   \n",
       "4                                      35503                         88   \n",
       "\n",
       "   Households: Dsl  Households: With Mobile Broadband  \\\n",
       "0             2813                                946   \n",
       "1              849                                405   \n",
       "2             1863                                398   \n",
       "3             1478                                474   \n",
       "4             1297                                651   \n",
       "\n",
       "   Households: Without Mobile Broadband  Households: Cable Modem  \\\n",
       "0                                  1867                    19178   \n",
       "1                                   444                    18653   \n",
       "2                                  1465                    20044   \n",
       "3                                  1004                    17917   \n",
       "4                                   646                    15847   \n",
       "\n",
       "            ...             Households: Mobile Broadband Alone or With Dialup  \\\n",
       "0           ...                                                          2168   \n",
       "1           ...                                                           928   \n",
       "2           ...                                                           639   \n",
       "3           ...                                                          1001   \n",
       "4           ...                                                          1385   \n",
       "\n",
       "   Households: Internet Access Without A Subscription  \\\n",
       "0                                               2119    \n",
       "1                                               1891    \n",
       "2                                               2882    \n",
       "3                                               2722    \n",
       "4                                               3312    \n",
       "\n",
       "   Households: No Internet Access  \\\n",
       "0                            8121   \n",
       "1                           10696   \n",
       "2                           11439   \n",
       "3                           10197   \n",
       "4                           18741   \n",
       "\n",
       "   % Households: With An Internet Subscription  Households.1  \\\n",
       "0                                        75.64         42035   \n",
       "1                                        71.92         44830   \n",
       "2                                        69.56         47050   \n",
       "3                                        71.24         44922   \n",
       "4                                        61.68         57556   \n",
       "\n",
       "   Households: Has A Computer  \\\n",
       "0                       35048   \n",
       "1                       36700   \n",
       "2                       38700   \n",
       "3                       37237   \n",
       "4                       42576   \n",
       "\n",
       "   Households: With Dial-Up Internet Subscription Alone  \\\n",
       "0                                                404      \n",
       "1                                                178      \n",
       "2                                                158      \n",
       "3                                                122      \n",
       "4                                                 88      \n",
       "\n",
       "   Households: With A Broadband Internet Subscription  \\\n",
       "0                                              30943    \n",
       "1                                              31435    \n",
       "2                                              32333    \n",
       "3                                              31278    \n",
       "4                                              33408    \n",
       "\n",
       "   Households: Without An Internet Subscription  Households: No Computer  \n",
       "0                                          3701                     6987  \n",
       "1                                          5087                     8130  \n",
       "2                                          6209                     8350  \n",
       "3                                          5837                     7685  \n",
       "4                                          9080                    14980  \n",
       "\n",
       "[5 rows x 31 columns]"
      ]
     },
     "execution_count": 71,
     "metadata": {},
     "output_type": "execute_result"
    }
   ],
   "source": [
    "# Infrastructure by Community District\n",
    "df_infr = pd.read_csv(PUIdata + \"/ACS_Computer_Use_and_Internet_2014_1Year_Estimate.csv\")\n",
    "df_infr.head()"
   ]
  },
  {
   "cell_type": "code",
   "execution_count": 72,
   "metadata": {
    "collapsed": false
   },
   "outputs": [
    {
     "data": {
      "text/plain": [
       "Index([u'FIPS', u'Geographic Identifier', u'Qualifying Name', u'Households',\n",
       "       u'Households: With An Internet Subscription',\n",
       "       u'Households: Dial-Up Alone', u'Households: Dsl',\n",
       "       u'Households: With Mobile Broadband',\n",
       "       u'Households: Without Mobile Broadband', u'Households: Cable Modem',\n",
       "       u'Households: With Mobile Broadband.1',\n",
       "       u'Households: Without Mobile Broadband.1', u'Households: Fiber-Optic',\n",
       "       u'Households: With Mobile Broadband.2',\n",
       "       u'Households: Without Mobile Broadband.2',\n",
       "       u'Households: Satellite Internet Service',\n",
       "       u'Households: With Mobile Broadband.3',\n",
       "       u'Households: Without Mobile Broadband.3',\n",
       "       u'Households: Two or More Fixed Broadband Types, or Other',\n",
       "       u'Households: With Mobile Broadband.4',\n",
       "       u'Households: Without Mobile Broadband.4',\n",
       "       u'Households: Mobile Broadband Alone or With Dialup',\n",
       "       u'Households: Internet Access Without A Subscription',\n",
       "       u'Households: No Internet Access',\n",
       "       u'% Households: With An Internet Subscription', u'Households.1',\n",
       "       u'Households: Has A Computer',\n",
       "       u'Households: With Dial-Up Internet Subscription Alone',\n",
       "       u'Households: With A Broadband Internet Subscription',\n",
       "       u'Households: Without An Internet Subscription',\n",
       "       u'Households: No Computer'],\n",
       "      dtype='object')"
      ]
     },
     "execution_count": 72,
     "metadata": {},
     "output_type": "execute_result"
    }
   ],
   "source": [
    "df_infr.columns"
   ]
  },
  {
   "cell_type": "code",
   "execution_count": 73,
   "metadata": {
    "collapsed": false
   },
   "outputs": [
    {
     "name": "stdout",
     "output_type": "stream",
     "text": [
      "There are 31 variables in the csv file\n"
     ]
    }
   ],
   "source": [
    "# Check variables in file\n",
    "print(\"There are %d variables in the csv file\"%len(df_infr.columns))"
   ]
  },
  {
   "cell_type": "code",
   "execution_count": 74,
   "metadata": {
    "collapsed": false
   },
   "outputs": [
    {
     "name": "stdout",
     "output_type": "stream",
     "text": [
      "There are 55 community districts in the file\n"
     ]
    }
   ],
   "source": [
    "# How many community districts are in file? \n",
    "print(\"There are %d community districts in the file\"%len(df_infr['Qualifying Name'].unique()))"
   ]
  },
  {
   "cell_type": "code",
   "execution_count": 75,
   "metadata": {
    "collapsed": false
   },
   "outputs": [
    {
     "data": {
      "text/html": [
       "<div>\n",
       "<table border=\"1\" class=\"dataframe\">\n",
       "  <thead>\n",
       "    <tr style=\"text-align: right;\">\n",
       "      <th></th>\n",
       "      <th>Qualifying Name</th>\n",
       "      <th>Total Mobile Subscription</th>\n",
       "    </tr>\n",
       "  </thead>\n",
       "  <tbody>\n",
       "    <tr>\n",
       "      <th>0</th>\n",
       "      <td>NYC-Bronx Community District 8--Riverdale, New...</td>\n",
       "      <td>15359</td>\n",
       "    </tr>\n",
       "    <tr>\n",
       "      <th>1</th>\n",
       "      <td>NYC-Bronx Community District 12--Wakefield, Ne...</td>\n",
       "      <td>10486</td>\n",
       "    </tr>\n",
       "    <tr>\n",
       "      <th>2</th>\n",
       "      <td>NYC-Bronx Community District 10--Co-op City, N...</td>\n",
       "      <td>11425</td>\n",
       "    </tr>\n",
       "    <tr>\n",
       "      <th>3</th>\n",
       "      <td>NYC-Bronx Community District 11--Pelham Parkwa...</td>\n",
       "      <td>10748</td>\n",
       "    </tr>\n",
       "    <tr>\n",
       "      <th>4</th>\n",
       "      <td>NYC-Bronx Community District 3 &amp; 6--Belmont, N...</td>\n",
       "      <td>14907</td>\n",
       "    </tr>\n",
       "  </tbody>\n",
       "</table>\n",
       "</div>"
      ],
      "text/plain": [
       "                                     Qualifying Name  \\\n",
       "0  NYC-Bronx Community District 8--Riverdale, New...   \n",
       "1  NYC-Bronx Community District 12--Wakefield, Ne...   \n",
       "2  NYC-Bronx Community District 10--Co-op City, N...   \n",
       "3  NYC-Bronx Community District 11--Pelham Parkwa...   \n",
       "4  NYC-Bronx Community District 3 & 6--Belmont, N...   \n",
       "\n",
       "   Total Mobile Subscription  \n",
       "0                      15359  \n",
       "1                      10486  \n",
       "2                      11425  \n",
       "3                      10748  \n",
       "4                      14907  "
      ]
     },
     "execution_count": 75,
     "metadata": {},
     "output_type": "execute_result"
    }
   ],
   "source": [
    "# Manipulate data to get some information on internet/broadband useage by Community District\n",
    "# Aggregate the mobile subscription data\n",
    "internet = pd.DataFrame(df_infr['Qualifying Name'])\n",
    "internet['Total Mobile Subscription'] = df_infr['Households: With Mobile Broadband'] + \\\n",
    "df_infr['Households: With Mobile Broadband.1'] + df_infr['Households: With Mobile Broadband.2'] + \\\n",
    "df_infr['Households: With Mobile Broadband.3'] + df_infr['Households: With Mobile Broadband.4'] \n",
    "internet.head()"
   ]
  },
  {
   "cell_type": "code",
   "execution_count": 76,
   "metadata": {
    "collapsed": false
   },
   "outputs": [
    {
     "name": "stderr",
     "output_type": "stream",
     "text": [
      "/opt/rh/anaconda/root/envs/PUI2016_Python2/lib/python2.7/site-packages/ipykernel/__main__.py:2: FutureWarning: sort(columns=....) is deprecated, use sort_values(by=.....)\n",
      "  from ipykernel import kernelapp as app\n"
     ]
    },
    {
     "data": {
      "text/html": [
       "<div>\n",
       "<table border=\"1\" class=\"dataframe\">\n",
       "  <thead>\n",
       "    <tr style=\"text-align: right;\">\n",
       "      <th></th>\n",
       "      <th>Qualifying Name</th>\n",
       "      <th>Total Mobile Subscription</th>\n",
       "    </tr>\n",
       "  </thead>\n",
       "  <tbody>\n",
       "    <tr>\n",
       "      <th>16</th>\n",
       "      <td>NYC-Manhattan Community District 8--Upper East...</td>\n",
       "      <td>60021</td>\n",
       "    </tr>\n",
       "    <tr>\n",
       "      <th>17</th>\n",
       "      <td>NYC-Manhattan Community District 7--Upper West...</td>\n",
       "      <td>45095</td>\n",
       "    </tr>\n",
       "    <tr>\n",
       "      <th>23</th>\n",
       "      <td>NYC-Manhattan Community District 1 &amp; 2--Batter...</td>\n",
       "      <td>39655</td>\n",
       "    </tr>\n",
       "    <tr>\n",
       "      <th>22</th>\n",
       "      <td>NYC-Manhattan Community District 1 &amp; 2--Batter...</td>\n",
       "      <td>39655</td>\n",
       "    </tr>\n",
       "    <tr>\n",
       "      <th>20</th>\n",
       "      <td>NYC-Manhattan Community District 6--Murray Hil...</td>\n",
       "      <td>38116</td>\n",
       "    </tr>\n",
       "  </tbody>\n",
       "</table>\n",
       "</div>"
      ],
      "text/plain": [
       "                                      Qualifying Name  \\\n",
       "16  NYC-Manhattan Community District 8--Upper East...   \n",
       "17  NYC-Manhattan Community District 7--Upper West...   \n",
       "23  NYC-Manhattan Community District 1 & 2--Batter...   \n",
       "22  NYC-Manhattan Community District 1 & 2--Batter...   \n",
       "20  NYC-Manhattan Community District 6--Murray Hil...   \n",
       "\n",
       "    Total Mobile Subscription  \n",
       "16                      60021  \n",
       "17                      45095  \n",
       "23                      39655  \n",
       "22                      39655  \n",
       "20                      38116  "
      ]
     },
     "execution_count": 76,
     "metadata": {},
     "output_type": "execute_result"
    }
   ],
   "source": [
    "# Aggregate internet type by high and low connections\n",
    "internet.sort(columns='Total Mobile Subscription', ascending=False).head()"
   ]
  },
  {
   "cell_type": "code",
   "execution_count": null,
   "metadata": {
    "collapsed": true
   },
   "outputs": [],
   "source": [
    "# Save data frame "
   ]
  },
  {
   "cell_type": "markdown",
   "metadata": {},
   "source": [
    "# 5. Inform your results by linking datasets\n",
    "Now you want to link the three data frames to produce summary statistics for Community Districts which show a high number of complaints vs. Community Districts which show a lower number of complaints. Please keep in mind that the identifiers used for the linkage (Community Dostrict IDs) should be recored the same way. Use regular expressions to harmonize the identifiers if possible. The identifiers should look like BK01, BK02, etc.\n",
    "https://docs.python.org/2/library/re.html"
   ]
  },
  {
   "cell_type": "code",
   "execution_count": 77,
   "metadata": {
    "collapsed": false
   },
   "outputs": [
    {
     "data": {
      "text/html": [
       "<div>\n",
       "<table border=\"1\" class=\"dataframe\">\n",
       "  <thead>\n",
       "    <tr style=\"text-align: right;\">\n",
       "      <th></th>\n",
       "      <th>Community Board</th>\n",
       "      <th>Complaint Count</th>\n",
       "      <th>Rank</th>\n",
       "      <th>Community Index</th>\n",
       "      <th>Community Borough</th>\n",
       "    </tr>\n",
       "  </thead>\n",
       "  <tbody>\n",
       "    <tr>\n",
       "      <th>0</th>\n",
       "      <td>01 BRONX</td>\n",
       "      <td>74631</td>\n",
       "      <td>59.0</td>\n",
       "      <td>01</td>\n",
       "      <td>BRONX</td>\n",
       "    </tr>\n",
       "    <tr>\n",
       "      <th>1</th>\n",
       "      <td>01 BROOKLYN</td>\n",
       "      <td>185057</td>\n",
       "      <td>58.0</td>\n",
       "      <td>01</td>\n",
       "      <td>BROOKLYN</td>\n",
       "    </tr>\n",
       "    <tr>\n",
       "      <th>2</th>\n",
       "      <td>01 MANHATTAN</td>\n",
       "      <td>77974</td>\n",
       "      <td>57.0</td>\n",
       "      <td>01</td>\n",
       "      <td>MANHATTAN</td>\n",
       "    </tr>\n",
       "    <tr>\n",
       "      <th>3</th>\n",
       "      <td>01 QUEENS</td>\n",
       "      <td>171484</td>\n",
       "      <td>56.0</td>\n",
       "      <td>01</td>\n",
       "      <td>QUEENS</td>\n",
       "    </tr>\n",
       "    <tr>\n",
       "      <th>4</th>\n",
       "      <td>01 STATEN ISLAND</td>\n",
       "      <td>182713</td>\n",
       "      <td>55.0</td>\n",
       "      <td>01</td>\n",
       "      <td>STATEN</td>\n",
       "    </tr>\n",
       "  </tbody>\n",
       "</table>\n",
       "</div>"
      ],
      "text/plain": [
       "    Community Board  Complaint Count  Rank Community Index Community Borough\n",
       "0          01 BRONX            74631  59.0              01             BRONX\n",
       "1       01 BROOKLYN           185057  58.0              01          BROOKLYN\n",
       "2      01 MANHATTAN            77974  57.0              01         MANHATTAN\n",
       "3         01 QUEENS           171484  56.0              01            QUEENS\n",
       "4  01 STATEN ISLAND           182713  55.0              01            STATEN"
      ]
     },
     "execution_count": 77,
     "metadata": {},
     "output_type": "execute_result"
    }
   ],
   "source": [
    "# Harmonize identifier of dataframe 1\n",
    "community_board = pd.Series(complaints['Community Board'])\n",
    "complaints['Community Index'] =community_board.str.extract('(\\d+)', expand=True)\n",
    "complaints['Community Borough'] = community_board.str.extract('([A-Z]\\w{0,})', expand=True)\n",
    "complaints.head()"
   ]
  },
  {
   "cell_type": "code",
   "execution_count": 78,
   "metadata": {
    "collapsed": false
   },
   "outputs": [
    {
     "data": {
      "text/html": [
       "<div>\n",
       "<table border=\"1\" class=\"dataframe\">\n",
       "  <thead>\n",
       "    <tr style=\"text-align: right;\">\n",
       "      <th></th>\n",
       "      <th>Community Board</th>\n",
       "      <th>Complaint Count</th>\n",
       "      <th>Rank</th>\n",
       "      <th>Community Borough</th>\n",
       "      <th>cd_id</th>\n",
       "    </tr>\n",
       "  </thead>\n",
       "  <tbody>\n",
       "    <tr>\n",
       "      <th>0</th>\n",
       "      <td>01 BRONX</td>\n",
       "      <td>74631</td>\n",
       "      <td>59.0</td>\n",
       "      <td>BRONX</td>\n",
       "      <td>BX01</td>\n",
       "    </tr>\n",
       "    <tr>\n",
       "      <th>1</th>\n",
       "      <td>01 BROOKLYN</td>\n",
       "      <td>185057</td>\n",
       "      <td>58.0</td>\n",
       "      <td>BROOKLYN</td>\n",
       "      <td>BK01</td>\n",
       "    </tr>\n",
       "    <tr>\n",
       "      <th>2</th>\n",
       "      <td>01 MANHATTAN</td>\n",
       "      <td>77974</td>\n",
       "      <td>57.0</td>\n",
       "      <td>MANHATTAN</td>\n",
       "      <td>MN01</td>\n",
       "    </tr>\n",
       "    <tr>\n",
       "      <th>3</th>\n",
       "      <td>01 QUEENS</td>\n",
       "      <td>171484</td>\n",
       "      <td>56.0</td>\n",
       "      <td>QUEENS</td>\n",
       "      <td>QN01</td>\n",
       "    </tr>\n",
       "    <tr>\n",
       "      <th>4</th>\n",
       "      <td>01 STATEN ISLAND</td>\n",
       "      <td>182713</td>\n",
       "      <td>55.0</td>\n",
       "      <td>STATEN</td>\n",
       "      <td>SI01</td>\n",
       "    </tr>\n",
       "  </tbody>\n",
       "</table>\n",
       "</div>"
      ],
      "text/plain": [
       "    Community Board  Complaint Count  Rank Community Borough cd_id\n",
       "0          01 BRONX            74631  59.0             BRONX  BX01\n",
       "1       01 BROOKLYN           185057  58.0          BROOKLYN  BK01\n",
       "2      01 MANHATTAN            77974  57.0         MANHATTAN  MN01\n",
       "3         01 QUEENS           171484  56.0            QUEENS  QN01\n",
       "4  01 STATEN ISLAND           182713  55.0            STATEN  SI01"
      ]
     },
     "execution_count": 78,
     "metadata": {},
     "output_type": "execute_result"
    }
   ],
   "source": [
    "complaints['Abbr'] = complaints['Community Borough']\n",
    "complaints['Abbr'] = complaints['Abbr'].str.replace(pat='BROOKLYN', repl='BK')\n",
    "complaints['Abbr'] = complaints['Abbr'].str.replace(pat='MANHATTAN', repl='MN')\n",
    "complaints['Abbr'] = complaints['Abbr'].str.replace(pat='STATEN', repl='SI')\n",
    "complaints['Abbr'] = complaints['Abbr'].str.replace(pat='BRONX', repl='BX')\n",
    "complaints['Abbr'] = complaints['Abbr'].str.replace(pat='QUEENS', repl='QN')\n",
    "complaints['cd_id'] = complaints[['Abbr', 'Community Index']].apply(lambda x: ''.join(x), axis = 1)\n",
    "complaints.drop(['Community Index', 'Abbr'], axis=1, inplace=True)\n",
    "complaints.head()"
   ]
  },
  {
   "cell_type": "code",
   "execution_count": 79,
   "metadata": {
    "collapsed": false
   },
   "outputs": [
    {
     "data": {
      "text/html": [
       "<div>\n",
       "<table border=\"1\" class=\"dataframe\">\n",
       "  <thead>\n",
       "    <tr style=\"text-align: right;\">\n",
       "      <th></th>\n",
       "      <th>FIPS</th>\n",
       "      <th>cd_id</th>\n",
       "      <th>Median household income (In 2014 Inflation Adjusted Dollars)</th>\n",
       "    </tr>\n",
       "  </thead>\n",
       "  <tbody>\n",
       "    <tr>\n",
       "      <th>0</th>\n",
       "      <td>3603701</td>\n",
       "      <td>BX08</td>\n",
       "      <td>54224</td>\n",
       "    </tr>\n",
       "    <tr>\n",
       "      <th>1</th>\n",
       "      <td>3603702</td>\n",
       "      <td>BX12</td>\n",
       "      <td>44906</td>\n",
       "    </tr>\n",
       "    <tr>\n",
       "      <th>2</th>\n",
       "      <td>3603703</td>\n",
       "      <td>BX10</td>\n",
       "      <td>54962</td>\n",
       "    </tr>\n",
       "    <tr>\n",
       "      <th>3</th>\n",
       "      <td>3603704</td>\n",
       "      <td>BX11</td>\n",
       "      <td>47910</td>\n",
       "    </tr>\n",
       "    <tr>\n",
       "      <th>4</th>\n",
       "      <td>3603705</td>\n",
       "      <td>BX03</td>\n",
       "      <td>22041</td>\n",
       "    </tr>\n",
       "  </tbody>\n",
       "</table>\n",
       "</div>"
      ],
      "text/plain": [
       "      FIPS cd_id  Median household income (In 2014 Inflation Adjusted Dollars)\n",
       "0  3603701  BX08                                              54224           \n",
       "1  3603702  BX12                                              44906           \n",
       "2  3603703  BX10                                              54962           \n",
       "3  3603704  BX11                                              47910           \n",
       "4  3603705  BX03                                              22041           "
      ]
     },
     "execution_count": 79,
     "metadata": {},
     "output_type": "execute_result"
    }
   ],
   "source": [
    "# Harmonize identifier of dataframe 2\n",
    "demographics.head()"
   ]
  },
  {
   "cell_type": "code",
   "execution_count": 80,
   "metadata": {
    "collapsed": false
   },
   "outputs": [
    {
     "data": {
      "text/html": [
       "<div>\n",
       "<table border=\"1\" class=\"dataframe\">\n",
       "  <thead>\n",
       "    <tr style=\"text-align: right;\">\n",
       "      <th></th>\n",
       "      <th>Qualifying Name</th>\n",
       "      <th>Total Mobile Subscription</th>\n",
       "    </tr>\n",
       "  </thead>\n",
       "  <tbody>\n",
       "    <tr>\n",
       "      <th>0</th>\n",
       "      <td>NYC-Bronx Community District 8--Riverdale, New...</td>\n",
       "      <td>15359</td>\n",
       "    </tr>\n",
       "    <tr>\n",
       "      <th>1</th>\n",
       "      <td>NYC-Bronx Community District 12--Wakefield, Ne...</td>\n",
       "      <td>10486</td>\n",
       "    </tr>\n",
       "    <tr>\n",
       "      <th>2</th>\n",
       "      <td>NYC-Bronx Community District 10--Co-op City, N...</td>\n",
       "      <td>11425</td>\n",
       "    </tr>\n",
       "    <tr>\n",
       "      <th>3</th>\n",
       "      <td>NYC-Bronx Community District 11--Pelham Parkwa...</td>\n",
       "      <td>10748</td>\n",
       "    </tr>\n",
       "    <tr>\n",
       "      <th>4</th>\n",
       "      <td>NYC-Bronx Community District 3 &amp; 6--Belmont, N...</td>\n",
       "      <td>14907</td>\n",
       "    </tr>\n",
       "  </tbody>\n",
       "</table>\n",
       "</div>"
      ],
      "text/plain": [
       "                                     Qualifying Name  \\\n",
       "0  NYC-Bronx Community District 8--Riverdale, New...   \n",
       "1  NYC-Bronx Community District 12--Wakefield, Ne...   \n",
       "2  NYC-Bronx Community District 10--Co-op City, N...   \n",
       "3  NYC-Bronx Community District 11--Pelham Parkwa...   \n",
       "4  NYC-Bronx Community District 3 & 6--Belmont, N...   \n",
       "\n",
       "   Total Mobile Subscription  \n",
       "0                      15359  \n",
       "1                      10486  \n",
       "2                      11425  \n",
       "3                      10748  \n",
       "4                      14907  "
      ]
     },
     "execution_count": 80,
     "metadata": {},
     "output_type": "execute_result"
    }
   ],
   "source": [
    "# Harmonize identifier of dataframe 3\n",
    "internet.head()"
   ]
  },
  {
   "cell_type": "code",
   "execution_count": 82,
   "metadata": {
    "collapsed": false
   },
   "outputs": [
    {
     "data": {
      "text/html": [
       "<div>\n",
       "<table border=\"1\" class=\"dataframe\">\n",
       "  <thead>\n",
       "    <tr style=\"text-align: right;\">\n",
       "      <th></th>\n",
       "      <th>Qualifying Name</th>\n",
       "      <th>Total Mobile Subscription</th>\n",
       "      <th>Borough</th>\n",
       "    </tr>\n",
       "  </thead>\n",
       "  <tbody>\n",
       "    <tr>\n",
       "      <th>0</th>\n",
       "      <td>NYC-Bronx Community District 8--Riverdale, New...</td>\n",
       "      <td>15359</td>\n",
       "      <td>Bronx</td>\n",
       "    </tr>\n",
       "    <tr>\n",
       "      <th>1</th>\n",
       "      <td>NYC-Bronx Community District 12--Wakefield, Ne...</td>\n",
       "      <td>10486</td>\n",
       "      <td>Bronx</td>\n",
       "    </tr>\n",
       "    <tr>\n",
       "      <th>2</th>\n",
       "      <td>NYC-Bronx Community District 10--Co-op City, N...</td>\n",
       "      <td>11425</td>\n",
       "      <td>Bronx</td>\n",
       "    </tr>\n",
       "    <tr>\n",
       "      <th>3</th>\n",
       "      <td>NYC-Bronx Community District 11--Pelham Parkwa...</td>\n",
       "      <td>10748</td>\n",
       "      <td>Bronx</td>\n",
       "    </tr>\n",
       "    <tr>\n",
       "      <th>4</th>\n",
       "      <td>NYC-Bronx Community District 3 &amp; 6--Belmont, N...</td>\n",
       "      <td>14907</td>\n",
       "      <td>Bronx</td>\n",
       "    </tr>\n",
       "  </tbody>\n",
       "</table>\n",
       "</div>"
      ],
      "text/plain": [
       "                                     Qualifying Name  \\\n",
       "0  NYC-Bronx Community District 8--Riverdale, New...   \n",
       "1  NYC-Bronx Community District 12--Wakefield, Ne...   \n",
       "2  NYC-Bronx Community District 10--Co-op City, N...   \n",
       "3  NYC-Bronx Community District 11--Pelham Parkwa...   \n",
       "4  NYC-Bronx Community District 3 & 6--Belmont, N...   \n",
       "\n",
       "   Total Mobile Subscription Borough  \n",
       "0                      15359   Bronx  \n",
       "1                      10486   Bronx  \n",
       "2                      11425   Bronx  \n",
       "3                      10748   Bronx  \n",
       "4                      14907   Bronx  "
      ]
     },
     "execution_count": 82,
     "metadata": {},
     "output_type": "execute_result"
    }
   ],
   "source": [
    "community_district = internet['Qualifying Name'].str.split(' ')\n",
    "community_district = pd.Series(community_district)\n",
    "\n",
    "for i in range(len(community_district)):\n",
    "    internet.loc[i,'Borough'] = str(community_district[i][0])[4:]\n",
    "\n",
    "internet.head()"
   ]
  },
  {
   "cell_type": "code",
   "execution_count": 83,
   "metadata": {
    "collapsed": false
   },
   "outputs": [
    {
     "data": {
      "text/html": [
       "<div>\n",
       "<table border=\"1\" class=\"dataframe\">\n",
       "  <thead>\n",
       "    <tr style=\"text-align: right;\">\n",
       "      <th></th>\n",
       "      <th>Qualifying Name</th>\n",
       "      <th>Total Mobile Subscription</th>\n",
       "      <th>Borough</th>\n",
       "      <th>Abbr</th>\n",
       "    </tr>\n",
       "  </thead>\n",
       "  <tbody>\n",
       "    <tr>\n",
       "      <th>0</th>\n",
       "      <td>NYC-Bronx Community District 8--Riverdale, New...</td>\n",
       "      <td>15359</td>\n",
       "      <td>Bronx</td>\n",
       "      <td>BX</td>\n",
       "    </tr>\n",
       "    <tr>\n",
       "      <th>1</th>\n",
       "      <td>NYC-Bronx Community District 12--Wakefield, Ne...</td>\n",
       "      <td>10486</td>\n",
       "      <td>Bronx</td>\n",
       "      <td>BX</td>\n",
       "    </tr>\n",
       "    <tr>\n",
       "      <th>2</th>\n",
       "      <td>NYC-Bronx Community District 10--Co-op City, N...</td>\n",
       "      <td>11425</td>\n",
       "      <td>Bronx</td>\n",
       "      <td>BX</td>\n",
       "    </tr>\n",
       "    <tr>\n",
       "      <th>3</th>\n",
       "      <td>NYC-Bronx Community District 11--Pelham Parkwa...</td>\n",
       "      <td>10748</td>\n",
       "      <td>Bronx</td>\n",
       "      <td>BX</td>\n",
       "    </tr>\n",
       "    <tr>\n",
       "      <th>4</th>\n",
       "      <td>NYC-Bronx Community District 3 &amp; 6--Belmont, N...</td>\n",
       "      <td>14907</td>\n",
       "      <td>Bronx</td>\n",
       "      <td>BX</td>\n",
       "    </tr>\n",
       "  </tbody>\n",
       "</table>\n",
       "</div>"
      ],
      "text/plain": [
       "                                     Qualifying Name  \\\n",
       "0  NYC-Bronx Community District 8--Riverdale, New...   \n",
       "1  NYC-Bronx Community District 12--Wakefield, Ne...   \n",
       "2  NYC-Bronx Community District 10--Co-op City, N...   \n",
       "3  NYC-Bronx Community District 11--Pelham Parkwa...   \n",
       "4  NYC-Bronx Community District 3 & 6--Belmont, N...   \n",
       "\n",
       "   Total Mobile Subscription Borough Abbr  \n",
       "0                      15359   Bronx   BX  \n",
       "1                      10486   Bronx   BX  \n",
       "2                      11425   Bronx   BX  \n",
       "3                      10748   Bronx   BX  \n",
       "4                      14907   Bronx   BX  "
      ]
     },
     "execution_count": 83,
     "metadata": {},
     "output_type": "execute_result"
    }
   ],
   "source": [
    "internet['Abbr'] = internet['Borough']\n",
    "internet['Abbr'] = internet['Abbr'].str.replace(pat='Brooklyn', repl='BK')\n",
    "internet['Abbr'] = internet['Abbr'].str.replace(pat='Manhattan', repl='MN')\n",
    "internet['Abbr'] = internet['Abbr'].str.replace(pat='Staten', repl='SI')\n",
    "internet['Abbr'] = internet['Abbr'].str.replace(pat='Bronx', repl='BX')\n",
    "internet['Abbr'] = internet['Abbr'].str.replace(pat='Queens', repl='QN')\n",
    "internet.head()"
   ]
  },
  {
   "cell_type": "code",
   "execution_count": 85,
   "metadata": {
    "collapsed": false
   },
   "outputs": [
    {
     "data": {
      "text/html": [
       "<div>\n",
       "<table border=\"1\" class=\"dataframe\">\n",
       "  <thead>\n",
       "    <tr style=\"text-align: right;\">\n",
       "      <th></th>\n",
       "      <th>Qualifying Name</th>\n",
       "      <th>Total Mobile Subscription</th>\n",
       "      <th>Borough</th>\n",
       "      <th>Abbr</th>\n",
       "      <th>Community Index 1</th>\n",
       "      <th>Community Index 2</th>\n",
       "      <th>Community Index 3</th>\n",
       "    </tr>\n",
       "  </thead>\n",
       "  <tbody>\n",
       "    <tr>\n",
       "      <th>0</th>\n",
       "      <td>NYC-Bronx Community District 8--Riverdale, New...</td>\n",
       "      <td>15359</td>\n",
       "      <td>Bronx</td>\n",
       "      <td>BX</td>\n",
       "      <td>8</td>\n",
       "      <td>0</td>\n",
       "      <td>8</td>\n",
       "    </tr>\n",
       "    <tr>\n",
       "      <th>1</th>\n",
       "      <td>NYC-Bronx Community District 12--Wakefield, Ne...</td>\n",
       "      <td>10486</td>\n",
       "      <td>Bronx</td>\n",
       "      <td>BX</td>\n",
       "      <td>12</td>\n",
       "      <td>0</td>\n",
       "      <td>12</td>\n",
       "    </tr>\n",
       "    <tr>\n",
       "      <th>2</th>\n",
       "      <td>NYC-Bronx Community District 10--Co-op City, N...</td>\n",
       "      <td>11425</td>\n",
       "      <td>Bronx</td>\n",
       "      <td>BX</td>\n",
       "      <td>10</td>\n",
       "      <td>0</td>\n",
       "      <td>10</td>\n",
       "    </tr>\n",
       "    <tr>\n",
       "      <th>3</th>\n",
       "      <td>NYC-Bronx Community District 11--Pelham Parkwa...</td>\n",
       "      <td>10748</td>\n",
       "      <td>Bronx</td>\n",
       "      <td>BX</td>\n",
       "      <td>11</td>\n",
       "      <td>0</td>\n",
       "      <td>11</td>\n",
       "    </tr>\n",
       "    <tr>\n",
       "      <th>4</th>\n",
       "      <td>NYC-Bronx Community District 3 &amp; 6--Belmont, N...</td>\n",
       "      <td>14907</td>\n",
       "      <td>Bronx</td>\n",
       "      <td>BX</td>\n",
       "      <td>3</td>\n",
       "      <td>3 &amp; 6</td>\n",
       "      <td>6</td>\n",
       "    </tr>\n",
       "  </tbody>\n",
       "</table>\n",
       "</div>"
      ],
      "text/plain": [
       "                                     Qualifying Name  \\\n",
       "0  NYC-Bronx Community District 8--Riverdale, New...   \n",
       "1  NYC-Bronx Community District 12--Wakefield, Ne...   \n",
       "2  NYC-Bronx Community District 10--Co-op City, N...   \n",
       "3  NYC-Bronx Community District 11--Pelham Parkwa...   \n",
       "4  NYC-Bronx Community District 3 & 6--Belmont, N...   \n",
       "\n",
       "   Total Mobile Subscription Borough Abbr Community Index 1 Community Index 2  \\\n",
       "0                      15359   Bronx   BX                 8                 0   \n",
       "1                      10486   Bronx   BX                12                 0   \n",
       "2                      11425   Bronx   BX                10                 0   \n",
       "3                      10748   Bronx   BX                11                 0   \n",
       "4                      14907   Bronx   BX                 3             3 & 6   \n",
       "\n",
       "  Community Index 3  \n",
       "0                 8  \n",
       "1                12  \n",
       "2                10  \n",
       "3                11  \n",
       "4                 6  "
      ]
     },
     "execution_count": 85,
     "metadata": {},
     "output_type": "execute_result"
    }
   ],
   "source": [
    "internet['Community Index 1'] = internet['Qualifying Name'].str.extract('(\\d+)', expand=True)\n",
    "internet['Community Index 2'] = internet['Qualifying Name'].str.extract('(\\d+\\W+\\d+)', expand=True)\n",
    "internet['Community Index 3'] = internet['Qualifying Name'].str.extract('(\\d+)(?!.*\\d)', expand = True)\n",
    "\n",
    "internet['Community Index 2'] = internet['Community Index 2'].fillna(0)\n",
    "community_index = pd.Series(internet['Community Index 2'])\n",
    "\n",
    "internet.head()"
   ]
  },
  {
   "cell_type": "code",
   "execution_count": 86,
   "metadata": {
    "collapsed": false
   },
   "outputs": [
    {
     "name": "stderr",
     "output_type": "stream",
     "text": [
      "/opt/rh/anaconda/root/envs/PUI2016_Python2/lib/python2.7/site-packages/ipykernel/__main__.py:4: SettingWithCopyWarning: \n",
      "A value is trying to be set on a copy of a slice from a DataFrame\n",
      "\n",
      "See the caveats in the documentation: http://pandas.pydata.org/pandas-docs/stable/indexing.html#indexing-view-versus-copy\n"
     ]
    },
    {
     "data": {
      "text/html": [
       "<div>\n",
       "<table border=\"1\" class=\"dataframe\">\n",
       "  <thead>\n",
       "    <tr style=\"text-align: right;\">\n",
       "      <th></th>\n",
       "      <th>Qualifying Name</th>\n",
       "      <th>Total Mobile Subscription</th>\n",
       "      <th>Borough</th>\n",
       "      <th>Abbr</th>\n",
       "      <th>Community Index 1</th>\n",
       "      <th>Community Index 2</th>\n",
       "      <th>Community Index 3</th>\n",
       "    </tr>\n",
       "  </thead>\n",
       "  <tbody>\n",
       "    <tr>\n",
       "      <th>0</th>\n",
       "      <td>NYC-Bronx Community District 8--Riverdale, New...</td>\n",
       "      <td>15359</td>\n",
       "      <td>Bronx</td>\n",
       "      <td>BX</td>\n",
       "      <td>8</td>\n",
       "      <td>0</td>\n",
       "      <td>8</td>\n",
       "    </tr>\n",
       "    <tr>\n",
       "      <th>1</th>\n",
       "      <td>NYC-Bronx Community District 12--Wakefield, Ne...</td>\n",
       "      <td>10486</td>\n",
       "      <td>Bronx</td>\n",
       "      <td>BX</td>\n",
       "      <td>12</td>\n",
       "      <td>0</td>\n",
       "      <td>12</td>\n",
       "    </tr>\n",
       "    <tr>\n",
       "      <th>2</th>\n",
       "      <td>NYC-Bronx Community District 10--Co-op City, N...</td>\n",
       "      <td>11425</td>\n",
       "      <td>Bronx</td>\n",
       "      <td>BX</td>\n",
       "      <td>10</td>\n",
       "      <td>0</td>\n",
       "      <td>10</td>\n",
       "    </tr>\n",
       "    <tr>\n",
       "      <th>3</th>\n",
       "      <td>NYC-Bronx Community District 11--Pelham Parkwa...</td>\n",
       "      <td>10748</td>\n",
       "      <td>Bronx</td>\n",
       "      <td>BX</td>\n",
       "      <td>11</td>\n",
       "      <td>0</td>\n",
       "      <td>11</td>\n",
       "    </tr>\n",
       "    <tr>\n",
       "      <th>4</th>\n",
       "      <td>NYC-Bronx Community District 3 &amp; 6--Belmont, N...</td>\n",
       "      <td>14907</td>\n",
       "      <td>Bronx</td>\n",
       "      <td>BX</td>\n",
       "      <td>3</td>\n",
       "      <td>3 &amp; 6</td>\n",
       "      <td>6</td>\n",
       "    </tr>\n",
       "  </tbody>\n",
       "</table>\n",
       "</div>"
      ],
      "text/plain": [
       "                                     Qualifying Name  \\\n",
       "0  NYC-Bronx Community District 8--Riverdale, New...   \n",
       "1  NYC-Bronx Community District 12--Wakefield, Ne...   \n",
       "2  NYC-Bronx Community District 10--Co-op City, N...   \n",
       "3  NYC-Bronx Community District 11--Pelham Parkwa...   \n",
       "4  NYC-Bronx Community District 3 & 6--Belmont, N...   \n",
       "\n",
       "   Total Mobile Subscription Borough Abbr Community Index 1 Community Index 2  \\\n",
       "0                      15359   Bronx   BX                 8                 0   \n",
       "1                      10486   Bronx   BX                12                 0   \n",
       "2                      11425   Bronx   BX                10                 0   \n",
       "3                      10748   Bronx   BX                11                 0   \n",
       "4                      14907   Bronx   BX                 3             3 & 6   \n",
       "\n",
       "  Community Index 3  \n",
       "0                 8  \n",
       "1                12  \n",
       "2                10  \n",
       "3                11  \n",
       "4                 6  "
      ]
     },
     "execution_count": 86,
     "metadata": {},
     "output_type": "execute_result"
    }
   ],
   "source": [
    "flag = 0\n",
    "for i in range(len(internet['Community Index 2'])):\n",
    "    if (flag == 1):\n",
    "        internet['Community Index 1'][i] = internet['Community Index 3'][i]\n",
    "        flag = 0\n",
    "    if (internet['Community Index 2'][i] != 0):\n",
    "        flag = 1\n",
    "        \n",
    "internet.head()"
   ]
  },
  {
   "cell_type": "code",
   "execution_count": 87,
   "metadata": {
    "collapsed": false
   },
   "outputs": [
    {
     "data": {
      "text/html": [
       "<div>\n",
       "<table border=\"1\" class=\"dataframe\">\n",
       "  <thead>\n",
       "    <tr style=\"text-align: right;\">\n",
       "      <th></th>\n",
       "      <th>Qualifying Name</th>\n",
       "      <th>Total Mobile Subscription</th>\n",
       "      <th>Borough</th>\n",
       "      <th>Abbr</th>\n",
       "      <th>Community Index 1</th>\n",
       "      <th>Community Index 2</th>\n",
       "      <th>Community Index 3</th>\n",
       "      <th>cd_id</th>\n",
       "    </tr>\n",
       "  </thead>\n",
       "  <tbody>\n",
       "    <tr>\n",
       "      <th>0</th>\n",
       "      <td>NYC-Bronx Community District 8--Riverdale, New...</td>\n",
       "      <td>15359</td>\n",
       "      <td>Bronx</td>\n",
       "      <td>BX</td>\n",
       "      <td>8</td>\n",
       "      <td>0</td>\n",
       "      <td>8</td>\n",
       "      <td>BX8</td>\n",
       "    </tr>\n",
       "    <tr>\n",
       "      <th>1</th>\n",
       "      <td>NYC-Bronx Community District 12--Wakefield, Ne...</td>\n",
       "      <td>10486</td>\n",
       "      <td>Bronx</td>\n",
       "      <td>BX</td>\n",
       "      <td>12</td>\n",
       "      <td>0</td>\n",
       "      <td>12</td>\n",
       "      <td>BX12</td>\n",
       "    </tr>\n",
       "    <tr>\n",
       "      <th>2</th>\n",
       "      <td>NYC-Bronx Community District 10--Co-op City, N...</td>\n",
       "      <td>11425</td>\n",
       "      <td>Bronx</td>\n",
       "      <td>BX</td>\n",
       "      <td>10</td>\n",
       "      <td>0</td>\n",
       "      <td>10</td>\n",
       "      <td>BX10</td>\n",
       "    </tr>\n",
       "    <tr>\n",
       "      <th>3</th>\n",
       "      <td>NYC-Bronx Community District 11--Pelham Parkwa...</td>\n",
       "      <td>10748</td>\n",
       "      <td>Bronx</td>\n",
       "      <td>BX</td>\n",
       "      <td>11</td>\n",
       "      <td>0</td>\n",
       "      <td>11</td>\n",
       "      <td>BX11</td>\n",
       "    </tr>\n",
       "    <tr>\n",
       "      <th>4</th>\n",
       "      <td>NYC-Bronx Community District 3 &amp; 6--Belmont, N...</td>\n",
       "      <td>14907</td>\n",
       "      <td>Bronx</td>\n",
       "      <td>BX</td>\n",
       "      <td>3</td>\n",
       "      <td>3 &amp; 6</td>\n",
       "      <td>6</td>\n",
       "      <td>BX3</td>\n",
       "    </tr>\n",
       "  </tbody>\n",
       "</table>\n",
       "</div>"
      ],
      "text/plain": [
       "                                     Qualifying Name  \\\n",
       "0  NYC-Bronx Community District 8--Riverdale, New...   \n",
       "1  NYC-Bronx Community District 12--Wakefield, Ne...   \n",
       "2  NYC-Bronx Community District 10--Co-op City, N...   \n",
       "3  NYC-Bronx Community District 11--Pelham Parkwa...   \n",
       "4  NYC-Bronx Community District 3 & 6--Belmont, N...   \n",
       "\n",
       "   Total Mobile Subscription Borough Abbr Community Index 1 Community Index 2  \\\n",
       "0                      15359   Bronx   BX                 8                 0   \n",
       "1                      10486   Bronx   BX                12                 0   \n",
       "2                      11425   Bronx   BX                10                 0   \n",
       "3                      10748   Bronx   BX                11                 0   \n",
       "4                      14907   Bronx   BX                 3             3 & 6   \n",
       "\n",
       "  Community Index 3 cd_id  \n",
       "0                 8   BX8  \n",
       "1                12  BX12  \n",
       "2                10  BX10  \n",
       "3                11  BX11  \n",
       "4                 6   BX3  "
      ]
     },
     "execution_count": 87,
     "metadata": {},
     "output_type": "execute_result"
    }
   ],
   "source": [
    "internet['cd_id'] = internet[['Abbr', 'Community Index 1']].apply(lambda x: ''.join(x), axis = 1)\n",
    "internet.head()"
   ]
  },
  {
   "cell_type": "code",
   "execution_count": 88,
   "metadata": {
    "collapsed": false
   },
   "outputs": [
    {
     "data": {
      "text/html": [
       "<div>\n",
       "<table border=\"1\" class=\"dataframe\">\n",
       "  <thead>\n",
       "    <tr style=\"text-align: right;\">\n",
       "      <th></th>\n",
       "      <th>Total Mobile Subscription</th>\n",
       "      <th>cd_id</th>\n",
       "    </tr>\n",
       "  </thead>\n",
       "  <tbody>\n",
       "    <tr>\n",
       "      <th>0</th>\n",
       "      <td>15359</td>\n",
       "      <td>BX8</td>\n",
       "    </tr>\n",
       "    <tr>\n",
       "      <th>1</th>\n",
       "      <td>10486</td>\n",
       "      <td>BX12</td>\n",
       "    </tr>\n",
       "    <tr>\n",
       "      <th>2</th>\n",
       "      <td>11425</td>\n",
       "      <td>BX10</td>\n",
       "    </tr>\n",
       "    <tr>\n",
       "      <th>3</th>\n",
       "      <td>10748</td>\n",
       "      <td>BX11</td>\n",
       "    </tr>\n",
       "    <tr>\n",
       "      <th>4</th>\n",
       "      <td>14907</td>\n",
       "      <td>BX3</td>\n",
       "    </tr>\n",
       "  </tbody>\n",
       "</table>\n",
       "</div>"
      ],
      "text/plain": [
       "   Total Mobile Subscription cd_id\n",
       "0                      15359   BX8\n",
       "1                      10486  BX12\n",
       "2                      11425  BX10\n",
       "3                      10748  BX11\n",
       "4                      14907   BX3"
      ]
     },
     "execution_count": 88,
     "metadata": {},
     "output_type": "execute_result"
    }
   ],
   "source": [
    "internet.drop(['Qualifying Name', 'Borough', 'Community Index 1', 'Community Index 2', 'Community Index 3', 'Abbr'],\\\n",
    "              axis = 1, inplace=True)\n",
    "internet.head()"
   ]
  },
  {
   "cell_type": "code",
   "execution_count": 99,
   "metadata": {
    "collapsed": false
   },
   "outputs": [
    {
     "data": {
      "text/plain": [
       "98"
      ]
     },
     "execution_count": 99,
     "metadata": {},
     "output_type": "execute_result"
    }
   ],
   "source": [
    "# Link the 3 dataframes\n",
    "complaints_demographics = pd.merge(complaints, demographics, on='cd_id', how = 'outer')\n",
    "complaints_demographics_internet = pd.merge(complaints_demographics, internet, on='cd_id', how = 'outer')\n",
    "len(complaints_demographics_internet)"
   ]
  },
  {
   "cell_type": "code",
   "execution_count": 102,
   "metadata": {
    "collapsed": false
   },
   "outputs": [
    {
     "data": {
      "text/plain": [
       "Index([u'Community Board', u'Complaint Count', u'Rank', u'Community Borough',\n",
       "       u'cd_id', u'FIPS',\n",
       "       u'Median household income (In 2014 Inflation Adjusted Dollars)',\n",
       "       u'Total Mobile Subscription'],\n",
       "      dtype='object')"
      ]
     },
     "execution_count": 102,
     "metadata": {},
     "output_type": "execute_result"
    }
   ],
   "source": [
    "complaints_demographics_internet.columns"
   ]
  },
  {
   "cell_type": "code",
   "execution_count": 103,
   "metadata": {
    "collapsed": false,
    "scrolled": true
   },
   "outputs": [
    {
     "data": {
      "text/html": [
       "<div>\n",
       "<table border=\"1\" class=\"dataframe\">\n",
       "  <thead>\n",
       "    <tr style=\"text-align: right;\">\n",
       "      <th></th>\n",
       "      <th>Complaint Count</th>\n",
       "      <th>Rank</th>\n",
       "      <th>cd_id</th>\n",
       "      <th>FIPS</th>\n",
       "      <th>Median household income (In 2014 Inflation Adjusted Dollars)</th>\n",
       "      <th>Total Mobile Subscription</th>\n",
       "    </tr>\n",
       "  </thead>\n",
       "  <tbody>\n",
       "    <tr>\n",
       "      <th>0</th>\n",
       "      <td>74631.0</td>\n",
       "      <td>59.0</td>\n",
       "      <td>BX01</td>\n",
       "      <td>3603710.0</td>\n",
       "      <td>21116.0</td>\n",
       "      <td>NaN</td>\n",
       "    </tr>\n",
       "    <tr>\n",
       "      <th>1</th>\n",
       "      <td>185057.0</td>\n",
       "      <td>58.0</td>\n",
       "      <td>BK01</td>\n",
       "      <td>3604001.0</td>\n",
       "      <td>57818.0</td>\n",
       "      <td>NaN</td>\n",
       "    </tr>\n",
       "    <tr>\n",
       "      <th>2</th>\n",
       "      <td>77974.0</td>\n",
       "      <td>57.0</td>\n",
       "      <td>MN01</td>\n",
       "      <td>3603810.0</td>\n",
       "      <td>120190.0</td>\n",
       "      <td>NaN</td>\n",
       "    </tr>\n",
       "    <tr>\n",
       "      <th>3</th>\n",
       "      <td>171484.0</td>\n",
       "      <td>56.0</td>\n",
       "      <td>QN01</td>\n",
       "      <td>3604101.0</td>\n",
       "      <td>56269.0</td>\n",
       "      <td>NaN</td>\n",
       "    </tr>\n",
       "    <tr>\n",
       "      <th>4</th>\n",
       "      <td>182713.0</td>\n",
       "      <td>55.0</td>\n",
       "      <td>SI01</td>\n",
       "      <td>3603903.0</td>\n",
       "      <td>57602.0</td>\n",
       "      <td>NaN</td>\n",
       "    </tr>\n",
       "  </tbody>\n",
       "</table>\n",
       "</div>"
      ],
      "text/plain": [
       "   Complaint Count  Rank cd_id       FIPS  \\\n",
       "0          74631.0  59.0  BX01  3603710.0   \n",
       "1         185057.0  58.0  BK01  3604001.0   \n",
       "2          77974.0  57.0  MN01  3603810.0   \n",
       "3         171484.0  56.0  QN01  3604101.0   \n",
       "4         182713.0  55.0  SI01  3603903.0   \n",
       "\n",
       "   Median household income (In 2014 Inflation Adjusted Dollars)  \\\n",
       "0                                            21116.0              \n",
       "1                                            57818.0              \n",
       "2                                           120190.0              \n",
       "3                                            56269.0              \n",
       "4                                            57602.0              \n",
       "\n",
       "   Total Mobile Subscription  \n",
       "0                        NaN  \n",
       "1                        NaN  \n",
       "2                        NaN  \n",
       "3                        NaN  \n",
       "4                        NaN  "
      ]
     },
     "execution_count": 103,
     "metadata": {},
     "output_type": "execute_result"
    }
   ],
   "source": [
    "complaints_demographics_internet.drop(['Community Board', 'Community Borough'], axis = 1, inplace=True)\n",
    "complaints_demographics_internet.head()"
   ]
  },
  {
   "cell_type": "code",
   "execution_count": null,
   "metadata": {
    "collapsed": true
   },
   "outputs": [],
   "source": [
    "# Are the demographics and infrastructure different in Community Districts that show more complaints than others?"
   ]
  }
 ],
 "metadata": {
  "celltoolbar": "Raw Cell Format",
  "kernelspec": {
   "display_name": "PUI2016_Python2",
   "language": "python",
   "name": "pui2016_python2"
  },
  "language_info": {
   "codemirror_mode": {
    "name": "ipython",
    "version": 2
   },
   "file_extension": ".py",
   "mimetype": "text/x-python",
   "name": "python",
   "nbconvert_exporter": "python",
   "pygments_lexer": "ipython2",
   "version": "2.7.12"
  }
 },
 "nbformat": 4,
 "nbformat_minor": 0
}
