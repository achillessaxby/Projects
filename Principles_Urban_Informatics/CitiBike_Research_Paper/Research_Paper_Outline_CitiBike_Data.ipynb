{
 "cells": [
  {
   "cell_type": "markdown",
   "metadata": {},
   "source": [
    "# The .save is due to problems faced during git push - instructor named it this way to help solve issues"
   ]
  },
  {
   "cell_type": "markdown",
   "metadata": {},
   "source": [
    "## The Authorea paper for this assignment has been published\n",
    "## Every member of the team have been made co-authors for the paper\n",
    "### The paper can be found in any of the team members' Authorea page "
   ]
  },
  {
   "cell_type": "markdown",
   "metadata": {},
   "source": [
    "#### Assignment_2_Solutions copied from HW_3_aes807 \n",
    "#### Previous HW repository was used to create the first half of this code !!\n",
    "#### Second half of the code created by Aaron D'Souza with the group for the group project !!\n",
    "#### Group:\n",
    "    - Anastasia Shegay\n",
    "    - Priyanshi Singh\n",
    "    - Akshay Penmatcha\n",
    "    - Aaron D'Souza\n",
    "    - Vishwajeet Shelar\n",
    "    - Achilles Saxby"
   ]
  },
  {
   "cell_type": "markdown",
   "metadata": {
    "collapsed": true
   },
   "source": [
    "# IDEA\n",
    "\n",
    "### The average trip duration of the customer is more than that of the subscriber which indicates that a single time user tries to make the best use of his investment."
   ]
  },
  {
   "cell_type": "markdown",
   "metadata": {},
   "source": [
    "# Null Hypothesis ($H_0$)\n",
    "\n",
    "### The mean trip duration of single time user (customer) over a week is less than or equal to the mean trip duration of the subscribers over a week.\n",
    "\n",
    "### $H_0$ : T(customer) <= T(subscriber)"
   ]
  },
  {
   "cell_type": "markdown",
   "metadata": {},
   "source": [
    "# Alternate Hypothesis ($H_a$)\n",
    "\n",
    "### The mean trip duration of single time user (customer) over a week in more than the mean trip duration of the subscribers over a week\n",
    "\n",
    "### $H_a$: T(customer) > T(subscriber)"
   ]
  },
  {
   "cell_type": "markdown",
   "metadata": {},
   "source": [
    "### We have used a significance level (α) = 0.05/5%"
   ]
  },
  {
   "cell_type": "code",
   "execution_count": 2,
   "metadata": {
    "collapsed": false
   },
   "outputs": [
    {
     "data": {
      "text/plain": [
       "'Monday'"
      ]
     },
     "execution_count": 2,
     "metadata": {},
     "output_type": "execute_result"
    }
   ],
   "source": [
    "import datetime \n",
    "import calendar\n",
    "\n",
    "my_date = datetime.datetime(2016, 9 , 26)\n",
    "calendar.day_name[my_date.weekday()]"
   ]
  },
  {
   "cell_type": "markdown",
   "metadata": {},
   "source": [
    "#### Using the Instructors Code to start the assignment"
   ]
  },
  {
   "cell_type": "code",
   "execution_count": 26,
   "metadata": {
    "collapsed": false
   },
   "outputs": [
    {
     "name": "stdout",
     "output_type": "stream",
     "text": [
      "Populating the interactive namespace from numpy and matplotlib\n"
     ]
    }
   ],
   "source": [
    "from __future__  import print_function, division\n",
    "import pylab as pl\n",
    "import pandas as pd\n",
    "import numpy as np\n",
    "import os\n",
    "import scipy.stats as stats\n",
    "\n",
    "%pylab inline\n",
    "\n",
    "if os.getenv ('PUI2016') is None:\n",
    "    print (\"Must set env variable PUI2016\")\n",
    "if os.getenv ('PUIDATA') is None:\n",
    "    print (\"Must set env variable PUI2016\")"
   ]
  },
  {
   "cell_type": "markdown",
   "metadata": {},
   "source": [
    "#### Using Federica Bianco (Instructor's Code) to get and download the file to my homedir - aes807"
   ]
  },
  {
   "cell_type": "code",
   "execution_count": 4,
   "metadata": {
    "collapsed": true
   },
   "outputs": [],
   "source": [
    "def getCitiBikeCSV(datestring):\n",
    "    print (\"Downloading\", datestring)\n",
    "    if not os.path.isfile(os.getenv(\"PUIDATA\") + \"/\" + datestring + \"-citibike-tripdata.csv\"):\n",
    "        if os.path.isfile(datestring + \"-citibike-tripdata.csv\"):\n",
    "            if os.system(\"mv \" + datestring + \"-citibike-tripdata.csv \" + os.getenv(\"PUIDATA\")):\n",
    "                print (\"Error moving file!, Please check!\")\n",
    "        else:\n",
    "            if not os.path.isfile(os.getenv(\"PUIDATA\") + \"/\" + datestring + \"-citibike-tripdata.zip\"):\n",
    "                if not os.path.isfile(datestring + \"-citibike-tripdata.zip\"):\n",
    "                    os.system(\"curl -O https://s3.amazonaws.com/tripdata/\" + datestring + \"-citibike-tripdata.zip\")\n",
    "            os.system(\"mv \" + datestring + \"-citibike-tripdata.zip \" + os.getenv(\"PUIDATA\"))\n",
    "            os.system(\"unzip \" + os.getenv(\"PUIDATA\") + \"/\" + datestring + \"-citibike-tripdata.zip\")\n",
    "            if '2014' in datestring:\n",
    "                os.system(\"mv \" + datestring[:4] + '-' +  datestring[4:] + \n",
    "                          \"\\ -\\ Citi\\ Bike\\ trip\\ data.csv \" + datestring + \"-citibike-tripdata.csv\")\n",
    "                os.system(\"mv \" + datestring + \"-citibike-tripdata.csv \" + os.getenv(\"PUIDATA\"))\n",
    "    if not os.path.isfile(os.getenv(\"PUIDATA\") + \"/\" + datestring + \"-citibike-tripdata.csv\"):\n",
    "        print (\"WARNING!!! something is wrong: the file is not there!\")\n",
    "\n",
    "    else:\n",
    "        print (\"file in place, you can continue\")"
   ]
  },
  {
   "cell_type": "code",
   "execution_count": 5,
   "metadata": {
    "collapsed": false
   },
   "outputs": [
    {
     "name": "stdout",
     "output_type": "stream",
     "text": [
      "Downloading 201606\n",
      "file in place, you can continue\n"
     ]
    }
   ],
   "source": [
    "datestring = '201606'\n",
    "getCitiBikeCSV(datestring)"
   ]
  },
  {
   "cell_type": "code",
   "execution_count": 6,
   "metadata": {
    "collapsed": false
   },
   "outputs": [
    {
     "data": {
      "text/html": [
       "<div>\n",
       "<table border=\"1\" class=\"dataframe\">\n",
       "  <thead>\n",
       "    <tr style=\"text-align: right;\">\n",
       "      <th></th>\n",
       "      <th>tripduration</th>\n",
       "      <th>starttime</th>\n",
       "      <th>stoptime</th>\n",
       "      <th>start station id</th>\n",
       "      <th>start station name</th>\n",
       "      <th>start station latitude</th>\n",
       "      <th>start station longitude</th>\n",
       "      <th>end station id</th>\n",
       "      <th>end station name</th>\n",
       "      <th>end station latitude</th>\n",
       "      <th>end station longitude</th>\n",
       "      <th>bikeid</th>\n",
       "      <th>usertype</th>\n",
       "      <th>birth year</th>\n",
       "      <th>gender</th>\n",
       "    </tr>\n",
       "  </thead>\n",
       "  <tbody>\n",
       "    <tr>\n",
       "      <th>0</th>\n",
       "      <td>1470</td>\n",
       "      <td>6/1/2016 00:00:18</td>\n",
       "      <td>6/1/2016 00:24:48</td>\n",
       "      <td>380</td>\n",
       "      <td>W 4 St &amp; 7 Ave S</td>\n",
       "      <td>40.734011</td>\n",
       "      <td>-74.002939</td>\n",
       "      <td>3236</td>\n",
       "      <td>W 42 St &amp; Dyer Ave</td>\n",
       "      <td>40.758985</td>\n",
       "      <td>-73.993800</td>\n",
       "      <td>19859</td>\n",
       "      <td>Subscriber</td>\n",
       "      <td>1972.0</td>\n",
       "      <td>1</td>\n",
       "    </tr>\n",
       "    <tr>\n",
       "      <th>1</th>\n",
       "      <td>229</td>\n",
       "      <td>6/1/2016 00:00:20</td>\n",
       "      <td>6/1/2016 00:04:09</td>\n",
       "      <td>3092</td>\n",
       "      <td>Berry St &amp; N 8 St</td>\n",
       "      <td>40.719009</td>\n",
       "      <td>-73.958525</td>\n",
       "      <td>3103</td>\n",
       "      <td>N 11 St &amp; Wythe Ave</td>\n",
       "      <td>40.721533</td>\n",
       "      <td>-73.957824</td>\n",
       "      <td>16233</td>\n",
       "      <td>Subscriber</td>\n",
       "      <td>1967.0</td>\n",
       "      <td>1</td>\n",
       "    </tr>\n",
       "    <tr>\n",
       "      <th>2</th>\n",
       "      <td>344</td>\n",
       "      <td>6/1/2016 00:00:21</td>\n",
       "      <td>6/1/2016 00:06:06</td>\n",
       "      <td>449</td>\n",
       "      <td>W 52 St &amp; 9 Ave</td>\n",
       "      <td>40.764618</td>\n",
       "      <td>-73.987895</td>\n",
       "      <td>469</td>\n",
       "      <td>Broadway &amp; W 53 St</td>\n",
       "      <td>40.763441</td>\n",
       "      <td>-73.982681</td>\n",
       "      <td>22397</td>\n",
       "      <td>Subscriber</td>\n",
       "      <td>1989.0</td>\n",
       "      <td>1</td>\n",
       "    </tr>\n",
       "    <tr>\n",
       "      <th>3</th>\n",
       "      <td>1120</td>\n",
       "      <td>6/1/2016 00:00:28</td>\n",
       "      <td>6/1/2016 00:19:09</td>\n",
       "      <td>522</td>\n",
       "      <td>E 51 St &amp; Lexington Ave</td>\n",
       "      <td>40.757148</td>\n",
       "      <td>-73.972078</td>\n",
       "      <td>401</td>\n",
       "      <td>Allen St &amp; Rivington St</td>\n",
       "      <td>40.720196</td>\n",
       "      <td>-73.989978</td>\n",
       "      <td>16231</td>\n",
       "      <td>Subscriber</td>\n",
       "      <td>1991.0</td>\n",
       "      <td>1</td>\n",
       "    </tr>\n",
       "    <tr>\n",
       "      <th>4</th>\n",
       "      <td>229</td>\n",
       "      <td>6/1/2016 00:00:53</td>\n",
       "      <td>6/1/2016 00:04:42</td>\n",
       "      <td>335</td>\n",
       "      <td>Washington Pl &amp; Broadway</td>\n",
       "      <td>40.729039</td>\n",
       "      <td>-73.994046</td>\n",
       "      <td>285</td>\n",
       "      <td>Broadway &amp; E 14 St</td>\n",
       "      <td>40.734546</td>\n",
       "      <td>-73.990741</td>\n",
       "      <td>15400</td>\n",
       "      <td>Subscriber</td>\n",
       "      <td>1989.0</td>\n",
       "      <td>1</td>\n",
       "    </tr>\n",
       "  </tbody>\n",
       "</table>\n",
       "</div>"
      ],
      "text/plain": [
       "   tripduration          starttime           stoptime  start station id  \\\n",
       "0          1470  6/1/2016 00:00:18  6/1/2016 00:24:48               380   \n",
       "1           229  6/1/2016 00:00:20  6/1/2016 00:04:09              3092   \n",
       "2           344  6/1/2016 00:00:21  6/1/2016 00:06:06               449   \n",
       "3          1120  6/1/2016 00:00:28  6/1/2016 00:19:09               522   \n",
       "4           229  6/1/2016 00:00:53  6/1/2016 00:04:42               335   \n",
       "\n",
       "         start station name  start station latitude  start station longitude  \\\n",
       "0          W 4 St & 7 Ave S               40.734011               -74.002939   \n",
       "1         Berry St & N 8 St               40.719009               -73.958525   \n",
       "2           W 52 St & 9 Ave               40.764618               -73.987895   \n",
       "3   E 51 St & Lexington Ave               40.757148               -73.972078   \n",
       "4  Washington Pl & Broadway               40.729039               -73.994046   \n",
       "\n",
       "   end station id         end station name  end station latitude  \\\n",
       "0            3236       W 42 St & Dyer Ave             40.758985   \n",
       "1            3103      N 11 St & Wythe Ave             40.721533   \n",
       "2             469       Broadway & W 53 St             40.763441   \n",
       "3             401  Allen St & Rivington St             40.720196   \n",
       "4             285       Broadway & E 14 St             40.734546   \n",
       "\n",
       "   end station longitude  bikeid    usertype  birth year  gender  \n",
       "0             -73.993800   19859  Subscriber      1972.0       1  \n",
       "1             -73.957824   16233  Subscriber      1967.0       1  \n",
       "2             -73.982681   22397  Subscriber      1989.0       1  \n",
       "3             -73.989978   16231  Subscriber      1991.0       1  \n",
       "4             -73.990741   15400  Subscriber      1989.0       1  "
      ]
     },
     "execution_count": 6,
     "metadata": {},
     "output_type": "execute_result"
    }
   ],
   "source": [
    "df=pd.read_csv(os.getenv(\"PUIDATA\") + \"/\" + datestring + '-citibike-tripdata.csv')\n",
    "df.head()"
   ]
  },
  {
   "cell_type": "code",
   "execution_count": 7,
   "metadata": {
    "collapsed": true
   },
   "outputs": [],
   "source": [
    "df['date'] = pd.to_datetime(df['starttime'])"
   ]
  },
  {
   "cell_type": "code",
   "execution_count": 8,
   "metadata": {
    "collapsed": false
   },
   "outputs": [
    {
     "data": {
      "text/plain": [
       "Index(['tripduration', 'starttime', 'stoptime', 'start station id',\n",
       "       'start station name', 'start station latitude',\n",
       "       'start station longitude', 'end station id', 'end station name',\n",
       "       'end station latitude', 'end station longitude', 'bikeid', 'usertype',\n",
       "       'birth year', 'gender', 'date'],\n",
       "      dtype='object')"
      ]
     },
     "execution_count": 8,
     "metadata": {},
     "output_type": "execute_result"
    }
   ],
   "source": [
    "df.columns"
   ]
  },
  {
   "cell_type": "code",
   "execution_count": 9,
   "metadata": {
    "collapsed": true
   },
   "outputs": [],
   "source": [
    "df.drop(['starttime','stoptime','start station id',\n",
    "       'start station name','start station latitude',\n",
    "       'start station longitude','end station id','end station name',\n",
    "       'end station latitude','end station longitude','bikeid',\n",
    "       'birth year','gender'], axis = 1, inplace = True)"
   ]
  },
  {
   "cell_type": "code",
   "execution_count": 10,
   "metadata": {
    "collapsed": false
   },
   "outputs": [
    {
     "data": {
      "text/html": [
       "<div>\n",
       "<table border=\"1\" class=\"dataframe\">\n",
       "  <thead>\n",
       "    <tr style=\"text-align: right;\">\n",
       "      <th></th>\n",
       "      <th>tripduration</th>\n",
       "      <th>usertype</th>\n",
       "      <th>date</th>\n",
       "    </tr>\n",
       "  </thead>\n",
       "  <tbody>\n",
       "    <tr>\n",
       "      <th>0</th>\n",
       "      <td>1470</td>\n",
       "      <td>Subscriber</td>\n",
       "      <td>2016-06-01 00:00:18</td>\n",
       "    </tr>\n",
       "    <tr>\n",
       "      <th>1</th>\n",
       "      <td>229</td>\n",
       "      <td>Subscriber</td>\n",
       "      <td>2016-06-01 00:00:20</td>\n",
       "    </tr>\n",
       "    <tr>\n",
       "      <th>2</th>\n",
       "      <td>344</td>\n",
       "      <td>Subscriber</td>\n",
       "      <td>2016-06-01 00:00:21</td>\n",
       "    </tr>\n",
       "    <tr>\n",
       "      <th>3</th>\n",
       "      <td>1120</td>\n",
       "      <td>Subscriber</td>\n",
       "      <td>2016-06-01 00:00:28</td>\n",
       "    </tr>\n",
       "    <tr>\n",
       "      <th>4</th>\n",
       "      <td>229</td>\n",
       "      <td>Subscriber</td>\n",
       "      <td>2016-06-01 00:00:53</td>\n",
       "    </tr>\n",
       "  </tbody>\n",
       "</table>\n",
       "</div>"
      ],
      "text/plain": [
       "   tripduration    usertype                date\n",
       "0          1470  Subscriber 2016-06-01 00:00:18\n",
       "1           229  Subscriber 2016-06-01 00:00:20\n",
       "2           344  Subscriber 2016-06-01 00:00:21\n",
       "3          1120  Subscriber 2016-06-01 00:00:28\n",
       "4           229  Subscriber 2016-06-01 00:00:53"
      ]
     },
     "execution_count": 10,
     "metadata": {},
     "output_type": "execute_result"
    }
   ],
   "source": [
    "df.head()"
   ]
  },
  {
   "cell_type": "code",
   "execution_count": 11,
   "metadata": {
    "collapsed": false
   },
   "outputs": [
    {
     "data": {
      "text/html": [
       "<div>\n",
       "<table border=\"1\" class=\"dataframe\">\n",
       "  <thead>\n",
       "    <tr style=\"text-align: right;\">\n",
       "      <th></th>\n",
       "      <th>tripduration</th>\n",
       "    </tr>\n",
       "  </thead>\n",
       "  <tbody>\n",
       "    <tr>\n",
       "      <th>count</th>\n",
       "      <td>1.460318e+06</td>\n",
       "    </tr>\n",
       "    <tr>\n",
       "      <th>mean</th>\n",
       "      <td>9.897580e+02</td>\n",
       "    </tr>\n",
       "    <tr>\n",
       "      <th>std</th>\n",
       "      <td>7.589179e+03</td>\n",
       "    </tr>\n",
       "    <tr>\n",
       "      <th>min</th>\n",
       "      <td>6.100000e+01</td>\n",
       "    </tr>\n",
       "    <tr>\n",
       "      <th>25%</th>\n",
       "      <td>4.050000e+02</td>\n",
       "    </tr>\n",
       "    <tr>\n",
       "      <th>50%</th>\n",
       "      <td>6.760000e+02</td>\n",
       "    </tr>\n",
       "    <tr>\n",
       "      <th>75%</th>\n",
       "      <td>1.143000e+03</td>\n",
       "    </tr>\n",
       "    <tr>\n",
       "      <th>max</th>\n",
       "      <td>3.129291e+06</td>\n",
       "    </tr>\n",
       "  </tbody>\n",
       "</table>\n",
       "</div>"
      ],
      "text/plain": [
       "       tripduration\n",
       "count  1.460318e+06\n",
       "mean   9.897580e+02\n",
       "std    7.589179e+03\n",
       "min    6.100000e+01\n",
       "25%    4.050000e+02\n",
       "50%    6.760000e+02\n",
       "75%    1.143000e+03\n",
       "max    3.129291e+06"
      ]
     },
     "execution_count": 11,
     "metadata": {},
     "output_type": "execute_result"
    }
   ],
   "source": [
    "df.describe()"
   ]
  },
  {
   "cell_type": "markdown",
   "metadata": {},
   "source": [
    "#### A bird's eye view on how the two usertype's are related in the bigger scope of things"
   ]
  },
  {
   "cell_type": "code",
   "execution_count": 12,
   "metadata": {
    "collapsed": false
   },
   "outputs": [
    {
     "data": {
      "text/plain": [
       "<matplotlib.axes._subplots.AxesSubplot at 0x7f4482452668>"
      ]
     },
     "execution_count": 12,
     "metadata": {},
     "output_type": "execute_result"
    },
    {
     "data": {
      "image/png": "[encoded data removed]",
      "text/plain": [
       "<matplotlib.figure.Figure at 0x7f44aa567160>"
      ]
     },
     "metadata": {},
     "output_type": "display_data"
    }
   ],
   "source": [
    "s = 60\n",
    "\n",
    "subs = (df[\"tripduration\"][df[\"usertype\"] == \"Subscriber\"])  # blue\n",
    "cust = (df[\"tripduration\"][df[\"usertype\"] == \"Customer\"])    # green\n",
    "\n",
    "subs.plot(kind = 'hist')\n",
    "cust.plot(kind = 'hist')"
   ]
  },
  {
   "cell_type": "code",
   "execution_count": 13,
   "metadata": {
    "collapsed": false
   },
   "outputs": [
    {
     "data": {
      "text/plain": [
       "<matplotlib.text.Text at 0x7f44aa5679b0>"
      ]
     },
     "execution_count": 13,
     "metadata": {},
     "output_type": "execute_result"
    },
    {
     "data": {
      "text/plain": [
       "<matplotlib.figure.Figure at 0x7f44aa567c88>"
      ]
     },
     "metadata": {},
     "output_type": "display_data"
    },
    {
     "data": {
      "image/png": "[encoded data removed]",
      "text/plain": [
       "<matplotlib.figure.Figure at 0x7f44631e7f60>"
      ]
     },
     "metadata": {},
     "output_type": "display_data"
    }
   ],
   "source": [
    "fig=pl.figure(figsize(5,5))\n",
    "plotted = df.groupby(['usertype']).mean()\n",
    "plotted.plot(kind='bar',rot=360)\n",
    "pl.xlabel('User Types')\n",
    "pl.ylabel('Average Trip Duration')\n",
    "pl.title('Average Trip Duration for different User Types',fontsize = 10, fontweight = 'bold')\n",
    "pl.text(-0.5,-450, 'Figure 2 : Number of Customers/Subscribers',fontsize = 10, fontweight = 'bold')"
   ]
  },
  {
   "cell_type": "markdown",
   "metadata": {},
   "source": [
    "#### The average trip duration for the Customer is more than the Subscriber.\n",
    "#### The reason we will prove is due to the fact that the customer tries to maximize the use of citibikes."
   ]
  },
  {
   "cell_type": "code",
   "execution_count": 14,
   "metadata": {
    "collapsed": false
   },
   "outputs": [
    {
     "data": {
      "text/html": [
       "<div>\n",
       "<table border=\"1\" class=\"dataframe\">\n",
       "  <thead>\n",
       "    <tr style=\"text-align: right;\">\n",
       "      <th></th>\n",
       "      <th>tripduration</th>\n",
       "    </tr>\n",
       "    <tr>\n",
       "      <th>date</th>\n",
       "      <th></th>\n",
       "    </tr>\n",
       "  </thead>\n",
       "  <tbody>\n",
       "    <tr>\n",
       "      <th>0</th>\n",
       "      <td>829.153867</td>\n",
       "    </tr>\n",
       "    <tr>\n",
       "      <th>1</th>\n",
       "      <td>816.969227</td>\n",
       "    </tr>\n",
       "    <tr>\n",
       "      <th>2</th>\n",
       "      <td>861.103150</td>\n",
       "    </tr>\n",
       "    <tr>\n",
       "      <th>3</th>\n",
       "      <td>819.571240</td>\n",
       "    </tr>\n",
       "    <tr>\n",
       "      <th>4</th>\n",
       "      <td>842.312846</td>\n",
       "    </tr>\n",
       "    <tr>\n",
       "      <th>5</th>\n",
       "      <td>919.327838</td>\n",
       "    </tr>\n",
       "    <tr>\n",
       "      <th>6</th>\n",
       "      <td>911.917002</td>\n",
       "    </tr>\n",
       "  </tbody>\n",
       "</table>\n",
       "</div>"
      ],
      "text/plain": [
       "      tripduration\n",
       "date              \n",
       "0       829.153867\n",
       "1       816.969227\n",
       "2       861.103150\n",
       "3       819.571240\n",
       "4       842.312846\n",
       "5       919.327838\n",
       "6       911.917002"
      ]
     },
     "execution_count": 14,
     "metadata": {},
     "output_type": "execute_result"
    }
   ],
   "source": [
    "subscriber = df['tripduration'][df['usertype'] == 'Subscriber'].groupby([df['date'].dt.weekday ]).mean()\n",
    "customer = df['tripduration'][df['usertype'] == 'Customer'].groupby([df['date'].dt.weekday ]).mean()\n",
    "subscriber = subscriber.to_frame()\n",
    "customer = customer.to_frame()\n",
    "subscriber"
   ]
  },
  {
   "cell_type": "code",
   "execution_count": 15,
   "metadata": {
    "collapsed": false
   },
   "outputs": [
    {
     "data": {
      "text/plain": [
       "<matplotlib.text.Text at 0x7f44820eda90>"
      ]
     },
     "execution_count": 15,
     "metadata": {},
     "output_type": "execute_result"
    },
    {
     "data": {
      "text/plain": [
       "<matplotlib.figure.Figure at 0x7f44713b8da0>"
      ]
     },
     "metadata": {},
     "output_type": "display_data"
    },
    {
     "data": {
      "image/png": "[encoded data removed]",
      "text/plain": [
       "<matplotlib.figure.Figure at 0x7f44713b8550>"
      ]
     },
     "metadata": {},
     "output_type": "display_data"
    }
   ],
   "source": [
    "fig=pl.figure(figsize(8,8))\n",
    "fig, ax = pl.subplots()\n",
    "width = 0.35  \n",
    "\n",
    "rects1 = ax.bar(subscriber.index.values , subscriber.tripduration, width, color='r')\n",
    "rects2 = ax.bar(customer.index.values + width, customer.tripduration, width, color='y')\n",
    "\n",
    "ax.set_xlabel('Days of the week')\n",
    "ax.set_ylabel('Average Trip Duration')\n",
    "ax.set_title('Average Trip Duration per usertype in a selected week', fontsize = 14, fontweight = 'bold')\n",
    "ax.set_xticks(customer.index.values + width)\n",
    "ax.xaxis.set_ticklabels(['Mon','Tue','Wed','Thu','Fri','Sat','Sun'], fontsize=10)\n",
    "ax.legend((rects1[0], rects2[0]), ('Subscriber', 'Customer'), loc = 'upper right')\n",
    "ax.text(0,-300, 'Figure 3 : Average Trip Duration of Customers/Subscribers plotted against each other',\\\n",
    "        fontsize = 10, fontweight = 'bold')"
   ]
  },
  {
   "cell_type": "markdown",
   "metadata": {},
   "source": [
    "## Homework_6_Solutions - Aaron D'Souza\n",
    "### Code used from Aaron D'Souza's iPython notebook\n",
    "#### In the group project - Aaron created the tests and the code"
   ]
  },
  {
   "cell_type": "code",
   "execution_count": 16,
   "metadata": {
    "collapsed": false
   },
   "outputs": [
    {
     "data": {
      "text/plain": [
       "<pandas.core.groupby.DataFrameGroupBy object at 0x7f44aa5cec18>"
      ]
     },
     "execution_count": 16,
     "metadata": {},
     "output_type": "execute_result"
    }
   ],
   "source": [
    "dataset = df.groupby(['usertype'])\n",
    "dataset"
   ]
  },
  {
   "cell_type": "code",
   "execution_count": 17,
   "metadata": {
    "collapsed": false
   },
   "outputs": [
    {
     "data": {
      "text/html": [
       "<div>\n",
       "<table border=\"1\" class=\"dataframe\">\n",
       "  <thead>\n",
       "    <tr style=\"text-align: right;\">\n",
       "      <th></th>\n",
       "      <th>tripduration</th>\n",
       "    </tr>\n",
       "    <tr>\n",
       "      <th>usertype</th>\n",
       "      <th></th>\n",
       "    </tr>\n",
       "  </thead>\n",
       "  <tbody>\n",
       "    <tr>\n",
       "      <th>Customer</th>\n",
       "      <td>2152.122233</td>\n",
       "    </tr>\n",
       "    <tr>\n",
       "      <th>Subscriber</th>\n",
       "      <td>849.905440</td>\n",
       "    </tr>\n",
       "  </tbody>\n",
       "</table>\n",
       "</div>"
      ],
      "text/plain": [
       "            tripduration\n",
       "usertype                \n",
       "Customer     2152.122233\n",
       "Subscriber    849.905440"
      ]
     },
     "execution_count": 17,
     "metadata": {},
     "output_type": "execute_result"
    },
    {
     "data": {
      "text/plain": [
       "<matplotlib.figure.Figure at 0x7f448212bb70>"
      ]
     },
     "metadata": {},
     "output_type": "display_data"
    }
   ],
   "source": [
    "fig=pl.figure(figsize(5,5))\n",
    "p = df.groupby(['usertype']).mean()\n",
    "p"
   ]
  },
  {
   "cell_type": "code",
   "execution_count": 19,
   "metadata": {
    "collapsed": false
   },
   "outputs": [
    {
     "data": {
      "text/html": [
       "<div>\n",
       "<table border=\"1\" class=\"dataframe\">\n",
       "  <thead>\n",
       "    <tr style=\"text-align: right;\">\n",
       "      <th></th>\n",
       "      <th>tripduration</th>\n",
       "    </tr>\n",
       "    <tr>\n",
       "      <th>usertype</th>\n",
       "      <th></th>\n",
       "    </tr>\n",
       "  </thead>\n",
       "  <tbody>\n",
       "    <tr>\n",
       "      <th>Customer</th>\n",
       "      <td>16261.379400</td>\n",
       "    </tr>\n",
       "    <tr>\n",
       "      <th>Subscriber</th>\n",
       "      <td>5703.300886</td>\n",
       "    </tr>\n",
       "  </tbody>\n",
       "</table>\n",
       "</div>"
      ],
      "text/plain": [
       "            tripduration\n",
       "usertype                \n",
       "Customer    16261.379400\n",
       "Subscriber   5703.300886"
      ]
     },
     "execution_count": 19,
     "metadata": {},
     "output_type": "execute_result"
    }
   ],
   "source": [
    "std_p = df.groupby(['usertype']).std()\n",
    "std_p"
   ]
  },
  {
   "cell_type": "code",
   "execution_count": 54,
   "metadata": {
    "collapsed": true
   },
   "outputs": [],
   "source": [
    "# Calculating means\n",
    "subscriber = df['tripduration'][df['usertype'] == 'Subscriber'].mean()\n",
    "customer = df['tripduration'][df['usertype'] == 'Customer'].mean()"
   ]
  },
  {
   "cell_type": "code",
   "execution_count": 55,
   "metadata": {
    "collapsed": false
   },
   "outputs": [
    {
     "data": {
      "text/plain": [
       "False"
      ]
     },
     "execution_count": 55,
     "metadata": {},
     "output_type": "execute_result"
    }
   ],
   "source": [
    "# Checking for equal standard deviation\n",
    "sub_std = df['tripduration'][df['usertype'] == 'Subscriber'].std()\n",
    "cus_std = df['tripduration'][df['usertype'] == 'Customer'].std()\n",
    "sub_std == cus_std"
   ]
  },
  {
   "cell_type": "code",
   "execution_count": 23,
   "metadata": {
    "collapsed": true
   },
   "outputs": [],
   "source": [
    "sub = df['tripduration'][df['usertype'] == 'Subscriber'].groupby([df['date'].dt.weekday ]).mean()\n",
    "cus = df['tripduration'][df['usertype'] == 'Customer'].groupby([df['date'].dt.weekday ]).mean()\n",
    "total = df['tripduration'].groupby([df['date'].dt.weekday ]).mean()\n",
    "sub = sub.to_frame()\n",
    "cus = cus.to_frame()\n",
    "total = total.to_frame()"
   ]
  },
  {
   "cell_type": "code",
   "execution_count": 27,
   "metadata": {
    "collapsed": false
   },
   "outputs": [
    {
     "data": {
      "text/plain": [
       "Ttest_indResult(statistic=array([-43.70336847]), pvalue=array([  4.77027351e-13]))"
      ]
     },
     "execution_count": 27,
     "metadata": {},
     "output_type": "execute_result"
    }
   ],
   "source": [
    "stats.ttest_ind(sub, cus, equal_var= False)"
   ]
  },
  {
   "cell_type": "markdown",
   "metadata": {},
   "source": [
    "### Since p value is less than 5% we can reject the null hypothesis"
   ]
  },
  {
   "cell_type": "code",
   "execution_count": 28,
   "metadata": {
    "collapsed": true
   },
   "outputs": [],
   "source": [
    "# Refered https://github.com/AllenDowney/CompStats/blob/master/effect_size.ipynb \n",
    "# Concept reference: http://www.leeds.ac.uk/educol/documents/00002182.htm\n",
    "\n",
    "def CohenEffectSize(group1, group2):\n",
    "    \"\"\"Compute Cohen's d.\n",
    "\n",
    "    group1: Series or NumPy array\n",
    "    group2: Series or NumPy array\n",
    "\n",
    "    returns: float\n",
    "    \"\"\"\n",
    "    diff = group1.mean() - group2.mean()\n",
    "\n",
    "    n1, n2 = len(group1), len(group2)\n",
    "    var1 = group1.var()\n",
    "    var2 = group2.var()\n",
    "\n",
    "    pooled_var = (n1 * var1 + n2 * var2) / (n1 + n2)\n",
    "    d = diff / numpy.sqrt(pooled_var)\n",
    "    return d"
   ]
  },
  {
   "cell_type": "code",
   "execution_count": 30,
   "metadata": {
    "collapsed": true
   },
   "outputs": [],
   "source": [
    "effect_size = CohenEffectSize(cus, sub)"
   ]
  },
  {
   "cell_type": "code",
   "execution_count": 32,
   "metadata": {
    "collapsed": false
   },
   "outputs": [
    {
     "data": {
      "text/plain": [
       "23.36043306527813"
      ]
     },
     "execution_count": 32,
     "metadata": {},
     "output_type": "execute_result"
    }
   ],
   "source": [
    "effect_size[0]"
   ]
  },
  {
   "cell_type": "markdown",
   "metadata": {},
   "source": [
    "### Here we notice that the size of the difference between the samples is really large"
   ]
  },
  {
   "cell_type": "code",
   "execution_count": 56,
   "metadata": {
    "collapsed": false
   },
   "outputs": [
    {
     "data": {
      "text/plain": [
       "<matplotlib.legend.Legend at 0x7f44635ddf28>"
      ]
     },
     "execution_count": 56,
     "metadata": {},
     "output_type": "execute_result"
    },
    {
     "data": {
      "image/png": "[encoded data removed]",
      "text/plain": [
       "<matplotlib.figure.Figure at 0x7f4463670da0>"
      ]
     },
     "metadata": {},
     "output_type": "display_data"
    }
   ],
   "source": [
    "#fig=pl.figure(figsize(8,8))\n",
    "\n",
    "ax = pl.subplot(111)\n",
    "\n",
    "#pl.xlim(0,3000)\n",
    "width = 0.35  \n",
    "rects1 = ax.bar(sub.index.values[:5] , sub.tripduration[:5], width, color='r')\n",
    "\n",
    "rects2 = ax.bar(cus.index.values[:5] + width, cus.tripduration[:5], width, color='y')\n",
    "\n",
    "\n",
    "\n",
    "# add some text for labels, title and axes ticks\n",
    "ax.set_ylabel('Average Trip Duration')\n",
    "ax.set_xlabel('Day of the week')\n",
    "ax.set_title('Average Trip Duration per usertype on weekdays')\n",
    "ax.set_xticks(cus.index.values[:5] + width)\n",
    "ax.xaxis.set_ticklabels(['Mon','Tue','Wed','Thu','Fri'], fontsize=10)\n",
    "ax.text(-1,-500, 'Figure 4 : Average Trip Duration of Customers/Subscribers plotted against each other - Weekdays',\\\n",
    "        fontsize = 10, fontweight = 'bold')\n",
    "\n",
    "ax.legend((rects1[0], rects2[0]), ('Subscriber', 'Customer'))\n",
    "\n",
    "#fig=pl.figure(figsize(8,8))"
   ]
  },
  {
   "cell_type": "code",
   "execution_count": 57,
   "metadata": {
    "collapsed": false
   },
   "outputs": [
    {
     "data": {
      "text/plain": [
       "<matplotlib.legend.Legend at 0x7f4463810e48>"
      ]
     },
     "execution_count": 57,
     "metadata": {},
     "output_type": "execute_result"
    },
    {
     "data": {
      "image/png": "[encoded data removed]",
      "text/plain": [
       "<matplotlib.figure.Figure at 0x7f44635ca9b0>"
      ]
     },
     "metadata": {},
     "output_type": "display_data"
    }
   ],
   "source": [
    "ax = pl.subplot(111)\n",
    "\n",
    "#pl.xlim(0,3000)\n",
    "width = 0.15  \n",
    "rects1 = ax.bar(sub.index.values[5:] , sub.tripduration[5:], width, color='r')\n",
    "\n",
    "rects2 = ax.bar(cus.index.values[5:] + width, cus.tripduration[5:], width, color='y')\n",
    "\n",
    "\n",
    "\n",
    "# add some text for labels, title and axes ticks\n",
    "ax.set_ylabel('Average Trip Duration')\n",
    "ax.set_xlabel('Day of the week')\n",
    "ax.set_title('Average Trip Duration per usertype on weekends')\n",
    "ax.set_xticks(cus.index.values[5:] + width)\n",
    "ax.xaxis.set_ticklabels(['Sat', 'Sun'], fontsize=10)\n",
    "ax.text(5,-500, 'Figure 5 : Average Trip Duration of Customers/Subscribers plotted against each other - Weekends',\\\n",
    "        fontsize = 10, fontweight = 'bold')\n",
    "\n",
    "ax.legend((rects1[0], rects2[0]), ('Subscriber', 'Customer'))"
   ]
  },
  {
   "cell_type": "code",
   "execution_count": null,
   "metadata": {
    "collapsed": true
   },
   "outputs": [],
   "source": []
  }
 ],
 "metadata": {
  "kernelspec": {
   "display_name": "PUI2016_Python3",
   "language": "python",
   "name": "pui2016_python3"
  },
  "language_info": {
   "codemirror_mode": {
    "name": "ipython",
    "version": 3
   },
   "file_extension": ".py",
   "mimetype": "text/x-python",
   "name": "python",
   "nbconvert_exporter": "python",
   "pygments_lexer": "ipython3",
   "version": "3.5.2"
  }
 },
 "nbformat": 4,
 "nbformat_minor": 0
}
