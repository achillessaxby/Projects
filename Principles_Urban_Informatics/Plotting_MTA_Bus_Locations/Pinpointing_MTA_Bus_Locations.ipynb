{
 "cells": [
  {
   "cell_type": "code",
   "execution_count": 1,
   "metadata": {
    "collapsed": false
   },
   "outputs": [
    {
     "name": "stdout",
     "output_type": "stream",
     "text": [
      "Populating the interactive namespace from numpy and matplotlib\n"
     ]
    }
   ],
   "source": [
    "# Importing things to start off the access into the MTA directory\n",
    "# Key Belongs to Achilles Edwin Alfred Saxby in this code\n",
    "# Code taken from the instructors laboratory assignment\n",
    "\n",
    "from __future__ import print_function\n",
    "import sys\n",
    "import pylab as pl\n",
    "import json\n",
    "import urllib as ulr\n",
    "import os\n",
    "%pylab inline\n",
    "\n",
    "url = \"http://bustime.mta.info/api/siri/vehicle-monitoring.json?key=d8d68556-185c-4f43-baae-769b0cc954c6&\\\n",
    "VehicleMonitoringDetailLevel=calls&LineRef=B54\" \n",
    "\n",
    "response = ulr.urlopen(url)\n",
    "data = response.read().decode(\"utf-8\")\n",
    "data = json.loads(data)"
   ]
  },
  {
   "cell_type": "code",
   "execution_count": 2,
   "metadata": {
    "collapsed": false
   },
   "outputs": [
    {
     "data": {
      "text/plain": [
       "{u'Latitude': 40.699806, u'Longitude': -73.911935}"
      ]
     },
     "execution_count": 2,
     "metadata": {},
     "output_type": "execute_result"
    }
   ],
   "source": [
    "data['Siri']['ServiceDelivery']['VehicleMonitoringDelivery'][0]['VehicleActivity'][1]\\\n",
    "['MonitoredVehicleJourney']['VehicleLocation']"
   ]
  },
  {
   "cell_type": "code",
   "execution_count": 3,
   "metadata": {
    "collapsed": false
   },
   "outputs": [
    {
     "data": {
      "text/plain": [
       "6"
      ]
     },
     "execution_count": 3,
     "metadata": {},
     "output_type": "execute_result"
    }
   ],
   "source": [
    "len(data['Siri']['ServiceDelivery']['VehicleMonitoringDelivery'][0]['VehicleActivity'])"
   ]
  },
  {
   "cell_type": "code",
   "execution_count": 4,
   "metadata": {
    "collapsed": false
   },
   "outputs": [
    {
     "name": "stdout",
     "output_type": "stream",
     "text": [
      "Bus Line: -f\n",
      "Number of Active Buses: 6.000000\n",
      "Bus 0 is at the latitude 40.694156 and at the longitude -73.987188\n",
      "Bus 1 is at the latitude 40.699806 and at the longitude -73.911935\n",
      "Bus 2 is at the latitude 40.693277 and at the longitude -73.973599\n",
      "Bus 3 is at the latitude 40.693399 and at the longitude -73.976890\n",
      "Bus 4 is at the latitude 40.693835 and at the longitude -73.983513\n",
      "Bus 5 is at the latitude 40.699397 and at the longitude -73.912679\n"
     ]
    }
   ],
   "source": [
    "i = 0\n",
    "\n",
    "totalData = data['Siri']['ServiceDelivery']['VehicleMonitoringDelivery'][0]['VehicleActivity']\n",
    "\n",
    "print (\"Bus Line: %s\" %sys.argv[1]) #This will work if the code is run from the terminal\n",
    "print (\"Number of Active Buses: %f\" %(len(totalData)))\n",
    "\n",
    "for total in totalData:\n",
    "    longitude = totalData[i]['MonitoredVehicleJourney']['VehicleLocation']['Longitude']\n",
    "    latitude = totalData[i]['MonitoredVehicleJourney']['VehicleLocation']['Latitude']\n",
    "    print (\"Bus %d is at the latitude %f and at the longitude %f\" %(i,latitude,longitude))\n",
    "    i += 1"
   ]
  },
  {
   "cell_type": "code",
   "execution_count": null,
   "metadata": {
    "collapsed": true
   },
   "outputs": [],
   "source": []
  }
 ],
 "metadata": {
  "kernelspec": {
   "display_name": "PUI2016_Python2",
   "language": "python",
   "name": "pui2016_python2"
  },
  "language_info": {
   "codemirror_mode": {
    "name": "ipython",
    "version": 2
   },
   "file_extension": ".py",
   "mimetype": "text/x-python",
   "name": "python",
   "nbconvert_exporter": "python",
   "pygments_lexer": "ipython2",
   "version": "2.7.12"
  }
 },
 "nbformat": 4,
 "nbformat_minor": 0
}
