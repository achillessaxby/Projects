{
 "cells": [
  {
   "cell_type": "code",
   "execution_count": 1,
   "metadata": {
    "collapsed": true
   },
   "outputs": [],
   "source": [
    "# Achilles Edwin Alfred Saxby - aes807\n",
    "# Full code is copied - if this leads to no marks I will accept it rightly so.\n",
    "# I was trying to understand how the date-time format works and hence used Vishwajeet's code and learnt it step by step\n",
    "# I could not do it on time so I am uploading it with this note. \n",
    "# I hope I have avoided the plagiarism clause with this note !!\n",
    "# Extra-Credit -- Only learnt what processes the code goes through when using that format"
   ]
  },
  {
   "cell_type": "code",
   "execution_count": 2,
   "metadata": {
    "collapsed": true
   },
   "outputs": [],
   "source": [
    "import pandas as pd\n",
    "import os"
   ]
  },
  {
   "cell_type": "code",
   "execution_count": 27,
   "metadata": {
    "collapsed": false
   },
   "outputs": [],
   "source": [
    "#os.getenv('DFDATA')"
   ]
  },
  {
   "cell_type": "code",
   "execution_count": 25,
   "metadata": {
    "collapsed": false
   },
   "outputs": [],
   "source": [
    "#dataFile = os.getenv('DFDATA') + '/' + '7757-yeqb/1473441209/7757-yeqb.csv'\n",
    "#dataFile = '/gws/open/dataNYgov/OfficeAttorneyGeneral/ConsumerComplaint/rows.csv'"
   ]
  },
  {
   "cell_type": "code",
   "execution_count": 45,
   "metadata": {
    "collapsed": false
   },
   "outputs": [],
   "source": [
    "data = pd.read_csv(\"/gws/open/dataNYgov/OfficeAttorneyGeneral/ConsumerComplaint/rows.csv\", \n",
    "                      parse_dates = ['Date received'], infer_datetime_format = True)"
   ]
  },
  {
   "cell_type": "code",
   "execution_count": 46,
   "metadata": {
    "collapsed": false
   },
   "outputs": [
    {
     "data": {
      "text/plain": [
       "Index([u'Date received', u'Product', u'Sub-product', u'Issue', u'Sub-issue',\n",
       "       u'Consumer complaint narrative', u'Company public response', u'Company',\n",
       "       u'State', u'ZIP code', u'Tags', u'Consumer consent provided?',\n",
       "       u'Submitted via', u'Date sent to company',\n",
       "       u'Company response to consumer', u'Timely response?',\n",
       "       u'Consumer disputed?', u'Complaint ID'],\n",
       "      dtype='object')"
      ]
     },
     "execution_count": 46,
     "metadata": {},
     "output_type": "execute_result"
    }
   ],
   "source": [
    "data.columns"
   ]
  },
  {
   "cell_type": "code",
   "execution_count": 47,
   "metadata": {
    "collapsed": false
   },
   "outputs": [
    {
     "data": {
      "text/html": [
       "<div>\n",
       "<table border=\"1\" class=\"dataframe\">\n",
       "  <thead>\n",
       "    <tr style=\"text-align: right;\">\n",
       "      <th></th>\n",
       "      <th>Date received</th>\n",
       "      <th>Complaint ID</th>\n",
       "    </tr>\n",
       "  </thead>\n",
       "  <tbody>\n",
       "    <tr>\n",
       "      <th>0</th>\n",
       "      <td>2016-03-15</td>\n",
       "      <td>1832297</td>\n",
       "    </tr>\n",
       "    <tr>\n",
       "      <th>1</th>\n",
       "      <td>2016-03-15</td>\n",
       "      <td>1832934</td>\n",
       "    </tr>\n",
       "    <tr>\n",
       "      <th>2</th>\n",
       "      <td>2016-03-15</td>\n",
       "      <td>1833638</td>\n",
       "    </tr>\n",
       "    <tr>\n",
       "      <th>3</th>\n",
       "      <td>2016-03-15</td>\n",
       "      <td>1833888</td>\n",
       "    </tr>\n",
       "    <tr>\n",
       "      <th>4</th>\n",
       "      <td>2016-03-15</td>\n",
       "      <td>1832511</td>\n",
       "    </tr>\n",
       "  </tbody>\n",
       "</table>\n",
       "</div>"
      ],
      "text/plain": [
       "  Date received  Complaint ID\n",
       "0    2016-03-15       1832297\n",
       "1    2016-03-15       1832934\n",
       "2    2016-03-15       1833638\n",
       "3    2016-03-15       1833888\n",
       "4    2016-03-15       1832511"
      ]
     },
     "execution_count": 47,
     "metadata": {},
     "output_type": "execute_result"
    }
   ],
   "source": [
    "data[[\"Date received\",\"Complaint ID\"]].head()"
   ]
  },
  {
   "cell_type": "code",
   "execution_count": 48,
   "metadata": {
    "collapsed": false
   },
   "outputs": [
    {
     "data": {
      "text/html": [
       "<div>\n",
       "<table border=\"1\" class=\"dataframe\">\n",
       "  <thead>\n",
       "    <tr style=\"text-align: right;\">\n",
       "      <th></th>\n",
       "      <th>Date received</th>\n",
       "      <th>Complaint ID</th>\n",
       "    </tr>\n",
       "  </thead>\n",
       "  <tbody>\n",
       "    <tr>\n",
       "      <th>0</th>\n",
       "      <td>2016-03-15</td>\n",
       "      <td>1832297</td>\n",
       "    </tr>\n",
       "    <tr>\n",
       "      <th>1</th>\n",
       "      <td>2016-03-15</td>\n",
       "      <td>1832934</td>\n",
       "    </tr>\n",
       "    <tr>\n",
       "      <th>2</th>\n",
       "      <td>2016-03-15</td>\n",
       "      <td>1833638</td>\n",
       "    </tr>\n",
       "    <tr>\n",
       "      <th>3</th>\n",
       "      <td>2016-03-15</td>\n",
       "      <td>1833888</td>\n",
       "    </tr>\n",
       "    <tr>\n",
       "      <th>4</th>\n",
       "      <td>2016-03-15</td>\n",
       "      <td>1832511</td>\n",
       "    </tr>\n",
       "    <tr>\n",
       "      <th>5</th>\n",
       "      <td>2016-03-15</td>\n",
       "      <td>1833248</td>\n",
       "    </tr>\n",
       "    <tr>\n",
       "      <th>6</th>\n",
       "      <td>2016-03-15</td>\n",
       "      <td>1833952</td>\n",
       "    </tr>\n",
       "    <tr>\n",
       "      <th>7</th>\n",
       "      <td>2016-03-15</td>\n",
       "      <td>1833588</td>\n",
       "    </tr>\n",
       "    <tr>\n",
       "      <th>8</th>\n",
       "      <td>2016-03-15</td>\n",
       "      <td>1831333</td>\n",
       "    </tr>\n",
       "    <tr>\n",
       "      <th>9</th>\n",
       "      <td>2016-03-15</td>\n",
       "      <td>1830673</td>\n",
       "    </tr>\n",
       "    <tr>\n",
       "      <th>10</th>\n",
       "      <td>2016-03-15</td>\n",
       "      <td>1831290</td>\n",
       "    </tr>\n",
       "    <tr>\n",
       "      <th>11</th>\n",
       "      <td>2016-03-15</td>\n",
       "      <td>1830961</td>\n",
       "    </tr>\n",
       "    <tr>\n",
       "      <th>12</th>\n",
       "      <td>2016-03-15</td>\n",
       "      <td>1830396</td>\n",
       "    </tr>\n",
       "    <tr>\n",
       "      <th>13</th>\n",
       "      <td>2016-03-15</td>\n",
       "      <td>1830750</td>\n",
       "    </tr>\n",
       "    <tr>\n",
       "      <th>14</th>\n",
       "      <td>2016-03-14</td>\n",
       "      <td>1831786</td>\n",
       "    </tr>\n",
       "    <tr>\n",
       "      <th>15</th>\n",
       "      <td>2016-03-14</td>\n",
       "      <td>1830102</td>\n",
       "    </tr>\n",
       "    <tr>\n",
       "      <th>16</th>\n",
       "      <td>2016-03-14</td>\n",
       "      <td>1831007</td>\n",
       "    </tr>\n",
       "    <tr>\n",
       "      <th>17</th>\n",
       "      <td>2016-03-14</td>\n",
       "      <td>1830714</td>\n",
       "    </tr>\n",
       "    <tr>\n",
       "      <th>18</th>\n",
       "      <td>2016-03-14</td>\n",
       "      <td>1830105</td>\n",
       "    </tr>\n",
       "    <tr>\n",
       "      <th>19</th>\n",
       "      <td>2016-03-14</td>\n",
       "      <td>1831009</td>\n",
       "    </tr>\n",
       "    <tr>\n",
       "      <th>20</th>\n",
       "      <td>2016-03-14</td>\n",
       "      <td>1830225</td>\n",
       "    </tr>\n",
       "    <tr>\n",
       "      <th>21</th>\n",
       "      <td>2016-03-14</td>\n",
       "      <td>1830092</td>\n",
       "    </tr>\n",
       "    <tr>\n",
       "      <th>22</th>\n",
       "      <td>2016-03-14</td>\n",
       "      <td>1831622</td>\n",
       "    </tr>\n",
       "    <tr>\n",
       "      <th>23</th>\n",
       "      <td>2016-03-14</td>\n",
       "      <td>1830124</td>\n",
       "    </tr>\n",
       "    <tr>\n",
       "      <th>24</th>\n",
       "      <td>2016-03-14</td>\n",
       "      <td>1831396</td>\n",
       "    </tr>\n",
       "    <tr>\n",
       "      <th>25</th>\n",
       "      <td>2016-03-14</td>\n",
       "      <td>1830879</td>\n",
       "    </tr>\n",
       "    <tr>\n",
       "      <th>26</th>\n",
       "      <td>2016-03-14</td>\n",
       "      <td>1831272</td>\n",
       "    </tr>\n",
       "    <tr>\n",
       "      <th>27</th>\n",
       "      <td>2016-03-14</td>\n",
       "      <td>1830956</td>\n",
       "    </tr>\n",
       "    <tr>\n",
       "      <th>28</th>\n",
       "      <td>2016-03-14</td>\n",
       "      <td>1830273</td>\n",
       "    </tr>\n",
       "    <tr>\n",
       "      <th>29</th>\n",
       "      <td>2016-03-14</td>\n",
       "      <td>1831034</td>\n",
       "    </tr>\n",
       "    <tr>\n",
       "      <th>...</th>\n",
       "      <td>...</td>\n",
       "      <td>...</td>\n",
       "    </tr>\n",
       "    <tr>\n",
       "      <th>535168</th>\n",
       "      <td>2011-12-01</td>\n",
       "      <td>2099</td>\n",
       "    </tr>\n",
       "    <tr>\n",
       "      <th>535169</th>\n",
       "      <td>2011-12-01</td>\n",
       "      <td>2094</td>\n",
       "    </tr>\n",
       "    <tr>\n",
       "      <th>535170</th>\n",
       "      <td>2011-12-01</td>\n",
       "      <td>3410</td>\n",
       "    </tr>\n",
       "    <tr>\n",
       "      <th>535171</th>\n",
       "      <td>2011-12-01</td>\n",
       "      <td>3388</td>\n",
       "    </tr>\n",
       "    <tr>\n",
       "      <th>535172</th>\n",
       "      <td>2011-12-01</td>\n",
       "      <td>2090</td>\n",
       "    </tr>\n",
       "    <tr>\n",
       "      <th>535173</th>\n",
       "      <td>2011-12-01</td>\n",
       "      <td>3369</td>\n",
       "    </tr>\n",
       "    <tr>\n",
       "      <th>535174</th>\n",
       "      <td>2011-12-01</td>\n",
       "      <td>2088</td>\n",
       "    </tr>\n",
       "    <tr>\n",
       "      <th>535175</th>\n",
       "      <td>2011-12-01</td>\n",
       "      <td>2092</td>\n",
       "    </tr>\n",
       "    <tr>\n",
       "      <th>535176</th>\n",
       "      <td>2011-12-01</td>\n",
       "      <td>3074</td>\n",
       "    </tr>\n",
       "    <tr>\n",
       "      <th>535177</th>\n",
       "      <td>2011-12-01</td>\n",
       "      <td>2086</td>\n",
       "    </tr>\n",
       "    <tr>\n",
       "      <th>535178</th>\n",
       "      <td>2011-12-01</td>\n",
       "      <td>2084</td>\n",
       "    </tr>\n",
       "    <tr>\n",
       "      <th>535179</th>\n",
       "      <td>2011-12-01</td>\n",
       "      <td>2083</td>\n",
       "    </tr>\n",
       "    <tr>\n",
       "      <th>535180</th>\n",
       "      <td>2011-12-01</td>\n",
       "      <td>2074</td>\n",
       "    </tr>\n",
       "    <tr>\n",
       "      <th>535181</th>\n",
       "      <td>2011-12-01</td>\n",
       "      <td>2071</td>\n",
       "    </tr>\n",
       "    <tr>\n",
       "      <th>535182</th>\n",
       "      <td>2011-12-01</td>\n",
       "      <td>2070</td>\n",
       "    </tr>\n",
       "    <tr>\n",
       "      <th>535183</th>\n",
       "      <td>2011-12-01</td>\n",
       "      <td>2067</td>\n",
       "    </tr>\n",
       "    <tr>\n",
       "      <th>535184</th>\n",
       "      <td>2011-12-01</td>\n",
       "      <td>2065</td>\n",
       "    </tr>\n",
       "    <tr>\n",
       "      <th>535185</th>\n",
       "      <td>2011-12-01</td>\n",
       "      <td>2066</td>\n",
       "    </tr>\n",
       "    <tr>\n",
       "      <th>535186</th>\n",
       "      <td>2011-12-01</td>\n",
       "      <td>750</td>\n",
       "    </tr>\n",
       "    <tr>\n",
       "      <th>535187</th>\n",
       "      <td>2011-12-01</td>\n",
       "      <td>2063</td>\n",
       "    </tr>\n",
       "    <tr>\n",
       "      <th>535188</th>\n",
       "      <td>2011-12-01</td>\n",
       "      <td>2062</td>\n",
       "    </tr>\n",
       "    <tr>\n",
       "      <th>535189</th>\n",
       "      <td>2011-12-01</td>\n",
       "      <td>2060</td>\n",
       "    </tr>\n",
       "    <tr>\n",
       "      <th>535190</th>\n",
       "      <td>2011-12-01</td>\n",
       "      <td>2057</td>\n",
       "    </tr>\n",
       "    <tr>\n",
       "      <th>535191</th>\n",
       "      <td>2011-12-01</td>\n",
       "      <td>2053</td>\n",
       "    </tr>\n",
       "    <tr>\n",
       "      <th>535192</th>\n",
       "      <td>2011-12-01</td>\n",
       "      <td>2052</td>\n",
       "    </tr>\n",
       "    <tr>\n",
       "      <th>535193</th>\n",
       "      <td>2011-12-01</td>\n",
       "      <td>2051</td>\n",
       "    </tr>\n",
       "    <tr>\n",
       "      <th>535194</th>\n",
       "      <td>2011-12-01</td>\n",
       "      <td>2050</td>\n",
       "    </tr>\n",
       "    <tr>\n",
       "      <th>535195</th>\n",
       "      <td>2011-12-01</td>\n",
       "      <td>2049</td>\n",
       "    </tr>\n",
       "    <tr>\n",
       "      <th>535196</th>\n",
       "      <td>2011-12-01</td>\n",
       "      <td>2047</td>\n",
       "    </tr>\n",
       "    <tr>\n",
       "      <th>535197</th>\n",
       "      <td>2011-12-01</td>\n",
       "      <td>2046</td>\n",
       "    </tr>\n",
       "  </tbody>\n",
       "</table>\n",
       "<p>535198 rows × 2 columns</p>\n",
       "</div>"
      ],
      "text/plain": [
       "       Date received  Complaint ID\n",
       "0         2016-03-15       1832297\n",
       "1         2016-03-15       1832934\n",
       "2         2016-03-15       1833638\n",
       "3         2016-03-15       1833888\n",
       "4         2016-03-15       1832511\n",
       "5         2016-03-15       1833248\n",
       "6         2016-03-15       1833952\n",
       "7         2016-03-15       1833588\n",
       "8         2016-03-15       1831333\n",
       "9         2016-03-15       1830673\n",
       "10        2016-03-15       1831290\n",
       "11        2016-03-15       1830961\n",
       "12        2016-03-15       1830396\n",
       "13        2016-03-15       1830750\n",
       "14        2016-03-14       1831786\n",
       "15        2016-03-14       1830102\n",
       "16        2016-03-14       1831007\n",
       "17        2016-03-14       1830714\n",
       "18        2016-03-14       1830105\n",
       "19        2016-03-14       1831009\n",
       "20        2016-03-14       1830225\n",
       "21        2016-03-14       1830092\n",
       "22        2016-03-14       1831622\n",
       "23        2016-03-14       1830124\n",
       "24        2016-03-14       1831396\n",
       "25        2016-03-14       1830879\n",
       "26        2016-03-14       1831272\n",
       "27        2016-03-14       1830956\n",
       "28        2016-03-14       1830273\n",
       "29        2016-03-14       1831034\n",
       "...              ...           ...\n",
       "535168    2011-12-01          2099\n",
       "535169    2011-12-01          2094\n",
       "535170    2011-12-01          3410\n",
       "535171    2011-12-01          3388\n",
       "535172    2011-12-01          2090\n",
       "535173    2011-12-01          3369\n",
       "535174    2011-12-01          2088\n",
       "535175    2011-12-01          2092\n",
       "535176    2011-12-01          3074\n",
       "535177    2011-12-01          2086\n",
       "535178    2011-12-01          2084\n",
       "535179    2011-12-01          2083\n",
       "535180    2011-12-01          2074\n",
       "535181    2011-12-01          2071\n",
       "535182    2011-12-01          2070\n",
       "535183    2011-12-01          2067\n",
       "535184    2011-12-01          2065\n",
       "535185    2011-12-01          2066\n",
       "535186    2011-12-01           750\n",
       "535187    2011-12-01          2063\n",
       "535188    2011-12-01          2062\n",
       "535189    2011-12-01          2060\n",
       "535190    2011-12-01          2057\n",
       "535191    2011-12-01          2053\n",
       "535192    2011-12-01          2052\n",
       "535193    2011-12-01          2051\n",
       "535194    2011-12-01          2050\n",
       "535195    2011-12-01          2049\n",
       "535196    2011-12-01          2047\n",
       "535197    2011-12-01          2046\n",
       "\n",
       "[535198 rows x 2 columns]"
      ]
     },
     "execution_count": 48,
     "metadata": {},
     "output_type": "execute_result"
    }
   ],
   "source": [
    "data[[\"Date received\",\"Complaint ID\"]]"
   ]
  },
  {
   "cell_type": "code",
   "execution_count": 49,
   "metadata": {
    "collapsed": false
   },
   "outputs": [
    {
     "data": {
      "text/html": [
       "<div>\n",
       "<table border=\"1\" class=\"dataframe\">\n",
       "  <thead>\n",
       "    <tr style=\"text-align: right;\">\n",
       "      <th></th>\n",
       "      <th>Date_received</th>\n",
       "      <th>Complaint_ID</th>\n",
       "    </tr>\n",
       "  </thead>\n",
       "  <tbody>\n",
       "    <tr>\n",
       "      <th>0</th>\n",
       "      <td>2016-03-15</td>\n",
       "      <td>1832297</td>\n",
       "    </tr>\n",
       "    <tr>\n",
       "      <th>1</th>\n",
       "      <td>2016-03-15</td>\n",
       "      <td>1832934</td>\n",
       "    </tr>\n",
       "    <tr>\n",
       "      <th>2</th>\n",
       "      <td>2016-03-15</td>\n",
       "      <td>1833638</td>\n",
       "    </tr>\n",
       "    <tr>\n",
       "      <th>3</th>\n",
       "      <td>2016-03-15</td>\n",
       "      <td>1833888</td>\n",
       "    </tr>\n",
       "    <tr>\n",
       "      <th>4</th>\n",
       "      <td>2016-03-15</td>\n",
       "      <td>1832511</td>\n",
       "    </tr>\n",
       "  </tbody>\n",
       "</table>\n",
       "</div>"
      ],
      "text/plain": [
       "  Date_received  Complaint_ID\n",
       "0    2016-03-15       1832297\n",
       "1    2016-03-15       1832934\n",
       "2    2016-03-15       1833638\n",
       "3    2016-03-15       1833888\n",
       "4    2016-03-15       1832511"
      ]
     },
     "execution_count": 49,
     "metadata": {},
     "output_type": "execute_result"
    }
   ],
   "source": [
    "DataFrame = data[['Date received','Complaint ID']]\n",
    "DataFrame.columns = ['Date_received','Complaint_ID']\n",
    "DataFrame.head()"
   ]
  },
  {
   "cell_type": "code",
   "execution_count": null,
   "metadata": {
    "collapsed": false
   },
   "outputs": [],
   "source": []
  },
  {
   "cell_type": "code",
   "execution_count": 50,
   "metadata": {
    "collapsed": false
   },
   "outputs": [
    {
     "data": {
      "text/plain": [
       "pandas.core.frame.DataFrame"
      ]
     },
     "execution_count": 50,
     "metadata": {},
     "output_type": "execute_result"
    }
   ],
   "source": [
    "type(DataFrame)"
   ]
  },
  {
   "cell_type": "code",
   "execution_count": 55,
   "metadata": {
    "collapsed": true
   },
   "outputs": [],
   "source": [
    "f = pd.value_counts(DataFrame.Date_received)\n",
    "f = pd.DataFrame(f)\n",
    "f['date'] = f.index"
   ]
  },
  {
   "cell_type": "code",
   "execution_count": 56,
   "metadata": {
    "collapsed": false
   },
   "outputs": [
    {
     "data": {
      "text/html": [
       "<div>\n",
       "<table border=\"1\" class=\"dataframe\">\n",
       "  <thead>\n",
       "    <tr style=\"text-align: right;\">\n",
       "      <th></th>\n",
       "      <th>No_Complaints</th>\n",
       "      <th>Date_received</th>\n",
       "    </tr>\n",
       "  </thead>\n",
       "  <tbody>\n",
       "    <tr>\n",
       "      <th>0</th>\n",
       "      <td>963</td>\n",
       "      <td>2015-08-27</td>\n",
       "    </tr>\n",
       "    <tr>\n",
       "      <th>1</th>\n",
       "      <td>916</td>\n",
       "      <td>2014-06-26</td>\n",
       "    </tr>\n",
       "    <tr>\n",
       "      <th>2</th>\n",
       "      <td>912</td>\n",
       "      <td>2015-08-26</td>\n",
       "    </tr>\n",
       "    <tr>\n",
       "      <th>3</th>\n",
       "      <td>827</td>\n",
       "      <td>2015-07-08</td>\n",
       "    </tr>\n",
       "    <tr>\n",
       "      <th>4</th>\n",
       "      <td>819</td>\n",
       "      <td>2015-08-12</td>\n",
       "    </tr>\n",
       "  </tbody>\n",
       "</table>\n",
       "</div>"
      ],
      "text/plain": [
       "   No_Complaints Date_received\n",
       "0            963    2015-08-27\n",
       "1            916    2014-06-26\n",
       "2            912    2015-08-26\n",
       "3            827    2015-07-08\n",
       "4            819    2015-08-12"
      ]
     },
     "execution_count": 56,
     "metadata": {},
     "output_type": "execute_result"
    }
   ],
   "source": [
    "f.reset_index(drop=True, inplace=True)\n",
    "f.columns = ['No_Complaints','Date_received']\n",
    "f.head()"
   ]
  },
  {
   "cell_type": "code",
   "execution_count": 84,
   "metadata": {
    "collapsed": false
   },
   "outputs": [
    {
     "data": {
      "image/png": "[encoded data removed]",
      "text/plain": [
       "<matplotlib.figure.Figure at 0x7f338cdf3f50>"
      ]
     },
     "metadata": {},
     "output_type": "display_data"
    }
   ],
   "source": [
    "import matplotlib.pyplot as plt\n",
    "import matplotlib\n",
    "matplotlib.style.use('ggplot')\n",
    "%matplotlib inline\n",
    "\n",
    "f_plot = f.plot(x='Date_received', y= 'No_Complaints',style='.'\\\n",
    ", title='No. of Participants per Jurisdiction', color='DarkBlue', label='Complaints v/s Date')\n"
   ]
  },
  {
   "cell_type": "code",
   "execution_count": null,
   "metadata": {
    "collapsed": false
   },
   "outputs": [],
   "source": []
  },
  {
   "cell_type": "code",
   "execution_count": null,
   "metadata": {
    "collapsed": true
   },
   "outputs": [],
   "source": []
  }
 ],
 "metadata": {
  "kernelspec": {
   "display_name": "PUI2016_Python2",
   "language": "python",
   "name": "pui2016_python2"
  },
  "language_info": {
   "codemirror_mode": {
    "name": "ipython",
    "version": 2
   },
   "file_extension": ".py",
   "mimetype": "text/x-python",
   "name": "python",
   "nbconvert_exporter": "python",
   "pygments_lexer": "ipython2",
   "version": "2.7.12"
  }
 },
 "nbformat": 4,
 "nbformat_minor": 0
}
