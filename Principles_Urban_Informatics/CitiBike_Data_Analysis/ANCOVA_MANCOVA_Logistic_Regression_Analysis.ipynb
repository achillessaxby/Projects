{
 "cells": [
  {
   "cell_type": "markdown",
   "metadata": {},
   "source": [
    "## Assignment - 2 for Homework - 4\n",
    "## Achilles E A Saxby (aes807) to evaluate tests - from the table given in class\n",
    "\n",
    "# ---------------------------\n",
    "\n",
    "### One from the top half and one from the bottom half to show the different classifications and tables found\n",
    "\n",
    "#### Evaluation done:\n",
    "- ANCOVA and MANCOVA\n",
    "- Logistic Regression Test"
   ]
  },
  {
   "cell_type": "markdown",
   "metadata": {},
   "source": [
    "### Part - I (Choosing two from the First Half of the Table to use as a guideline)\n",
    "\n",
    "##### Statistical Analysis done on a paper published that involved both MANCOVA and ANCOVA tests - so I thought it would be best to use this paper so that I can get exposed and learn about how both can be used simultaneously and how two different tests are clubbed togeather to show a single result.\n",
    "\n",
    "##### Here MANCOVA's were used first and ANCOVA's were used inside/follow up of the MANCOVA tests to determine/understand certain Interdependent qualities\n",
    "\n",
    "### Part - II (Choosing one from the Second Half of the Table to use as a guideline)\n",
    "\n",
    "##### Statistical Analysis done on a paper published that involved the Logistic Regression test. Here this uses archaeological data to relate the variable that is highly affected by the change in the Independent Variables."
   ]
  },
  {
   "cell_type": "markdown",
   "metadata": {},
   "source": [
    "# Both parts ( 3 tables ) can be found in the README.md file for this homework - HW4_aes807"
   ]
  }
 ],
 "metadata": {
  "kernelspec": {
   "display_name": "Python 3",
   "language": "python",
   "name": "python3"
  },
  "language_info": {
   "codemirror_mode": {
    "name": "ipython",
    "version": 3
   },
   "file_extension": ".py",
   "mimetype": "text/x-python",
   "name": "python",
   "nbconvert_exporter": "python",
   "pygments_lexer": "ipython3",
   "version": "3.4.2"
  }
 },
 "nbformat": 4,
 "nbformat_minor": 0
}
