{
 "cells": [
  {
   "cell_type": "markdown",
   "metadata": {
    "collapsed": true
   },
   "source": [
    "## Assignment - 1 for Homework - 4 \n",
    "### Achilles E A Saxby (aes807) to evaluate Xinge Zhong (xz1809)\n",
    "#### Evaluation done and the readme file titled \"CitibikeReview_aes807.md\" posted on the forked repository in the HW3_xz1809 folder"
   ]
  },
  {
   "cell_type": "markdown",
   "metadata": {},
   "source": [
    "##### Evaluation of tests to be performed:\n",
    "    - (T-Test) for part of the solution\n",
    "    - (ANOVA Test) for the other part of the solution\n",
    "    \n",
    "##### Theory and reasons regarding the choices of tests are stated in the \"CitibikeReview_aes807.md\" file in the folder as part of the submisison"
   ]
  },
  {
   "cell_type": "code",
   "execution_count": null,
   "metadata": {
    "collapsed": true
   },
   "outputs": [],
   "source": []
  }
 ],
 "metadata": {
  "kernelspec": {
   "display_name": "PUI2016_Python2",
   "language": "python",
   "name": "pui2016_python2"
  },
  "language_info": {
   "codemirror_mode": {
    "name": "ipython",
    "version": 2
   },
   "file_extension": ".py",
   "mimetype": "text/x-python",
   "name": "python",
   "nbconvert_exporter": "python",
   "pygments_lexer": "ipython2",
   "version": "2.7.12"
  }
 },
 "nbformat": 4,
 "nbformat_minor": 0
}
