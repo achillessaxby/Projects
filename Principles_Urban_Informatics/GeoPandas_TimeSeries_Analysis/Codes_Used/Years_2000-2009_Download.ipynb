{
 "cells": [
  {
   "cell_type": "markdown",
   "metadata": {},
   "source": [
    "#### Achilles E A Saxby\n",
    "#### aes807\n",
    "#### Suppliment Code for Assignment_2\n",
    "#### Downloading the files for years (2000 to 2009)"
   ]
  },
  {
   "cell_type": "code",
   "execution_count": null,
   "metadata": {
    "collapsed": false
   },
   "outputs": [
    {
     "name": "stdout",
     "output_type": "stream",
     "text": [
      "--2016-11-29 14:48:21--  ftp://ftp.census.gov/econ2000/CBP_CSV/zbp00totals.zip\r\n",
      "           => “zbp00totals.zip”\r\n",
      "Resolving ftp.census.gov... 148.129.75.35, 2610:20:2010:a09:1000:0:9481:4b23\r\n",
      "Connecting to ftp.census.gov|148.129.75.35|:21... connected.\r\n",
      "Logging in as anonymous ... "
     ]
    }
   ],
   "source": [
    "!for ((y=0; y<=9; y+=1)); do wget ftp://ftp.census.gov/econ200$y\\/CBP_CSV/zbp0$y\\totals.zip; done"
   ]
  }
 ],
 "metadata": {
  "kernelspec": {
   "display_name": "PUI2016_Python2",
   "language": "python",
   "name": "pui2016_python2"
  },
  "language_info": {
   "codemirror_mode": {
    "name": "ipython",
    "version": 2
   },
   "file_extension": ".py",
   "mimetype": "text/x-python",
   "name": "python",
   "nbconvert_exporter": "python",
   "pygments_lexer": "ipython2",
   "version": "2.7.12"
  }
 },
 "nbformat": 4,
 "nbformat_minor": 0
}
