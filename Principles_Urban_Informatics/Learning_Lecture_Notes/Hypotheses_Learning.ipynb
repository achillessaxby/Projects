{
 "cells": [
  {
   "cell_type": "markdown",
   "metadata": {},
   "source": [
    "#### Read the homework 4 folder and check it out again and try and correlate with this practice notebook"
   ]
  },
  {
   "cell_type": "markdown",
   "metadata": {},
   "source": [
    "#### Null Hypothesis : $H_0$ ="
   ]
  },
  {
   "cell_type": "markdown",
   "metadata": {},
   "source": [
    "#### Alternate Hypothesis : $H_a$ ="
   ]
  },
  {
   "cell_type": "code",
   "execution_count": 10,
   "metadata": {
    "collapsed": false
   },
   "outputs": [],
   "source": [
    "#Jobs - Convict \n",
    "\n",
    "import numpy as np\n",
    "\n",
    "p0 = (70.1/100) #In program\n",
    "p1 = (3.5/100)  #Not in program\n",
    "\n",
    "a = 0.05\n",
    "\n",
    "#Test of proportion - two ways to solve it !!\n",
    "\n",
    "total_1 = 564 #Total people in the program\n",
    "total_0 = 409 #Total not in the program\n",
    "total = total_0 + total_1\n",
    "\n",
    "table_convict = np.array([[0, 0], [0, 0]])\n",
    "\n",
    "expected = 564 * 409 * 409.679 * 562.912 #from the homework table"
   ]
  },
  {
   "cell_type": "code",
   "execution_count": 11,
   "metadata": {
    "collapsed": false
   },
   "outputs": [],
   "source": [
    "table_convict[0][0] = p1 * total_1\n",
    "table_convict[1][0] = p0 * total_0\n",
    "\n",
    "table_convict[0][1] = total_1 * (1-p1)\n",
    "table_convict[1][1] = total_0 * (1-p0)"
   ]
  },
  {
   "cell_type": "code",
   "execution_count": 16,
   "metadata": {
    "collapsed": false
   },
   "outputs": [
    {
     "name": "stdout",
     "output_type": "stream",
     "text": [
      "429.653016188\n"
     ]
    }
   ],
   "source": [
    "chisqstat = lambda N, values, expect : N * ((values[0][0] * values[1][1]\n",
    "                                            -values[0][1] * values[1][0])**2) / expect\n",
    "\n",
    "print (chisqstat(total, table_convict, expected))"
   ]
  },
  {
   "cell_type": "code",
   "execution_count": null,
   "metadata": {
    "collapsed": true
   },
   "outputs": [],
   "source": []
  }
 ],
 "metadata": {
  "kernelspec": {
   "display_name": "PUI2016_Python2",
   "language": "python",
   "name": "pui2016_python2"
  },
  "language_info": {
   "codemirror_mode": {
    "name": "ipython",
    "version": 2
   },
   "file_extension": ".py",
   "mimetype": "text/x-python",
   "name": "python",
   "nbconvert_exporter": "python",
   "pygments_lexer": "ipython2",
   "version": "2.7.12"
  }
 },
 "nbformat": 4,
 "nbformat_minor": 0
}
