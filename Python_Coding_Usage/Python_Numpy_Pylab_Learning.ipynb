{
 "cells": [
  {
   "cell_type": "code",
   "execution_count": 3,
   "metadata": {
    "collapsed": false
   },
   "outputs": [
    {
     "name": "stdout",
     "output_type": "stream",
     "text": [
      "Populating the interactive namespace from numpy and matplotlib\n"
     ]
    }
   ],
   "source": [
    "# importing future for compatibility between python 2 and python 3\n",
    "from __future__ import print_function\n",
    "\n",
    "# importing needed packages\n",
    "import numpy as np\n",
    "import pylab as pl\n",
    "\n",
    "# The dollowing command (it is called a magic command) \n",
    "# is needed to display plots in the notebook.\n",
    "%pylab inline"
   ]
  },
  {
   "cell_type": "code",
   "execution_count": 4,
   "metadata": {
    "collapsed": false
   },
   "outputs": [
    {
     "data": {
      "image/png": "[encoded data removed]",
      "text/plain": [
       "<matplotlib.figure.Figure at 0x7f27a8445550>"
      ]
     },
     "metadata": {},
     "output_type": "display_data"
    }
   ],
   "source": [
    "origin = np.array([0,0])\n",
    "vector = np.array([3,7])\n",
    "\n",
    "fig = pl.figure(figsize=plt.figaspect(1))\n",
    "fig = fig.gca()\n",
    "\n",
    "ax = pl.axes()\n",
    "ax.arrow(origin[0], origin[1], vector[0], vector[1], head_width = 0.5, head_length = 0.1 )\n",
    "\n",
    "ax.set_xlim(right = 10)\n",
    "ax.set_ylim(top = 10)\n",
    "\n",
    "ax.spines['top'].set_visible(False)\n",
    "ax.xaxis.set_ticks_position('bottom')\n",
    "ax.spines['right'].set_visible(False)\n",
    "ax.yaxis.set_ticks_position('left')\n",
    "\n",
    "pl.annotate('V(3,7)', xy=(vector), xycoords='data', xytext=vector)\n",
    "\n",
    "pl.show()\n"
   ]
  },
  {
   "cell_type": "code",
   "execution_count": 8,
   "metadata": {
    "collapsed": false
   },
   "outputs": [
    {
     "data": {
      "image/png": "[encoded data removed]",
      "text/plain": [
       "<matplotlib.figure.Figure at 0x7f27a6294510>"
      ]
     },
     "metadata": {},
     "output_type": "display_data"
    }
   ],
   "source": [
    "fig = pl.figure(figsize = plt.figaspect(1))\n",
    "vLong = 2*vector\n",
    "\n",
    "ax = pl.axes()\n",
    "ax.arrow(origin[0], origin[1], vLong[0], vLong[1], head_width = 0.5, head_length = 0.5 )\n",
    "\n",
    "ax.set_xlim(right = 20)\n",
    "ax.set_ylim(top = 20)\n",
    "\n",
    "ax.spines['top'].set_visible(False)\n",
    "ax.xaxis.set_ticks_position('bottom')\n",
    "ax.spines['right'].set_visible(False)\n",
    "ax.yaxis.set_ticks_position('left')\n",
    "\n",
    "pl.annotate( 'vLong', xy = vLong, xycoords = 'data', xytext = vLong*1.1)\n",
    "ax.arrow(origin[0], origin[1], vector[0] , vector[1], head_width = 0.5, head_length = 0.5, lw = 5, ls = 'dashed', color = 'grey')\n",
    "pl.annotate('v', xy = vector, xycoords = 'data' , xytext = (5,7) ,arrowprops=dict(arrowstyle=\"->\"))\n",
    "\n",
    "pl.show()\n"
   ]
  },
  {
   "cell_type": "code",
   "execution_count": 5,
   "metadata": {
    "collapsed": false
   },
   "outputs": [
    {
     "data": {
      "text/plain": [
       "array([[ 0.70710678, -0.70710678],\n",
       "       [ 0.70710678,  0.70710678]])"
      ]
     },
     "execution_count": 5,
     "metadata": {},
     "output_type": "execute_result"
    }
   ],
   "source": [
    "def rotMatrix(angle):\n",
    "    angle = (angle * np.pi)/180\n",
    "    matrix = np.array([[np.cos(angle), -np.sin(angle)], [np.sin(angle), np.cos(angle)]])\n",
    "    return matrix\n",
    "\n",
    "rotMatrix(45)"
   ]
  },
  {
   "cell_type": "code",
   "execution_count": 6,
   "metadata": {
    "collapsed": false
   },
   "outputs": [
    {
     "data": {
      "image/png": "[encoded data removed]",
      "text/plain": [
       "<matplotlib.figure.Figure at 0x7f27a6393750>"
      ]
     },
     "metadata": {},
     "output_type": "display_data"
    }
   ],
   "source": [
    "v30 = np.dot(rotMatrix(30),vector)\n",
    "v90 = np.dot(rotMatrix(-90), v30)\n",
    "fig = pl.figure(figsize = plt.figaspect(0.5))\n",
    "\n",
    "pl.gca()\n",
    "ax = pl.axes()\n",
    "\n",
    "pl.xticks(np.arange(-20,21,5))\n",
    "pl.yticks(np.arange(0,11,2.5))\n",
    "\n",
    "ax.arrow(origin[0], origin[1], v30[0], v30[1], head_length = 0.5, head_width = 0.5, color = 'black', ls = 'solid')\n",
    "ax.arrow(origin[0], origin[1], v90[0], v90[1], head_length = 0.5, head_width = 0.5, color = 'black', ls = 'solid')\n",
    "ax.arrow(origin[0], origin[1], vector[0], vector[1], head_length = 0.5, head_width = 0.5, ls = 'dashed', lw = 1, color = 'grey')\n",
    "\n",
    "ax.spines['right'].set_color('none')\n",
    "ax.spines['top'].set_color('none')\n",
    "ax.xaxis.set_ticks_position('bottom')\n",
    "ax.spines['bottom'].set_position(('data',0))\n",
    "ax.yaxis.set_ticks_position('left')\n",
    "ax.spines['left'].set_position(('data',0))\n",
    "\n",
    "ax.annotate('v', xy = vector, xycoords = 'data', xytext = vector*1.1, arrowprops=dict(arrowstyle=\"->\"))\n",
    "ax.annotate('v30', xy = v30, xycoords ='data', xytext = (-4,7), arrowprops=dict(arrowstyle=\"->\"))\n",
    "ax.annotate('v90', xy = v90, xycoords = 'data', xytext = (3,1.5), arrowprops = dict(arrowstyle = \"->\"))\n",
    "\n",
    "pl.show()\n"
   ]
  },
  {
   "cell_type": "code",
   "execution_count": 10,
   "metadata": {
    "collapsed": false
   },
   "outputs": [
    {
     "data": {
      "image/png": "[encoded data removed]",
      "text/plain": [
       "<matplotlib.figure.Figure at 0x7f286c281b50>"
      ]
     },
     "metadata": {},
     "output_type": "display_data"
    }
   ],
   "source": [
    "v_resultant = v90 + vLong\n",
    "\n",
    "pl.figure(figsize = pl.figaspect(1))\n",
    "pl.gca()\n",
    "\n",
    "ax = pl.axes()\n",
    "\n",
    "pl.xticks(arange(0,20,2))\n",
    "pl.yticks(arange(0,20,2))\n",
    "\n",
    "ax.arrow(origin[0], origin[1], v_resultant[0], v_resultant[1], head_length = 0.5, head_width = 0.5, color ='black')\n",
    "ax.arrow(origin[0], origin[1], v90[0], v90[1], head_length = 0.5, head_width =0.5, color = 'grey', ls = 'dashed')\n",
    "ax.arrow(origin[0], origin[1], vLong[0], vLong[1], head_length = 0.5, head_width =0.5 , color = 'grey', ls = 'dashed')\n",
    "\n",
    "ax.xaxis.set_ticks_position('bottom')\n",
    "ax.yaxis.set_ticks_position('left')\n",
    "\n",
    "ax.spines['top'].set_color('none')\n",
    "ax.spines['right'].set_color('none')\n",
    "ax.spines['bottom'].set_position(('data',0))\n",
    "ax.spines['left'].set_position(('data',0))\n",
    "\n",
    "ax.annotate('v_resultant', xy = v_resultant, xycoords = 'data', xytext = v_resultant*1.1, arrowprops = dict(arrowstyle = \"->\"))\n",
    "ax.annotate('v90', xy = v90, xycoords = 'data', xytext = v90*1.1, arrowprops = dict(arrowstyle = \"->\"))\n",
    "ax.annotate('vLong', xy = vLong, xycoords = 'data', xytext = vLong*1.1, arrowprops = dict(arrowstyle = \"->\"))\n",
    "\n",
    "plt.show()"
   ]
  },
  {
   "cell_type": "markdown",
   "metadata": {},
   "source": [
    "# Bayes Theorem - Solutions"
   ]
  },
  {
   "cell_type": "markdown",
   "metadata": {},
   "source": [
    "Part 2.\n",
    "Question 1a. \n",
    "\n",
    "Assuming both devices are independent of each other P(AB) = P(A) x P(B) \n",
    "\n",
    "P(AB) = 0.06 x 0.05 \n",
    "\n",
    "P(AB) = 0.3% \n",
    "\n",
    "The probability that both the devices will fail together is 0.3%"
   ]
  },
  {
   "cell_type": "markdown",
   "metadata": {},
   "source": []
  },
  {
   "cell_type": "markdown",
   "metadata": {},
   "source": [
    "Part 2.\n",
    "Question 1b. \n",
    "\n",
    "P(B|A) = (P(A|B) x P(B))/(P(A) \n",
    "                          \n",
    "P(B|A) = (0.6 x 0.05)/(0.06) \n",
    "                          \n",
    "P(B|A) = 0.5 \n",
    "\n",
    "The probability the second device will fail given that the first device has failed is 50%"
   ]
  },
  {
   "cell_type": "markdown",
   "metadata": {},
   "source": []
  },
  {
   "cell_type": "markdown",
   "metadata": {},
   "source": [
    "Part 2.\n",
    "Question 2. \n",
    "\n",
    "Assuming there is 1/3 probabilty of choosing a device from A, B or C \n",
    "The probability that a stock is defective is \n",
    "    \n",
    "P(defective) = P(defective|A) x P(A) + P(defective|B) x P(B) + P(defective|C) x P(C)\n",
    "\n",
    "P(Defective) = 0.05 x 1/3 + 0.1 x 1/3 + 0.03 x 1/3 \n",
    "\n",
    "P(defective) = 0.06\n",
    "\n",
    "The probabilty of a stock being defective if chosen from C is \n",
    "P(C) x P(defective|C) = 1/3 x 0.03 \n",
    "\n",
    "P(C) = 0.01\n",
    "\n",
    "Therefore, the probabilty of a defective stock chosen from C is \n",
    "P(C|defective) = 0.01/0.06 P(C|defective) = 1/6 \n",
    "\n",
    "P(C|defective) = 16.67%"
   ]
  },
  {
   "cell_type": "markdown",
   "metadata": {},
   "source": []
  }
 ],
 "metadata": {
  "anaconda-cloud": {},
  "kernelspec": {
   "display_name": "Python [Root]",
   "language": "python",
   "name": "Python [Root]"
  },
  "language_info": {
   "codemirror_mode": {
    "name": "ipython",
    "version": 2
   },
   "file_extension": ".py",
   "mimetype": "text/x-python",
   "name": "python",
   "nbconvert_exporter": "python",
   "pygments_lexer": "ipython2",
   "version": "2.7.12"
  }
 },
 "nbformat": 4,
 "nbformat_minor": 0
}
