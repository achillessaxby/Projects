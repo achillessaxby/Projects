{
 "cells": [
  {
   "cell_type": "code",
   "execution_count": 5,
   "metadata": {
    "collapsed": false
   },
   "outputs": [
    {
     "name": "stdout",
     "output_type": "stream",
     "text": [
      "3.00000012066\n"
     ]
    }
   ],
   "source": [
    "## The function that has been used in this solution can be found at the url mentioned below:\n",
    "## http://docs.scipy.org/doc/scipy/reference/optimize.minimize_scalar-bounded.html\n",
    "## This has been used as a reference and has been modified accordingly to suit the program.\n",
    "\n",
    "from scipy.optimize import minimize_scalar\n",
    "\n",
    "def min_fun(x):\n",
    "    return ((x**3)/3 - 2*(x**2) + 3*(x) + 1)\n",
    "\n",
    "solution = minimize_scalar(min_fun, bounds = (0,3.5), method = 'bounded')\n",
    "\n",
    "print solution.x"
   ]
  },
  {
   "cell_type": "code",
   "execution_count": 4,
   "metadata": {
    "collapsed": false
   },
   "outputs": [
    {
     "name": "stdout",
     "output_type": "stream",
     "text": [
      "At initial point x = 1, y = 0\n",
      "Optimization terminated successfully.\n",
      "         Current function value: -0.210937\n",
      "         Iterations: 11\n",
      "         Function evaluations: 17\n",
      "         Gradient evaluations: 17\n",
      "\n",
      "At initial point x = 0, y = 50\n",
      "Optimization terminated successfully.\n",
      "         Current function value: -0.210937\n",
      "         Iterations: 32\n",
      "         Function evaluations: 44\n",
      "         Gradient evaluations: 44\n",
      "\n",
      "At initial point x = 0, y = 100\n",
      "Optimization terminated successfully.\n",
      "         Current function value: -0.210937\n",
      "         Iterations: 35\n",
      "         Function evaluations: 62\n",
      "         Gradient evaluations: 62\n",
      "\n",
      "At initial point x = 50, y = 0\n",
      "Optimization terminated successfully.\n",
      "         Current function value: -0.210937\n",
      "         Iterations: 42\n",
      "         Function evaluations: 52\n",
      "         Gradient evaluations: 52\n",
      "\n",
      "At initial point x = 100, y = 0\n",
      "Optimization terminated successfully.\n",
      "         Current function value: -0.210937\n",
      "         Iterations: 52\n",
      "         Function evaluations: 64\n",
      "         Gradient evaluations: 64\n",
      "\n",
      "At initial point x = 50, y = 50\n",
      "Optimization terminated successfully.\n",
      "         Current function value: -0.000352\n",
      "         Iterations: 45\n",
      "         Function evaluations: 59\n",
      "         Gradient evaluations: 59\n"
     ]
    },
    {
     "data": {
      "text/plain": [
       "   status: 0\n",
       "  success: True\n",
       "     njev: 59\n",
       "     nfev: 59\n",
       " hess_inv: array([[ 4.34474071,  3.9605749 ],\n",
       "       [ 3.9605749 ,  8.56518056]])\n",
       "      fun: -0.0003522064851709454\n",
       "        x: array([-0.08243851, -0.17774684])\n",
       "  message: 'Optimization terminated successfully.'\n",
       "      jac: array([  4.65243863e-05,   4.73707715e-05])\n",
       "      nit: 45"
      ]
     },
     "execution_count": 4,
     "metadata": {},
     "output_type": "execute_result"
    }
   ],
   "source": [
    "from scipy.optimize import minimize\n",
    "import numpy as np\n",
    "\n",
    "def fun(x):\n",
    "    return((x[0]**4)+(x[1]**4)-((x[0]**2)*x[1])+((x[0])*x[1]**2))\n",
    "\n",
    "def func_der(x):\n",
    "    x_der = (4*x[0]**3)-(2*x[0]*x[1])+(x[1]**2)\n",
    "    y_der = (4*x[1]**3)+(2*x[0]*x[1])-(x[0]**2)\n",
    "    return(np.array([x_der,y_der]))\n",
    "\n",
    "x = [1,0]\n",
    "print \"At initial point x = 1, y = 0\"\n",
    "minimize(fun, x , method='BFGS', jac=func_der, options={'gtol': 1e-4, 'disp': True})\n",
    "\n",
    "x = [0,50]\n",
    "print \"\\nAt initial point x = 0, y = 50\"\n",
    "minimize(fun, x , method='BFGS', jac=func_der, options={'gtol': 1e-4, 'disp': True})\n",
    "\n",
    "x = [0,100]\n",
    "print \"\\nAt initial point x = 0, y = 100\"\n",
    "minimize(fun, x , method='BFGS', jac=func_der, options={'gtol': 1e-4, 'disp': True})\n",
    "\n",
    "x = [50,0]\n",
    "print \"\\nAt initial point x = 50, y = 0\"\n",
    "minimize(f, x , method='BFGS', jac=func_der, options={'gtol': 1e-4, 'disp': True})\n",
    "\n",
    "x = [100,0]\n",
    "print \"\\nAt initial point x = 100, y = 0\"\n",
    "minimize(fun, x , method='BFGS', jac=func_der, options={'gtol': 1e-4, 'disp': True})\n",
    "\n",
    "x = [50,50]\n",
    "print \"\\nAt initial point x = 50, y = 50\"\n",
    "minimize(fun, x , method='BFGS', jac=func_der, options={'gtol': 1e-4, 'disp': True})"
   ]
  },
  {
   "cell_type": "code",
   "execution_count": null,
   "metadata": {
    "collapsed": true
   },
   "outputs": [],
   "source": []
  }
 ],
 "metadata": {
  "anaconda-cloud": {},
  "kernelspec": {
   "display_name": "Python [Root]",
   "language": "python",
   "name": "Python [Root]"
  },
  "language_info": {
   "codemirror_mode": {
    "name": "ipython",
    "version": 2
   },
   "file_extension": ".py",
   "mimetype": "text/x-python",
   "name": "python",
   "nbconvert_exporter": "python",
   "pygments_lexer": "ipython2",
   "version": "2.7.12"
  }
 },
 "nbformat": 4,
 "nbformat_minor": 0
}
