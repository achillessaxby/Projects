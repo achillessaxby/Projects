{
 "cells": [
  {
   "cell_type": "code",
   "execution_count": 1,
   "metadata": {
    "collapsed": false
   },
   "outputs": [
    {
     "name": "stdout",
     "output_type": "stream",
     "text": [
      "Enter your word here: Hello\n",
      "loHel\n"
     ]
    }
   ],
   "source": [
    "# Solution for Question-1:\n",
    "\n",
    "string_test = raw_input(\"Enter your word here: \")\n",
    "string_test = string_test[-2:] + string_test[:-2]\n",
    "print(string_test)"
   ]
  },
  {
   "cell_type": "code",
   "execution_count": 2,
   "metadata": {
    "collapsed": false,
    "scrolled": true
   },
   "outputs": [
    {
     "name": "stdout",
     "output_type": "stream",
     "text": [
      "Enter your word here: Java\n",
      "vaJa\n"
     ]
    }
   ],
   "source": [
    "# Solution for Question-1:\n",
    "\n",
    "string_test = raw_input(\"Enter your word here: \")\n",
    "string_test = string_test[-2:] + string_test[:-2]\n",
    "print(string_test)"
   ]
  },
  {
   "cell_type": "code",
   "execution_count": 3,
   "metadata": {
    "collapsed": false
   },
   "outputs": [
    {
     "name": "stdout",
     "output_type": "stream",
     "text": [
      "Enter your word here: Hi\n",
      "Hi\n"
     ]
    }
   ],
   "source": [
    "# Solution for Question-1:\n",
    "\n",
    "string_test = raw_input(\"Enter your word here: \")\n",
    "string_test = string_test[-2:] + string_test[:-2]\n",
    "print(string_test)"
   ]
  },
  {
   "cell_type": "code",
   "execution_count": 4,
   "metadata": {
    "collapsed": false
   },
   "outputs": [
    {
     "name": "stdout",
     "output_type": "stream",
     "text": [
      "1 2 3 4 5 6 7 8 9\n"
     ]
    }
   ],
   "source": [
    "# Solution for Question-2:\n",
    "\n",
    "'''\n",
    "x=1\n",
    "while x<10:\n",
    "    print x,\n",
    "    x+=1\n",
    "'''\n",
    "x=[10]\n",
    "for x in xrange(1,10):\n",
    "    if x < 10:\n",
    "        print'%d'%(x),"
   ]
  },
  {
   "cell_type": "code",
   "execution_count": 5,
   "metadata": {
    "collapsed": false
   },
   "outputs": [
    {
     "name": "stdout",
     "output_type": "stream",
     "text": [
      "Enter your string: hello world! 123\n",
      "LETTERS: 10\n",
      "DIGITS: 3\n"
     ]
    }
   ],
   "source": [
    "# Solution for Question-3:\n",
    "\n",
    "string = raw_input(\"Enter your string: \")\n",
    "\n",
    "letters = sum(c.isalpha() for c in string)\n",
    "numbers = sum(c.isdigit() for c in string)\n",
    "\n",
    "print\"LETTERS: {}\".format(letters)\n",
    "print\"DIGITS: {}\".format(numbers)"
   ]
  },
  {
   "cell_type": "code",
   "execution_count": 6,
   "metadata": {
    "collapsed": false
   },
   "outputs": [
    {
     "name": "stdout",
     "output_type": "stream",
     "text": [
      "After entering all values, enter a blank input\n",
      "Enter your transaction values here: \n",
      "D 300\n",
      "D 300\n",
      "W 200\n",
      "D 100\n",
      "\n",
      "500\n"
     ]
    }
   ],
   "source": [
    "# Solution for Question-4:\n",
    "\n",
    "print(\"After entering all values, enter a blank input\")\n",
    "print(\"Enter your transaction values here: \")\n",
    "\n",
    "balance = 0\n",
    "\n",
    "while True:\n",
    "    check = raw_input()\n",
    "    if check:\n",
    "        [transaction,amount] = check.split()\n",
    "        if transaction == 'D':\n",
    "            balance = balance + int(amount)\n",
    "        elif transaction == 'W':\n",
    "            balance = balance - int(amount)\n",
    "    else:\n",
    "        break\n",
    "    \n",
    "print(balance)\n"
   ]
  },
  {
   "cell_type": "code",
   "execution_count": 8,
   "metadata": {
    "collapsed": false
   },
   "outputs": [
    {
     "name": "stdout",
     "output_type": "stream",
     "text": [
      "Password should contain: \n",
      "At least 1 letter between [a-z],\n",
      "At least 1 number between [0-9], \n",
      "At least 1 letter between [A-Z], and \n",
      "At least 1 character from [$#@]\n",
      "Minimum lenth - 6, and Maximum lenth - 12\n",
      "\n",
      "Enter your password here: ABd1234@1\n",
      "Strong Password\n"
     ]
    }
   ],
   "source": [
    "# Solution for Question-5:\n",
    "\n",
    "print(\"Password should contain: \")\n",
    "print(\"At least 1 letter between [a-z],\\nAt least 1 number between [0-9], \\nAt least 1 letter between [A-Z], and \\nAt least 1 character from [$#@]\")\n",
    "print(\"Minimum lenth - 6, and Maximum lenth - 12\")\n",
    "\n",
    "password = raw_input(\"\\nEnter your password here: \")\n",
    "\n",
    "# character_test = set('$#@') - This line of code could be used also.\n",
    "\n",
    "if (6 <= len(password) <= 12) and \\\n",
    "   any(letter.isupper() for letter in password) and \\\n",
    "   any(letter.islower() for letter in password) and \\\n",
    "   any(number.isdigit() for number in password) and \\\n",
    "   (('$' in password) or ('@' in password) or ('#' in password)):\n",
    "    print'Strong Password'\n",
    "    #any((c in character_test) for c in password) - in relation to the fist comment\n",
    "else:\n",
    "    print'Weak Password'"
   ]
  },
  {
   "cell_type": "code",
   "execution_count": 9,
   "metadata": {
    "collapsed": false
   },
   "outputs": [
    {
     "name": "stdout",
     "output_type": "stream",
     "text": [
      "Password should contain: \n",
      "At least 1 letter between [a-z],\n",
      "At least 1 number between [0-9], \n",
      "At least 1 letter between [A-Z], and \n",
      "At least 1 character from [$#@]\n",
      "Minimum lenth - 6, and Maximum lenth - 12\n",
      "\n",
      "Enter your password here: a F1# 2w3E* 2We3345\n",
      "Weak Password\n"
     ]
    }
   ],
   "source": [
    "# Solution for Question-5:\n",
    "\n",
    "print(\"Password should contain: \")\n",
    "print(\"At least 1 letter between [a-z],\\nAt least 1 number between [0-9], \\nAt least 1 letter between [A-Z], and \\nAt least 1 character from [$#@]\")\n",
    "print(\"Minimum lenth - 6, and Maximum lenth - 12\")\n",
    "\n",
    "password = raw_input(\"\\nEnter your password here: \")\n",
    "\n",
    "# character_test = set('$#@') - This line of code could be used also.\n",
    "\n",
    "if (6 <= len(password) <= 12) and \\\n",
    "   any(letter.isupper() for letter in password) and \\\n",
    "   any(letter.islower() for letter in password) and \\\n",
    "   any(number.isdigit() for number in password) and \\\n",
    "   (('$' in password) or ('@' in password) or ('#' in password)):\n",
    "    print'Strong Password'\n",
    "    #any((c in character_test) for c in password) - in relation to the fist comment\n",
    "else:\n",
    "    print'Weak Password'"
   ]
  },
  {
   "cell_type": "code",
   "execution_count": null,
   "metadata": {
    "collapsed": true
   },
   "outputs": [],
   "source": []
  }
 ],
 "metadata": {
  "anaconda-cloud": {},
  "kernelspec": {
   "display_name": "Python [Root]",
   "language": "python",
   "name": "Python [Root]"
  },
  "language_info": {
   "codemirror_mode": {
    "name": "ipython",
    "version": 2
   },
   "file_extension": ".py",
   "mimetype": "text/x-python",
   "name": "python",
   "nbconvert_exporter": "python",
   "pygments_lexer": "ipython2",
   "version": "2.7.12"
  }
 },
 "nbformat": 4,
 "nbformat_minor": 0
}
