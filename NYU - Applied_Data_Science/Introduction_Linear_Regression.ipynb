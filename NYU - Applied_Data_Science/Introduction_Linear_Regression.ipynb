{
 "cells": [
  {
   "cell_type": "markdown",
   "metadata": {},
   "source": [
    "# Achilles Edwin Alfred Saxby\n",
    "# aes807"
   ]
  },
  {
   "cell_type": "markdown",
   "metadata": {},
   "source": [
    "Suppose that the independent variable $x$ has n observations: $(x_1,x_2,...x_n)$ and the dependent variable $y$ has corresponding observations: $(y_1, y_2,...,y_n)$. If the correlation between these two sequences $corr(x,y)=0.01$, which of the following statements are true? Please select all the right answers.\n",
    "\n",
    "(a) There should be no strong relation between $x$ and $y$.\n",
    "\n",
    "(b) There could be some strong linear relationship between $x$ and $y$.\n",
    "\n",
    "(c) If we build a linear regression between $y$ and $x$ as $y=wx$, we could conclude that the OLS estimation for $w$ should be around 0.01.\n",
    "\n",
    "(d) Certain relation between $x$ and $y$ could still exist, but it should be non-linear.\n",
    "\n",
    "#### (a) There should be no strong relation between $x$ and $y$. (LINEARLY)\n",
    "\n",
    "-- Since the correlation is supposed to be between (0,1) and when it is close to (1) - linearly it is highly correlated and since it is close to (0) we can rightly say that there should be no strong linear relation between $x$ and $y$.\n",
    "\n",
    "#### (d) Certain relation between $x$ and $y$ could still exist, but it should be non-linear.\n",
    "\n",
    "-- Also, since correlation is only for the linear system we can try to infer that when the correlation tends to be close to zero - the only other solution could be that the relation that is supposed to exist in the non-linear system cannot be determined by the linear system check that is the correlation.\n",
    "\n",
    "-- Correlation here exists only for the linear system of equations and since in this system the correlation tends to show that the relationship does not exist - it could be so that the relationship cannot be solved in the linear plane."
   ]
  },
  {
   "cell_type": "markdown",
   "metadata": {},
   "source": [
    "Consider a model\n",
    "\n",
    "$y=x^{b}$ where $b>0$. \n",
    "\n",
    "Now, suppose x doubles (originally $x>0$). How would y change with respect to this change of x? Let us denote new $y$ as $y'$. Please select all the right answers from below. \n",
    "\n",
    "(a) $y'>2y$ if b is bigger than one.\n",
    "\n",
    "(b) $y'<2y$ if b is less than one.\n",
    "\n",
    "(c) $y'=2y$ in any case.\n",
    "\n",
    "(d) $y'$ increases by $(2^b-1)*100\\%$.\n",
    "\n",
    "$y = x^{b}$\n",
    "\n",
    "If (x) is doubled then (x) becomes (2x)\n",
    "   \n",
    "Then we can see that : \n",
    "   \n",
    "$y' = (2x)^{b}$ => $y' = 2^{b}*x^{b}$\n",
    "\n",
    "So here:\n",
    "\n",
    "If $b > 0$\n",
    "Then : $y' = 2^{b}( which is greater than (0) )*x^{b}$\n",
    "Which means : $y' > x^{b} = y$\n",
    "\n",
    "If $b < 0$\n",
    "Then : $y' = 2^{b}( which is lesser than (0) )*x^{b}$ => that the $2^{b}$ will be in the denominator.\n",
    "Which means : $y' < x^{b} = y$\n",
    "\n",
    "Also: \n",
    "$y' = 2^{b}*x^{b}$ => $y' = 2^{b}*y$\n",
    "\n",
    "Dividing by (y) on both sides\n",
    "\n",
    "$(y'/y) = 2^{b}$\n",
    "\n",
    "Minusing (1) on both sides\n",
    "\n",
    "$(y'/y - 1) = 2^{b} - 1$ => $((y'- y)/y) = 2^{b} - 1$\n",
    "\n",
    "\n",
    "#### (a) $y'>2y$ if b is bigger than one.\n",
    "   \n",
    "#### (b) $y'<2y$ if b is less than one.\n",
    "\n",
    "#### (d) $y'$ increases by $(2^b-1)*100\\%$.\n"
   ]
  },
  {
   "cell_type": "code",
   "execution_count": 95,
   "metadata": {
    "collapsed": true
   },
   "outputs": [],
   "source": [
    "import pandas as pd\n",
    "import numpy as np\n",
    "import statsmodels.formula.api as smf\n",
    "import matplotlib.pylab as plt\n",
    "%matplotlib inline"
   ]
  },
  {
   "cell_type": "code",
   "execution_count": 96,
   "metadata": {
    "collapsed": true
   },
   "outputs": [],
   "source": [
    "x = [0, 1, 2, 3, 4, 5, 6, 7, 8, 9, 10, 11, 12, 13, 14, 15, 16, 17, 18, 19]\n",
    "y = [28.0, 24.0, 37.0, -7.0, 28.0, 71.0, 89.0, 60.0, 100.0, 108.0, 116.0, \n",
    "     110.0, 114.0, 123.0, 124.0, 165.0, 169.0, 211.0, 211.0, 208.0]"
   ]
  },
  {
   "cell_type": "code",
   "execution_count": 97,
   "metadata": {
    "collapsed": false
   },
   "outputs": [
    {
     "data": {
      "text/html": [
       "<div>\n",
       "<table border=\"1\" class=\"dataframe\">\n",
       "  <thead>\n",
       "    <tr style=\"text-align: right;\">\n",
       "      <th></th>\n",
       "      <th>x</th>\n",
       "      <th>y</th>\n",
       "    </tr>\n",
       "  </thead>\n",
       "  <tbody>\n",
       "    <tr>\n",
       "      <th>0</th>\n",
       "      <td>0.0</td>\n",
       "      <td>28.0</td>\n",
       "    </tr>\n",
       "    <tr>\n",
       "      <th>1</th>\n",
       "      <td>1.0</td>\n",
       "      <td>24.0</td>\n",
       "    </tr>\n",
       "    <tr>\n",
       "      <th>2</th>\n",
       "      <td>2.0</td>\n",
       "      <td>37.0</td>\n",
       "    </tr>\n",
       "    <tr>\n",
       "      <th>3</th>\n",
       "      <td>3.0</td>\n",
       "      <td>-7.0</td>\n",
       "    </tr>\n",
       "    <tr>\n",
       "      <th>4</th>\n",
       "      <td>4.0</td>\n",
       "      <td>28.0</td>\n",
       "    </tr>\n",
       "  </tbody>\n",
       "</table>\n",
       "</div>"
      ],
      "text/plain": [
       "     x     y\n",
       "0  0.0  28.0\n",
       "1  1.0  24.0\n",
       "2  2.0  37.0\n",
       "3  3.0  -7.0\n",
       "4  4.0  28.0"
      ]
     },
     "execution_count": 97,
     "metadata": {},
     "output_type": "execute_result"
    }
   ],
   "source": [
    "data=pd.DataFrame([list(x),list(y)]).T\n",
    "data.columns=[\"x\",\"y\"]\n",
    "data.head()"
   ]
  },
  {
   "cell_type": "code",
   "execution_count": 98,
   "metadata": {
    "collapsed": false
   },
   "outputs": [
    {
     "data": {
      "text/plain": [
       "0.9571434929154867"
      ]
     },
     "execution_count": 98,
     "metadata": {},
     "output_type": "execute_result"
    }
   ],
   "source": [
    "# Caluculating Correlation Coefficient without using the Built-In functions.\n",
    "\n",
    "from itertools import imap\n",
    "\n",
    "def pearsonr(x, y):\n",
    "    n = len(x)\n",
    "    sum_x = float(sum(x))\n",
    "    sum_y = float(sum(y))\n",
    "    sum_x_sq = sum(map(lambda x: pow(x, 2), x))\n",
    "    sum_y_sq = sum(map(lambda x: pow(x, 2), y))\n",
    "    psum = sum(imap(lambda x, y: x * y, x, y))\n",
    "    num = psum - (sum_x * sum_y/n)\n",
    "    den = pow((sum_x_sq - pow(sum_x, 2) / n) * (sum_y_sq - pow(sum_y, 2) / n), 0.5)\n",
    "    if den == 0: return 0\n",
    "    return num / den\n",
    "\n",
    "pearsonr(x,y)"
   ]
  },
  {
   "cell_type": "code",
   "execution_count": 99,
   "metadata": {
    "collapsed": false
   },
   "outputs": [
    {
     "data": {
      "text/html": [
       "<div>\n",
       "<table border=\"1\" class=\"dataframe\">\n",
       "  <thead>\n",
       "    <tr style=\"text-align: right;\">\n",
       "      <th></th>\n",
       "      <th>x</th>\n",
       "      <th>y</th>\n",
       "    </tr>\n",
       "  </thead>\n",
       "  <tbody>\n",
       "    <tr>\n",
       "      <th>x</th>\n",
       "      <td>1.000000</td>\n",
       "      <td>0.957143</td>\n",
       "    </tr>\n",
       "    <tr>\n",
       "      <th>y</th>\n",
       "      <td>0.957143</td>\n",
       "      <td>1.000000</td>\n",
       "    </tr>\n",
       "  </tbody>\n",
       "</table>\n",
       "</div>"
      ],
      "text/plain": [
       "          x         y\n",
       "x  1.000000  0.957143\n",
       "y  0.957143  1.000000"
      ]
     },
     "execution_count": 99,
     "metadata": {},
     "output_type": "execute_result"
    }
   ],
   "source": [
    "#Checking if the correlation coefficient is right according to the built-in formula:\n",
    "\n",
    "data.corr()"
   ]
  },
  {
   "cell_type": "code",
   "execution_count": 100,
   "metadata": {
    "collapsed": false
   },
   "outputs": [
    {
     "data": {
      "text/html": [
       "<div>\n",
       "<table border=\"1\" class=\"dataframe\">\n",
       "  <thead>\n",
       "    <tr style=\"text-align: right;\">\n",
       "      <th></th>\n",
       "      <th>x</th>\n",
       "      <th>y</th>\n",
       "    </tr>\n",
       "  </thead>\n",
       "  <tbody>\n",
       "    <tr>\n",
       "      <th>count</th>\n",
       "      <td>20.00000</td>\n",
       "      <td>20.000000</td>\n",
       "    </tr>\n",
       "    <tr>\n",
       "      <th>mean</th>\n",
       "      <td>9.50000</td>\n",
       "      <td>104.450000</td>\n",
       "    </tr>\n",
       "    <tr>\n",
       "      <th>std</th>\n",
       "      <td>5.91608</td>\n",
       "      <td>65.188371</td>\n",
       "    </tr>\n",
       "    <tr>\n",
       "      <th>min</th>\n",
       "      <td>0.00000</td>\n",
       "      <td>-7.000000</td>\n",
       "    </tr>\n",
       "    <tr>\n",
       "      <th>25%</th>\n",
       "      <td>4.75000</td>\n",
       "      <td>54.250000</td>\n",
       "    </tr>\n",
       "    <tr>\n",
       "      <th>50%</th>\n",
       "      <td>9.50000</td>\n",
       "      <td>109.000000</td>\n",
       "    </tr>\n",
       "    <tr>\n",
       "      <th>75%</th>\n",
       "      <td>14.25000</td>\n",
       "      <td>134.250000</td>\n",
       "    </tr>\n",
       "    <tr>\n",
       "      <th>max</th>\n",
       "      <td>19.00000</td>\n",
       "      <td>211.000000</td>\n",
       "    </tr>\n",
       "  </tbody>\n",
       "</table>\n",
       "</div>"
      ],
      "text/plain": [
       "              x           y\n",
       "count  20.00000   20.000000\n",
       "mean    9.50000  104.450000\n",
       "std     5.91608   65.188371\n",
       "min     0.00000   -7.000000\n",
       "25%     4.75000   54.250000\n",
       "50%     9.50000  109.000000\n",
       "75%    14.25000  134.250000\n",
       "max    19.00000  211.000000"
      ]
     },
     "execution_count": 100,
     "metadata": {},
     "output_type": "execute_result"
    }
   ],
   "source": [
    "data.describe()"
   ]
  },
  {
   "cell_type": "code",
   "execution_count": 101,
   "metadata": {
    "collapsed": false
   },
   "outputs": [
    {
     "data": {
      "text/html": [
       "<div>\n",
       "<table border=\"1\" class=\"dataframe\">\n",
       "  <thead>\n",
       "    <tr style=\"text-align: right;\">\n",
       "      <th></th>\n",
       "      <th>x</th>\n",
       "      <th>y</th>\n",
       "      <th>x_sqr</th>\n",
       "      <th>xy</th>\n",
       "    </tr>\n",
       "  </thead>\n",
       "  <tbody>\n",
       "    <tr>\n",
       "      <th>0</th>\n",
       "      <td>0.0</td>\n",
       "      <td>28.0</td>\n",
       "      <td>0.0</td>\n",
       "      <td>0.0</td>\n",
       "    </tr>\n",
       "    <tr>\n",
       "      <th>1</th>\n",
       "      <td>1.0</td>\n",
       "      <td>24.0</td>\n",
       "      <td>1.0</td>\n",
       "      <td>24.0</td>\n",
       "    </tr>\n",
       "    <tr>\n",
       "      <th>2</th>\n",
       "      <td>2.0</td>\n",
       "      <td>37.0</td>\n",
       "      <td>4.0</td>\n",
       "      <td>74.0</td>\n",
       "    </tr>\n",
       "    <tr>\n",
       "      <th>3</th>\n",
       "      <td>3.0</td>\n",
       "      <td>-7.0</td>\n",
       "      <td>9.0</td>\n",
       "      <td>-21.0</td>\n",
       "    </tr>\n",
       "    <tr>\n",
       "      <th>4</th>\n",
       "      <td>4.0</td>\n",
       "      <td>28.0</td>\n",
       "      <td>16.0</td>\n",
       "      <td>112.0</td>\n",
       "    </tr>\n",
       "  </tbody>\n",
       "</table>\n",
       "</div>"
      ],
      "text/plain": [
       "     x     y  x_sqr     xy\n",
       "0  0.0  28.0    0.0    0.0\n",
       "1  1.0  24.0    1.0   24.0\n",
       "2  2.0  37.0    4.0   74.0\n",
       "3  3.0  -7.0    9.0  -21.0\n",
       "4  4.0  28.0   16.0  112.0"
      ]
     },
     "execution_count": 101,
     "metadata": {},
     "output_type": "execute_result"
    }
   ],
   "source": [
    "#Using code from the class practice - we get xy and x-squred term: \n",
    "\n",
    "data.loc[:,\"x_sqr\"]=data.x*data.x\n",
    "data.loc[:,\"xy\"]=data.x*data.y\n",
    "data.head()"
   ]
  },
  {
   "cell_type": "code",
   "execution_count": 102,
   "metadata": {
    "collapsed": false
   },
   "outputs": [
    {
     "name": "stdout",
     "output_type": "stream",
     "text": [
      "w1 is : 10.5466165414\n"
     ]
    }
   ],
   "source": [
    "#Calculating w1: \n",
    "\n",
    "w1=(data.xy.sum()-data.y.sum()*data.x.sum()/len(data))/(data.x_sqr.sum()-data.x.sum()*data.x.sum()/len(data))\n",
    "print(\"w1 is : {}\".format(w1))"
   ]
  },
  {
   "cell_type": "code",
   "execution_count": 103,
   "metadata": {
    "collapsed": false
   },
   "outputs": [
    {
     "name": "stdout",
     "output_type": "stream",
     "text": [
      "w0 is : 4.25714285714\n"
     ]
    }
   ],
   "source": [
    "#Calculating w0:\n",
    "\n",
    "w0=(data.y-data.x*w1).mean()\n",
    "print(\"w0 is : {}\".format(w0))"
   ]
  },
  {
   "cell_type": "code",
   "execution_count": 104,
   "metadata": {
    "collapsed": false
   },
   "outputs": [
    {
     "data": {
      "text/html": [
       "<div>\n",
       "<table border=\"1\" class=\"dataframe\">\n",
       "  <thead>\n",
       "    <tr style=\"text-align: right;\">\n",
       "      <th></th>\n",
       "      <th>x</th>\n",
       "      <th>y</th>\n",
       "      <th>x_sqr</th>\n",
       "      <th>xy</th>\n",
       "      <th>pred</th>\n",
       "      <th>err</th>\n",
       "    </tr>\n",
       "  </thead>\n",
       "  <tbody>\n",
       "    <tr>\n",
       "      <th>0</th>\n",
       "      <td>0.0</td>\n",
       "      <td>28.0</td>\n",
       "      <td>0.0</td>\n",
       "      <td>0.0</td>\n",
       "      <td>4.257143</td>\n",
       "      <td>23.742857</td>\n",
       "    </tr>\n",
       "    <tr>\n",
       "      <th>1</th>\n",
       "      <td>1.0</td>\n",
       "      <td>24.0</td>\n",
       "      <td>1.0</td>\n",
       "      <td>24.0</td>\n",
       "      <td>14.803759</td>\n",
       "      <td>9.196241</td>\n",
       "    </tr>\n",
       "    <tr>\n",
       "      <th>2</th>\n",
       "      <td>2.0</td>\n",
       "      <td>37.0</td>\n",
       "      <td>4.0</td>\n",
       "      <td>74.0</td>\n",
       "      <td>25.350376</td>\n",
       "      <td>11.649624</td>\n",
       "    </tr>\n",
       "    <tr>\n",
       "      <th>3</th>\n",
       "      <td>3.0</td>\n",
       "      <td>-7.0</td>\n",
       "      <td>9.0</td>\n",
       "      <td>-21.0</td>\n",
       "      <td>35.896992</td>\n",
       "      <td>-42.896992</td>\n",
       "    </tr>\n",
       "    <tr>\n",
       "      <th>4</th>\n",
       "      <td>4.0</td>\n",
       "      <td>28.0</td>\n",
       "      <td>16.0</td>\n",
       "      <td>112.0</td>\n",
       "      <td>46.443609</td>\n",
       "      <td>-18.443609</td>\n",
       "    </tr>\n",
       "  </tbody>\n",
       "</table>\n",
       "</div>"
      ],
      "text/plain": [
       "     x     y  x_sqr     xy       pred        err\n",
       "0  0.0  28.0    0.0    0.0   4.257143  23.742857\n",
       "1  1.0  24.0    1.0   24.0  14.803759   9.196241\n",
       "2  2.0  37.0    4.0   74.0  25.350376  11.649624\n",
       "3  3.0  -7.0    9.0  -21.0  35.896992 -42.896992\n",
       "4  4.0  28.0   16.0  112.0  46.443609 -18.443609"
      ]
     },
     "execution_count": 104,
     "metadata": {},
     "output_type": "execute_result"
    }
   ],
   "source": [
    "#Calculating predicted values and errors:\n",
    "\n",
    "data.loc[:,\"pred\"]=w1*data.x+w0\n",
    "data.loc[:,\"err\"]=data.y-data.pred\n",
    "data.head()"
   ]
  },
  {
   "cell_type": "code",
   "execution_count": 105,
   "metadata": {
    "collapsed": false
   },
   "outputs": [
    {
     "data": {
      "text/plain": [
       "0.9161236660304586"
      ]
     },
     "execution_count": 105,
     "metadata": {},
     "output_type": "execute_result"
    }
   ],
   "source": [
    "#Calculating R-squared:\n",
    "\n",
    "R_2=1-(data.err**2).sum()/((data.y-data.y.mean())**2).sum()\n",
    "R_2"
   ]
  },
  {
   "cell_type": "code",
   "execution_count": 106,
   "metadata": {
    "collapsed": true
   },
   "outputs": [],
   "source": [
    "#Using the Built-In functions to check the data we have calculated:\n",
    "\n",
    "lm = smf.ols(formula='y ~ x', data = data).fit()"
   ]
  },
  {
   "cell_type": "code",
   "execution_count": 107,
   "metadata": {
    "collapsed": false
   },
   "outputs": [
    {
     "name": "stdout",
     "output_type": "stream",
     "text": [
      "Intercept     4.257143\n",
      "x            10.546617\n",
      "dtype: float64\n",
      "0.91612366603\n"
     ]
    }
   ],
   "source": [
    "#Checking the parameters that we just calculated:\n",
    "\n",
    "print lm.params\n",
    "print lm.rsquared"
   ]
  },
  {
   "cell_type": "code",
   "execution_count": 108,
   "metadata": {
    "collapsed": false
   },
   "outputs": [
    {
     "name": "stdout",
     "output_type": "stream",
     "text": [
      "                            OLS Regression Results                            \n",
      "==============================================================================\n",
      "Dep. Variable:                      y   R-squared:                       0.916\n",
      "Model:                            OLS   Adj. R-squared:                  0.911\n",
      "Method:                 Least Squares   F-statistic:                     196.6\n",
      "Date:                Mon, 26 Sep 2016   Prob (F-statistic):           3.96e-11\n",
      "Time:                        01:40:57   Log-Likelihood:                -86.627\n",
      "No. Observations:                  20   AIC:                             177.3\n",
      "Df Residuals:                      18   BIC:                             179.2\n",
      "Df Model:                           1                                         \n",
      "Covariance Type:            nonrobust                                         \n",
      "==============================================================================\n",
      "                 coef    std err          t      P>|t|      [95.0% Conf. Int.]\n",
      "------------------------------------------------------------------------------\n",
      "Intercept      4.2571      8.359      0.509      0.617       -13.304    21.819\n",
      "x             10.5466      0.752     14.021      0.000         8.966    12.127\n",
      "==============================================================================\n",
      "Omnibus:                        1.463   Durbin-Watson:                   1.478\n",
      "Prob(Omnibus):                  0.481   Jarque-Bera (JB):                1.235\n",
      "Skew:                          -0.551   Prob(JB):                        0.539\n",
      "Kurtosis:                       2.481   Cond. No.                         21.5\n",
      "==============================================================================\n",
      "\n",
      "Warnings:\n",
      "[1] Standard Errors assume that the covariance matrix of the errors is correctly specified.\n"
     ]
    }
   ],
   "source": [
    "#Checking if all the values fall in:\n",
    "\n",
    "print lm.summary()"
   ]
  },
  {
   "cell_type": "code",
   "execution_count": 109,
   "metadata": {
    "collapsed": false
   },
   "outputs": [
    {
     "data": {
      "image/png": "[encoded data removed]",
      "text/plain": [
       "<matplotlib.figure.Figure at 0x11c6471d0>"
      ]
     },
     "metadata": {},
     "output_type": "display_data"
    }
   ],
   "source": [
    "#Visulizing the model:\n",
    "\n",
    "import matplotlib.pylab as plt\n",
    "%matplotlib inline\n",
    "\n",
    "plt.figure(figsize=(8,8))\n",
    "plt.scatter(x,y)\n",
    "plt.plot(data.pred,c=\"r\")\n",
    "plt.xlabel(\"x\",fontweight = \"bold\", fontsize = 13)\n",
    "plt.ylabel(\"y\",fontweight = \"bold\", fontsize = 13)\n",
    "plt.title(\"Scatter Plot of X and Y\", fontweight = \"bold\", fontsize = 13)\n",
    "plt.show()"
   ]
  },
  {
   "cell_type": "code",
   "execution_count": 110,
   "metadata": {
    "collapsed": true
   },
   "outputs": [],
   "source": [
    "import pandas as pd\n",
    "import numpy as np\n",
    "import statsmodels.formula.api as smf\n",
    "import matplotlib.pylab as plt\n",
    "%matplotlib inline"
   ]
  },
  {
   "cell_type": "code",
   "execution_count": 111,
   "metadata": {
    "collapsed": false
   },
   "outputs": [
    {
     "data": {
      "text/html": [
       "<div>\n",
       "<table border=\"1\" class=\"dataframe\">\n",
       "  <thead>\n",
       "    <tr style=\"text-align: right;\">\n",
       "      <th></th>\n",
       "      <th>ZipCode</th>\n",
       "      <th>LotArea</th>\n",
       "      <th>AssessTot</th>\n",
       "    </tr>\n",
       "  </thead>\n",
       "  <tbody>\n",
       "    <tr>\n",
       "      <th>0</th>\n",
       "      <td>11201.0</td>\n",
       "      <td>151930</td>\n",
       "      <td>1164645</td>\n",
       "    </tr>\n",
       "    <tr>\n",
       "      <th>1</th>\n",
       "      <td>11201.0</td>\n",
       "      <td>9620</td>\n",
       "      <td>5864850</td>\n",
       "    </tr>\n",
       "    <tr>\n",
       "      <th>2</th>\n",
       "      <td>11201.0</td>\n",
       "      <td>19682</td>\n",
       "      <td>12019950</td>\n",
       "    </tr>\n",
       "    <tr>\n",
       "      <th>3</th>\n",
       "      <td>NaN</td>\n",
       "      <td>0</td>\n",
       "      <td>0</td>\n",
       "    </tr>\n",
       "    <tr>\n",
       "      <th>4</th>\n",
       "      <td>11201.0</td>\n",
       "      <td>387060</td>\n",
       "      <td>0</td>\n",
       "    </tr>\n",
       "  </tbody>\n",
       "</table>\n",
       "</div>"
      ],
      "text/plain": [
       "   ZipCode  LotArea  AssessTot\n",
       "0  11201.0   151930    1164645\n",
       "1  11201.0     9620    5864850\n",
       "2  11201.0    19682   12019950\n",
       "3      NaN        0          0\n",
       "4  11201.0   387060          0"
      ]
     },
     "execution_count": 111,
     "metadata": {},
     "output_type": "execute_result"
    }
   ],
   "source": [
    "data2 = pd.read_csv(\"https://serv.cusp.nyu.edu/~lw1474/ADS_Data/Session02/Housing_Pluto_Session2.csv\")\n",
    "data2.head()"
   ]
  },
  {
   "cell_type": "code",
   "execution_count": 112,
   "metadata": {
    "collapsed": false,
    "scrolled": true
   },
   "outputs": [
    {
     "data": {
      "text/html": [
       "<div>\n",
       "<table border=\"1\" class=\"dataframe\">\n",
       "  <thead>\n",
       "    <tr style=\"text-align: right;\">\n",
       "      <th></th>\n",
       "      <th>ZipCode</th>\n",
       "      <th>LotArea</th>\n",
       "      <th>AssessTot</th>\n",
       "    </tr>\n",
       "  </thead>\n",
       "  <tbody>\n",
       "    <tr>\n",
       "      <th>0</th>\n",
       "      <td>11201.0</td>\n",
       "      <td>151930.0</td>\n",
       "      <td>1164645.0</td>\n",
       "    </tr>\n",
       "    <tr>\n",
       "      <th>1</th>\n",
       "      <td>11201.0</td>\n",
       "      <td>9620.0</td>\n",
       "      <td>5864850.0</td>\n",
       "    </tr>\n",
       "    <tr>\n",
       "      <th>2</th>\n",
       "      <td>11201.0</td>\n",
       "      <td>19682.0</td>\n",
       "      <td>12019950.0</td>\n",
       "    </tr>\n",
       "    <tr>\n",
       "      <th>5</th>\n",
       "      <td>11201.0</td>\n",
       "      <td>6384.0</td>\n",
       "      <td>21150.0</td>\n",
       "    </tr>\n",
       "    <tr>\n",
       "      <th>10</th>\n",
       "      <td>11201.0</td>\n",
       "      <td>66889.0</td>\n",
       "      <td>11700.0</td>\n",
       "    </tr>\n",
       "  </tbody>\n",
       "</table>\n",
       "</div>"
      ],
      "text/plain": [
       "    ZipCode   LotArea   AssessTot\n",
       "0   11201.0  151930.0   1164645.0\n",
       "1   11201.0    9620.0   5864850.0\n",
       "2   11201.0   19682.0  12019950.0\n",
       "5   11201.0    6384.0     21150.0\n",
       "10  11201.0   66889.0     11700.0"
      ]
     },
     "execution_count": 112,
     "metadata": {},
     "output_type": "execute_result"
    }
   ],
   "source": [
    "#Dropping all rows that contain : 'NaN' and '0':\n",
    "\n",
    "data2 = data2[(data2 != 0)]\n",
    "data2.dropna(inplace=True)\n",
    "data2.head()"
   ]
  },
  {
   "cell_type": "code",
   "execution_count": 113,
   "metadata": {
    "collapsed": false
   },
   "outputs": [
    {
     "data": {
      "image/png": "[encoded data removed]",
      "text/plain": [
       "<matplotlib.figure.Figure at 0x11bfbed90>"
      ]
     },
     "metadata": {},
     "output_type": "display_data"
    }
   ],
   "source": [
    "plt.figure(figsize=(8,8))\n",
    "plt.scatter(data2.LotArea,data2.AssessTot)\n",
    "plt.xlabel(\"LotArea\",fontweight = \"bold\", fontsize = 13)\n",
    "plt.ylabel(\"AssessTot\",fontweight = \"bold\", fontsize = 13)\n",
    "plt.title(\"Scatter Plot of LotArea and AssessTot\", fontweight = \"bold\", fontsize = 13)\n",
    "plt.show()"
   ]
  },
  {
   "cell_type": "code",
   "execution_count": 114,
   "metadata": {
    "collapsed": false
   },
   "outputs": [],
   "source": [
    "#AssessTot= w1*LotArea +  w2\n",
    "\n",
    "lm = smf.ols(formula='AssessTot ~ LotArea', data = data2).fit()"
   ]
  },
  {
   "cell_type": "code",
   "execution_count": 115,
   "metadata": {
    "collapsed": false
   },
   "outputs": [
    {
     "data": {
      "text/plain": [
       "21.160373532954925"
      ]
     },
     "execution_count": 115,
     "metadata": {},
     "output_type": "execute_result"
    }
   ],
   "source": [
    "w1 = lm.params.LotArea\n",
    "w1"
   ]
  },
  {
   "cell_type": "code",
   "execution_count": 116,
   "metadata": {
    "collapsed": false
   },
   "outputs": [
    {
     "data": {
      "text/plain": [
       "76944.29783784406"
      ]
     },
     "execution_count": 116,
     "metadata": {},
     "output_type": "execute_result"
    }
   ],
   "source": [
    "w2 = lm.params.Intercept\n",
    "w2"
   ]
  },
  {
   "cell_type": "code",
   "execution_count": 117,
   "metadata": {
    "collapsed": false,
    "scrolled": true
   },
   "outputs": [
    {
     "name": "stdout",
     "output_type": "stream",
     "text": [
      "Intercept    76944.297838\n",
      "LotArea         21.160374\n",
      "dtype: float64\n",
      "0.384460103284\n"
     ]
    }
   ],
   "source": [
    "print(lm.params)\n",
    "print(lm.rsquared)"
   ]
  },
  {
   "cell_type": "code",
   "execution_count": 118,
   "metadata": {
    "collapsed": false
   },
   "outputs": [
    {
     "name": "stdout",
     "output_type": "stream",
     "text": [
      "                            OLS Regression Results                            \n",
      "==============================================================================\n",
      "Dep. Variable:              AssessTot   R-squared:                       0.384\n",
      "Model:                            OLS   Adj. R-squared:                  0.384\n",
      "Method:                 Least Squares   F-statistic:                 1.724e+05\n",
      "Date:                Mon, 26 Sep 2016   Prob (F-statistic):               0.00\n",
      "Time:                        01:41:19   Log-Likelihood:            -4.6221e+06\n",
      "No. Observations:              275982   AIC:                         9.244e+06\n",
      "Df Residuals:                  275980   BIC:                         9.244e+06\n",
      "Df Model:                           1                                         \n",
      "Covariance Type:            nonrobust                                         \n",
      "==============================================================================\n",
      "                 coef    std err          t      P>|t|      [95.0% Conf. Int.]\n",
      "------------------------------------------------------------------------------\n",
      "Intercept   7.694e+04   8648.667      8.897      0.000         6e+04  9.39e+04\n",
      "LotArea       21.1604      0.051    415.180      0.000        21.060    21.260\n",
      "==============================================================================\n",
      "Omnibus:                  1261967.961   Durbin-Watson:                   2.280\n",
      "Prob(Omnibus):                  0.000   Jarque-Bera (JB):   60355909936267.609\n",
      "Skew:                         157.430   Prob(JB):                         0.00\n",
      "Kurtosis:                   72450.106   Cond. No.                     1.70e+05\n",
      "==============================================================================\n",
      "\n",
      "Warnings:\n",
      "[1] Standard Errors assume that the covariance matrix of the errors is correctly specified.\n",
      "[2] The condition number is large, 1.7e+05. This might indicate that there are\n",
      "strong multicollinearity or other numerical problems.\n"
     ]
    }
   ],
   "source": [
    "print(lm.summary())"
   ]
  },
  {
   "cell_type": "code",
   "execution_count": 119,
   "metadata": {
    "collapsed": false
   },
   "outputs": [
    {
     "data": {
      "text/html": [
       "<div>\n",
       "<table border=\"1\" class=\"dataframe\">\n",
       "  <thead>\n",
       "    <tr style=\"text-align: right;\">\n",
       "      <th></th>\n",
       "      <th>ZipCode</th>\n",
       "      <th>LotArea</th>\n",
       "      <th>AssessTot</th>\n",
       "      <th>pred</th>\n",
       "      <th>err</th>\n",
       "    </tr>\n",
       "  </thead>\n",
       "  <tbody>\n",
       "    <tr>\n",
       "      <th>0</th>\n",
       "      <td>11201.0</td>\n",
       "      <td>151930.0</td>\n",
       "      <td>1164645.0</td>\n",
       "      <td>3.291840e+06</td>\n",
       "      <td>-2.127195e+06</td>\n",
       "    </tr>\n",
       "    <tr>\n",
       "      <th>1</th>\n",
       "      <td>11201.0</td>\n",
       "      <td>9620.0</td>\n",
       "      <td>5864850.0</td>\n",
       "      <td>2.805071e+05</td>\n",
       "      <td>5.584343e+06</td>\n",
       "    </tr>\n",
       "    <tr>\n",
       "      <th>2</th>\n",
       "      <td>11201.0</td>\n",
       "      <td>19682.0</td>\n",
       "      <td>12019950.0</td>\n",
       "      <td>4.934228e+05</td>\n",
       "      <td>1.152653e+07</td>\n",
       "    </tr>\n",
       "  </tbody>\n",
       "</table>\n",
       "</div>"
      ],
      "text/plain": [
       "   ZipCode   LotArea   AssessTot          pred           err\n",
       "0  11201.0  151930.0   1164645.0  3.291840e+06 -2.127195e+06\n",
       "1  11201.0    9620.0   5864850.0  2.805071e+05  5.584343e+06\n",
       "2  11201.0   19682.0  12019950.0  4.934228e+05  1.152653e+07"
      ]
     },
     "execution_count": 119,
     "metadata": {},
     "output_type": "execute_result"
    }
   ],
   "source": [
    "data2.loc[:,\"pred\"]=w1*data2.LotArea+w2\n",
    "data2.loc[:,\"err\"]=data2.AssessTot-data2.pred\n",
    "data2.head(3)"
   ]
  },
  {
   "cell_type": "code",
   "execution_count": 120,
   "metadata": {
    "collapsed": false
   },
   "outputs": [
    {
     "data": {
      "image/png": "[encoded data removed]",
      "text/plain": [
       "<matplotlib.figure.Figure at 0x11c4be050>"
      ]
     },
     "metadata": {},
     "output_type": "display_data"
    }
   ],
   "source": [
    "plt.figure(figsize=(8,8))\n",
    "plt.scatter(data2.LotArea,data2.AssessTot, label = 'LotArea v/s AssessTot')\n",
    "plt.plot(data2.LotArea,data2.pred,c=\"r\", label = 'Prediction')\n",
    "plt.xlabel(\"LotArea\",fontweight = \"bold\", fontsize = 13)\n",
    "plt.ylabel(\"AssessTot\",fontweight = \"bold\", fontsize = 13)\n",
    "plt.title(\"Scatter Plot of LotArea and AssessTot\", fontweight = \"bold\", fontsize = 13)\n",
    "plt.legend(loc = 'upper right')\n",
    "plt.show()"
   ]
  },
  {
   "cell_type": "code",
   "execution_count": 121,
   "metadata": {
    "collapsed": false
   },
   "outputs": [
    {
     "data": {
      "text/html": [
       "<div>\n",
       "<table border=\"1\" class=\"dataframe\">\n",
       "  <thead>\n",
       "    <tr style=\"text-align: right;\">\n",
       "      <th></th>\n",
       "      <th>ZipCode</th>\n",
       "      <th>LotArea</th>\n",
       "      <th>AssessTot</th>\n",
       "      <th>pred</th>\n",
       "      <th>err</th>\n",
       "      <th>normal_AssessTot</th>\n",
       "      <th>normal_LotArea</th>\n",
       "      <th>normal_pred</th>\n",
       "      <th>normal_err</th>\n",
       "    </tr>\n",
       "  </thead>\n",
       "  <tbody>\n",
       "    <tr>\n",
       "      <th>0</th>\n",
       "      <td>11201.0</td>\n",
       "      <td>151930.0</td>\n",
       "      <td>1164645.0</td>\n",
       "      <td>3.291840e+06</td>\n",
       "      <td>-2.127195e+06</td>\n",
       "      <td>0.169159</td>\n",
       "      <td>0.865496</td>\n",
       "      <td>76962.612063</td>\n",
       "      <td>-3.291840e+06</td>\n",
       "    </tr>\n",
       "    <tr>\n",
       "      <th>1</th>\n",
       "      <td>11201.0</td>\n",
       "      <td>9620.0</td>\n",
       "      <td>5864850.0</td>\n",
       "      <td>2.805071e+05</td>\n",
       "      <td>5.584343e+06</td>\n",
       "      <td>0.981158</td>\n",
       "      <td>0.026477</td>\n",
       "      <td>76944.858111</td>\n",
       "      <td>-2.805061e+05</td>\n",
       "    </tr>\n",
       "    <tr>\n",
       "      <th>2</th>\n",
       "      <td>11201.0</td>\n",
       "      <td>19682.0</td>\n",
       "      <td>12019950.0</td>\n",
       "      <td>4.934228e+05</td>\n",
       "      <td>1.152653e+07</td>\n",
       "      <td>2.044502</td>\n",
       "      <td>0.085800</td>\n",
       "      <td>76946.113401</td>\n",
       "      <td>-4.934207e+05</td>\n",
       "    </tr>\n",
       "  </tbody>\n",
       "</table>\n",
       "</div>"
      ],
      "text/plain": [
       "   ZipCode   LotArea   AssessTot          pred           err  \\\n",
       "0  11201.0  151930.0   1164645.0  3.291840e+06 -2.127195e+06   \n",
       "1  11201.0    9620.0   5864850.0  2.805071e+05  5.584343e+06   \n",
       "2  11201.0   19682.0  12019950.0  4.934228e+05  1.152653e+07   \n",
       "\n",
       "   normal_AssessTot  normal_LotArea   normal_pred    normal_err  \n",
       "0          0.169159        0.865496  76962.612063 -3.291840e+06  \n",
       "1          0.981158        0.026477  76944.858111 -2.805061e+05  \n",
       "2          2.044502        0.085800  76946.113401 -4.934207e+05  "
      ]
     },
     "execution_count": 121,
     "metadata": {},
     "output_type": "execute_result"
    }
   ],
   "source": [
    "data2.loc[:,\"normal_AssessTot\"]=(data2.AssessTot - np.mean(data2.AssessTot))/np.std(data2.AssessTot)\n",
    "data2.loc[:,\"normal_LotArea\"]=(data2.LotArea - np.mean(data2.LotArea))/np.std(data2.LotArea)\n",
    "data2.head(3)"
   ]
  },
  {
   "cell_type": "code",
   "execution_count": 122,
   "metadata": {
    "collapsed": false
   },
   "outputs": [
    {
     "name": "stdout",
     "output_type": "stream",
     "text": [
      "Intercept         1.821460e-17\n",
      "normal_LotArea    6.200485e-01\n",
      "dtype: float64\n",
      "0.384460103284\n"
     ]
    }
   ],
   "source": [
    "lm2 = smf.ols(formula='normal_AssessTot ~ normal_LotArea', data = data2).fit()\n",
    "print(lm2.params)\n",
    "print(lm2.rsquared)\n",
    "w1 = lm2.params.normal_LotArea\n",
    "w2 = 0 #As asked for in the question"
   ]
  },
  {
   "cell_type": "code",
   "execution_count": 126,
   "metadata": {
    "collapsed": false
   },
   "outputs": [
    {
     "data": {
      "text/html": [
       "<div>\n",
       "<table border=\"1\" class=\"dataframe\">\n",
       "  <thead>\n",
       "    <tr style=\"text-align: right;\">\n",
       "      <th></th>\n",
       "      <th>ZipCode</th>\n",
       "      <th>LotArea</th>\n",
       "      <th>AssessTot</th>\n",
       "      <th>pred</th>\n",
       "      <th>err</th>\n",
       "      <th>normal_AssessTot</th>\n",
       "      <th>normal_LotArea</th>\n",
       "      <th>normal_pred</th>\n",
       "      <th>normal_err</th>\n",
       "    </tr>\n",
       "  </thead>\n",
       "  <tbody>\n",
       "    <tr>\n",
       "      <th>0</th>\n",
       "      <td>11201.0</td>\n",
       "      <td>151930.0</td>\n",
       "      <td>1164645.0</td>\n",
       "      <td>3.291840e+06</td>\n",
       "      <td>-2.127195e+06</td>\n",
       "      <td>0.169159</td>\n",
       "      <td>0.865496</td>\n",
       "      <td>0.536650</td>\n",
       "      <td>-3.291840e+06</td>\n",
       "    </tr>\n",
       "    <tr>\n",
       "      <th>1</th>\n",
       "      <td>11201.0</td>\n",
       "      <td>9620.0</td>\n",
       "      <td>5864850.0</td>\n",
       "      <td>2.805071e+05</td>\n",
       "      <td>5.584343e+06</td>\n",
       "      <td>0.981158</td>\n",
       "      <td>0.026477</td>\n",
       "      <td>0.016417</td>\n",
       "      <td>-2.805061e+05</td>\n",
       "    </tr>\n",
       "    <tr>\n",
       "      <th>2</th>\n",
       "      <td>11201.0</td>\n",
       "      <td>19682.0</td>\n",
       "      <td>12019950.0</td>\n",
       "      <td>4.934228e+05</td>\n",
       "      <td>1.152653e+07</td>\n",
       "      <td>2.044502</td>\n",
       "      <td>0.085800</td>\n",
       "      <td>0.053200</td>\n",
       "      <td>-4.934207e+05</td>\n",
       "    </tr>\n",
       "    <tr>\n",
       "      <th>5</th>\n",
       "      <td>11201.0</td>\n",
       "      <td>6384.0</td>\n",
       "      <td>21150.0</td>\n",
       "      <td>2.120321e+05</td>\n",
       "      <td>-1.908821e+05</td>\n",
       "      <td>-0.028389</td>\n",
       "      <td>0.007399</td>\n",
       "      <td>0.004588</td>\n",
       "      <td>-2.120322e+05</td>\n",
       "    </tr>\n",
       "    <tr>\n",
       "      <th>10</th>\n",
       "      <td>11201.0</td>\n",
       "      <td>66889.0</td>\n",
       "      <td>11700.0</td>\n",
       "      <td>1.492341e+06</td>\n",
       "      <td>-1.480641e+06</td>\n",
       "      <td>-0.030021</td>\n",
       "      <td>0.364119</td>\n",
       "      <td>0.225771</td>\n",
       "      <td>-1.492341e+06</td>\n",
       "    </tr>\n",
       "  </tbody>\n",
       "</table>\n",
       "</div>"
      ],
      "text/plain": [
       "    ZipCode   LotArea   AssessTot          pred           err  \\\n",
       "0   11201.0  151930.0   1164645.0  3.291840e+06 -2.127195e+06   \n",
       "1   11201.0    9620.0   5864850.0  2.805071e+05  5.584343e+06   \n",
       "2   11201.0   19682.0  12019950.0  4.934228e+05  1.152653e+07   \n",
       "5   11201.0    6384.0     21150.0  2.120321e+05 -1.908821e+05   \n",
       "10  11201.0   66889.0     11700.0  1.492341e+06 -1.480641e+06   \n",
       "\n",
       "    normal_AssessTot  normal_LotArea  normal_pred    normal_err  \n",
       "0           0.169159        0.865496     0.536650 -3.291840e+06  \n",
       "1           0.981158        0.026477     0.016417 -2.805061e+05  \n",
       "2           2.044502        0.085800     0.053200 -4.934207e+05  \n",
       "5          -0.028389        0.007399     0.004588 -2.120322e+05  \n",
       "10         -0.030021        0.364119     0.225771 -1.492341e+06  "
      ]
     },
     "execution_count": 126,
     "metadata": {},
     "output_type": "execute_result"
    }
   ],
   "source": [
    "data2.loc[:,\"normal_pred\"]=w1*data2.normal_LotArea+w2\n",
    "data2.loc[:,\"normal_err\"]=data2.normal_AssessTot-data2.pred\n",
    "data2.head()"
   ]
  },
  {
   "cell_type": "code",
   "execution_count": 127,
   "metadata": {
    "collapsed": false
   },
   "outputs": [
    {
     "name": "stdout",
     "output_type": "stream",
     "text": [
      "                            OLS Regression Results                            \n",
      "==============================================================================\n",
      "Dep. Variable:       normal_AssessTot   R-squared:                       0.384\n",
      "Model:                            OLS   Adj. R-squared:                  0.384\n",
      "Method:                 Least Squares   F-statistic:                 1.724e+05\n",
      "Date:                Mon, 26 Sep 2016   Prob (F-statistic):               0.00\n",
      "Time:                        01:42:51   Log-Likelihood:            -3.2464e+05\n",
      "No. Observations:              275982   AIC:                         6.493e+05\n",
      "Df Residuals:                  275980   BIC:                         6.493e+05\n",
      "Df Model:                           1                                         \n",
      "Covariance Type:            nonrobust                                         \n",
      "==================================================================================\n",
      "                     coef    std err          t      P>|t|      [95.0% Conf. Int.]\n",
      "----------------------------------------------------------------------------------\n",
      "Intercept       1.821e-17      0.001   1.22e-14      1.000        -0.003     0.003\n",
      "normal_LotArea     0.6200      0.001    415.180      0.000         0.617     0.623\n",
      "==============================================================================\n",
      "Omnibus:                  1261967.961   Durbin-Watson:                   2.280\n",
      "Prob(Omnibus):                  0.000   Jarque-Bera (JB):   60355909936269.547\n",
      "Skew:                         157.430   Prob(JB):                         0.00\n",
      "Kurtosis:                   72450.106   Cond. No.                         1.00\n",
      "==============================================================================\n",
      "\n",
      "Warnings:\n",
      "[1] Standard Errors assume that the covariance matrix of the errors is correctly specified.\n"
     ]
    }
   ],
   "source": [
    "print(lm2.summary())"
   ]
  },
  {
   "cell_type": "code",
   "execution_count": 128,
   "metadata": {
    "collapsed": false
   },
   "outputs": [
    {
     "data": {
      "image/png": "[encoded data removed]",
      "text/plain": [
       "<matplotlib.figure.Figure at 0x11c53c0d0>"
      ]
     },
     "metadata": {},
     "output_type": "display_data"
    }
   ],
   "source": [
    "plt.figure(figsize=(8,8))\n",
    "plt.scatter(data2.normal_LotArea,data2.normal_AssessTot, label = 'Normalized LotArea v/s AssessTot')\n",
    "plt.plot(data2.normal_LotArea,lm2.predict(),c=\"r\", label = 'Prediction')\n",
    "plt.xlabel(\"Normalized LotArea\",fontweight = \"bold\", fontsize = 13)\n",
    "plt.ylabel(\"Normalized AssessTot\",fontweight = \"bold\", fontsize = 13)\n",
    "plt.title(\"Scatter Plot of Normalized LotArea and AssessTot\", fontweight = \"bold\", fontsize = 13)\n",
    "plt.legend(loc = 'upper right')\n",
    "plt.show()"
   ]
  },
  {
   "cell_type": "code",
   "execution_count": 129,
   "metadata": {
    "collapsed": false
   },
   "outputs": [
    {
     "data": {
      "text/html": [
       "<div>\n",
       "<table border=\"1\" class=\"dataframe\">\n",
       "  <thead>\n",
       "    <tr style=\"text-align: right;\">\n",
       "      <th></th>\n",
       "      <th>ZipCode</th>\n",
       "      <th>LotArea</th>\n",
       "      <th>AssessTot</th>\n",
       "    </tr>\n",
       "  </thead>\n",
       "  <tbody>\n",
       "    <tr>\n",
       "      <th>0</th>\n",
       "      <td>11201.0</td>\n",
       "      <td>151930</td>\n",
       "      <td>1164645</td>\n",
       "    </tr>\n",
       "    <tr>\n",
       "      <th>1</th>\n",
       "      <td>11201.0</td>\n",
       "      <td>9620</td>\n",
       "      <td>5864850</td>\n",
       "    </tr>\n",
       "    <tr>\n",
       "      <th>2</th>\n",
       "      <td>11201.0</td>\n",
       "      <td>19682</td>\n",
       "      <td>12019950</td>\n",
       "    </tr>\n",
       "    <tr>\n",
       "      <th>3</th>\n",
       "      <td>NaN</td>\n",
       "      <td>0</td>\n",
       "      <td>0</td>\n",
       "    </tr>\n",
       "    <tr>\n",
       "      <th>4</th>\n",
       "      <td>11201.0</td>\n",
       "      <td>387060</td>\n",
       "      <td>0</td>\n",
       "    </tr>\n",
       "  </tbody>\n",
       "</table>\n",
       "</div>"
      ],
      "text/plain": [
       "   ZipCode  LotArea  AssessTot\n",
       "0  11201.0   151930    1164645\n",
       "1  11201.0     9620    5864850\n",
       "2  11201.0    19682   12019950\n",
       "3      NaN        0          0\n",
       "4  11201.0   387060          0"
      ]
     },
     "execution_count": 129,
     "metadata": {},
     "output_type": "execute_result"
    }
   ],
   "source": [
    "data2 = pd.read_csv(\"https://serv.cusp.nyu.edu/~lw1474/ADS_Data/Session02/Housing_Pluto_Session2.csv\")\n",
    "data2.head()"
   ]
  },
  {
   "cell_type": "code",
   "execution_count": 130,
   "metadata": {
    "collapsed": false,
    "scrolled": true
   },
   "outputs": [],
   "source": [
    "data2 = data2[(data2 != 0)]\n",
    "data2.dropna(inplace=True)"
   ]
  },
  {
   "cell_type": "code",
   "execution_count": 131,
   "metadata": {
    "collapsed": false
   },
   "outputs": [
    {
     "data": {
      "text/html": [
       "<div>\n",
       "<table border=\"1\" class=\"dataframe\">\n",
       "  <thead>\n",
       "    <tr style=\"text-align: right;\">\n",
       "      <th></th>\n",
       "      <th>ZipCode</th>\n",
       "      <th>LotArea</th>\n",
       "      <th>AssessTot</th>\n",
       "      <th>log_LotArea</th>\n",
       "      <th>log_AssessTot</th>\n",
       "    </tr>\n",
       "  </thead>\n",
       "  <tbody>\n",
       "    <tr>\n",
       "      <th>0</th>\n",
       "      <td>11201.0</td>\n",
       "      <td>151930.0</td>\n",
       "      <td>1164645.0</td>\n",
       "      <td>11.931175</td>\n",
       "      <td>13.967927</td>\n",
       "    </tr>\n",
       "    <tr>\n",
       "      <th>1</th>\n",
       "      <td>11201.0</td>\n",
       "      <td>9620.0</td>\n",
       "      <td>5864850.0</td>\n",
       "      <td>9.171600</td>\n",
       "      <td>15.584487</td>\n",
       "    </tr>\n",
       "    <tr>\n",
       "      <th>2</th>\n",
       "      <td>11201.0</td>\n",
       "      <td>19682.0</td>\n",
       "      <td>12019950.0</td>\n",
       "      <td>9.887460</td>\n",
       "      <td>16.302078</td>\n",
       "    </tr>\n",
       "    <tr>\n",
       "      <th>5</th>\n",
       "      <td>11201.0</td>\n",
       "      <td>6384.0</td>\n",
       "      <td>21150.0</td>\n",
       "      <td>8.761550</td>\n",
       "      <td>9.959395</td>\n",
       "    </tr>\n",
       "    <tr>\n",
       "      <th>10</th>\n",
       "      <td>11201.0</td>\n",
       "      <td>66889.0</td>\n",
       "      <td>11700.0</td>\n",
       "      <td>11.110790</td>\n",
       "      <td>9.367344</td>\n",
       "    </tr>\n",
       "  </tbody>\n",
       "</table>\n",
       "</div>"
      ],
      "text/plain": [
       "    ZipCode   LotArea   AssessTot  log_LotArea  log_AssessTot\n",
       "0   11201.0  151930.0   1164645.0    11.931175      13.967927\n",
       "1   11201.0    9620.0   5864850.0     9.171600      15.584487\n",
       "2   11201.0   19682.0  12019950.0     9.887460      16.302078\n",
       "5   11201.0    6384.0     21150.0     8.761550       9.959395\n",
       "10  11201.0   66889.0     11700.0    11.110790       9.367344"
      ]
     },
     "execution_count": 131,
     "metadata": {},
     "output_type": "execute_result"
    }
   ],
   "source": [
    "data2.loc[:,\"log_LotArea\"]=np.log(data2.LotArea)\n",
    "data2.loc[:,\"log_AssessTot\"]=np.log(data2.AssessTot)\n",
    "data2.head()"
   ]
  },
  {
   "cell_type": "code",
   "execution_count": 132,
   "metadata": {
    "collapsed": false
   },
   "outputs": [
    {
     "name": "stdout",
     "output_type": "stream",
     "text": [
      "Intercept      0.207382\n",
      "log_LotArea    1.325149\n",
      "dtype: float64\n",
      "0.490743686492\n",
      "                            OLS Regression Results                            \n",
      "==============================================================================\n",
      "Dep. Variable:          log_AssessTot   R-squared:                       0.491\n",
      "Model:                            OLS   Adj. R-squared:                  0.491\n",
      "Method:                 Least Squares   F-statistic:                 2.659e+05\n",
      "Date:                Mon, 26 Sep 2016   Prob (F-statistic):               0.00\n",
      "Time:                        01:43:26   Log-Likelihood:            -3.4460e+05\n",
      "No. Observations:              275982   AIC:                         6.892e+05\n",
      "Df Residuals:                  275980   BIC:                         6.892e+05\n",
      "Df Model:                           1                                         \n",
      "Covariance Type:            nonrobust                                         \n",
      "===============================================================================\n",
      "                  coef    std err          t      P>|t|      [95.0% Conf. Int.]\n",
      "-------------------------------------------------------------------------------\n",
      "Intercept       0.2074      0.020     10.275      0.000         0.168     0.247\n",
      "log_LotArea     1.3251      0.003    515.701      0.000         1.320     1.330\n",
      "==============================================================================\n",
      "Omnibus:                    29135.635   Durbin-Watson:                   0.917\n",
      "Prob(Omnibus):                  0.000   Jarque-Bera (JB):           197344.029\n",
      "Skew:                           0.276   Prob(JB):                         0.00\n",
      "Kurtosis:                       7.106   Cond. No.                         100.\n",
      "==============================================================================\n",
      "\n",
      "Warnings:\n",
      "[1] Standard Errors assume that the covariance matrix of the errors is correctly specified.\n",
      "275982\n",
      "275982\n"
     ]
    }
   ],
   "source": [
    "lm3 = smf.ols(formula='log_AssessTot ~ log_LotArea', data = data2).fit()\n",
    "print(lm3.params)\n",
    "print(lm3.rsquared)\n",
    "print(lm3.summary())\n",
    "\n",
    "#To check the length and the dimensions\n",
    "\n",
    "print(len(lm3.predict()))\n",
    "print(len(data2.log_LotArea))"
   ]
  },
  {
   "cell_type": "code",
   "execution_count": 133,
   "metadata": {
    "collapsed": false
   },
   "outputs": [
    {
     "data": {
      "image/png": "[encoded data removed]",
      "text/plain": [
       "<matplotlib.figure.Figure at 0x11c50ed50>"
      ]
     },
     "metadata": {},
     "output_type": "display_data"
    }
   ],
   "source": [
    "plt.figure(figsize=(8,8))\n",
    "plt.scatter(data2.log_LotArea,data2.log_AssessTot, label = 'log_LotArea v/s log_AssessTot')\n",
    "plt.plot(data2.log_LotArea,lm3.predict(),c=\"r\", label = 'Prediction')\n",
    "plt.legend(loc = 'upper right')\n",
    "plt.show()"
   ]
  },
  {
   "cell_type": "markdown",
   "metadata": {},
   "source": [
    "### Explanation - \n",
    "\n",
    "#### Here we notice that the relationship between the \"logarithmic\" functions are linear and we have proven that to be true above.\n",
    "#### We are also looking at the functions without taking the logarithmic - in this case - the pure functions before the logarithms for each was introduced.\n",
    "\n",
    "#### Here we notice that the pure relationship between LotArea and AssessTot is not linear in that case \n",
    "#### Here:\n",
    "    - y = AssessTot\n",
    "    - x = LotArea\n",
    "    \n",
    "    - log_y = w1 * log_x + log_w0\n",
    "    - log_y = log_(x**w1)*w0\n",
    "    - y = (x**w1)*w0\n",
    "    \n",
    "    - y' = w1*w0*(x**(w1-1))\n",
    "    \n",
    "#### This shows us that the rate of change of (x) with respect to (y) is actually non-linear"
   ]
  }
 ],
 "metadata": {
  "anaconda-cloud": {},
  "kernelspec": {
   "display_name": "Python [Root]",
   "language": "python",
   "name": "Python [Root]"
  },
  "language_info": {
   "codemirror_mode": {
    "name": "ipython",
    "version": 2
   },
   "file_extension": ".py",
   "mimetype": "text/x-python",
   "name": "python",
   "nbconvert_exporter": "python",
   "pygments_lexer": "ipython2",
   "version": "2.7.12"
  }
 },
 "nbformat": 4,
 "nbformat_minor": 0
}
