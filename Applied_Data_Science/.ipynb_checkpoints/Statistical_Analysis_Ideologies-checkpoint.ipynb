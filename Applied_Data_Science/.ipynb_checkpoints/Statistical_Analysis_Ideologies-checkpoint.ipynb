{
 "cells": [
  {
   "cell_type": "code",
   "execution_count": null,
   "metadata": {
    "collapsed": true
   },
   "outputs": [],
   "source": [
    "import pandas as pd\n",
    "import numpy as np\n",
    "import statsmodels.formula.api as smf\n",
    "from sklearn import cluster, datasets\n",
    "import matplotlib.pylab as plt\n",
    "from sklearn.mixture import GaussianMixture\n",
    "%matplotlib inline"
   ]
  },
  {
   "cell_type": "markdown",
   "metadata": {},
   "source": [
    "1. Run bi-variate regression 3 times and check their fitted coefficients respectively.\n",
    "    * $y = a_1x_1 + b_1$  \n",
    "    * $y = a_2x_2 + b_2$  \n",
    "    * $y = a_3x_3 + b_3$  \n",
    "2. Run multivariate regression $y = a_1x_1 + a_2x_2 + a_3x_3 + b$ and check their fitted coefficients respectively. \n",
    "3. Is there any $a_i$ from part 2 that changes significantly from part 1? What does it tell us? Which model captures the most information from the data, in terms of the in-sample $R^2$?"
   ]
  },
  {
   "cell_type": "code",
   "execution_count": null,
   "metadata": {
    "collapsed": true
   },
   "outputs": [],
   "source": [
    "data = pd.read_csv('https://serv.cusp.nyu.edu/~cq299/ADS2016/Data/ExtraCredit1.csv')"
   ]
  },
  {
   "cell_type": "markdown",
   "metadata": {},
   "source": [
    "## Logistic Regression\n",
    "1. Load the car data, then only keep the cars with following brands: 'Cadillac', 'Chevrolet', 'SAAB'.\n",
    "2. Treat the 'Make' as our target variable, ignore 'Mileage', then run logistic regression over the remaining features (Note: No need to split the dataset into training ans test, just use it as a whole. Moreover, you can make the regularization ineffective by setting C equal to a huge number (say, for example, 1 million))\n",
    "3. Evaluate your prediction model by doing the following:\n",
    "    * first use your fitted model to predict the brand and save it as **labelPred**\n",
    "    * then slice the 'Make' column from your dataset as the **labelActual**\n",
    "    * compute the confusion matrix, showing your model's accuracy and precision for each brand."
   ]
  },
  {
   "cell_type": "code",
   "execution_count": null,
   "metadata": {
    "collapsed": true
   },
   "outputs": [],
   "source": [
    "car = pd.read_csv('https://serv.cusp.nyu.edu/~cq299/ADS2016/Data/Car.csv')"
   ]
  },
  {
   "cell_type": "markdown",
   "metadata": {},
   "source": [
    "### Clustering Review."
   ]
  },
  {
   "cell_type": "code",
   "execution_count": null,
   "metadata": {
    "collapsed": true
   },
   "outputs": [],
   "source": [
    "X,y = datasets.make_circles(n_samples=200, factor=.5,noise=.05)"
   ]
  },
  {
   "cell_type": "markdown",
   "metadata": {},
   "source": [
    "#### Part one: Visulize the data set. (y is your label(color)) \n",
    "\n",
    "#### Part two: Use Kmeans method to divide your data X into two clusters. Plot your result(The color should be the clustering result).\n",
    "\n",
    "#### Part three: Repeat part two using Guassian Mixture Model.\n",
    "\n",
    "#### Part four: Do Guassian Mixture and Kmeans work for this data set assuming we know the real labels(y)?  Please read the website: http://scikit-learn.org/stable/modules/clustering.html#clustering and pick one clustering model from 8 options there and then, apply the new model for our data set to make sure that we could get the expected result."
   ]
  },
  {
   "cell_type": "markdown",
   "metadata": {},
   "source": [
    "### Use Lasso Model for feature selection.\n",
    "\n",
    "(For simplifing this question, let us ignore the over fitting problem now.)"
   ]
  },
  {
   "cell_type": "code",
   "execution_count": 6,
   "metadata": {
    "collapsed": false
   },
   "outputs": [],
   "source": [
    "path = 'https://serv.cusp.nyu.edu/~cq299/ADS2016/Data/Bayesian/'\n",
    "data4=pd.read_csv(path + \"example4.csv\", low_memory=False)\n",
    "#let us generate the data set we need. \n",
    "list_311=list(data4.loc[:,\"Adopt A Basket\":].columns)\n",
    "depend_variable=['mean_log','gross_sq_feet_log']+list_311\n",
    "\n",
    "data4['sale_price_log']=np.log(data4['sale_price']).round(decimals=3)\n",
    "data4['gross_sq_feet_log']=np.log(data4['gross_sq_feet']).round(decimals=3)\n",
    "data4['mean_log']=np.log(data4['mean']).round(decimals=3)\n",
    "\n",
    "X=data4[depend_variable]\n",
    "y=data4['sale_price_log']"
   ]
  },
  {
   "cell_type": "code",
   "execution_count": 7,
   "metadata": {
    "collapsed": false
   },
   "outputs": [
    {
     "data": {
      "text/html": [
       "<div>\n",
       "<table border=\"1\" class=\"dataframe\">\n",
       "  <thead>\n",
       "    <tr style=\"text-align: right;\">\n",
       "      <th></th>\n",
       "      <th>mean_log</th>\n",
       "      <th>gross_sq_feet_log</th>\n",
       "      <th>Adopt A Basket</th>\n",
       "      <th>Air Quality</th>\n",
       "      <th>Animal Abuse</th>\n",
       "      <th>Animal Facility   No Permit</th>\n",
       "      <th>Animal in a Park</th>\n",
       "      <th>APPLIANCE</th>\n",
       "      <th>Asbestos</th>\n",
       "      <th>Beach Pool Sauna Complaint</th>\n",
       "      <th>...</th>\n",
       "      <th>Unsanitary Pigeon Condition</th>\n",
       "      <th>Urinating in Public</th>\n",
       "      <th>Vacant Lot</th>\n",
       "      <th>Vending</th>\n",
       "      <th>Violation of Park Rules</th>\n",
       "      <th>Water Conservation</th>\n",
       "      <th>Water Quality</th>\n",
       "      <th>Water System</th>\n",
       "      <th>Window Guard</th>\n",
       "      <th>X Ray Machine Equipment</th>\n",
       "    </tr>\n",
       "  </thead>\n",
       "  <tbody>\n",
       "    <tr>\n",
       "      <th>0</th>\n",
       "      <td>11.291</td>\n",
       "      <td>7.393</td>\n",
       "      <td>0.000000</td>\n",
       "      <td>0.027721</td>\n",
       "      <td>0.0</td>\n",
       "      <td>0.000000</td>\n",
       "      <td>0.000770</td>\n",
       "      <td>0.000257</td>\n",
       "      <td>0.001027</td>\n",
       "      <td>0.001797</td>\n",
       "      <td>...</td>\n",
       "      <td>0.000000</td>\n",
       "      <td>0.000000</td>\n",
       "      <td>0.000000</td>\n",
       "      <td>0.001797</td>\n",
       "      <td>0.001540</td>\n",
       "      <td>0.003850</td>\n",
       "      <td>0.002053</td>\n",
       "      <td>0.049281</td>\n",
       "      <td>0.0</td>\n",
       "      <td>0.0</td>\n",
       "    </tr>\n",
       "    <tr>\n",
       "      <th>1</th>\n",
       "      <td>11.917</td>\n",
       "      <td>8.253</td>\n",
       "      <td>0.000000</td>\n",
       "      <td>0.010675</td>\n",
       "      <td>0.0</td>\n",
       "      <td>0.000000</td>\n",
       "      <td>0.000227</td>\n",
       "      <td>0.000227</td>\n",
       "      <td>0.003861</td>\n",
       "      <td>0.000000</td>\n",
       "      <td>...</td>\n",
       "      <td>0.000227</td>\n",
       "      <td>0.000227</td>\n",
       "      <td>0.000000</td>\n",
       "      <td>0.010675</td>\n",
       "      <td>0.000454</td>\n",
       "      <td>0.001817</td>\n",
       "      <td>0.000227</td>\n",
       "      <td>0.050874</td>\n",
       "      <td>0.0</td>\n",
       "      <td>0.0</td>\n",
       "    </tr>\n",
       "    <tr>\n",
       "      <th>2</th>\n",
       "      <td>11.340</td>\n",
       "      <td>7.659</td>\n",
       "      <td>0.000000</td>\n",
       "      <td>0.002511</td>\n",
       "      <td>0.0</td>\n",
       "      <td>0.000000</td>\n",
       "      <td>0.001076</td>\n",
       "      <td>0.001973</td>\n",
       "      <td>0.000359</td>\n",
       "      <td>0.000000</td>\n",
       "      <td>...</td>\n",
       "      <td>0.000000</td>\n",
       "      <td>0.000000</td>\n",
       "      <td>0.004484</td>\n",
       "      <td>0.000000</td>\n",
       "      <td>0.000179</td>\n",
       "      <td>0.007354</td>\n",
       "      <td>0.001256</td>\n",
       "      <td>0.069058</td>\n",
       "      <td>0.0</td>\n",
       "      <td>0.0</td>\n",
       "    </tr>\n",
       "    <tr>\n",
       "      <th>3</th>\n",
       "      <td>10.750</td>\n",
       "      <td>8.138</td>\n",
       "      <td>0.000000</td>\n",
       "      <td>0.001476</td>\n",
       "      <td>0.0</td>\n",
       "      <td>0.000000</td>\n",
       "      <td>0.000170</td>\n",
       "      <td>0.006756</td>\n",
       "      <td>0.000738</td>\n",
       "      <td>0.000057</td>\n",
       "      <td>...</td>\n",
       "      <td>0.000170</td>\n",
       "      <td>0.000170</td>\n",
       "      <td>0.000908</td>\n",
       "      <td>0.000568</td>\n",
       "      <td>0.000170</td>\n",
       "      <td>0.000454</td>\n",
       "      <td>0.000341</td>\n",
       "      <td>0.012433</td>\n",
       "      <td>0.0</td>\n",
       "      <td>0.0</td>\n",
       "    </tr>\n",
       "    <tr>\n",
       "      <th>4</th>\n",
       "      <td>10.706</td>\n",
       "      <td>7.667</td>\n",
       "      <td>0.000049</td>\n",
       "      <td>0.001671</td>\n",
       "      <td>0.0</td>\n",
       "      <td>0.000049</td>\n",
       "      <td>0.000344</td>\n",
       "      <td>0.006143</td>\n",
       "      <td>0.000688</td>\n",
       "      <td>0.000000</td>\n",
       "      <td>...</td>\n",
       "      <td>0.000491</td>\n",
       "      <td>0.000197</td>\n",
       "      <td>0.005897</td>\n",
       "      <td>0.000590</td>\n",
       "      <td>0.000393</td>\n",
       "      <td>0.001622</td>\n",
       "      <td>0.000442</td>\n",
       "      <td>0.037445</td>\n",
       "      <td>0.0</td>\n",
       "      <td>0.0</td>\n",
       "    </tr>\n",
       "  </tbody>\n",
       "</table>\n",
       "<p>5 rows × 161 columns</p>\n",
       "</div>"
      ],
      "text/plain": [
       "   mean_log  gross_sq_feet_log  Adopt A Basket  Air Quality  Animal Abuse  \\\n",
       "0    11.291              7.393        0.000000     0.027721           0.0   \n",
       "1    11.917              8.253        0.000000     0.010675           0.0   \n",
       "2    11.340              7.659        0.000000     0.002511           0.0   \n",
       "3    10.750              8.138        0.000000     0.001476           0.0   \n",
       "4    10.706              7.667        0.000049     0.001671           0.0   \n",
       "\n",
       "   Animal Facility   No Permit  Animal in a Park  APPLIANCE  Asbestos  \\\n",
       "0                     0.000000          0.000770   0.000257  0.001027   \n",
       "1                     0.000000          0.000227   0.000227  0.003861   \n",
       "2                     0.000000          0.001076   0.001973  0.000359   \n",
       "3                     0.000000          0.000170   0.006756  0.000738   \n",
       "4                     0.000049          0.000344   0.006143  0.000688   \n",
       "\n",
       "   Beach Pool Sauna Complaint           ...             \\\n",
       "0                    0.001797           ...              \n",
       "1                    0.000000           ...              \n",
       "2                    0.000000           ...              \n",
       "3                    0.000057           ...              \n",
       "4                    0.000000           ...              \n",
       "\n",
       "   Unsanitary Pigeon Condition  Urinating in Public  Vacant Lot   Vending  \\\n",
       "0                     0.000000             0.000000    0.000000  0.001797   \n",
       "1                     0.000227             0.000227    0.000000  0.010675   \n",
       "2                     0.000000             0.000000    0.004484  0.000000   \n",
       "3                     0.000170             0.000170    0.000908  0.000568   \n",
       "4                     0.000491             0.000197    0.005897  0.000590   \n",
       "\n",
       "   Violation of Park Rules  Water Conservation  Water Quality  Water System  \\\n",
       "0                 0.001540            0.003850       0.002053      0.049281   \n",
       "1                 0.000454            0.001817       0.000227      0.050874   \n",
       "2                 0.000179            0.007354       0.001256      0.069058   \n",
       "3                 0.000170            0.000454       0.000341      0.012433   \n",
       "4                 0.000393            0.001622       0.000442      0.037445   \n",
       "\n",
       "   Window Guard  X Ray Machine Equipment  \n",
       "0           0.0                      0.0  \n",
       "1           0.0                      0.0  \n",
       "2           0.0                      0.0  \n",
       "3           0.0                      0.0  \n",
       "4           0.0                      0.0  \n",
       "\n",
       "[5 rows x 161 columns]"
      ]
     },
     "execution_count": 7,
     "metadata": {},
     "output_type": "execute_result"
    }
   ],
   "source": [
    "X.head()"
   ]
  }
 ],
 "metadata": {
  "anaconda-cloud": {},
  "kernelspec": {
   "display_name": "Python [Root]",
   "language": "python",
   "name": "Python [Root]"
  },
  "language_info": {
   "codemirror_mode": {
    "name": "ipython",
    "version": 2
   },
   "file_extension": ".py",
   "mimetype": "text/x-python",
   "name": "python",
   "nbconvert_exporter": "python",
   "pygments_lexer": "ipython2",
   "version": "2.7.12"
  }
 },
 "nbformat": 4,
 "nbformat_minor": 1
}
