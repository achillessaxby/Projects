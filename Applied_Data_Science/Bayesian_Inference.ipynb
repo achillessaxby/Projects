{
 "cells": [
  {
   "cell_type": "markdown",
   "metadata": {},
   "source": [
    "# Homework 6"
   ]
  },
  {
   "cell_type": "markdown",
   "metadata": {},
   "source": [
    "### Achilles Edwin Alfred Saxby"
   ]
  },
  {
   "cell_type": "markdown",
   "metadata": {},
   "source": [
    "### aes807"
   ]
  },
  {
   "cell_type": "markdown",
   "metadata": {},
   "source": [
    "#### ----------------------------------------------------------------------------------------------------------------------------------------------------------------------"
   ]
  },
  {
   "cell_type": "markdown",
   "metadata": {},
   "source": [
    "# Task 1 (5% credit) \n",
    "Provide a definition for the concept of a conjugate prior given the Bayesian learning model. What is the conjugate prior for the univariate linear regression $y\\sim {\\cal N}(wx,\\sigma^2)$ with a fixed $\\sigma$?"
   ]
  },
  {
   "cell_type": "markdown",
   "metadata": {},
   "source": [
    "### Solution - Task (1)\n",
    "In Bayesian probability theory, if the distribution of the posterior is of the same type as the prior distribution, the prior and the posterior are called conjugate distributions, and the prior is called a conjugate prior for the likelihood function.\n",
    "\n",
    "Conjugate prior for the univarate linear regression:\n",
    "$$\n",
    "w\\sim {\\cal N}(w^*,\\sigma^*)\n",
    "$$\n",
    "\n",
    "$$\n",
    "= \\frac{1}{\\sqrt{2\\pi}\\sigma^ *}e^{-\\frac{(w - w^*)^2}{2(\\sigma^*)^2}}\n",
    "$$"
   ]
  },
  {
   "cell_type": "markdown",
   "metadata": {},
   "source": [
    "#### ----------------------------------------------------------------------------------------------------------------------------------------------------------------------"
   ]
  },
  {
   "cell_type": "markdown",
   "metadata": {},
   "source": [
    "# Task 2 (5% credit). \n",
    "Which prior in the Bayesian linear regression framework leads to: a) Ridge regression, b) Lasso regression?\n"
   ]
  },
  {
   "cell_type": "markdown",
   "metadata": {},
   "source": [
    "### Solution - Task (2)(a)\n",
    "For Ridge regression, the prior corresponds to a distribution for $w$ of the form: $w_j\\sim{\\cal N}(0,\\frac{\\sigma}{\\sqrt{\\lambda}})$\n",
    "\n",
    "Which leads to a solution of the form: $\\hat{w}=argmin_w\\left[RSS(w)+\\lambda||w||_2^2\\right]$\n",
    "\n",
    "where: $||w||_2=\\sqrt{\\sum\\limits_j w_j^2}$"
   ]
  },
  {
   "cell_type": "markdown",
   "metadata": {},
   "source": [
    "### Solution - Task (2)(b)\n",
    "For Lasso, the prior corresponds to a distribution of the form: $p(w_j)\\sim e^{-\\lambda|w_j|/\\sigma}$\n",
    "\n",
    "Which leads to a solution of the form: $\\hat{w}=argmin_w\\left[RSS(w)+\\lambda||w||_1\\right]$\n",
    "\n",
    "Where: $||w||_1=\\sum\\limits_j |w_j|$"
   ]
  },
  {
   "cell_type": "markdown",
   "metadata": {},
   "source": [
    "#### ----------------------------------------------------------------------------------------------------------------------------------------------------------------------"
   ]
  },
  {
   "cell_type": "markdown",
   "metadata": {},
   "source": [
    "# Task 3 (10% credit). \n",
    "Answer some questions about the properties of Lasso/Ridge:\n",
    "\n",
    "a) Which of the Lasso and Ridge regressions possess an analytic solution in the closed form?\n",
    "\n",
    "\n",
    "b) Which of the Lasso and Ridge regressions often use to completely eliminate coefficients for some of the regressors?\n",
    "\n",
    "\n",
    "c) Which value of $\\lambda$ makes Lasso and Ridge identical to the ordinary least square regression?\n",
    "\n",
    "d) What dataset (training, validation or test) you would use to estimate the $\\lambda$ for Lasso or Ridge?"
   ]
  },
  {
   "cell_type": "markdown",
   "metadata": {},
   "source": [
    "### Solution - Task (3)(a)\n",
    "Ridge Regression"
   ]
  },
  {
   "cell_type": "markdown",
   "metadata": {},
   "source": [
    "### Solution - Task (3)(b)\n",
    "Lasso Regression"
   ]
  },
  {
   "cell_type": "markdown",
   "metadata": {},
   "source": [
    "### Solution - Task (3)(c)\n",
    "For $\\lambda$ = 0 both Lasso and Ridge are/become identical to OLS regression."
   ]
  },
  {
   "cell_type": "markdown",
   "metadata": {},
   "source": [
    "### Solution - Task (3)(d)\n",
    "Validation set is used to estimate the $\\lambda$ for Lasso or Ridge \n",
    "- A separate validation sample could be used for the selection of model parameters. But often the available dataset is small enough, so splitting into even smaller traning, validation and test sets could have negative impact on the model training, leading to noisy and unreliable models. In such cases cross-validation is often applied, performing not one but several random splits of the sample with further averaging of the model performance scores. "
   ]
  },
  {
   "cell_type": "markdown",
   "metadata": {},
   "source": [
    "#### ----------------------------------------------------------------------------------------------------------------------------------------------------------------------"
   ]
  },
  {
   "cell_type": "code",
   "execution_count": 31,
   "metadata": {
    "collapsed": false
   },
   "outputs": [
    {
     "name": "stdout",
     "output_type": "stream",
     "text": [
      "Populating the interactive namespace from numpy and matplotlib\n"
     ]
    }
   ],
   "source": [
    "import os\n",
    "import csv\n",
    "import numpy as np\n",
    "import pandas as pd\n",
    "import pylab as pl\n",
    "import statsmodels.formula.api\n",
    "import statsmodels.api as smf\n",
    "import matplotlib.pyplot as plt\n",
    "import statsmodels.api as sm\n",
    "\n",
    "from scipy import stats\n",
    "from sklearn import linear_model\n",
    "from sklearn.model_selection import train_test_split\n",
    "from __future__ import print_function, division\n",
    "\n",
    "%pylab inline"
   ]
  },
  {
   "cell_type": "markdown",
   "metadata": {},
   "source": [
    "#### ----------------------------------------------------------------------------------------------------------------------------------------------------------------------"
   ]
  },
  {
   "cell_type": "markdown",
   "metadata": {},
   "source": [
    "# Task 4 (15% credit). \n",
    "Consider a Bayesian univariate linear regression $y\\sim {\\cal N}(wx,\\sigma^2)$ with a given $\\sigma=1$ and the prior $w\\sim {\\cal N}(5,1)$. Compute the posterior distribution after an observation $y=12,x=2$. After all, what is the probability of having $w<5$?"
   ]
  },
  {
   "cell_type": "code",
   "execution_count": 14,
   "metadata": {
    "collapsed": false
   },
   "outputs": [
    {
     "name": "stdout",
     "output_type": "stream",
     "text": [
      "Posterior Distribution W ~ N(5.8, 0.4472135955)\n",
      "Probability of having  w<5 : 0.0368191350602\n"
     ]
    }
   ],
   "source": [
    "sigma = 1.0\n",
    "prior_w = 5.0\n",
    "prior_s = 1.0\n",
    "\n",
    "y = 12\n",
    "x = 2\n",
    "\n",
    "sigma_s = (sigma**-2)\n",
    "prior_ss = (prior_s**-2)\n",
    "\n",
    "post_w = (sigma_s * sum(y*x) + prior_ss * prior_w)/(sum(x**2)* sigma_s + prior_ss)\n",
    "post_s = (prior_ss + sum(x**2)* sigma_s)**-0.5\n",
    "\n",
    "print ('Posterior Distribution W ~ N({0}, {1})'.format(post_w, post_s))\n",
    "print ('Probability of having  w<5 :',stats.norm.cdf(5, post_w, post_s))"
   ]
  },
  {
   "cell_type": "markdown",
   "metadata": {},
   "source": [
    "#### ----------------------------------------------------------------------------------------------------------------------------------------------------------------------"
   ]
  },
  {
   "cell_type": "markdown",
   "metadata": {},
   "source": [
    "# Task 5 (20% credit). \n",
    "For the training and test sets provided below, train a linear regression of $y$ (last column) vs the rest of the columns of the table treated as regressors (intercept excluded) over the training set, apply it to the test set and report it's R2 performance over both - training and test set."
   ]
  },
  {
   "cell_type": "code",
   "execution_count": 15,
   "metadata": {
    "collapsed": false
   },
   "outputs": [],
   "source": [
    "data_train=pd.read_csv(\"https://serv.cusp.nyu.edu/classes/ML_2016_Spring/session2/HW/Homework1_training.csv\")\n",
    "y_train=np.asarray(data_train.iloc[:,-1]) # make dependent variable\n",
    "X_train=np.asarray(data_train.iloc[:,1:-2]) #make independent variables\n",
    "\n",
    "data_test=pd.read_csv(\"https://serv.cusp.nyu.edu/classes/ML_2016_Spring/session2/HW/Homework1_test.csv\")\n",
    "y_test=np.asarray(data_test.iloc[:,-1]) # make dependent variable\n",
    "X_test=np.asarray(data_test.iloc[:,1:-2]) #make independent variables"
   ]
  },
  {
   "cell_type": "code",
   "execution_count": 24,
   "metadata": {
    "collapsed": false
   },
   "outputs": [
    {
     "name": "stdout",
     "output_type": "stream",
     "text": [
      "                            OLS Regression Results                            \n",
      "==============================================================================\n",
      "Dep. Variable:                      y   R-squared:                       1.000\n",
      "Model:                            OLS   Adj. R-squared:                   -inf\n",
      "Method:                 Least Squares   F-statistic:                     0.000\n",
      "Date:                Mon, 28 Nov 2016   Prob (F-statistic):                nan\n",
      "Time:                        22:01:23   Log-Likelihood:                 119.68\n",
      "No. Observations:                  30   AIC:                            -179.4\n",
      "Df Residuals:                       0   BIC:                            -137.3\n",
      "Df Model:                          29                                         \n",
      "Covariance Type:            nonrobust                                         \n",
      "==============================================================================\n",
      "                 coef    std err          t      P>|t|      [95.0% Conf. Int.]\n",
      "------------------------------------------------------------------------------\n",
      "x1          1.807e+10        inf          0        nan           nan       nan\n",
      "x2           2.86e+09        inf          0        nan           nan       nan\n",
      "x3          5.659e+09        inf          0        nan           nan       nan\n",
      "x4          1.899e+10        inf          0        nan           nan       nan\n",
      "x5         -9.385e+10        inf         -0        nan           nan       nan\n",
      "x6          5.876e+10        inf          0        nan           nan       nan\n",
      "x7          4.619e+10        inf          0        nan           nan       nan\n",
      "x8          6.745e+10        inf          0        nan           nan       nan\n",
      "x9         -8.329e+10        inf         -0        nan           nan       nan\n",
      "x10          1.07e+11        inf          0        nan           nan       nan\n",
      "x11        -8.652e+10        inf         -0        nan           nan       nan\n",
      "x12        -2.451e+10        inf         -0        nan           nan       nan\n",
      "x13         4.603e+10        inf          0        nan           nan       nan\n",
      "x14        -1.674e+10        inf         -0        nan           nan       nan\n",
      "x15         -7.62e+10        inf         -0        nan           nan       nan\n",
      "x16        -2.837e+10        inf         -0        nan           nan       nan\n",
      "x17         7.795e+08        inf          0        nan           nan       nan\n",
      "x18         5.138e+10        inf          0        nan           nan       nan\n",
      "x19         2.957e+10        inf          0        nan           nan       nan\n",
      "x20         8.361e+10        inf          0        nan           nan       nan\n",
      "x21        -3.576e+10        inf         -0        nan           nan       nan\n",
      "x22           -0.1238        inf         -0        nan           nan       nan\n",
      "x23           -0.2152        inf         -0        nan           nan       nan\n",
      "x24            0.0787        inf          0        nan           nan       nan\n",
      "x25            0.0653        inf          0        nan           nan       nan\n",
      "x26            0.1552        inf          0        nan           nan       nan\n",
      "x27           -0.3636        inf         -0        nan           nan       nan\n",
      "x28           -0.4391        inf         -0        nan           nan       nan\n",
      "x29           -0.0295        inf         -0        nan           nan       nan\n",
      "x30            0.1581        inf          0        nan           nan       nan\n",
      "x31           -0.1493        inf         -0        nan           nan       nan\n",
      "x32           -0.0365        inf         -0        nan           nan       nan\n",
      "x33            0.0619        inf          0        nan           nan       nan\n",
      "x34           -0.1804        inf         -0        nan           nan       nan\n",
      "x35            0.0018        inf          0        nan           nan       nan\n",
      "x36           -0.3082        inf         -0        nan           nan       nan\n",
      "x37            0.0527        inf          0        nan           nan       nan\n",
      "x38           -0.1278        inf         -0        nan           nan       nan\n",
      "x39            0.2561        inf          0        nan           nan       nan\n",
      "==============================================================================\n",
      "Omnibus:                        4.785   Durbin-Watson:                   1.156\n",
      "Prob(Omnibus):                  0.091   Jarque-Bera (JB):                3.406\n",
      "Skew:                           0.802   Prob(JB):                        0.182\n",
      "Kurtosis:                       3.389   Cond. No.                     4.95e+13\n",
      "==============================================================================\n",
      "\n",
      "Warnings:\n",
      "[1] Standard Errors assume that the covariance matrix of the errors is correctly specified.\n",
      "[2] The input rank is higher than the number of observations.\n",
      "[3] The smallest eigenvalue is 1.15e-21. This might indicate that there are\n",
      "strong multicollinearity problems or that the design matrix is singular.\n"
     ]
    }
   ],
   "source": [
    "lm = sm.OLS(y_train, X_train).fit()\n",
    "print (lm.summary())"
   ]
  },
  {
   "cell_type": "code",
   "execution_count": 38,
   "metadata": {
    "collapsed": false
   },
   "outputs": [
    {
     "name": "stdout",
     "output_type": "stream",
     "text": [
      "The R-squared we found for In Sample Ridge is: 0.929693875153\n",
      "The R-squared we found for Out-Of-Sample Ridge is: 0.193501587759\n"
     ]
    }
   ],
   "source": [
    "Ridge=linear_model.Ridge(fit_intercept=False, alpha=500)\n",
    "Ridge.fit(X_train,y_train)\n",
    "\n",
    "\n",
    "p_IS=Ridge.predict(X_train)\n",
    "err_IS=p_IS-y_train\n",
    "R_2_IS_Ridge=1-np.var(err_IS)/np.var(y_train)\n",
    "print(\"The R-squared we found for In Sample Ridge is: {0}\".format(R_2_IS_Ridge))\n",
    "\n",
    "\n",
    "p_OS=Ridge.predict(X_test)\n",
    "err_OS=p_OS-y_test\n",
    "R_2_OS_Ridge=1-np.var(err_OS)/np.var(y_test)\n",
    "print(\"The R-squared we found for Out-Of-Sample Ridge is: {0}\".format(R_2_OS_Ridge))"
   ]
  },
  {
   "cell_type": "markdown",
   "metadata": {},
   "source": [
    "- So while OLS reached almost perfect in performance over the training set (which is not too suprising as one would expect 39 regressors to be able to learn nearly all the infromation from the sample of 30 observations) it's generalizability is quite poor (test sample Rsquared goes way below zero). \n",
    "- So there is clearly an overfitting problem."
   ]
  },
  {
   "cell_type": "markdown",
   "metadata": {},
   "source": [
    "#### ----------------------------------------------------------------------------------------------------------------------------------------------------------------------"
   ]
  },
  {
   "cell_type": "markdown",
   "metadata": {},
   "source": [
    "# Task 6 (20% credit). \n",
    "Train Lasso and Ridge regressions using the training sample above with $\\lambda_{Ridge}=40000$ and $\\lambda_{Lasso}=40$ and report their performance over the test set."
   ]
  },
  {
   "cell_type": "code",
   "execution_count": 39,
   "metadata": {
    "collapsed": false,
    "scrolled": true
   },
   "outputs": [
    {
     "name": "stdout",
     "output_type": "stream",
     "text": [
      "The R-squared for In-Sample Ridge is: 0.844237185406\n",
      "The R-squared for Out-Of-Sample Ridge is: 0.678556452341\n"
     ]
    }
   ],
   "source": [
    "ridge = 40000\n",
    "Ridge = linear_model.Ridge(fit_intercept=True, alpha=ridge)\n",
    "\n",
    "Ridge.fit(X_train,y_train)\n",
    "\n",
    "p_IS=Ridge.predict(X_train)\n",
    "err_IS=p_IS-y_train\n",
    "R_2_IS_Ridge=1-np.var(err_IS)/np.var(y_train)\n",
    "print(\"The R-squared for In-Sample Ridge is: {0}\".format(R_2_IS_Ridge))\n",
    "\n",
    "Ridge_coef=Ridge.coef_\n",
    "\n",
    "p_OS=Ridge.predict(X_test)\n",
    "err_OS=p_OS-y_test\n",
    "R_2_OS_Ridge=1-np.var(err_OS)/np.var(y_test)\n",
    "print(\"The R-squared for Out-Of-Sample Ridge is: {0}\".format(R_2_OS_Ridge))"
   ]
  },
  {
   "cell_type": "markdown",
   "metadata": {},
   "source": [
    "- So choice of lambda as 40000, Ridge works pretty well, mostly fixing the overfitting issue."
   ]
  },
  {
   "cell_type": "code",
   "execution_count": 40,
   "metadata": {
    "collapsed": false
   },
   "outputs": [
    {
     "name": "stdout",
     "output_type": "stream",
     "text": [
      "The R-squared for In-Sample Lasso is: 0.844237185406\n",
      "The R-squared for Out-Of-Sample Lasso is: 0.671937901107\n"
     ]
    }
   ],
   "source": [
    "lasso = 40\n",
    "Lasso=linear_model.Lasso(fit_intercept=True, alpha= lasso) \n",
    "\n",
    "Lasso.fit(X_train,y_train)\n",
    "\n",
    "p_IS=Lasso.predict(X_train)\n",
    "err_IS=p_IS-y_train\n",
    "R_2_IS_Lasso=1-np.var(err_IS)/np.var(y_train)\n",
    "print(\"The R-squared for In-Sample Lasso is: {0}\".format(R_2_IS_Ridge))\n",
    "\n",
    "Lasso_coef=Lasso.coef_\n",
    "\n",
    "p_OS=Lasso.predict(X_test)\n",
    "err_OS=p_OS-y_test\n",
    "R_2_OS_Lasso=1-np.var(err_OS)/np.var(y_test)\n",
    "print(\"The R-squared for Out-Of-Sample Lasso is: {0}\".format(R_2_OS_Lasso))"
   ]
  },
  {
   "cell_type": "markdown",
   "metadata": {},
   "source": [
    "- Lasso also solves the overfitting problem to a greater extent and hence the performance over test set is pretty good. However we can improve the performance by caculating the best value of lambda in order to increase the performance over test set."
   ]
  },
  {
   "cell_type": "markdown",
   "metadata": {},
   "source": [
    "#### ----------------------------------------------------------------------------------------------------------------------------------------------------------------------"
   ]
  },
  {
   "cell_type": "markdown",
   "metadata": {},
   "source": [
    "# Task 7 (25% credit). \n",
    "For each $m=1,2,...39$ train OLS, Lasso and Ridge regressions using the training sample above with $\\lambda_{Ridge}=40000$ and $\\lambda_{Lasso}=40$ using the first $m$ columns of the data tables as the regressors and plot the in-sample (training) and out-of-sample (test) R2 for all three models on the same graph."
   ]
  },
  {
   "cell_type": "markdown",
   "metadata": {},
   "source": [
    "#### Code from lab session notebook"
   ]
  },
  {
   "cell_type": "code",
   "execution_count": 37,
   "metadata": {
    "collapsed": false
   },
   "outputs": [
    {
     "data": {
      "image/png": "[encoded data removed]",
      "text/plain": [
       "<matplotlib.figure.Figure at 0x1205d1cd0>"
      ]
     },
     "metadata": {},
     "output_type": "display_data"
    }
   ],
   "source": [
    "OLS_R_2_OS_F=[]\n",
    "OLS_R_2_IS_F=[]\n",
    "OLS_R_2_Ridge_OS_F=[]\n",
    "OLS_R_2_Ridge_IS_F=[]\n",
    "OLS_R_2_Lasso_OS_F=[]\n",
    "OLS_R_2_Lasso_IS_F=[]\n",
    "\n",
    "Number_variables = np.arange(1,39,1)\n",
    "Ridge=linear_model.Ridge(fit_intercept=True,alpha = ridge)\n",
    "Lasso=linear_model.Lasso(fit_intercept=True, alpha = lasso)\n",
    "\n",
    "for j in Number_variables:\n",
    "    # OLS\n",
    "    lm = smf.OLS(y_train, smf.add_constant(X_train[:,:j+1])).fit()\n",
    "    error = lm.predict(smf.add_constant(X_test[:, :j+1])) - y_test\n",
    "    R_2_OS_OLS=1-error.var()/y_test.var()\n",
    "    R_2_IS_OLS = lm.rsquared\n",
    "    OLS_R_2_IS_F.append(R_2_IS_OLS)\n",
    "    OLS_R_2_OS_F.append(max(R_2_OS_OLS,0))\n",
    "    \n",
    "    # Ridge\n",
    "    Ridge.fit(X_train[:,:j+1],y_train)\n",
    "    # In sample:\n",
    "    err_IS=Ridge.predict(X_train[:,:j+1]) - y_train\n",
    "    R_2_IS_Ridge=1-np.var(err_IS)/np.var(y_train)\n",
    "    OLS_R_2_Ridge_IS_F.append(R_2_IS_Ridge)\n",
    "    #Out of sample\n",
    "    err_OS=Ridge.predict(X_test[:,:j+1]) - y_test\n",
    "    R_2_OS_Ridge=1-np.var(err_OS)/np.var(y_test)\n",
    "    OLS_R_2_Ridge_OS_F.append(max(R_2_OS_Ridge,0))\n",
    "\n",
    "    # Lasso\n",
    "    Lasso.fit(X_train[:,0:j+1],y_train)\n",
    "    #In sample:\n",
    "    p_IS=Lasso.predict(X_train[:,0:j+1])\n",
    "    err_IS=p_IS-y_train\n",
    "    R_2_IS_Lasso=1-np.var(err_IS)/np.var(y_train)\n",
    "    OLS_R_2_Lasso_IS_F.append(R_2_IS_Lasso)\n",
    "    #Out of sample\n",
    "    p_OS=Lasso.predict(X_test[:,0:j+1])\n",
    "    err_OS=p_OS-y_test\n",
    "    R_2_OS_Lasso=1-np.var(err_OS)/np.var(y_test)\n",
    "    OLS_R_2_Lasso_OS_F.append(max(R_2_OS_Lasso,0))\n",
    "\n",
    "fig = figure(figsize=(15,8))\n",
    "plt.title('OS performance of OLS when we subsequently add Variables', fontsize=15, fontweight = 'bold')\n",
    "\n",
    "plt.plot(Number_variables,OLS_R_2_IS_F,'g',label='OLS_IS')\n",
    "plt.plot(Number_variables,OLS_R_2_Lasso_IS_F,'y',label='Lasso_IS')\n",
    "plt.plot(Number_variables,OLS_R_2_Ridge_IS_F,'k',label='Ridge_IS')\n",
    "\n",
    "plt.plot(Number_variables,OLS_R_2_OS_F,'b',label='OLS_OS')\n",
    "plt.plot(Number_variables,OLS_R_2_Lasso_OS_F,'c',label='Lasso_OS')\n",
    "plt.plot(Number_variables,OLS_R_2_Ridge_OS_F,'r',label='Ridge_OS')\n",
    "\n",
    "plt.legend(loc=4, fontsize=14)\n",
    "plt.xlabel('Number of features included in the regression', fontsize=13, fontweight = 'bold')\n",
    "plt.ylabel('R-squared', fontsize=13, fontweight = 'bold')\n",
    "plt.show()"
   ]
  },
  {
   "cell_type": "markdown",
   "metadata": {},
   "source": [
    "- The figure shows that Out-of-sample R-square for Ridge and Lasso are close to each other ranging between 0.6 to 0.7 \n",
    "- Which is high suggesting an improvement for and solving the overfitting problem seen in OLS regression which is around 1.0"
   ]
  },
  {
   "cell_type": "markdown",
   "metadata": {},
   "source": [
    "#### ----------------------------------------------------------------------------------------------------------------------------------------------------------------------"
   ]
  },
  {
   "cell_type": "markdown",
   "metadata": {},
   "source": [
    "# Extracredit (25%)\n",
    "Using a series of 10 random splits (cross-validation) of the training sample into approximately 60% training and 40% validation samples perform the selection of the optimal $\\lambda$ for Ridge and Lasso regression: for each $\\lambda$ of the considered sequence compute an average validation R2 for the 10 splits considered and finally select the $\\lambda$ having the highest value for this average R2. Visualize the dependence of the said average cross-validation R2 over $\\lambda$ for Lasso and Ridge. Report the R2 computed over the test set for the Lasso and Ridge trained over the entire training set with the selected optimal values of $\\lambda$."
   ]
  },
  {
   "cell_type": "markdown",
   "metadata": {},
   "source": [
    "#### Code taken from the Lab Session - Modified \n",
    "#### Help taken to complete the extra-credit, to understand and work, also to learn how the idea works"
   ]
  },
  {
   "cell_type": "code",
   "execution_count": 83,
   "metadata": {
    "collapsed": false
   },
   "outputs": [],
   "source": [
    "def Regularization_fit_lambda(model,X_train,y_train,lambdas,p=0.4,Graph=False, logl=False, crossV = 10):\n",
    "    if model==1:\n",
    "        RM = lambda a: linear_model.Ridge(fit_intercept=False, alpha=a)\n",
    "        model_label='Ridge'\n",
    "    else:\n",
    "        RM = lambda a: linear_model.Lasso(fit_intercept=False, alpha=a)\n",
    "        model_label='Lasso'\n",
    "\n",
    "    best_avgR2 = -1\n",
    "    best_lambda = lambdas[0]\n",
    "    \n",
    "    R2=[]\n",
    "\n",
    "    for i in lambdas:\n",
    "        for c in range(crossV):\n",
    "            R_2_OS = []\n",
    "            X_train0, X_valid, y_train0, y_valid = train_test_split(X_train,\n",
    "                                    y_train, test_size = p, random_state = 100+c)\n",
    "            \n",
    "            lm = RM(i)\n",
    "            lm.fit(X_train0,y_train0)  \n",
    "            y_predict=lm.predict(X_valid) \n",
    "            err_OS=y_predict-y_valid\n",
    "            R_2_OS_=1-np.var(err_OS)/np.var(y_valid)\n",
    "            R_2_OS.append(R_2_OS_)\n",
    "            \n",
    "        avgR2 = np.array(R_2_OS).mean()\n",
    "        R2.append(avgR2)\n",
    "        if avgR2 > best_avgR2:\n",
    "            best_avgR2 = avgR2\n",
    "            best_lambda = i\n",
    "\n",
    "    if Graph==True:\n",
    "        fig = figure(figsize=(15,8))\n",
    "        plt.title('Average R-squared vs Lambda', fontsize=20)\n",
    "        if logl:\n",
    "            plt.xlabel('ln(Lambda)', fontsize=16)\n",
    "            l=log(lambdas)\n",
    "            bl=log(best_lambda)\n",
    "        else:\n",
    "            plt.xlabel('Lambda', fontsize=16)\n",
    "            l=lambdas\n",
    "            bl=best_lambda\n",
    "        plt.plot(l, R2, 'black', label=model_label)\n",
    "        plt.legend(loc=4, fontsize=16)\n",
    "        plt.ylabel('Average R-squared', fontsize=16)\n",
    "        plt.axvline(bl,color='r',linestyle='--')\n",
    "\n",
    "        plt.show()\n",
    "\n",
    "    return (best_lambda, best_avgR2) "
   ]
  },
  {
   "cell_type": "markdown",
   "metadata": {},
   "source": [
    "#### Lambda for Ridge"
   ]
  },
  {
   "cell_type": "code",
   "execution_count": 53,
   "metadata": {
    "collapsed": false
   },
   "outputs": [
    {
     "data": {
      "image/png": "[encoded data removed]",
      "text/plain": [
       "<matplotlib.figure.Figure at 0x1208c6950>"
      ]
     },
     "metadata": {},
     "output_type": "display_data"
    },
    {
     "name": "stdout",
     "output_type": "stream",
     "text": [
      "Optimal lambda for Ridge is  2511.55488049\n",
      "Optimal R^2 for Ridge is  0.837370117205\n"
     ]
    }
   ],
   "source": [
    "lambdas = np.exp(np.linspace(-5,10.5,500))\n",
    "lambda_r_opt, avgR2_r_opt = Regularization_fit_lambda(1, X_train, y_train, lambdas, p=0.4, Graph=True, logl=False, crossV=10)\n",
    "\n",
    "print('Optimal lambda for Ridge is ', lambda_r_opt)\n",
    "print('Optimal R^2 for Ridge is ', avgR2_r_opt)"
   ]
  },
  {
   "cell_type": "markdown",
   "metadata": {},
   "source": [
    "#### Lambda for Lasso"
   ]
  },
  {
   "cell_type": "code",
   "execution_count": 56,
   "metadata": {
    "collapsed": false
   },
   "outputs": [
    {
     "data": {
      "image/png": "[encoded data removed]",
      "text/plain": [
       "<matplotlib.figure.Figure at 0x120589610>"
      ]
     },
     "metadata": {},
     "output_type": "display_data"
    },
    {
     "name": "stdout",
     "output_type": "stream",
     "text": [
      "Optimal lambda for Lasso is  9.49249040195\n",
      "Optimal R^2 for Lasso is  0.834075995303\n"
     ]
    }
   ],
   "source": [
    "lambdas = np.exp(np.linspace(-3,7,500))\n",
    "lambda_l_opt, avgR2_l_opt = Regularization_fit_lambda(2, X_train, y_train, lambdas, p=0.4, Graph=True, logl=True, crossV=10)\n",
    "\n",
    "print('Optimal lambda for Lasso is ', lambda_l_opt)\n",
    "print('Optimal R^2 for Lasso is ', avgR2_l_opt)"
   ]
  },
  {
   "cell_type": "markdown",
   "metadata": {},
   "source": [
    "#### Ridge Regression"
   ]
  },
  {
   "cell_type": "code",
   "execution_count": 64,
   "metadata": {
    "collapsed": false
   },
   "outputs": [
    {
     "name": "stdout",
     "output_type": "stream",
     "text": [
      "The R-squared - In-Sample Ridge - Optimal Lambda is: 0.919827646667\n",
      "The R-squared - Out-Of-Sample Ridge - Optimal Lambda is: 0.46359664935\n"
     ]
    }
   ],
   "source": [
    "lambda_ridge = lambda_r_opt\n",
    "Ridge = linear_model.Ridge(fit_intercept=False, alpha=lambda_ridge) \n",
    "\n",
    "Ridge.fit(X_train,y_train)\n",
    "\n",
    "p_IS=Ridge.predict(X_train)\n",
    "err_IS=p_IS-y_train\n",
    "R_2_IS_Ridge=1-np.var(err_IS)/np.var(y_train)\n",
    "print(\"The R-squared - In-Sample Ridge - Optimal Lambda is: {0}\".format(R_2_IS_Ridge))\n",
    "\n",
    "Ridge_coef=Ridge.coef_\n",
    "\n",
    "p_OS=Ridge.predict(X_test)\n",
    "err_OS=p_OS-y_test\n",
    "R_2_OS_Ridge=1-np.var(err_OS)/np.var(y_test)\n",
    "print(\"The R-squared - Out-Of-Sample Ridge - Optimal Lambda is: {0}\".format(R_2_OS_Ridge))"
   ]
  },
  {
   "cell_type": "markdown",
   "metadata": {},
   "source": [
    "#### Lasso Regression"
   ]
  },
  {
   "cell_type": "code",
   "execution_count": 81,
   "metadata": {
    "collapsed": false
   },
   "outputs": [
    {
     "name": "stdout",
     "output_type": "stream",
     "text": [
      "The R-squared - In-Sample Lasso - Optimal Lambda is: 0.919827646667\n",
      "The R-squared - Out-of-Sample Lasso - Optimal Lambda is: 0.524470193571\n"
     ]
    }
   ],
   "source": [
    "lambda_lasso = lambda_l_opt\n",
    "Lasso=linear_model.Lasso(fit_intercept=False, alpha= lambda_lasso)\n",
    "\n",
    "Lasso.fit(X_train,y_train)\n",
    "\n",
    "p_IS=Lasso.predict(X_train)\n",
    "err_IS=p_IS-y_train\n",
    "R_2_IS_Lasso=1-np.var(err_IS)/np.var(y_train)\n",
    "print(\"The R-squared - In-Sample Lasso - Optimal Lambda is: {0}\".format(R_2_IS_Ridge))\n",
    "\n",
    "Lasso_coef=Lasso.coef_\n",
    "\n",
    "p_OS=Lasso.predict(X_test)\n",
    "err_OS=p_OS-y_test\n",
    "R_2_OS_Lasso=1-np.var(err_OS)/np.var(y_test)\n",
    "print(\"The R-squared - Out-of-Sample Lasso - Optimal Lambda is: {0}\".format(R_2_OS_Lasso))"
   ]
  },
  {
   "cell_type": "markdown",
   "metadata": {},
   "source": [
    "#### ----------------------------------------------------------------------------------------------------------------------------------------------------------------------"
   ]
  },
  {
   "cell_type": "markdown",
   "metadata": {
    "collapsed": true
   },
   "source": [
    "# Best of Luck!!"
   ]
  }
 ],
 "metadata": {
  "anaconda-cloud": {},
  "kernelspec": {
   "display_name": "Python [Root]",
   "language": "python",
   "name": "Python [Root]"
  },
  "language_info": {
   "codemirror_mode": {
    "name": "ipython",
    "version": 2
   },
   "file_extension": ".py",
   "mimetype": "text/x-python",
   "name": "python",
   "nbconvert_exporter": "python",
   "pygments_lexer": "ipython2",
   "version": "2.7.12"
  }
 },
 "nbformat": 4,
 "nbformat_minor": 0
}
