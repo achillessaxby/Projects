{
 "cells": [
  {
   "cell_type": "code",
   "execution_count": null,
   "metadata": {
    "collapsed": false
   },
   "outputs": [],
   "source": [
    "data3 = pd.read_csv(\"https://serv.cusp.nyu.edu/~lw1474/ADS_Data/Session02/Housing_Pluto_Session2.csv\")\n",
    "data3.replace(0, np.nan, inplace=True)\n",
    "data3.dropna(inplace=True)\n",
    "print \"Number of ZipCodes: \",len(data3.ZipCode.unique())\n",
    "req = data3.ZipCode.value_counts()\n",
    "print \"Number of Observations for each ZipCode: \\n\", req"
   ]
  },
  {
   "cell_type": "code",
   "execution_count": null,
   "metadata": {
    "collapsed": false
   },
   "outputs": [],
   "source": [
    "zips = req[req.values > 1000].index.values\n",
    "avg = {}\n",
    "values = []\n",
    "print \"Average Assessed Total value of houses:\\nZip\\tAverage\"\n",
    "for i in zips:\n",
    "    avg[i] = data3[data3['ZipCode'] == i].AssessTot.mean()\n",
    "    values.append(data3[data3['ZipCode'] == i].AssessTot.mean())\n",
    "    print i , data3[data3['ZipCode'] == i].AssessTot.mean()"
   ]
  },
  {
   "cell_type": "code",
   "execution_count": null,
   "metadata": {
    "collapsed": false
   },
   "outputs": [],
   "source": [
    "data3.loc[:,\"log_AssessTot\"] = np.log(data3.AssessTot)\n",
    "data3.loc[:,\"log_LotArea\"] = np.log(data3.LotArea)\n",
    "\n",
    "slopes = {}\n",
    "print \"Slope coefficient (scaling exponent)\\nZip\\tScaling Experiment\"\n",
    "for i in zips:\n",
    "    lm3 = smf.ols(formula = 'log_AssessTot ~ log_LotArea', data = data3[data3['ZipCode'] == i]).fit()\n",
    "    slopes[i] = lm3.params.log_LotArea\n",
    "    print i , lm3.params.log_LotArea"
   ]
  },
  {
   "cell_type": "code",
   "execution_count": null,
   "metadata": {
    "collapsed": false
   },
   "outputs": [],
   "source": [
    "plt.figure(figsize=(10,6))\n",
    "plt.plot(avg.keys(),avg.values(),'.',label = 'Avg. Assessed Values')\n",
    "plt.xticks(zips, zips, rotation = 'vertical')\n",
    "plt.xlabel('ZipCodes')\n",
    "plt.ylabel('Avg. Assessed Values')\n",
    "plt.legend()\n",
    "plt.title('Average Assessed total value of houses in Zipcodes', fontsize = 14)\n",
    "plt.show()"
   ]
  },
  {
   "cell_type": "code",
   "execution_count": null,
   "metadata": {
    "collapsed": false
   },
   "outputs": [],
   "source": [
    "plt.figure(figsize = (10,6))\n",
    "plt.plot(slopes.keys(),slopes.values(),'.',label = 'Scaling Exponent')\n",
    "plt.xticks(zips, zips, rotation = 'vertical')\n",
    "plt.xlabel('ZipCodes')\n",
    "plt.ylabel('Scaling Exponent')\n",
    "plt.legend()\n",
    "plt.title('Scaling Exponent for ZipCodes', fontsize = 14)\n",
    "plt.show()"
   ]
  },
  {
   "cell_type": "code",
   "execution_count": null,
   "metadata": {
    "collapsed": false
   },
   "outputs": [],
   "source": [
    "print \"Top 5 zip code with highest scaling exponents:\"\n",
    "s = sorted(slopes.items(), key = lambda x:x[1], reverse = True)\n",
    "for i in range(5):\n",
    "    print s[i][0]"
   ]
  }
 ],
 "metadata": {
  "anaconda-cloud": {},
  "kernelspec": {
   "display_name": "Python [Root]",
   "language": "python",
   "name": "Python [Root]"
  },
  "language_info": {
   "codemirror_mode": {
    "name": "ipython",
    "version": 2
   },
   "file_extension": ".py",
   "mimetype": "text/x-python",
   "name": "python",
   "nbconvert_exporter": "python",
   "pygments_lexer": "ipython2",
   "version": "2.7.12"
  }
 },
 "nbformat": 4,
 "nbformat_minor": 0
}
