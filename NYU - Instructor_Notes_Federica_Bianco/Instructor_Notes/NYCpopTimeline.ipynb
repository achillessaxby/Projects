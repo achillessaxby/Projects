{
 "cells": [
  {
   "cell_type": "code",
   "execution_count": 38,
   "metadata": {
    "collapsed": false
   },
   "outputs": [
    {
     "name": "stdout",
     "output_type": "stream",
     "text": [
      "Populating the interactive namespace from numpy and matplotlib\n"
     ]
    }
   ],
   "source": [
    "from __future__ import print_function\n",
    "__author__ = 'fbb, CUSP 2016'\n",
    "import pandas as pd\n",
    "import pylab as pl\n",
    "import seaborn\n",
    "%pylab inline\n",
    "\n",
    "pl.rc('font',**{'family':'sans-serif','sans-serif':['Helvetica'], 'size':28})\n",
    "pl.rc('text', usetex=True)\n",
    "pl.rc('xtick', **{'labelsize':18})\n",
    "pl.rc('ytick', **{'labelsize':18})\n",
    "pl.rc('legend', **{'fontsize':18})\n",
    "pl.rc('axes', **{'labelsize':18})"
   ]
  },
  {
   "cell_type": "code",
   "execution_count": 39,
   "metadata": {
    "collapsed": false
   },
   "outputs": [
    {
     "data": {
      "text/plain": [
       "'Plots the population of NYC as a function of time\\n    Reads data saved from https://en.wikipedia.org/wiki/Demographics_of_New_York_City\\nOutput: \\n    NYCpopTimeline.png\\n'"
      ]
     },
     "execution_count": 39,
     "metadata": {},
     "output_type": "execute_result"
    }
   ],
   "source": [
    "'''Plots the population of NYC as a function of time\n",
    "    Reads data saved from https://en.wikipedia.org/wiki/Demographics_of_New_York_City\n",
    "Output: \n",
    "    NYCpopTimeline.png\n",
    "'''"
   ]
  },
  {
   "cell_type": "code",
   "execution_count": 28,
   "metadata": {
    "collapsed": false
   },
   "outputs": [],
   "source": [
    "nycPop = pd.read_csv('data/NYC_population_historical.csv', index_col=False)"
   ]
  },
  {
   "cell_type": "code",
   "execution_count": 29,
   "metadata": {
    "collapsed": false
   },
   "outputs": [
    {
     "data": {
      "text/html": [
       "<div>\n",
       "<table border=\"1\" class=\"dataframe\">\n",
       "  <thead>\n",
       "    <tr style=\"text-align: right;\">\n",
       "      <th></th>\n",
       "      <th>year</th>\n",
       "      <th>population</th>\n",
       "      <th>growth(percentace)</th>\n",
       "    </tr>\n",
       "  </thead>\n",
       "  <tbody>\n",
       "    <tr>\n",
       "      <th>0</th>\n",
       "      <td>1698</td>\n",
       "      <td>4937</td>\n",
       "      <td>—</td>\n",
       "    </tr>\n",
       "    <tr>\n",
       "      <th>1</th>\n",
       "      <td>1712</td>\n",
       "      <td>5840</td>\n",
       "      <td>+18.3</td>\n",
       "    </tr>\n",
       "    <tr>\n",
       "      <th>2</th>\n",
       "      <td>1723</td>\n",
       "      <td>7248</td>\n",
       "      <td>+24.1</td>\n",
       "    </tr>\n",
       "    <tr>\n",
       "      <th>3</th>\n",
       "      <td>1737</td>\n",
       "      <td>10664</td>\n",
       "      <td>+47.1</td>\n",
       "    </tr>\n",
       "    <tr>\n",
       "      <th>4</th>\n",
       "      <td>1746</td>\n",
       "      <td>11717</td>\n",
       "      <td>+9.9</td>\n",
       "    </tr>\n",
       "    <tr>\n",
       "      <th>5</th>\n",
       "      <td>1756</td>\n",
       "      <td>13046</td>\n",
       "      <td>+11.3</td>\n",
       "    </tr>\n",
       "    <tr>\n",
       "      <th>6</th>\n",
       "      <td>1771</td>\n",
       "      <td>21863</td>\n",
       "      <td>+67.6</td>\n",
       "    </tr>\n",
       "    <tr>\n",
       "      <th>7</th>\n",
       "      <td>1790</td>\n",
       "      <td>33131</td>\n",
       "      <td>+51.5</td>\n",
       "    </tr>\n",
       "    <tr>\n",
       "      <th>8</th>\n",
       "      <td>1800</td>\n",
       "      <td>60515</td>\n",
       "      <td>+82.7</td>\n",
       "    </tr>\n",
       "    <tr>\n",
       "      <th>9</th>\n",
       "      <td>1810</td>\n",
       "      <td>96373</td>\n",
       "      <td>+59.3</td>\n",
       "    </tr>\n",
       "    <tr>\n",
       "      <th>10</th>\n",
       "      <td>1820</td>\n",
       "      <td>123706</td>\n",
       "      <td>+28.4</td>\n",
       "    </tr>\n",
       "    <tr>\n",
       "      <th>11</th>\n",
       "      <td>1830</td>\n",
       "      <td>202589</td>\n",
       "      <td>+63.8</td>\n",
       "    </tr>\n",
       "    <tr>\n",
       "      <th>12</th>\n",
       "      <td>1840</td>\n",
       "      <td>312710</td>\n",
       "      <td>+54.4</td>\n",
       "    </tr>\n",
       "    <tr>\n",
       "      <th>13</th>\n",
       "      <td>1850</td>\n",
       "      <td>515547</td>\n",
       "      <td>+64.9</td>\n",
       "    </tr>\n",
       "    <tr>\n",
       "      <th>14</th>\n",
       "      <td>1860</td>\n",
       "      <td>813669</td>\n",
       "      <td>+57.8</td>\n",
       "    </tr>\n",
       "    <tr>\n",
       "      <th>15</th>\n",
       "      <td>1870</td>\n",
       "      <td>942292</td>\n",
       "      <td>+15.8</td>\n",
       "    </tr>\n",
       "    <tr>\n",
       "      <th>16</th>\n",
       "      <td>1880</td>\n",
       "      <td>1206299</td>\n",
       "      <td>+28.0</td>\n",
       "    </tr>\n",
       "    <tr>\n",
       "      <th>17</th>\n",
       "      <td>1890</td>\n",
       "      <td>1515301</td>\n",
       "      <td>+25.6</td>\n",
       "    </tr>\n",
       "    <tr>\n",
       "      <th>18</th>\n",
       "      <td>1900</td>\n",
       "      <td>3437202</td>\n",
       "      <td>+126.8</td>\n",
       "    </tr>\n",
       "    <tr>\n",
       "      <th>19</th>\n",
       "      <td>1910</td>\n",
       "      <td>4766883</td>\n",
       "      <td>+38.7</td>\n",
       "    </tr>\n",
       "    <tr>\n",
       "      <th>20</th>\n",
       "      <td>1920</td>\n",
       "      <td>5620048</td>\n",
       "      <td>+17.9</td>\n",
       "    </tr>\n",
       "    <tr>\n",
       "      <th>21</th>\n",
       "      <td>1930</td>\n",
       "      <td>6930446</td>\n",
       "      <td>+23.3</td>\n",
       "    </tr>\n",
       "    <tr>\n",
       "      <th>22</th>\n",
       "      <td>1940</td>\n",
       "      <td>7454995</td>\n",
       "      <td>+7.6</td>\n",
       "    </tr>\n",
       "    <tr>\n",
       "      <th>23</th>\n",
       "      <td>1950</td>\n",
       "      <td>7891957</td>\n",
       "      <td>+5.9</td>\n",
       "    </tr>\n",
       "    <tr>\n",
       "      <th>24</th>\n",
       "      <td>1960</td>\n",
       "      <td>7781984</td>\n",
       "      <td>−1.4</td>\n",
       "    </tr>\n",
       "    <tr>\n",
       "      <th>25</th>\n",
       "      <td>1970</td>\n",
       "      <td>7894862</td>\n",
       "      <td>+1.5</td>\n",
       "    </tr>\n",
       "    <tr>\n",
       "      <th>26</th>\n",
       "      <td>1980</td>\n",
       "      <td>7071639</td>\n",
       "      <td>−10.4</td>\n",
       "    </tr>\n",
       "    <tr>\n",
       "      <th>27</th>\n",
       "      <td>1990</td>\n",
       "      <td>7322564</td>\n",
       "      <td>+3.5</td>\n",
       "    </tr>\n",
       "    <tr>\n",
       "      <th>28</th>\n",
       "      <td>2000</td>\n",
       "      <td>8008288</td>\n",
       "      <td>+9.4</td>\n",
       "    </tr>\n",
       "    <tr>\n",
       "      <th>29</th>\n",
       "      <td>2010</td>\n",
       "      <td>8175133</td>\n",
       "      <td>+2.1</td>\n",
       "    </tr>\n",
       "    <tr>\n",
       "      <th>30</th>\n",
       "      <td>2014</td>\n",
       "      <td>8491079</td>\n",
       "      <td>+3.9</td>\n",
       "    </tr>\n",
       "  </tbody>\n",
       "</table>\n",
       "</div>"
      ],
      "text/plain": [
       "    year  population growth(percentace)\n",
       "0   1698        4937                  —\n",
       "1   1712        5840              +18.3\n",
       "2   1723        7248              +24.1\n",
       "3   1737       10664              +47.1\n",
       "4   1746       11717               +9.9\n",
       "5   1756       13046              +11.3\n",
       "6   1771       21863              +67.6\n",
       "7   1790       33131              +51.5\n",
       "8   1800       60515              +82.7\n",
       "9   1810       96373              +59.3\n",
       "10  1820      123706              +28.4\n",
       "11  1830      202589              +63.8\n",
       "12  1840      312710              +54.4\n",
       "13  1850      515547              +64.9\n",
       "14  1860      813669              +57.8\n",
       "15  1870      942292              +15.8\n",
       "16  1880     1206299              +28.0\n",
       "17  1890     1515301              +25.6\n",
       "18  1900     3437202             +126.8\n",
       "19  1910     4766883              +38.7\n",
       "20  1920     5620048              +17.9\n",
       "21  1930     6930446              +23.3\n",
       "22  1940     7454995               +7.6\n",
       "23  1950     7891957               +5.9\n",
       "24  1960     7781984               −1.4\n",
       "25  1970     7894862               +1.5\n",
       "26  1980     7071639              −10.4\n",
       "27  1990     7322564               +3.5\n",
       "28  2000     8008288               +9.4\n",
       "29  2010     8175133               +2.1\n",
       "30  2014     8491079               +3.9"
      ]
     },
     "execution_count": 29,
     "metadata": {},
     "output_type": "execute_result"
    }
   ],
   "source": [
    "nycPop"
   ]
  },
  {
   "cell_type": "code",
   "execution_count": 34,
   "metadata": {
    "collapsed": false
   },
   "outputs": [
    {
     "data": {
      "image/png": "[encoded data removed]",
      "text/plain": [
       "<matplotlib.figure.Figure at 0x11a66c828>"
      ]
     },
     "metadata": {},
     "output_type": "display_data"
    }
   ],
   "source": [
    "ax = nycPop.plot(x='year', y='population', \n",
    "                 figsize=(10,6))\n",
    "ax.set_ylabel(\"Number of NYC citizens\")\n",
    "pl.savefig(\"NYCpopTimeline.png\")"
   ]
  },
  {
   "cell_type": "code",
   "execution_count": null,
   "metadata": {
    "collapsed": true
   },
   "outputs": [],
   "source": []
  },
  {
   "cell_type": "code",
   "execution_count": null,
   "metadata": {
    "collapsed": true
   },
   "outputs": [],
   "source": []
  }
 ],
 "metadata": {
  "kernelspec": {
   "display_name": "Python 3",
   "language": "python",
   "name": "python3"
  },
  "language_info": {
   "codemirror_mode": {
    "name": "ipython",
    "version": 3
   },
   "file_extension": ".py",
   "mimetype": "text/x-python",
   "name": "python",
   "nbconvert_exporter": "python",
   "pygments_lexer": "ipython3",
   "version": "3.5.1"
  }
 },
 "nbformat": 4,
 "nbformat_minor": 0
}
