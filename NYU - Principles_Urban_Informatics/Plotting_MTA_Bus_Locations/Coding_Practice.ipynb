{
 "cells": [
  {
   "cell_type": "code",
   "execution_count": 1,
   "metadata": {
    "collapsed": false
   },
   "outputs": [],
   "source": [
    "# Importing things to start off the access into the MTA directory\n",
    "# Key Belongs to Achilles Edwin Alfred Saxby in this code\n",
    "# Code taken from the instructors laboratory assignment\n",
    "\n",
    "from __future__ import print_function\n",
    "import sys\n",
    "import csv\n",
    "import pylab as pl\n",
    "import json\n",
    "import urllib as ulr\n",
    "import os\n",
    "# %pylab inline\n",
    "\n",
    "url = \"http://bustime.mta.info/api/siri/vehicle-monitoring.json?key=d8d68556-185c-4f43-baae-769b0cc954c6&\\\n",
    "VehicleMonitoringDetailLevel=calls&LineRef=B44\" \n",
    "\n",
    "response = ulr.urlopen(url)\n",
    "data = response.read().decode(\"utf-8\")\n",
    "data = json.loads(data)"
   ]
  },
  {
   "cell_type": "code",
   "execution_count": 2,
   "metadata": {
    "collapsed": false
   },
   "outputs": [
    {
     "data": {
      "text/plain": [
       "{u'Latitude': 40.64668, u'Longitude': -73.949132}"
      ]
     },
     "execution_count": 2,
     "metadata": {},
     "output_type": "execute_result"
    }
   ],
   "source": [
    "data['Siri']['ServiceDelivery']['VehicleMonitoringDelivery'][0]['VehicleActivity'][1]\\\n",
    "['MonitoredVehicleJourney']['VehicleLocation']"
   ]
  },
  {
   "cell_type": "code",
   "execution_count": 3,
   "metadata": {
    "collapsed": false
   },
   "outputs": [
    {
     "data": {
      "text/plain": [
       "u'NOSTRAND AV/AV L'"
      ]
     },
     "execution_count": 3,
     "metadata": {},
     "output_type": "execute_result"
    }
   ],
   "source": [
    "data['Siri']['ServiceDelivery']['VehicleMonitoringDelivery'][0]['VehicleActivity'][0]\\\n",
    "['MonitoredVehicleJourney']['OnwardCalls']['OnwardCall'][0]['StopPointName']"
   ]
  },
  {
   "cell_type": "code",
   "execution_count": 4,
   "metadata": {
    "collapsed": false
   },
   "outputs": [
    {
     "data": {
      "text/plain": [
       "u'at stop'"
      ]
     },
     "execution_count": 4,
     "metadata": {},
     "output_type": "execute_result"
    }
   ],
   "source": [
    "data['Siri']['ServiceDelivery']['VehicleMonitoringDelivery'][0]['VehicleActivity'][0]\\\n",
    "['MonitoredVehicleJourney']['OnwardCalls']['OnwardCall'][0]['Extensions']['Distances']['PresentableDistance']"
   ]
  },
  {
   "cell_type": "code",
   "execution_count": 5,
   "metadata": {
    "collapsed": false
   },
   "outputs": [
    {
     "name": "stdout",
     "output_type": "stream",
     "text": [
      "Bus Line: -f\n",
      "The number of buses active: 14.000000\n",
      "latitude 40.621870,longitude -73.945943,NOSTRAND AV/AV L,at stop\n",
      "latitude 40.646680,longitude -73.949132,NOSTRAND AV/TILDEN AV,at stop\n",
      "latitude 40.650486,longitude -73.949538,NOSTRAND AV/CHURCH AV,at stop\n",
      "latitude 40.616359,longitude -73.944896,NOSTRAND AV/KINGS HY,at stop\n",
      "latitude 40.691646,longitude -73.951820,NOSTRAND AV/DE KALB AV,at stop\n",
      "latitude 40.680231,longitude -73.946750,FULTON ST/NEW YORK AV,approaching\n",
      "latitude 40.619491,longitude -73.945497,NOSTRAND AV/AV M,approaching\n",
      "latitude 40.585598,longitude -73.931841,KNAPP ST/SHORE PKY,approaching\n",
      "latitude 40.677869,longitude -73.946966,NEW YORK AV/ATLANTIC AV,approaching\n",
      "latitude 40.661012,longitude -73.947753,NEW YORK AV/EAST NEW YORK AV,approaching\n",
      "latitude 40.651452,longitude -73.946730,NEW YORK AV/LINDEN BL,< 1 stop away\n",
      "latitude 40.679014,longitude -73.949643,NOSTRAND AV/PACIFIC ST,< 1 stop away\n",
      "latitude 40.628177,longitude -73.947139,NOSTRAND AV/AV J,< 1 stop away\n",
      "latitude 40.669164,longitude -73.950567,NOSTRAND AV/CARROLL ST,< 1 stop away\n"
     ]
    }
   ],
   "source": [
    "i = 0\n",
    "\n",
    "totalData = data['Siri']['ServiceDelivery']['VehicleMonitoringDelivery'][0]['VehicleActivity']\n",
    "\n",
    "print (\"Bus Line: %s\" %sys.argv[1]) #This will work if the code is run from the terminal\n",
    "print (\"The number of buses active: %f\" %(len(totalData)))\n",
    "\n",
    "for total in totalData:\n",
    "    longitude = totalData[i]['MonitoredVehicleJourney']['VehicleLocation']['Longitude']\n",
    "    latitude = totalData[i]['MonitoredVehicleJourney']['VehicleLocation']['Latitude']\n",
    "    \n",
    "    if (totalData[i]['MonitoredVehicleJourney']['OnwardCalls'] == {}):\n",
    "        print (\"latitude %f,longitude %f,N/A,N/A\" %(latitude,longitude))\n",
    "    \n",
    "    else:\n",
    "        Stop_Name = totalData[i]['MonitoredVehicleJourney']['OnwardCalls']['OnwardCall'][0]['StopPointName']\n",
    "        Stop_Status = totalData[i]['MonitoredVehicleJourney']['OnwardCalls']['OnwardCall'][0]['Extensions']['Distances']['PresentableDistance']\n",
    "    \n",
    "    print (\"latitude %f,longitude %f,%s,%s\" %(latitude,longitude,Stop_Name,Stop_Status))\n",
    "    i += 1"
   ]
  },
  {
   "cell_type": "code",
   "execution_count": 6,
   "metadata": {
    "collapsed": false
   },
   "outputs": [
    {
     "ename": "IndexError",
     "evalue": "list index out of range",
     "output_type": "error",
     "traceback": [
      "\u001b[0;31m\u001b[0m",
      "\u001b[0;31mIndexError\u001b[0mTraceback (most recent call last)",
      "\u001b[0;32m<ipython-input-6-e79c54e890de>\u001b[0m in \u001b[0;36m<module>\u001b[0;34m()\u001b[0m\n\u001b[0;32m----> 1\u001b[0;31m \u001b[0;32mwith\u001b[0m \u001b[0mopen\u001b[0m\u001b[0;34m(\u001b[0m\u001b[0msys\u001b[0m\u001b[0;34m.\u001b[0m\u001b[0margv\u001b[0m\u001b[0;34m[\u001b[0m\u001b[0;36m3\u001b[0m\u001b[0;34m]\u001b[0m\u001b[0;34m.\u001b[0m\u001b[0mcsv\u001b[0m\u001b[0;34m,\u001b[0m \u001b[0;34m'wb'\u001b[0m\u001b[0;34m)\u001b[0m \u001b[0;32mas\u001b[0m \u001b[0mcsvfile\u001b[0m\u001b[0;34m:\u001b[0m\u001b[0;34m\u001b[0m\u001b[0m\n\u001b[0m\u001b[1;32m      2\u001b[0m     \u001b[0mwriter\u001b[0m \u001b[0;34m=\u001b[0m \u001b[0mcsv\u001b[0m\u001b[0;34m.\u001b[0m\u001b[0mwriter\u001b[0m\u001b[0;34m(\u001b[0m\u001b[0mcsvfile\u001b[0m\u001b[0;34m,\u001b[0m \u001b[0mdelimiter\u001b[0m\u001b[0;34m=\u001b[0m\u001b[0;34m','\u001b[0m\u001b[0;34m)\u001b[0m\u001b[0;34m\u001b[0m\u001b[0m\n\u001b[1;32m      3\u001b[0m     \u001b[0mwriter\u001b[0m\u001b[0;34m.\u001b[0m\u001b[0mwriterow\u001b[0m\u001b[0;34m(\u001b[0m\u001b[0;34m[\u001b[0m\u001b[0;34m'Latitude'\u001b[0m\u001b[0;34m,\u001b[0m\u001b[0;34m'Longitude'\u001b[0m\u001b[0;34m,\u001b[0m\u001b[0;34m'Stop Name'\u001b[0m\u001b[0;34m,\u001b[0m\u001b[0;34m'Stop Status'\u001b[0m\u001b[0;34m]\u001b[0m\u001b[0;34m)\u001b[0m\u001b[0;34m\u001b[0m\u001b[0m\n\u001b[1;32m      4\u001b[0m \u001b[0;34m\u001b[0m\u001b[0m\n\u001b[1;32m      5\u001b[0m     \u001b[0mi\u001b[0m \u001b[0;34m=\u001b[0m \u001b[0;36m0\u001b[0m\u001b[0;34m\u001b[0m\u001b[0m\n",
      "\u001b[0;31mIndexError\u001b[0m: list index out of range"
     ]
    }
   ],
   "source": [
    "with open(sys.argv[3].csv, 'wb') as csvfile:\n",
    "    writer = csv.writer(csvfile, delimiter=',')\n",
    "    writer.writerow(['Latitude','Longitude','Stop Name','Stop Status'])\n",
    "    \n",
    "    i = 0\n",
    "    \n",
    "    for total in totalData:\n",
    "        longitude = totalData[i]['MonitoredVehicleJourney']['VehicleLocation']['Longitude']\n",
    "        latitude = totalData[i]['MonitoredVehicleJourney']['VehicleLocation']['Latitude']\n",
    "    \n",
    "        if (totalData[i]['MonitoredVehicleJourney']['OnwardCalls'] == {}):\n",
    "            Stop_Name = 'N/A'\n",
    "            Stop_Status = 'N/A'\n",
    "\n",
    "        else:\n",
    "            Stop_Name = totalData[i]['MonitoredVehicleJourney']['OnwardCalls']['OnwardCall'][0]['StopPointName']\n",
    "            Stop_Status = totalData[i]['MonitoredVehicleJourney']['OnwardCalls']['OnwardCall'][0]['Extensions']['Distances']['PresentableDistance']\n",
    "\n",
    "        writer.writerow([latitude,longitude,Stop_Name,Stop_Status])\n",
    "        i += 1"
   ]
  },
  {
   "cell_type": "code",
   "execution_count": null,
   "metadata": {
    "collapsed": true
   },
   "outputs": [],
   "source": []
  }
 ],
 "metadata": {
  "kernelspec": {
   "display_name": "PUI2016_Python2",
   "language": "python",
   "name": "pui2016_python2"
  },
  "language_info": {
   "codemirror_mode": {
    "name": "ipython",
    "version": 2
   },
   "file_extension": ".py",
   "mimetype": "text/x-python",
   "name": "python",
   "nbconvert_exporter": "python",
   "pygments_lexer": "ipython2",
   "version": "2.7.12"
  }
 },
 "nbformat": 4,
 "nbformat_minor": 0
}
