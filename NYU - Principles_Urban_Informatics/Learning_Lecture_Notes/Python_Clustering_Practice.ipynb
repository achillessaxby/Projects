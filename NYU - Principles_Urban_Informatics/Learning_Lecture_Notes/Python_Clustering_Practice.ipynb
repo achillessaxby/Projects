{
 "cells": [
  {
   "cell_type": "code",
   "execution_count": 1,
   "metadata": {
    "collapsed": false
   },
   "outputs": [
    {
     "name": "stdout",
     "output_type": "stream",
     "text": [
      "Populating the interactive namespace from numpy and matplotlib\n"
     ]
    },
    {
     "name": "stderr",
     "output_type": "stream",
     "text": [
      "WARNING: pylab import has clobbered these variables: ['random']\n",
      "`%matplotlib` prevents importing * from pylab and numpy\n"
     ]
    }
   ],
   "source": [
    "import numpy as np\n",
    "import pylab as pl\n",
    "import random\n",
    "\n",
    "%pylab inline"
   ]
  },
  {
   "cell_type": "code",
   "execution_count": 18,
   "metadata": {
    "collapsed": false
   },
   "outputs": [
    {
     "name": "stdout",
     "output_type": "stream",
     "text": [
      "(100, 2)\n",
      "(100, 2)\n"
     ]
    }
   ],
   "source": [
    "np.random.seed(123)\n",
    "\n",
    "d1 = np.random.randn(100,2)\n",
    "d2 = 2 * np.random.randn(100,2) + 5\n",
    "\n",
    "print d1.shape\n",
    "print d2.shape"
   ]
  },
  {
   "cell_type": "code",
   "execution_count": 9,
   "metadata": {
    "collapsed": false
   },
   "outputs": [
    {
     "data": {
      "text/plain": [
       "[<matplotlib.lines.Line2D at 0x7f10de521a10>]"
      ]
     },
     "execution_count": 9,
     "metadata": {},
     "output_type": "execute_result"
    },
    {
     "data": {
      "image/png": "[encoded data removed]",
      "text/plain": [
       "<matplotlib.figure.Figure at 0x7f10de5c7090>"
      ]
     },
     "metadata": {},
     "output_type": "display_data"
    }
   ],
   "source": [
    "pl.plot(d1[:, 0], d1[:, 1], '.')\n",
    "pl.plot(d2[:, 0], d2[:, 1], '.')"
   ]
  },
  {
   "cell_type": "markdown",
   "metadata": {},
   "source": [
    "#### Clusters and Working with it all !!"
   ]
  },
  {
   "cell_type": "code",
   "execution_count": 14,
   "metadata": {
    "collapsed": true
   },
   "outputs": [],
   "source": [
    "nc = 2"
   ]
  },
  {
   "cell_type": "code",
   "execution_count": 40,
   "metadata": {
    "collapsed": false
   },
   "outputs": [
    {
     "name": "stdout",
     "output_type": "stream",
     "text": [
      "[ 0.18904344 -1.08181912]\n",
      "[ 4.5215311   5.99993824]\n"
     ]
    }
   ],
   "source": [
    "init_c1 = np.random.randn(2)\n",
    "init_c2 = 5 * np.random.randn(2)\n",
    "\n",
    "print init_c1\n",
    "print init_c2"
   ]
  },
  {
   "cell_type": "markdown",
   "metadata": {},
   "source": [
    "#### Remaking the Plot above and plotting the centers"
   ]
  },
  {
   "cell_type": "code",
   "execution_count": 44,
   "metadata": {
    "collapsed": false
   },
   "outputs": [
    {
     "data": {
      "text/plain": [
       "[<matplotlib.lines.Line2D at 0x7f10dd5b1490>]"
      ]
     },
     "execution_count": 44,
     "metadata": {},
     "output_type": "execute_result"
    },
    {
     "data": {
      "image/png": "[encoded data removed]",
      "text/plain": [
       "<matplotlib.figure.Figure at 0x7f10dd62ec10>"
      ]
     },
     "metadata": {},
     "output_type": "display_data"
    }
   ],
   "source": [
    "pl.plot(d1[:, 0], d1[:, 1], '.')\n",
    "pl.plot(d2[:, 0], d2[:, 1], '.')\n",
    "\n",
    "pl.plot(init_c1[0], init_c1[1], 'x', color = 'red', ms = 10)\n",
    "pl.plot(init_c2[0], init_c2[1], 'x', color = 'black', ms = 10)"
   ]
  },
  {
   "cell_type": "code",
   "execution_count": 42,
   "metadata": {
    "collapsed": false
   },
   "outputs": [
    {
     "data": {
      "text/plain": [
       "array([1, 1])"
      ]
     },
     "execution_count": 42,
     "metadata": {},
     "output_type": "execute_result"
    }
   ],
   "source": [
    "def distance(p1, p2):\n",
    "    return np.abs(p1[:,0] - p2[0]) + np.abs(p1[:,1] - p2[1])\n",
    "\n",
    "distance(np.array([[0,1],[0,1]]), [1,1])"
   ]
  },
  {
   "cell_type": "code",
   "execution_count": 50,
   "metadata": {
    "collapsed": false
   },
   "outputs": [
    {
     "name": "stdout",
     "output_type": "stream",
     "text": [
      "[ 3.35383862  0.51841065  3.50089935  3.26862918  1.29197154  1.85503975\n",
      "  1.74526331  1.28049325  5.28549185  2.28301598  3.12087628  3.38252548\n",
      "  1.88699173  1.06492333  0.54917639  2.1614328   2.34251844  1.64660243\n",
      "  1.95623936  2.43402623  1.64026033  2.23556822  1.21953424  3.69805311\n",
      "  4.10965503  1.52615968  1.83842517  2.3104953   3.53836825  3.45781249\n",
      "  2.83843395  0.36967489  3.11731126  0.99228042  2.66868778  0.53005982\n",
      "  0.98854453  4.43369001  1.54819902  1.5507038   1.45914407  3.36103636\n",
      "  0.50788487  1.05220944  3.14433027  1.14669503  2.26768937  2.63698779\n",
      "  1.55526378  0.89299986  1.34908006  4.20334424  1.32963068  0.78965055\n",
      "  0.76069382  2.94141171  2.50732851  2.18425559  2.30933576  2.71359454\n",
      "  0.99454051  1.89833082  2.23123426  2.20485716  0.80319905  1.2045889\n",
      "  2.34898635  1.97719392  3.62578777  2.05764119  2.22450893  2.4928393\n",
      "  1.23724426  2.89359103  1.65383908  1.43031751  2.39598185  2.45845993\n",
      "  0.91595729  2.12685719  1.0565827   1.84130985  0.66000618  1.34782767\n",
      "  0.91723898  2.24473366  2.08458358  2.76779101  0.58893456  1.80246048\n",
      "  2.636991    1.92919268  2.21292105  0.84172527  2.01727127  1.06370223\n",
      "  0.96624002  2.15721137  1.42930533  1.39417802] [ 11.10318525  16.67077374  10.46683657   8.88911697  11.25973764\n",
      "  13.21123847   7.51085608  12.77895651  13.42413148   9.3774775\n",
      "   7.27756456   9.67908913   9.96852771   6.4125352    8.66618105\n",
      "   9.19963217  10.53672079  10.66959612  12.56904966  11.68269143\n",
      "  12.0338498    9.44409986  11.12661324   7.84876485   8.68943436\n",
      "  16.28874834   6.14376898  12.21698168  12.30478156  16.86931242\n",
      "  10.56202534   9.4828049   12.1655328   12.73386715  14.1711066\n",
      "   5.81303055  12.49209237   6.91233332  10.58160026   7.82617026\n",
      "   6.02174126   6.9341849    8.81788171  10.0920519    8.79068545\n",
      "  10.07987623  11.04921322   8.43691886  15.47576585  12.85338574\n",
      "  10.76490771  10.79672016  13.23796018  10.98531122  11.32517652\n",
      "  14.60474029  10.16327873  13.38186757   9.05616968  12.23796928\n",
      "   6.56472396   7.3818259   11.08583302   6.68475696  11.40581694\n",
      "  14.33950151   9.73057088  10.12169768  12.26008945  10.43446083\n",
      "   8.97654708  12.05515015   7.27788542  11.18490035  12.25051928\n",
      "   9.8684624    7.23075453   7.66068006  13.09054669   4.85912982\n",
      "  11.43692938  11.4171887    9.03775017  12.44536906  12.14576607\n",
      "   5.21176462  13.42523484   9.8497923   10.65463125   9.40922471\n",
      "  10.45741415   6.51554597  10.41940193  10.83724684  10.00610762\n",
      "  14.99289823  10.2654402    6.53020779  10.80052107  11.04397669] [ 10.6097545   11.74478556   9.44863306  13.37706122  10.12227349\n",
      "  11.29506446   9.66898171  11.39980258   6.12875317   9.13122905\n",
      "   8.29336874  10.28147417  12.41310151  11.04304485  11.52329296\n",
      "  13.57567782  12.99287968   9.76764259   9.83040072  11.11737836\n",
      "  13.05450536  10.33856327  10.19471079   7.71619192   7.30459     12.85434288\n",
      "   9.57581985   9.42247014   7.87587677   7.95643254  10.49931539\n",
      "  11.53346281   8.29693376  10.70907132  11.52024641  10.88418521\n",
      "  10.45646834  11.6048426   11.05086497  12.96494883   9.95510095\n",
      "   8.05320867  11.92212989  12.46645446   8.26991475  10.63861585\n",
      "   9.16257228   9.82536565  12.9695088   10.52124517  11.85730259\n",
      "   7.21090078  10.5119532   12.20389557  11.70073245   9.70627939\n",
      "  10.75543731   9.22998943  12.22489309  10.58710376  11.34936343\n",
      "   9.65250636   9.18301077   9.20938787  10.61104598  12.61883392\n",
      "  10.95621998   9.4370511    9.26445433   9.35660383  11.2146858\n",
      "   8.92140572  10.17700076   8.520654    10.61783039   9.98392751\n",
      "  13.81022688  11.37318212  10.49828774   9.28738784  10.69511722\n",
      "   9.68296848  10.75423885  10.09283202  10.7166389   11.64558161\n",
      "  11.18937587   8.64645401  10.82531047  10.77311105   8.96841925\n",
      "   9.48505234  13.62716608  12.04844746  10.48470956  10.37424502\n",
      "  10.44800501  13.55550542  10.90161355  11.08067732] [ 4.08123804  5.25652872  1.87911725  3.13597671  0.73063503  1.79699345\n",
      "  3.90338894  3.0841842   2.5312846   2.03676752  4.13668047  1.73515589\n",
      "  6.22906283  5.00170983  2.74806398  3.23021148  0.87752423  2.99189366\n",
      "  3.93205203  3.06477242  1.50083058  3.92696272  2.98807266  7.04437009\n",
      "  2.72481066  4.87450332  5.27047604  3.12494603  2.42921813  5.4550674\n",
      "  1.78463764  2.40258322  4.1661816   2.18108649  3.07601967  5.60121448\n",
      "  5.51256704  4.5019117   6.84808371  3.58807477  5.39250377  4.48006012\n",
      "  2.59636332  4.33566043  2.62355958  2.00775978  5.14529903  3.76059896\n",
      "  4.39861916  1.43914072  4.6664945   1.06214258  1.82371515  1.43149699\n",
      "  2.41655823  3.19049527  1.81196453  4.48927778  2.35807534  0.82372426\n",
      "  4.84952106  4.03241912  3.37822356  4.72948806  0.19490594  2.92525648\n",
      "  1.68367414  1.83784268  0.84584442  7.2971168   2.43769794  4.06743386\n",
      "  4.1363596   1.05152555  4.03998798  1.54578263  4.18349049  3.75356497\n",
      "  4.54969122  6.5551152   0.67140427  0.70103341  2.37649485  6.90197811\n",
      "  1.90368746  6.20248041  3.47055561  2.32768533  0.75961378  4.46963857\n",
      "  5.07308081  4.89869905  0.9948431   1.55639895  3.37093194  3.57865321\n",
      "  1.71100384  4.88403723  0.61372395  0.6535004 ]\n"
     ]
    }
   ],
   "source": [
    "s11 = distance(d1, init_c1)\n",
    "s12 = distance(d2, init_c1)\n",
    "s21 = distance(d1, init_c2)\n",
    "s22 = distance(d2, init_c2)\n",
    "\n",
    "print s11, s12, s21, s22\n",
    "\n",
    "#Represent distance from each of the Data Points to each of the centers"
   ]
  },
  {
   "cell_type": "code",
   "execution_count": 52,
   "metadata": {
    "collapsed": false
   },
   "outputs": [],
   "source": [
    "assign1 = s11 < s12\n",
    "assign2 = s21 < s22"
   ]
  },
  {
   "cell_type": "code",
   "execution_count": 53,
   "metadata": {
    "collapsed": false
   },
   "outputs": [
    {
     "data": {
      "text/plain": [
       "array([False, False, False, False, False, False, False, False, False,\n",
       "       False, False, False, False, False, False, False, False, False,\n",
       "       False, False, False, False, False, False, False, False, False,\n",
       "       False, False, False, False, False, False, False, False, False,\n",
       "       False, False, False, False, False, False, False, False, False,\n",
       "       False, False, False, False, False, False, False, False, False,\n",
       "       False, False, False, False, False, False, False, False, False,\n",
       "       False, False, False, False, False, False, False, False, False,\n",
       "       False, False, False, False, False, False, False, False, False,\n",
       "       False, False, False, False, False, False, False, False, False,\n",
       "       False, False, False, False, False, False, False, False, False, False], dtype=bool)"
      ]
     },
     "execution_count": 53,
     "metadata": {},
     "output_type": "execute_result"
    }
   ],
   "source": [
    "assign2"
   ]
  },
  {
   "cell_type": "code",
   "execution_count": 57,
   "metadata": {
    "collapsed": false,
    "scrolled": false
   },
   "outputs": [
    {
     "data": {
      "text/plain": [
       "(100, 2)"
      ]
     },
     "execution_count": 57,
     "metadata": {},
     "output_type": "execute_result"
    }
   ],
   "source": [
    "d1new = np.concatenate([d1[assign1], d2[assign2]])\n",
    "d1new.shape"
   ]
  },
  {
   "cell_type": "code",
   "execution_count": 58,
   "metadata": {
    "collapsed": false
   },
   "outputs": [
    {
     "data": {
      "text/plain": [
       "(100, 2)"
      ]
     },
     "execution_count": 58,
     "metadata": {},
     "output_type": "execute_result"
    }
   ],
   "source": [
    "d2new = np.concatenate([d1[~assign1], d2[~assign2]])\n",
    "d2new.shape"
   ]
  },
  {
   "cell_type": "code",
   "execution_count": 59,
   "metadata": {
    "collapsed": false
   },
   "outputs": [
    {
     "data": {
      "text/plain": [
       "[<matplotlib.lines.Line2D at 0x7f10dd52c190>]"
      ]
     },
     "execution_count": 59,
     "metadata": {},
     "output_type": "execute_result"
    },
    {
     "data": {
      "image/png": "[encoded data removed]",
      "text/plain": [
       "<matplotlib.figure.Figure at 0x7f10dd9453d0>"
      ]
     },
     "metadata": {},
     "output_type": "display_data"
    }
   ],
   "source": [
    "pl.plot(d1new[:, 0], d1new[:, 1], '.')\n",
    "pl.plot(d2new[:, 0], d2new[:, 1], '.')\n",
    "\n",
    "pl.plot(init_c1[0], init_c1[1], 'x', color = 'red', ms = 10)\n",
    "pl.plot(init_c2[0], init_c2[1], 'x', color = 'black', ms = 10)"
   ]
  },
  {
   "cell_type": "markdown",
   "metadata": {},
   "source": [
    "#### What is the true center of the cluster ?"
   ]
  },
  {
   "cell_type": "code",
   "execution_count": 64,
   "metadata": {
    "collapsed": false
   },
   "outputs": [
    {
     "name": "stdout",
     "output_type": "stream",
     "text": [
      "[ 0.130869   -0.12329549]\n",
      "[ 4.69501268  4.84754051]\n"
     ]
    }
   ],
   "source": [
    "c1new = np.mean(d1new, axis = 0)\n",
    "c2new = np.mean(d2new, axis = 0)\n",
    "\n",
    "print c1new\n",
    "print c2new"
   ]
  },
  {
   "cell_type": "code",
   "execution_count": 66,
   "metadata": {
    "collapsed": false
   },
   "outputs": [
    {
     "data": {
      "text/plain": [
       "[<matplotlib.lines.Line2D at 0x7f10dd3cba10>]"
      ]
     },
     "execution_count": 66,
     "metadata": {},
     "output_type": "execute_result"
    },
    {
     "data": {
      "image/png": "[encoded data removed]",
      "text/plain": [
       "<matplotlib.figure.Figure at 0x7f10dd809350>"
      ]
     },
     "metadata": {},
     "output_type": "display_data"
    }
   ],
   "source": [
    "pl.plot(d1new[:, 0], d1new[:, 1], '.')\n",
    "pl.plot(d2new[:, 0], d2new[:, 1], '.')\n",
    "\n",
    "pl.plot(c1new[0], c1new[1], 'x', color = 'red', ms = 10)\n",
    "pl.plot(c2new[0], c2new[1], 'x', color = 'black', ms = 10)\n",
    "\n",
    "#The centers of the clusters have now changed and is plotted right in the middle of the clusters now !!"
   ]
  }
 ],
 "metadata": {
  "kernelspec": {
   "display_name": "Python 2",
   "language": "python",
   "name": "python2"
  },
  "language_info": {
   "codemirror_mode": {
    "name": "ipython",
    "version": 2
   },
   "file_extension": ".py",
   "mimetype": "text/x-python",
   "name": "python",
   "nbconvert_exporter": "python",
   "pygments_lexer": "ipython2",
   "version": "2.7.11"
  }
 },
 "nbformat": 4,
 "nbformat_minor": 0
}
