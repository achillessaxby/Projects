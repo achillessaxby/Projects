{
 "cells": [
  {
   "cell_type": "markdown",
   "metadata": {},
   "source": [
    "#### Evaluate Tests.\n",
    "#### Evaluation to show the different classifications and statistical analysis\n",
    "#### Evaluation done:\n",
    "- ANCOVA and MANCOVA\n",
    "- Logistic Regression Test"
   ]
  },
  {
   "cell_type": "markdown",
   "metadata": {},
   "source": [
    "#### Part - I - ANCOVA and MANCOVA Evaluations\n",
    "\n",
    "##### Statistical Analysis done on a paper published that involved both MANCOVA and ANCOVA tests - so I thought it would be best to use this paper so that I can get exposed and learn about how both can be used simultaneously and how two different tests are clubbed togeather to show a single result.\n",
    "\n",
    "##### Here MANCOVA's were used first and ANCOVA's were used inside/follow up of the MANCOVA tests to determine/understand certain Interdependent qualities\n",
    "\n",
    "### Part - II - Logistic Regression Test\n",
    "\n",
    "##### Statistical Analysis done on a paper published that involved the Logistic Regression test. Here this uses archaeological data to relate the variable that is highly affected by the change in the Independent Variables."
   ]
  },
  {
   "cell_type": "markdown",
   "metadata": {},
   "source": [
    "- Both parts ( 3 tables ) can be found in the README.md file for this project."
   ]
  }
 ],
 "metadata": {
  "anaconda-cloud": {},
  "kernelspec": {
   "display_name": "Python [Root]",
   "language": "python",
   "name": "Python [Root]"
  },
  "language_info": {
   "codemirror_mode": {
    "name": "ipython",
    "version": 2
   },
   "file_extension": ".py",
   "mimetype": "text/x-python",
   "name": "python",
   "nbconvert_exporter": "python",
   "pygments_lexer": "ipython2",
   "version": "2.7.12"
  }
 },
 "nbformat": 4,
 "nbformat_minor": 0
}
